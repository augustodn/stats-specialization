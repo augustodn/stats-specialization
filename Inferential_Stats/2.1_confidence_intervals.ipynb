{
 "cells": [
  {
   "cell_type": "markdown",
   "metadata": {},
   "source": [
    "# Instructions\n",
    "Complete all **Exercises**, and submit answers to **Questions** on the Coursera \n",
    "platform.\n",
    "\n",
    "If you have access to data on an entire population, say the size of every \n",
    "house in Ames, Iowa, it's straight forward to answer questions like, \"How big \n",
    "is the typical house in Ames?\" and \"How much variation is there in sizes of \n",
    "houses?\". If you have access to only a sample of the population, as is often \n",
    "the case, the task becomes more complicated. What is your best guess for the \n",
    "typical size if you only know the sizes of several dozen houses? This sort of \n",
    "situation requires that you use your sample to make inference on what your \n",
    "population looks like.\n",
    "\n",
    "**Setting a seed:** We will take some random samples and calculate confidence based\n",
    "on these samples in this lab, which means you should set a seed on top of your lab. If \n",
    "this concept is new to you, review the previous lab and ask your TA.\n",
    "\n",
    "Setting a seed will cause R to sample the same sample each time you knit your document.\n",
    "This will make sure your results don't change each time you knit, and it will also \n",
    "ensure reproducibility of your work (by setting the same seed it will be possible to \n",
    "reproduce your results). You can set a seed like this:\n"
   ]
  },
  {
   "cell_type": "code",
   "execution_count": 1,
   "metadata": {},
   "outputs": [],
   "source": [
    "set.seed(1986)                 # make sure to change the seed"
   ]
  },
  {
   "cell_type": "markdown",
   "metadata": {},
   "source": [
    "The number above is completely arbitraty. If you need inspiration, you can use your\n",
    "ID, birthday, or just a random string of numbers. The important thing is that you\n",
    "use each seed only once. You only need to do this once in your R Markdown document,\n",
    "but make sure it comes before sampling.\n",
    "</div>\n",
    "\n",
    "\n",
    "## Getting Started\n",
    "\n",
    "### Load packages\n",
    "\n",
    "In this lab we will explore the data using the `dplyr` package and visualize it \n",
    "using the `ggplot2` package for data visualization. The data can be found in the\n",
    "companion package for this course, `statsr`.\n",
    "\n",
    "Let's load the packages.\n"
   ]
  },
  {
   "cell_type": "code",
   "execution_count": 2,
   "metadata": {},
   "outputs": [
    {
     "name": "stderr",
     "output_type": "stream",
     "text": [
      "Loading required package: BayesFactor\n",
      "\n",
      "Loading required package: coda\n",
      "\n",
      "Loading required package: Matrix\n",
      "\n",
      "************\n",
      "Welcome to BayesFactor 0.9.12-4.2. If you have questions, please contact Richard Morey (richarddmorey@gmail.com).\n",
      "\n",
      "Type BFManual() to open the manual.\n",
      "************\n",
      "\n",
      "\n",
      "Attaching package: ‘dplyr’\n",
      "\n",
      "\n",
      "The following objects are masked from ‘package:stats’:\n",
      "\n",
      "    filter, lag\n",
      "\n",
      "\n",
      "The following objects are masked from ‘package:base’:\n",
      "\n",
      "    intersect, setdiff, setequal, union\n",
      "\n",
      "\n"
     ]
    }
   ],
   "source": [
    "library(statsr)\n",
    "library(dplyr)\n",
    "library(ggplot2)\n"
   ]
  },
  {
   "cell_type": "markdown",
   "metadata": {},
   "source": [
    "### The data\n",
    "\n",
    "We consider real estate data from the city of Ames, Iowa. This is the same \n",
    "dataset used in the previous lab. The details of \n",
    "every real estate transaction in Ames is recorded by the City Assessor's \n",
    "office. Our particular focus for this lab will be all residential home sales \n",
    "in Ames between 2006 and 2010.  This collection represents our population of \n",
    "interest. In this lab we would like to learn about these home sales by taking \n",
    "smaller samples from the full population. Let's load the data.\n"
   ]
  },
  {
   "cell_type": "code",
   "execution_count": 3,
   "metadata": {},
   "outputs": [],
   "source": [
    "data(ames)"
   ]
  },
  {
   "cell_type": "markdown",
   "metadata": {},
   "source": [
    "In this lab we'll start with a simple random sample of size 60 from the \n",
    "population. Specifically, this is a simple random sample of size 60. Note that \n",
    "the data set has information on many housing variables, but for the first \n",
    "portion of the lab we'll focus on the size of the house, represented by the \n",
    "variable `area`.\n"
   ]
  },
  {
   "cell_type": "code",
   "execution_count": 4,
   "metadata": {},
   "outputs": [],
   "source": [
    "n <- 60\n",
    "samp <- sample_n(ames, n)"
   ]
  },
  {
   "cell_type": "markdown",
   "metadata": {},
   "source": [
    "### Exercise\n",
    "**Exercise**: Describe the distribution of homes in your sample. What would you \n",
    "say is the \"typical\" size within your sample? Also state precisely what you \n",
    "interpreted \"typical\" to mean.\n",
    "</div>\n"
   ]
  },
  {
   "cell_type": "code",
   "execution_count": 5,
   "metadata": {},
   "outputs": [
    {
     "name": "stderr",
     "output_type": "stream",
     "text": [
      "Warning message:\n",
      "“position_stack requires non-overlapping x intervals”\n"
     ]
    },
    {
     "data": {
      "image/png": "[encoded data removed]",
      "text/plain": [
       "plot without title"
      ]
     },
     "metadata": {
      "image/png": {
       "height": 420,
       "width": 420
      }
     },
     "output_type": "display_data"
    }
   ],
   "source": [
    "# type your code for the Exercise here, and Knit\n",
    "ggplot(data=samp, aes(x=area)) + geom_bar(width=20)"
   ]
  },
  {
   "cell_type": "code",
   "execution_count": 6,
   "metadata": {},
   "outputs": [
    {
     "data": {
      "text/html": [
       "<table class=\"dataframe\">\n",
       "<caption>A tibble: 1 × 8</caption>\n",
       "<thead>\n",
       "\t<tr><th scope=col>x_bar</th><th scope=col>samp_med</th><th scope=col>s</th><th scope=col>samp_iqr</th><th scope=col>samp_min</th><th scope=col>samp_max</th><th scope=col>samp_q1</th><th scope=col>samp_q3</th></tr>\n",
       "\t<tr><th scope=col>&lt;dbl&gt;</th><th scope=col>&lt;dbl&gt;</th><th scope=col>&lt;dbl&gt;</th><th scope=col>&lt;dbl&gt;</th><th scope=col>&lt;int&gt;</th><th scope=col>&lt;int&gt;</th><th scope=col>&lt;dbl&gt;</th><th scope=col>&lt;dbl&gt;</th></tr>\n",
       "</thead>\n",
       "<tbody>\n",
       "\t<tr><td>1543.95</td><td>1493.5</td><td>471.6214</td><td>775.75</td><td>864</td><td>2799</td><td>1117</td><td>1892.75</td></tr>\n",
       "</tbody>\n",
       "</table>\n"
      ],
      "text/latex": [
       "A tibble: 1 × 8\n",
       "\\begin{tabular}{llllllll}\n",
       " x\\_bar & samp\\_med & s & samp\\_iqr & samp\\_min & samp\\_max & samp\\_q1 & samp\\_q3\\\\\n",
       " <dbl> & <dbl> & <dbl> & <dbl> & <int> & <int> & <dbl> & <dbl>\\\\\n",
       "\\hline\n",
       "\t 1543.95 & 1493.5 & 471.6214 & 775.75 & 864 & 2799 & 1117 & 1892.75\\\\\n",
       "\\end{tabular}\n"
      ],
      "text/markdown": [
       "\n",
       "A tibble: 1 × 8\n",
       "\n",
       "| x_bar &lt;dbl&gt; | samp_med &lt;dbl&gt; | s &lt;dbl&gt; | samp_iqr &lt;dbl&gt; | samp_min &lt;int&gt; | samp_max &lt;int&gt; | samp_q1 &lt;dbl&gt; | samp_q3 &lt;dbl&gt; |\n",
       "|---|---|---|---|---|---|---|---|\n",
       "| 1543.95 | 1493.5 | 471.6214 | 775.75 | 864 | 2799 | 1117 | 1892.75 |\n",
       "\n"
      ],
      "text/plain": [
       "  x_bar   samp_med s        samp_iqr samp_min samp_max samp_q1 samp_q3\n",
       "1 1543.95 1493.5   471.6214 775.75   864      2799     1117    1892.75"
      ]
     },
     "metadata": {},
     "output_type": "display_data"
    }
   ],
   "source": [
    "samp %>%\n",
    "   summarise(x_bar = mean(area), samp_med = median(area), \n",
    "            s = sd(area), samp_iqr = IQR(area),\n",
    "            samp_min = min(area), samp_max = max(area),\n",
    "            samp_q1 = quantile(area, 0.25),  # first quartile, 25th percentile\n",
    "            samp_q3 = quantile(area, 0.75))  # third quartile, 75th percentile"
   ]
  },
  {
   "cell_type": "markdown",
   "metadata": {},
   "source": [
    "**Answer**: Based on the plot and summary statistics, the sample is right skewed."
   ]
  },
  {
   "cell_type": "markdown",
   "metadata": {},
   "source": [
    "1. True or False: My distribution should be similar to others' distributions who also collect random samples from this population, but it is likely not exactly the same since it's a random sample.\n",
    "<ol>\n",
    "<li> True. </li>\n",
    "<li> False. </li>\n",
    "</ol>\n",
    "**Answer**: A. Since n > 30, the distributions should be similar unless the population is significantly skewed."
   ]
  },
  {
   "cell_type": "markdown",
   "metadata": {},
   "source": [
    "## Confidence intervals\n",
    "\n",
    "Return for a moment to the question that first motivated this lab: based on \n",
    "this sample, what can we infer about the population? Based only on this single \n",
    "sample, the best estimate of the average living area of houses sold in Ames \n",
    "would be the sample mean, usually denoted as $\\bar{x}$ (here we're calling it \n",
    "`x_bar`). That serves as a good **point estimate** but it would be useful \n",
    "to also communicate how uncertain we are of that estimate. This uncertainty\n",
    "can be quantified using a **confidence interval**.\n",
    "\n",
    "A confidence interval for a population mean is of the following form\n",
    "\\[ \\bar{x} \\pm z^\\star \\frac{s}{\\sqrt{n}} \\]\n",
    "\n",
    "You should by now be comfortable with calculating the mean and standard deviation of \n",
    "a sample in R. And we know that the sample size is 60. So the only remaining building\n",
    "block is finding the appropriate critical value for a given confidence level. We can\n",
    "use the `qnorm` function for this task, which will give the critical value associated\n",
    "with a given percentile under the normal distribution. Remember that confidence levels\n",
    "and percentiles are not equivalent. For example, a 95% confidence level refers to the\n",
    "middle 95% of the distribution, and the critical value associated with this area will\n",
    "correspond to the 97.5th percentile.\n",
    "\n",
    "We can find the critical value for a 95% confidence interal using"
   ]
  },
  {
   "cell_type": "code",
   "execution_count": 7,
   "metadata": {},
   "outputs": [
    {
     "data": {
      "text/html": [
       "1.95996398454005"
      ],
      "text/latex": [
       "1.95996398454005"
      ],
      "text/markdown": [
       "1.95996398454005"
      ],
      "text/plain": [
       "[1] 1.959964"
      ]
     },
     "metadata": {},
     "output_type": "display_data"
    }
   ],
   "source": [
    "z_star_95 <- qnorm(0.975) # 1-(2.5 %)\n",
    "z_star_95"
   ]
  },
  {
   "cell_type": "markdown",
   "metadata": {},
   "source": [
    "which is roughly equal to the value critical value 1.96 that you're likely\n",
    "familiar with by now.\n",
    "\n",
    "Let's finally calculate the confidence interval:\n"
   ]
  },
  {
   "cell_type": "code",
   "execution_count": 8,
   "metadata": {},
   "outputs": [
    {
     "data": {
      "text/html": [
       "<table class=\"dataframe\">\n",
       "<caption>A tibble: 1 × 2</caption>\n",
       "<thead>\n",
       "\t<tr><th scope=col>lower</th><th scope=col>upper</th></tr>\n",
       "\t<tr><th scope=col>&lt;dbl&gt;</th><th scope=col>&lt;dbl&gt;</th></tr>\n",
       "</thead>\n",
       "<tbody>\n",
       "\t<tr><td>1424.616</td><td>1663.284</td></tr>\n",
       "</tbody>\n",
       "</table>\n"
      ],
      "text/latex": [
       "A tibble: 1 × 2\n",
       "\\begin{tabular}{ll}\n",
       " lower & upper\\\\\n",
       " <dbl> & <dbl>\\\\\n",
       "\\hline\n",
       "\t 1424.616 & 1663.284\\\\\n",
       "\\end{tabular}\n"
      ],
      "text/markdown": [
       "\n",
       "A tibble: 1 × 2\n",
       "\n",
       "| lower &lt;dbl&gt; | upper &lt;dbl&gt; |\n",
       "|---|---|\n",
       "| 1424.616 | 1663.284 |\n",
       "\n"
      ],
      "text/plain": [
       "  lower    upper   \n",
       "1 1424.616 1663.284"
      ]
     },
     "metadata": {},
     "output_type": "display_data"
    }
   ],
   "source": [
    "samp %>%\n",
    "  summarise(lower = mean(area) - z_star_95 * (sd(area) / sqrt(n)),\n",
    "            upper = mean(area) + z_star_95 * (sd(area) / sqrt(n)))\n"
   ]
  },
  {
   "cell_type": "markdown",
   "metadata": {},
   "source": [
    "To recap: even though we don't know what the full population looks like, we're 95% \n",
    "confident that the true average size of houses in Ames lies between the values *lower* \n",
    "and *upper*. There are a few conditions that must be met for this interval to be valid.\n",
    "\n",
    "2.  For the confidence interval to be valid, the sample mean must be normally distributed and have standard error $s / \\sqrt{n}$. Which of the following is not a condition needed for this to be true?\n",
    "<ol>\n",
    "<li> The sample is random. </li>\n",
    "<li> The sample size, 60, is less than 10% of all houses. </li>\n",
    "<li> The sample distribution must be nearly normal. </li>\n",
    "</ol>\n",
    "\n",
    "**Answer**: C. The sample distribution must be nearly normal.\n",
    "\n",
    "\n"
   ]
  },
  {
   "cell_type": "markdown",
   "metadata": {},
   "source": [
    "## Confidence levels\n",
    "\n",
    "3.  What does \"95% confidence\" mean?\n",
    "<ol>\n",
    "<li> 95% of the time the true average area of houses in Ames, Iowa, will be in this interval. </li>\n",
    "<li> 95% of random samples of size 60 will yield confidence intervals that contain the true average area of houses in Ames, Iowa. </li>\n",
    "<li> 95% of the houses in Ames have an area in this interval. </li>\n",
    "<li> 95% confident that the sample mean is in this interval. </li>\n",
    "</ol>\n",
    "* * *\n",
    "**Answer**: B.95% of random samples of size 60 will yield confidence intervals that contain the true average area of houses in Ames, Iowa. We're estimating the true population average, mu, through a sample with size n, which is a parameter for the confidence interval, and then construct a confidence interval based in it.\n",
    "\n",
    "\n",
    "\n",
    "In this case we have the rare luxury of knowing the true population mean since we \n",
    "have data on the entire population. Let's calculate this value so that\n",
    "we can determine if our confidence intervals actually capture it. We'll store it in a\n",
    "data frame called `params` (short for population parameters), and name it `mu`."
   ]
  },
  {
   "cell_type": "code",
   "execution_count": 10,
   "metadata": {},
   "outputs": [],
   "source": [
    "params <- ames %>%\n",
    "  summarise(mu = mean(area))"
   ]
  },
  {
   "cell_type": "markdown",
   "metadata": {},
   "source": [
    "<div id=\"exercise\">\n",
    "**Exercise**: Does your confidence interval capture the true average size of houses in \n",
    "Ames?\n",
    "</div>\n"
   ]
  },
  {
   "cell_type": "code",
   "execution_count": 11,
   "metadata": {},
   "outputs": [
    {
     "data": {
      "text/html": [
       "<table class=\"dataframe\">\n",
       "<caption>A tibble: 1 × 1</caption>\n",
       "<thead>\n",
       "\t<tr><th scope=col>mu</th></tr>\n",
       "\t<tr><th scope=col>&lt;dbl&gt;</th></tr>\n",
       "</thead>\n",
       "<tbody>\n",
       "\t<tr><td>1499.69</td></tr>\n",
       "</tbody>\n",
       "</table>\n"
      ],
      "text/latex": [
       "A tibble: 1 × 1\n",
       "\\begin{tabular}{l}\n",
       " mu\\\\\n",
       " <dbl>\\\\\n",
       "\\hline\n",
       "\t 1499.69\\\\\n",
       "\\end{tabular}\n"
      ],
      "text/markdown": [
       "\n",
       "A tibble: 1 × 1\n",
       "\n",
       "| mu &lt;dbl&gt; |\n",
       "|---|\n",
       "| 1499.69 |\n",
       "\n"
      ],
      "text/plain": [
       "  mu     \n",
       "1 1499.69"
      ]
     },
     "metadata": {},
     "output_type": "display_data"
    }
   ],
   "source": [
    "# type your code for the Exercise here, and Knit\n",
    "params\n"
   ]
  },
  {
   "cell_type": "markdown",
   "metadata": {},
   "source": [
    "4. What proportion of 95% confidence intervals would you expect to capture the true population mean?\n",
    "<ol>\n",
    "<li> 1% </li>\n",
    "<li> 5% </li>\n",
    "<li> 95% </li>\n",
    "<li> 99% </li>\n",
    "</ol>\n",
    "\n",
    "**Answer**: C. 95%, as stated previously."
   ]
  },
  {
   "cell_type": "markdown",
   "metadata": {},
   "source": [
    "### Collecting random samples 50 times\n",
    "\n",
    "Using R, we're going to collect many samples to learn more about how sample \n",
    "means and confidence intervals vary from one sample to another.\n",
    "\n",
    "Here is the rough outline:\n",
    "\n",
    "-   Obtain a random sample.\n",
    "-   Calculate the sample's mean and standard deviation, and use these to calculate\n",
    "and store the lower and upper bounds of the confidence intervals.\n",
    "-   Repeat these steps 50 times.\n",
    "\n",
    "We can accomplish this using the `rep_sample_n` function. The following lines of \n",
    "code takes 50 random samples of size `n` from population (and remember we defined \n",
    "$n = 60$ earlier), and computes the upper and lower bounds of the confidence intervals based on these samples.\n"
   ]
  },
  {
   "cell_type": "code",
   "execution_count": 12,
   "metadata": {},
   "outputs": [],
   "source": [
    "ci <- ames %>%\n",
    "        rep_sample_n(size = n, reps = 50, replace = TRUE) %>%\n",
    "        summarise(lower = mean(area) - z_star_95 * (sd(area) / sqrt(n)),\n",
    "                  upper = mean(area) + z_star_95 * (sd(area) / sqrt(n)))\n"
   ]
  },
  {
   "cell_type": "markdown",
   "metadata": {},
   "source": [
    "Let's view the first five intervals:\n",
    "\n"
   ]
  },
  {
   "cell_type": "code",
   "execution_count": 13,
   "metadata": {},
   "outputs": [
    {
     "data": {
      "text/html": [
       "<table class=\"dataframe\">\n",
       "<caption>A tibble: 5 × 3</caption>\n",
       "<thead>\n",
       "\t<tr><th scope=col>replicate</th><th scope=col>lower</th><th scope=col>upper</th></tr>\n",
       "\t<tr><th scope=col>&lt;int&gt;</th><th scope=col>&lt;dbl&gt;</th><th scope=col>&lt;dbl&gt;</th></tr>\n",
       "</thead>\n",
       "<tbody>\n",
       "\t<tr><td>1</td><td>1341.287</td><td>1590.047</td></tr>\n",
       "\t<tr><td>2</td><td>1357.430</td><td>1586.936</td></tr>\n",
       "\t<tr><td>3</td><td>1409.102</td><td>1690.965</td></tr>\n",
       "\t<tr><td>4</td><td>1483.119</td><td>1730.447</td></tr>\n",
       "\t<tr><td>5</td><td>1337.347</td><td>1560.187</td></tr>\n",
       "</tbody>\n",
       "</table>\n"
      ],
      "text/latex": [
       "A tibble: 5 × 3\n",
       "\\begin{tabular}{lll}\n",
       " replicate & lower & upper\\\\\n",
       " <int> & <dbl> & <dbl>\\\\\n",
       "\\hline\n",
       "\t 1 & 1341.287 & 1590.047\\\\\n",
       "\t 2 & 1357.430 & 1586.936\\\\\n",
       "\t 3 & 1409.102 & 1690.965\\\\\n",
       "\t 4 & 1483.119 & 1730.447\\\\\n",
       "\t 5 & 1337.347 & 1560.187\\\\\n",
       "\\end{tabular}\n"
      ],
      "text/markdown": [
       "\n",
       "A tibble: 5 × 3\n",
       "\n",
       "| replicate &lt;int&gt; | lower &lt;dbl&gt; | upper &lt;dbl&gt; |\n",
       "|---|---|---|\n",
       "| 1 | 1341.287 | 1590.047 |\n",
       "| 2 | 1357.430 | 1586.936 |\n",
       "| 3 | 1409.102 | 1690.965 |\n",
       "| 4 | 1483.119 | 1730.447 |\n",
       "| 5 | 1337.347 | 1560.187 |\n",
       "\n"
      ],
      "text/plain": [
       "  replicate lower    upper   \n",
       "1 1         1341.287 1590.047\n",
       "2 2         1357.430 1586.936\n",
       "3 3         1409.102 1690.965\n",
       "4 4         1483.119 1730.447\n",
       "5 5         1337.347 1560.187"
      ]
     },
     "metadata": {},
     "output_type": "display_data"
    }
   ],
   "source": [
    "ci %>%\n",
    "  slice(1:5)\n"
   ]
  },
  {
   "cell_type": "markdown",
   "metadata": {},
   "source": [
    "Next we'll create a plot similar to Figure 4.8 on page 175 of [OpenIntro Statistics, 3rd\n",
    "Edition](https://www.openintro.org/os). First step will be to create a new variable in \n",
    "the `ci` data frame that indicates whether the interval does or does not capture the \n",
    "true population mean. Note that capturing this value would mean the lower bound of the\n",
    "confidence interval is below the value and upper bound of the confidence interval is\n",
    "above the value. Remember that we create new variables using the `mutate` function.\n"
   ]
  },
  {
   "cell_type": "code",
   "execution_count": 14,
   "metadata": {},
   "outputs": [],
   "source": [
    "ci <- ci %>%\n",
    "  mutate(capture_mu = ifelse(lower < params$mu & upper > params$mu, \"yes\", \"no\"))\n"
   ]
  },
  {
   "cell_type": "markdown",
   "metadata": {},
   "source": [
    "The `ifelse` function is new. It takes three arguments: first is a logical statement,\n",
    "second is the value we want if the logical statement yields a true result, and the\n",
    "third is the value we want if the logical statement yields a false result.\n",
    "\n",
    "We now have all the information we need to create the plot, but we need to re-organize\n",
    "our data a bit for easy plotting. Specifically, we need to organize the data in a new\n",
    "data frame where each row represents one bound, as opposed to one interval. So this\n",
    "\n",
    "~~~\n",
    "     lower    upper capture_mu\n",
    "1 1350.540 1544.360        yes\n",
    "2 1333.441 1584.425        yes\n",
    "3 1412.133 1663.801        yes\n",
    "...\n",
    "~~~\n",
    "\n",
    "should instead look like\n",
    "\n",
    "~~~\n",
    "  ci_id ci_bounds capture_mu\n",
    "1     1  1350.540        yes\n",
    "2     2  1333.441        yes\n",
    "3     3  1412.133        yes\n",
    "4     1  1544.360        yes\n",
    "5     2  1584.425        yes\n",
    "6     3  1663.801        yes\n",
    "...\n",
    "~~~\n",
    "\n",
    "We can accomplish this using the following:\n"
   ]
  },
  {
   "cell_type": "code",
   "execution_count": 15,
   "metadata": {},
   "outputs": [],
   "source": [
    "ci_data <- data.frame(ci_id = c(1:50, 1:50),\n",
    "                      ci_bounds = c(ci$lower, ci$upper),\n",
    "                      capture_mu = c(ci$capture_mu, ci$capture_mu))\n"
   ]
  },
  {
   "cell_type": "markdown",
   "metadata": {},
   "source": [
    "And finally we can create the plot using the following:\n",
    "\n"
   ]
  },
  {
   "cell_type": "code",
   "execution_count": 16,
   "metadata": {},
   "outputs": [
    {
     "data": {
      "image/png": "[encoded data removed]",
      "text/plain": [
       "plot without title"
      ]
     },
     "metadata": {
      "image/png": {
       "height": 420,
       "width": 420
      }
     },
     "output_type": "display_data"
    }
   ],
   "source": [
    "ggplot(data = ci_data, aes(x = ci_bounds, y = ci_id, \n",
    "                           group = ci_id, color = capture_mu)) +\n",
    "  geom_point(size = 2) +  # add points at the ends, size = 2\n",
    "  geom_line() +           # connect with lines\n",
    "  geom_vline(xintercept = params$mu, color = \"darkgray\") # draw vertical line\n"
   ]
  },
  {
   "cell_type": "markdown",
   "metadata": {},
   "source": [
    "### Exercise\n",
    "**Exercise**: What proportion of your confidence intervals include the true population mean? \n",
    "Is this proportion exactly equal to the confidence level? If not, explain why."
   ]
  },
  {
   "cell_type": "code",
   "execution_count": 26,
   "metadata": {},
   "outputs": [
    {
     "name": "stderr",
     "output_type": "stream",
     "text": [
      "\n",
      "Attaching package: ‘janitor’\n",
      "\n",
      "\n",
      "The following objects are masked from ‘package:stats’:\n",
      "\n",
      "    chisq.test, fisher.test\n",
      "\n",
      "\n"
     ]
    }
   ],
   "source": [
    "# install.packages(\"janitor\")\n",
    "library(janitor)"
   ]
  },
  {
   "cell_type": "code",
   "execution_count": 27,
   "metadata": {},
   "outputs": [
    {
     "data": {
      "text/html": [
       "<table class=\"dataframe\">\n",
       "<caption>A tabyl: 2 × 3</caption>\n",
       "<thead>\n",
       "\t<tr><th scope=col>capture_mu</th><th scope=col>n</th><th scope=col>percent</th></tr>\n",
       "\t<tr><th scope=col>&lt;chr&gt;</th><th scope=col>&lt;dbl&gt;</th><th scope=col>&lt;dbl&gt;</th></tr>\n",
       "</thead>\n",
       "<tbody>\n",
       "\t<tr><td>no </td><td> 3</td><td>0.06</td></tr>\n",
       "\t<tr><td>yes</td><td>47</td><td>0.94</td></tr>\n",
       "</tbody>\n",
       "</table>\n"
      ],
      "text/latex": [
       "A tabyl: 2 × 3\n",
       "\\begin{tabular}{lll}\n",
       " capture\\_mu & n & percent\\\\\n",
       " <chr> & <dbl> & <dbl>\\\\\n",
       "\\hline\n",
       "\t no  &  3 & 0.06\\\\\n",
       "\t yes & 47 & 0.94\\\\\n",
       "\\end{tabular}\n"
      ],
      "text/markdown": [
       "\n",
       "A tabyl: 2 × 3\n",
       "\n",
       "| capture_mu &lt;chr&gt; | n &lt;dbl&gt; | percent &lt;dbl&gt; |\n",
       "|---|---|---|\n",
       "| no  |  3 | 0.06 |\n",
       "| yes | 47 | 0.94 |\n",
       "\n"
      ],
      "text/plain": [
       "  capture_mu n  percent\n",
       "1 no          3 0.06   \n",
       "2 yes        47 0.94   "
      ]
     },
     "metadata": {},
     "output_type": "display_data"
    }
   ],
   "source": [
    "tabyl(ci, capture_mu)"
   ]
  },
  {
   "cell_type": "markdown",
   "metadata": {},
   "source": [
    "As we can see, the the amount of confidence interval samples capturing `mu` is pretty close to the theoretical 95%. Probably, with more samples the 94% calculated may converge to the 95% estimated."
   ]
  },
  {
   "cell_type": "markdown",
   "metadata": {},
   "source": [
    "5. What is the appropriate critical value for a 99% confidence level?\n",
    "<ol>\n",
    "<li> 0.01 </li>\n",
    "<li> 0.99 </li> \n",
    "<li> 1.96 </li>\n",
    "<li> 2.33 </li>\n",
    "<li> 2.58 </li>\n",
    "</ol>\n"
   ]
  },
  {
   "cell_type": "code",
   "execution_count": 30,
   "metadata": {},
   "outputs": [
    {
     "data": {
      "text/html": [
       "2.5758293035489"
      ],
      "text/latex": [
       "2.5758293035489"
      ],
      "text/markdown": [
       "2.5758293035489"
      ],
      "text/plain": [
       "[1] 2.575829"
      ]
     },
     "metadata": {},
     "output_type": "display_data"
    }
   ],
   "source": [
    "# type your code for the Question 5 here, and Knit\n",
    "\n",
    "z_star_99 <- qnorm(0.995) # 1-(0.5 %)\n",
    "# Alternatively\n",
    "# qnorm(.005, lower.tail=FALSE)\n",
    "z_star_99"
   ]
  },
  {
   "cell_type": "markdown",
   "metadata": {},
   "source": [
    "**Answer**: E. 2.58 "
   ]
  },
  {
   "cell_type": "markdown",
   "metadata": {},
   "source": [
    "### Exercise\n",
    "**Exercise**: Calculate 50 confidence intervals at the 99% confidence level. You do not need to obtain new samples, simply calculate new intervals based on the 95% confidence interval endpoints you had already collected. Plot all intervals and calculate the proportion of intervals that include the true population mean."
   ]
  },
  {
   "cell_type": "code",
   "execution_count": 31,
   "metadata": {},
   "outputs": [
    {
     "data": {
      "image/png": "[encoded data removed]",
      "text/plain": [
       "plot without title"
      ]
     },
     "metadata": {
      "image/png": {
       "height": 420,
       "width": 420
      }
     },
     "output_type": "display_data"
    }
   ],
   "source": [
    "# type your code for the Exercise here, and Knit\n",
    "\n",
    "ci2 <- ames %>%\n",
    "        rep_sample_n(size = n, reps = 50, replace = TRUE) %>%\n",
    "        summarise(lower = mean(area) - z_star_99 * (sd(area) / sqrt(n)),\n",
    "                  upper = mean(area) + z_star_99 * (sd(area) / sqrt(n)))\n",
    "\n",
    "ci2 <- ci2 %>%\n",
    "  mutate(capture_mu = ifelse(lower < params$mu & upper > params$mu, \"yes\", \"no\"))\n",
    "\n",
    "ci2_data <- data.frame(ci_id = c(1:50, 1:50),\n",
    "                      ci_bounds = c(ci2$lower, ci2$upper),\n",
    "                      capture_mu = c(ci2$capture_mu, ci2$capture_mu))\n",
    "\n",
    "ggplot(data = ci2_data, aes(x = ci_bounds, y = ci_id, \n",
    "                           group = ci_id, color = capture_mu)) +\n",
    "  geom_point(size = 2) +  # add points at the ends, size = 2\n",
    "  geom_line() +           # connect with lines\n",
    "  geom_vline(xintercept = params$mu, color = \"darkgray\") # draw vertical line"
   ]
  },
  {
   "cell_type": "code",
   "execution_count": 32,
   "metadata": {},
   "outputs": [
    {
     "data": {
      "text/html": [
       "<table class=\"dataframe\">\n",
       "<caption>A tabyl: 2 × 3</caption>\n",
       "<thead>\n",
       "\t<tr><th scope=col>capture_mu</th><th scope=col>n</th><th scope=col>percent</th></tr>\n",
       "\t<tr><th scope=col>&lt;chr&gt;</th><th scope=col>&lt;dbl&gt;</th><th scope=col>&lt;dbl&gt;</th></tr>\n",
       "</thead>\n",
       "<tbody>\n",
       "\t<tr><td>no </td><td> 1</td><td>0.02</td></tr>\n",
       "\t<tr><td>yes</td><td>49</td><td>0.98</td></tr>\n",
       "</tbody>\n",
       "</table>\n"
      ],
      "text/latex": [
       "A tabyl: 2 × 3\n",
       "\\begin{tabular}{lll}\n",
       " capture\\_mu & n & percent\\\\\n",
       " <chr> & <dbl> & <dbl>\\\\\n",
       "\\hline\n",
       "\t no  &  1 & 0.02\\\\\n",
       "\t yes & 49 & 0.98\\\\\n",
       "\\end{tabular}\n"
      ],
      "text/markdown": [
       "\n",
       "A tabyl: 2 × 3\n",
       "\n",
       "| capture_mu &lt;chr&gt; | n &lt;dbl&gt; | percent &lt;dbl&gt; |\n",
       "|---|---|---|\n",
       "| no  |  1 | 0.02 |\n",
       "| yes | 49 | 0.98 |\n",
       "\n"
      ],
      "text/plain": [
       "  capture_mu n  percent\n",
       "1 no          1 0.02   \n",
       "2 yes        49 0.98   "
      ]
     },
     "metadata": {},
     "output_type": "display_data"
    }
   ],
   "source": [
    "tabyl(ci2, capture_mu)"
   ]
  },
  {
   "cell_type": "markdown",
   "metadata": {},
   "source": [
    "6. We would expect 99% of the intervals to contain the true population mean.\n",
    "<ol>\n",
    "<li> True </li>\n",
    "<li> False </li>\n",
    "</ol>\n",
    "\n",
    "**Answer**: A.True\n"
   ]
  },
  {
   "cell_type": "markdown",
   "metadata": {},
   "source": [
    "This is a product of OpenIntro that is released under a [Creative Commons \n",
    "Attribution-ShareAlike 3.0 Unported](http://creativecommons.org/licenses/by-sa/3.0).\n",
    "This lab was written for OpenIntro by Andrew Bray and Mine &Ccedil;etinkaya-Rundel."
   ]
  },
  {
   "cell_type": "code",
   "execution_count": null,
   "metadata": {},
   "outputs": [],
   "source": []
  }
 ],
 "metadata": {
  "anaconda-cloud": "",
  "kernelspec": {
   "display_name": "R",
   "language": "R",
   "name": "ir"
  },
  "language_info": {
   "codemirror_mode": "r",
   "file_extension": ".r",
   "mimetype": "text/x-r-source",
   "name": "R",
   "pygments_lexer": "r",
   "version": "4.1.0"
  }
 },
 "nbformat": 4,
 "nbformat_minor": 1
}
