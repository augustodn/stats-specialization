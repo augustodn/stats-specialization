{
    "cells": [
        {
            "cell_type": "markdown",
            "metadata": {},
            "source": [
                "<div id=\"instructions\">\n",
                "Complete all **Exercises**, and submit answers to **Questions** on the Coursera \n",
                "platform.\n",
                "<\/div>\n",
                "\n",
                "If you have access to data on an entire population, say the size of every \n",
                "house in Ames, Iowa, it's straight forward to answer questions like, \"How big \n",
                "is the typical house in Ames?\" and \"How much variation is there in sizes of \n",
                "houses?\". If you have access to only a sample of the population, as is often \n",
                "the case, the task becomes more complicated. What is your best guess for the \n",
                "typical size if you only know the sizes of several dozen houses? This sort of \n",
                "situation requires that you use your sample to make inference on what your \n",
                "population looks like.\n",
                "\n",
                "<div id=\"boxedtext\">\n",
                "**Setting a seed:** We will take some random samples and calculate confidence based\n",
                "on these samples in this lab, which means you should set a seed on top of your lab. If \n",
                "this concept is new to you, review the previous lab and ask your TA.\n",
                "\n",
                "Setting a seed will cause R to sample the same sample each time you knit your document.\n",
                "This will make sure your results don't change each time you knit, and it will also \n",
                "ensure reproducibility of your work (by setting the same seed it will be possible to \n",
                "reproduce your results). You can set a seed like this:\n"
            ]
        },
        {
            "cell_type": "code",
            "execution_count": null,
            "metadata": {},
            "outputs": [],
            "source": [
                "set.seed(9102015)                 # make sure to change the seed\n",
                "\n"
            ]
        },
        {
            "cell_type": "markdown",
            "metadata": {},
            "source": [
                "The number above is completely arbitraty. If you need inspiration, you can use your\n",
                "ID, birthday, or just a random string of numbers. The important thing is that you\n",
                "use each seed only once. You only need to do this once in your R Markdown document,\n",
                "but make sure it comes before sampling.\n",
                "<\/div>\n",
                "\n",
                "\n",
                "## Getting Started\n",
                "\n",
                "### Load packages\n",
                "\n",
                "In this lab we will explore the data using the `dplyr` package and visualize it \n",
                "using the `ggplot2` package for data visualization. The data can be found in the\n",
                "companion package for this course, `statsr`.\n",
                "\n",
                "Let's load the packages.\n"
            ]
        },
        {
            "cell_type": "code",
            "execution_count": null,
            "metadata": {},
            "outputs": [],
            "source": [
                "library(statsr)\n",
                "library(dplyr)\n",
                "library(ggplot2)\n"
            ]
        },
        {
            "cell_type": "markdown",
            "metadata": {},
            "source": [
                "### The data\n",
                "\n",
                "We consider real estate data from the city of Ames, Iowa. This is the same \n",
                "dataset used in the previous lab. The details of \n",
                "every real estate transaction in Ames is recorded by the City Assessor's \n",
                "office. Our particular focus for this lab will be all residential home sales \n",
                "in Ames between 2006 and 2010.  This collection represents our population of \n",
                "interest. In this lab we would like to learn about these home sales by taking \n",
                "smaller samples from the full population. Let's load the data.\n"
            ]
        },
        {
            "cell_type": "code",
            "execution_count": null,
            "metadata": {},
            "outputs": [],
            "source": [
                "data(ames)\n",
                "\n"
            ]
        },
        {
            "cell_type": "markdown",
            "metadata": {},
            "source": [
                "In this lab we'll start with a simple random sample of size 60 from the \n",
                "population. Specifically, this is a simple random sample of size 60. Note that \n",
                "the data set has information on many housing variables, but for the first \n",
                "portion of the lab we'll focus on the size of the house, represented by the \n",
                "variable `area`.\n"
            ]
        },
        {
            "cell_type": "code",
            "execution_count": null,
            "metadata": {},
            "outputs": [],
            "source": [
                "n <- 60\n",
                "samp <- sample_n(ames, n)\n"
            ]
        },
        {
            "cell_type": "markdown",
            "metadata": {},
            "source": [
                "<div id=\"exercise\">\n",
                "**Exercise**: Describe the distribution of homes in your sample. What would you \n",
                "say is the \"typical\" size within your sample? Also state precisely what you \n",
                "interpreted \"typical\" to mean.\n",
                "<\/div>\n"
            ]
        },
        {
            "cell_type": "code",
            "execution_count": null,
            "metadata": {},
            "outputs": [],
            "source": [
                "# type your code for the Exercise here, and Knit\n",
                "\n"
            ]
        },
        {
            "cell_type": "markdown",
            "metadata": {},
            "source": [
                "1. True or False: My distribution should be similar to others' distributions who also collect random samples from this population, but it is likely not exactly the same since it's a random sample.\n",
                "<ol>\n",
                "<li> True. <\/li>\n",
                "<li> False. <\/li>\n",
                "<\/ol>\n",
                "\n",
                "## Confidence intervals\n",
                "\n",
                "Return for a moment to the question that first motivated this lab: based on \n",
                "this sample, what can we infer about the population? Based only on this single \n",
                "sample, the best estimate of the average living area of houses sold in Ames \n",
                "would be the sample mean, usually denoted as $\\bar{x}$ (here we're calling it \n",
                "`x_bar`). That serves as a good **point estimate** but it would be useful \n",
                "to also communicate how uncertain we are of that estimate. This uncertainty\n",
                "can be quantified using a **confidence interval**.\n",
                "\n",
                "A confidence interval for a population mean is of the following form\n",
                "\\[ \\bar{x} \\pm z^\\star \\frac{s}{\\sqrt{n}} \\]\n",
                "\n",
                "You should by now be comfortable with calculating the mean and standard deviation of \n",
                "a sample in R. And we know that the sample size is 60. So the only remaining building\n",
                "block is finding the appropriate critical value for a given confidence level. We can\n",
                "use the `qnorm` function for this task, which will give the critical value associated\n",
                "with a given percentile under the normal distribution. Remember that confidence levels\n",
                "and percentiles are not equivalent. For example, a 95% confidence level refers to the\n",
                "middle 95% of the distribution, and the critical value associated with this area will\n",
                "correspond to the 97.5th percentile.\n",
                "\n",
                "We can find the critical value for a 95% confidence interal using\n"
            ]
        },
        {
            "cell_type": "code",
            "execution_count": null,
            "metadata": {},
            "outputs": [],
            "source": [
                "z_star_95 <- qnorm(0.975)\n",
                "z_star_95\n"
            ]
        },
        {
            "cell_type": "markdown",
            "metadata": {},
            "source": [
                "which is roughly equal to the value critical value 1.96 that you're likely\n",
                "familiar with by now.\n",
                "\n",
                "Let's finally calculate the confidence interval:\n"
            ]
        },
        {
            "cell_type": "code",
            "execution_count": null,
            "metadata": {},
            "outputs": [],
            "source": [
                "samp %>%\n",
                "  summarise(lower = mean(area) - z_star_95 * (sd(area) / sqrt(n)),\n",
                "            upper = mean(area) + z_star_95 * (sd(area) / sqrt(n)))\n"
            ]
        },
        {
            "cell_type": "markdown",
            "metadata": {},
            "source": [
                "To recap: even though we don't know what the full population looks like, we're 95% \n",
                "confident that the true average size of houses in Ames lies between the values *lower* \n",
                "and *upper*. There are a few conditions that must be met for this interval to be valid.\n",
                "\n",
                "2.  For the confidence interval to be valid, the sample mean must be normally distributed and have standard error $s / \\sqrt{n}$. Which of the following is not a condition needed for this to be true?\n",
                "<ol>\n",
                "<li> The sample is random. <\/li>\n",
                "<li> The sample size, 60, is less than 10% of all houses. <\/li>\n",
                "<li> The sample distribution must be nearly normal. <\/li>\n",
                "<\/ol>\n",
                "\n",
                "\n",
                "## Confidence levels\n",
                "\n",
                "3.  What does \"95% confidence\" mean?\n",
                "<ol>\n",
                "<li> 95% of the time the true average area of houses in Ames, Iowa, will be in this interval. <\/li>\n",
                "<li> 95% of random samples of size 60 will yield confidence intervals that contain the true average area of houses in Ames, Iowa. <\/li>\n",
                "<li> 95% of the houses in Ames have an area in this interval. <\/li>\n",
                "<li> 95% confident that the sample mean is in this interval. <\/li>\n",
                "<\/ol>\n",
                "\n",
                "In this case we have the rare luxury of knowing the true population mean since we \n",
                "have data on the entire population. Let's calculate this value so that\n",
                "we can determine if our confidence intervals actually capture it. We'll store it in a\n",
                "data frame called `params` (short for population parameters), and name it `mu`.\n"
            ]
        },
        {
            "cell_type": "code",
            "execution_count": null,
            "metadata": {},
            "outputs": [],
            "source": [
                "params <- ames %>%\n",
                "  summarise(mu = mean(area))\n"
            ]
        },
        {
            "cell_type": "markdown",
            "metadata": {},
            "source": [
                "<div id=\"exercise\">\n",
                "**Exercise**: Does your confidence interval capture the true average size of houses in \n",
                "Ames?\n",
                "<\/div>\n"
            ]
        },
        {
            "cell_type": "code",
            "execution_count": null,
            "metadata": {},
            "outputs": [],
            "source": [
                "# type your code for the Exercise here, and Knit\n",
                "\n"
            ]
        },
        {
            "cell_type": "markdown",
            "metadata": {},
            "source": [
                "4. What proportion of 95% confidence intervals would you expect to capture the true population mean?\n",
                "<ol>\n",
                "<li> 1% <\/li>\n",
                "<li> 5% <\/li>\n",
                "<li> 95% <\/li>\n",
                "<li> 99% <\/li>\n",
                "<\/ol>\n",
                "\n",
                "Using R, we're going to collect many samples to learn more about how sample \n",
                "means and confidence intervals vary from one sample to another.\n",
                "\n",
                "Here is the rough outline:\n",
                "\n",
                "-   Obtain a random sample.\n",
                "-   Calculate the sample's mean and standard deviation, and use these to calculate\n",
                "and store the lower and upper bounds of the confidence intervals.\n",
                "-   Repeat these steps 50 times.\n",
                "\n",
                "We can accomplish this using the `rep_sample_n` function. The following lines of \n",
                "code takes 50 random samples of size `n` from population (and remember we defined \n",
                "$n = 60$ earlier), and computes the upper and lower bounds of the confidence intervals based on these samples.\n"
            ]
        },
        {
            "cell_type": "code",
            "execution_count": null,
            "metadata": {},
            "outputs": [],
            "source": [
                "ci <- ames %>%\n",
                "        rep_sample_n(size = n, reps = 50, replace = TRUE) %>%\n",
                "        summarise(lower = mean(area) - z_star_95 * (sd(area) / sqrt(n)),\n",
                "                  upper = mean(area) + z_star_95 * (sd(area) / sqrt(n)))\n"
            ]
        },
        {
            "cell_type": "markdown",
            "metadata": {},
            "source": [
                "Let's view the first five intervals:\n",
                "\n"
            ]
        },
        {
            "cell_type": "code",
            "execution_count": null,
            "metadata": {},
            "outputs": [],
            "source": [
                "ci %>%\n",
                "  slice(1:5)\n"
            ]
        },
        {
            "cell_type": "markdown",
            "metadata": {},
            "source": [
                "Next we'll create a plot similar to Figure 4.8 on page 175 of [OpenIntro Statistics, 3rd\n",
                "Edition](https://www.openintro.org/os). First step will be to create a new variable in \n",
                "the `ci` data frame that indicates whether the interval does or does not capture the \n",
                "true population mean. Note that capturing this value would mean the lower bound of the\n",
                "confidence interval is below the value and upper bound of the confidence interval is\n",
                "above the value. Remember that we create new variables using the `mutate` function.\n"
            ]
        },
        {
            "cell_type": "code",
            "execution_count": null,
            "metadata": {},
            "outputs": [],
            "source": [
                "ci <- ci %>%\n",
                "  mutate(capture_mu = ifelse(lower < params$mu & upper > params$mu, \"yes\", \"no\"))\n"
            ]
        },
        {
            "cell_type": "markdown",
            "metadata": {},
            "source": [
                "The `ifelse` function is new. It takes three arguments: first is a logical statement,\n",
                "second is the value we want if the logical statement yields a true result, and the\n",
                "third is the value we want if the logical statement yields a false result.\n",
                "\n",
                "We now have all the information we need to create the plot, but we need to re-organize\n",
                "our data a bit for easy plotting. Specifically, we need to organize the data in a new\n",
                "data frame where each row represents one bound, as opposed to one interval. So this\n",
                "\n",
                "~~~\n",
                "     lower    upper capture_mu\n",
                "1 1350.540 1544.360        yes\n",
                "2 1333.441 1584.425        yes\n",
                "3 1412.133 1663.801        yes\n",
                "...\n",
                "~~~\n",
                "\n",
                "should instead look like\n",
                "\n",
                "~~~\n",
                "  ci_id ci_bounds capture_mu\n",
                "1     1  1350.540        yes\n",
                "2     2  1333.441        yes\n",
                "3     3  1412.133        yes\n",
                "4     1  1544.360        yes\n",
                "5     2  1584.425        yes\n",
                "6     3  1663.801        yes\n",
                "...\n",
                "~~~\n",
                "\n",
                "We can accomplish this using the following:\n"
            ]
        },
        {
            "cell_type": "code",
            "execution_count": null,
            "metadata": {},
            "outputs": [],
            "source": [
                "ci_data <- data.frame(ci_id = c(1:50, 1:50),\n",
                "                      ci_bounds = c(ci$lower, ci$upper),\n",
                "                      capture_mu = c(ci$capture_mu, ci$capture_mu))\n"
            ]
        },
        {
            "cell_type": "markdown",
            "metadata": {},
            "source": [
                "And finally we can create the plot using the following:\n",
                "\n"
            ]
        },
        {
            "cell_type": "code",
            "execution_count": null,
            "metadata": {},
            "outputs": [],
            "source": [
                "ggplot(data = ci_data, aes(x = ci_bounds, y = ci_id, \n",
                "                           group = ci_id, color = capture_mu)) +\n",
                "  geom_point(size = 2) +  # add points at the ends, size = 2\n",
                "  geom_line() +           # connect with lines\n",
                "  geom_vline(xintercept = params$mu, color = \"darkgray\") # draw vertical line\n"
            ]
        },
        {
            "cell_type": "markdown",
            "metadata": {},
            "source": [
                "<div id=\"exercise\">\n",
                "**Exercise**: What proportion of your confidence intervals include the true population mean? \n",
                "Is this proportion exactly equal to the confidence level? If not, explain why.\n",
                "<\/div>\n",
                "\n",
                "\n",
                "5. What is the appropriate critical value for a 99% confidence level?\n",
                "<ol>\n",
                "<li> 0.01 <\/li>\n",
                "<li> 0.99 <\/li> \n",
                "<li> 1.96 <\/li>\n",
                "<li> 2.33 <\/li>\n",
                "<li> 2.58 <\/li>\n",
                "<\/ol>\n"
            ]
        },
        {
            "cell_type": "code",
            "execution_count": null,
            "metadata": {},
            "outputs": [],
            "source": [
                "# type your code for the Question 5 here, and Knit\n",
                "\n"
            ]
        },
        {
            "cell_type": "markdown",
            "metadata": {},
            "source": [
                "<div id=\"exercise\">\n",
                "**Exercise**: Calculate 50 confidence intervals at the 99% confidence level. You do not need to obtain new samples, simply calculate new intervals based on the 95% confidence interval endpoints you had already collected. Plot all intervals and calculate the proportion of intervals that include the true population mean.\n",
                "<\/div>\n"
            ]
        },
        {
            "cell_type": "code",
            "execution_count": null,
            "metadata": {},
            "outputs": [],
            "source": [
                "# type your code for the Exercise here, and Knit\n",
                "\n"
            ]
        },
        {
            "cell_type": "markdown",
            "metadata": {},
            "source": [
                "6. We would expect 99% of the intervals to contain the true population mean.\n",
                "<ol>\n",
                "<li> True <\/li>\n",
                "<li> False <\/li>\n",
                "<\/ol>\n",
                "\n",
                "\n",
                "<div id=\"license\">\n",
                "This is a product of OpenIntro that is released under a [Creative Commons \n",
                "Attribution-ShareAlike 3.0 Unported](http://creativecommons.org/licenses/by-sa/3.0).\n",
                "This lab was written for OpenIntro by Andrew Bray and Mine &Ccedil;etinkaya-Rundel.\n",
                "<\/div>\n"
            ]
        }
    ],
    "metadata": {
        "anaconda-cloud": "",
        "kernelspec": {
            "display_name": "R",
            "langauge": "R",
            "name": "ir"
        },
        "language_info": {
            "codemirror_mode": "r",
            "file_extension": ".r",
            "mimetype": "text/x-r-source",
            "name": "R",
            "pygments_lexer": "r",
            "version": "3.4.1"
        }
    },
    "nbformat": 4,
    "nbformat_minor": 1
}
