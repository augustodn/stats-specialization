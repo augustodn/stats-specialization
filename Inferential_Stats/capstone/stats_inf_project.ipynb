{
 "cells": [
  {
   "cell_type": "raw",
   "id": "86b7969e",
   "metadata": {},
   "source": [
    "---\n",
    "title: \"Statistical inference with the GSS data\"\n",
    "output: \n",
    "  html_document: \n",
    "    fig_height: 4\n",
    "    highlight: pygments\n",
    "    theme: spacelab\n",
    "---"
   ]
  },
  {
   "cell_type": "markdown",
   "id": "ae4cd5be",
   "metadata": {},
   "source": [
    "## Setup\n",
    "\n",
    "### Load packages"
   ]
  },
  {
   "cell_type": "code",
   "execution_count": null,
   "id": "e06bbd6f",
   "metadata": {
    "message": false,
    "name": "load-packages"
   },
   "outputs": [],
   "source": [
    "library(ggplot2)\n",
    "library(dplyr)\n",
    "library(statsr)"
   ]
  },
  {
   "cell_type": "markdown",
   "id": "108d8a46",
   "metadata": {},
   "source": [
    "### Load data\n",
    "\n",
    "Make sure your data and R Markdown files are in the same directory. When loaded\n",
    "your data file will be called `gss`. Delete this note when before you submit \n",
    "your work. "
   ]
  },
  {
   "cell_type": "code",
   "execution_count": null,
   "id": "d790f3cb",
   "metadata": {
    "lines_to_next_cell": 0,
    "name": "load-data"
   },
   "outputs": [],
   "source": [
    "load(\"gss.Rdata\")"
   ]
  },
  {
   "cell_type": "markdown",
   "id": "1d5b83a5",
   "metadata": {},
   "source": []
  },
  {
   "cell_type": "markdown",
   "id": "935c62dc",
   "metadata": {},
   "source": [
    "* * *\n",
    "\n",
    "## Part 1: Data"
   ]
  },
  {
   "cell_type": "markdown",
   "id": "b191b84a",
   "metadata": {},
   "source": [
    "* * *\n",
    "\n",
    "## Part 2: Research question\n"
   ]
  },
  {
   "cell_type": "markdown",
   "id": "bcb5d0fa",
   "metadata": {},
   "source": [
    "* * *\n",
    "\n",
    "## Part 3: Exploratory data analysis\n",
    "\n",
    "NOTE: Insert code chunks as needed by clicking on the \"Insert a new code chunk\" \n",
    "button (green button with orange arrow) above. Make sure that your code is visible\n",
    "in the project you submit. Delete this note when before you submit your work.\n",
    "\n",
    "* * *\n",
    "\n",
    "## Part 4: Inference\n",
    "\n",
    "NOTE: Insert code chunks as needed by clicking on the \"Insert a new code chunk\" \n",
    "button (green button with orange arrow) above. Make sure that your code is visible\n",
    "in the project you submit. Delete this note when before you submit your work."
   ]
  }
 ],
 "metadata": {
  "jupytext": {
   "cell_metadata_filter": "message,name,-all",
   "main_language": "R",
   "notebook_metadata_filter": "-all"
  }
 },
 "nbformat": 4,
 "nbformat_minor": 5
}
