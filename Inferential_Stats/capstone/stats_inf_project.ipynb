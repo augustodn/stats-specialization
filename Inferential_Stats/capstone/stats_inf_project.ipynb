{
 "cells": [
  {
   "cell_type": "markdown",
   "id": "ae4cd5be",
   "metadata": {},
   "source": [
    "## Setup\n",
    "\n",
    "### Load packages"
   ]
  },
  {
   "cell_type": "code",
   "execution_count": 1,
   "id": "e06bbd6f",
   "metadata": {
    "message": false,
    "name": "load-packages"
   },
   "outputs": [],
   "source": [
    "suppressPackageStartupMessages({\n",
    "    library(ggplot2)\n",
    "    library(dplyr)\n",
    "    library(statsr)})"
   ]
  },
  {
   "cell_type": "code",
   "execution_count": 2,
   "id": "d790f3cb",
   "metadata": {
    "lines_to_next_cell": 0,
    "name": "load-data"
   },
   "outputs": [],
   "source": [
    "load(\"gss.Rdata\")"
   ]
  },
  {
   "cell_type": "markdown",
   "id": "935c62dc",
   "metadata": {},
   "source": [
    "\n",
    "## Part 1: Data\n",
    "\n",
    "The General Social Surveys (GSS) are US nation wide surveys collected since 1972. The dataset that will be used during the analysis cover the periods ranging from 1972 to 2012. The dataset has a mixture of permanent, rotating and occasional questions.\n",
    "\n",
    "Since it's a national survey, the US population representativeness is guaranteed, the analysis that can be extracted from the data can be **generalized**. Furthermore, the survey comes with weights to compensate the data collection and over/under representation. The documents presented with the data comments about the survey methodology in the Appendix A of the ICPSR Codebook. However, this document is hard to get and couldn't be consulted. Randomness of the poll is assumed given the institutional character of the data published.\n",
    "\n",
    "In the other hand, the data included in the course has a disclaimer: ```[..] we have removed missing values from the responses and created factor variables when appropriate to facilitate analysis using R. [..]``` it's probable that some of the representativeness is missing using the material provided by the course.\n",
    "\n",
    "Random Assignment have not been used during the surveys, hence there is impossible to determine causality with the data provided."
   ]
  },
  {
   "cell_type": "markdown",
   "id": "36033b33",
   "metadata": {},
   "source": [
    "### A quick look into data\n",
    "Let's take a first look at the dataset that will be used for the Explanatory Data Analysis (EDA) and following Inference. We will start having a look at the first observations. As it can also be observed the dataset consists of 57061 observations and 114 features."
   ]
  },
  {
   "cell_type": "code",
   "execution_count": 3,
   "id": "2f41a567",
   "metadata": {},
   "outputs": [
    {
     "data": {
      "text/html": [
       "<table class=\"dataframe\">\n",
       "<caption>A data.frame: 6 × 114</caption>\n",
       "<thead>\n",
       "\t<tr><th></th><th scope=col>caseid</th><th scope=col>year</th><th scope=col>age</th><th scope=col>sex</th><th scope=col>race</th><th scope=col>hispanic</th><th scope=col>uscitzn</th><th scope=col>educ</th><th scope=col>paeduc</th><th scope=col>maeduc</th><th scope=col>⋯</th><th scope=col>news</th><th scope=col>tvhours</th><th scope=col>racdif1</th><th scope=col>racdif2</th><th scope=col>racdif3</th><th scope=col>racdif4</th><th scope=col>helppoor</th><th scope=col>helpnot</th><th scope=col>helpsick</th><th scope=col>helpblk</th></tr>\n",
       "\t<tr><th></th><th scope=col>&lt;int&gt;</th><th scope=col>&lt;int&gt;</th><th scope=col>&lt;int&gt;</th><th scope=col>&lt;fct&gt;</th><th scope=col>&lt;fct&gt;</th><th scope=col>&lt;fct&gt;</th><th scope=col>&lt;fct&gt;</th><th scope=col>&lt;int&gt;</th><th scope=col>&lt;int&gt;</th><th scope=col>&lt;int&gt;</th><th scope=col>⋯</th><th scope=col>&lt;fct&gt;</th><th scope=col>&lt;int&gt;</th><th scope=col>&lt;fct&gt;</th><th scope=col>&lt;fct&gt;</th><th scope=col>&lt;fct&gt;</th><th scope=col>&lt;fct&gt;</th><th scope=col>&lt;fct&gt;</th><th scope=col>&lt;fct&gt;</th><th scope=col>&lt;fct&gt;</th><th scope=col>&lt;fct&gt;</th></tr>\n",
       "</thead>\n",
       "<tbody>\n",
       "\t<tr><th scope=row>1</th><td>1</td><td>1972</td><td>23</td><td>Female</td><td>White</td><td>NA</td><td>NA</td><td>16</td><td>10</td><td>NA</td><td>⋯</td><td>Everyday   </td><td>NA</td><td>NA</td><td>NA</td><td>NA</td><td>NA</td><td>NA</td><td>NA</td><td>NA</td><td>NA</td></tr>\n",
       "\t<tr><th scope=row>2</th><td>2</td><td>1972</td><td>70</td><td>Male  </td><td>White</td><td>NA</td><td>NA</td><td>10</td><td> 8</td><td> 8</td><td>⋯</td><td>Everyday   </td><td>NA</td><td>NA</td><td>NA</td><td>NA</td><td>NA</td><td>NA</td><td>NA</td><td>NA</td><td>NA</td></tr>\n",
       "\t<tr><th scope=row>3</th><td>3</td><td>1972</td><td>48</td><td>Female</td><td>White</td><td>NA</td><td>NA</td><td>12</td><td> 8</td><td> 8</td><td>⋯</td><td>Everyday   </td><td>NA</td><td>NA</td><td>NA</td><td>NA</td><td>NA</td><td>NA</td><td>NA</td><td>NA</td><td>NA</td></tr>\n",
       "\t<tr><th scope=row>4</th><td>4</td><td>1972</td><td>27</td><td>Female</td><td>White</td><td>NA</td><td>NA</td><td>17</td><td>16</td><td>12</td><td>⋯</td><td>Once A Week</td><td>NA</td><td>NA</td><td>NA</td><td>NA</td><td>NA</td><td>NA</td><td>NA</td><td>NA</td><td>NA</td></tr>\n",
       "\t<tr><th scope=row>5</th><td>5</td><td>1972</td><td>61</td><td>Female</td><td>White</td><td>NA</td><td>NA</td><td>12</td><td> 8</td><td> 8</td><td>⋯</td><td>Everyday   </td><td>NA</td><td>NA</td><td>NA</td><td>NA</td><td>NA</td><td>NA</td><td>NA</td><td>NA</td><td>NA</td></tr>\n",
       "\t<tr><th scope=row>6</th><td>6</td><td>1972</td><td>26</td><td>Male  </td><td>White</td><td>NA</td><td>NA</td><td>14</td><td>18</td><td>19</td><td>⋯</td><td>Everyday   </td><td>NA</td><td>NA</td><td>NA</td><td>NA</td><td>NA</td><td>NA</td><td>NA</td><td>NA</td><td>NA</td></tr>\n",
       "</tbody>\n",
       "</table>\n"
      ],
      "text/latex": [
       "A data.frame: 6 × 114\n",
       "\\begin{tabular}{r|lllllllllllllllllllll}\n",
       "  & caseid & year & age & sex & race & hispanic & uscitzn & educ & paeduc & maeduc & ⋯ & news & tvhours & racdif1 & racdif2 & racdif3 & racdif4 & helppoor & helpnot & helpsick & helpblk\\\\\n",
       "  & <int> & <int> & <int> & <fct> & <fct> & <fct> & <fct> & <int> & <int> & <int> & ⋯ & <fct> & <int> & <fct> & <fct> & <fct> & <fct> & <fct> & <fct> & <fct> & <fct>\\\\\n",
       "\\hline\n",
       "\t1 & 1 & 1972 & 23 & Female & White & NA & NA & 16 & 10 & NA & ⋯ & Everyday    & NA & NA & NA & NA & NA & NA & NA & NA & NA\\\\\n",
       "\t2 & 2 & 1972 & 70 & Male   & White & NA & NA & 10 &  8 &  8 & ⋯ & Everyday    & NA & NA & NA & NA & NA & NA & NA & NA & NA\\\\\n",
       "\t3 & 3 & 1972 & 48 & Female & White & NA & NA & 12 &  8 &  8 & ⋯ & Everyday    & NA & NA & NA & NA & NA & NA & NA & NA & NA\\\\\n",
       "\t4 & 4 & 1972 & 27 & Female & White & NA & NA & 17 & 16 & 12 & ⋯ & Once A Week & NA & NA & NA & NA & NA & NA & NA & NA & NA\\\\\n",
       "\t5 & 5 & 1972 & 61 & Female & White & NA & NA & 12 &  8 &  8 & ⋯ & Everyday    & NA & NA & NA & NA & NA & NA & NA & NA & NA\\\\\n",
       "\t6 & 6 & 1972 & 26 & Male   & White & NA & NA & 14 & 18 & 19 & ⋯ & Everyday    & NA & NA & NA & NA & NA & NA & NA & NA & NA\\\\\n",
       "\\end{tabular}\n"
      ],
      "text/markdown": [
       "\n",
       "A data.frame: 6 × 114\n",
       "\n",
       "| <!--/--> | caseid &lt;int&gt; | year &lt;int&gt; | age &lt;int&gt; | sex &lt;fct&gt; | race &lt;fct&gt; | hispanic &lt;fct&gt; | uscitzn &lt;fct&gt; | educ &lt;int&gt; | paeduc &lt;int&gt; | maeduc &lt;int&gt; | ⋯ ⋯ | news &lt;fct&gt; | tvhours &lt;int&gt; | racdif1 &lt;fct&gt; | racdif2 &lt;fct&gt; | racdif3 &lt;fct&gt; | racdif4 &lt;fct&gt; | helppoor &lt;fct&gt; | helpnot &lt;fct&gt; | helpsick &lt;fct&gt; | helpblk &lt;fct&gt; |\n",
       "|---|---|---|---|---|---|---|---|---|---|---|---|---|---|---|---|---|---|---|---|---|---|\n",
       "| 1 | 1 | 1972 | 23 | Female | White | NA | NA | 16 | 10 | NA | ⋯ | Everyday    | NA | NA | NA | NA | NA | NA | NA | NA | NA |\n",
       "| 2 | 2 | 1972 | 70 | Male   | White | NA | NA | 10 |  8 |  8 | ⋯ | Everyday    | NA | NA | NA | NA | NA | NA | NA | NA | NA |\n",
       "| 3 | 3 | 1972 | 48 | Female | White | NA | NA | 12 |  8 |  8 | ⋯ | Everyday    | NA | NA | NA | NA | NA | NA | NA | NA | NA |\n",
       "| 4 | 4 | 1972 | 27 | Female | White | NA | NA | 17 | 16 | 12 | ⋯ | Once A Week | NA | NA | NA | NA | NA | NA | NA | NA | NA |\n",
       "| 5 | 5 | 1972 | 61 | Female | White | NA | NA | 12 |  8 |  8 | ⋯ | Everyday    | NA | NA | NA | NA | NA | NA | NA | NA | NA |\n",
       "| 6 | 6 | 1972 | 26 | Male   | White | NA | NA | 14 | 18 | 19 | ⋯ | Everyday    | NA | NA | NA | NA | NA | NA | NA | NA | NA |\n",
       "\n"
      ],
      "text/plain": [
       "  caseid year age sex    race  hispanic uscitzn educ paeduc maeduc ⋯\n",
       "1 1      1972 23  Female White NA       NA      16   10     NA     ⋯\n",
       "2 2      1972 70  Male   White NA       NA      10    8      8     ⋯\n",
       "3 3      1972 48  Female White NA       NA      12    8      8     ⋯\n",
       "4 4      1972 27  Female White NA       NA      17   16     12     ⋯\n",
       "5 5      1972 61  Female White NA       NA      12    8      8     ⋯\n",
       "6 6      1972 26  Male   White NA       NA      14   18     19     ⋯\n",
       "  news        tvhours racdif1 racdif2 racdif3 racdif4 helppoor helpnot helpsick\n",
       "1 Everyday    NA      NA      NA      NA      NA      NA       NA      NA      \n",
       "2 Everyday    NA      NA      NA      NA      NA      NA       NA      NA      \n",
       "3 Everyday    NA      NA      NA      NA      NA      NA       NA      NA      \n",
       "4 Once A Week NA      NA      NA      NA      NA      NA       NA      NA      \n",
       "5 Everyday    NA      NA      NA      NA      NA      NA       NA      NA      \n",
       "6 Everyday    NA      NA      NA      NA      NA      NA       NA      NA      \n",
       "  helpblk\n",
       "1 NA     \n",
       "2 NA     \n",
       "3 NA     \n",
       "4 NA     \n",
       "5 NA     \n",
       "6 NA     "
      ]
     },
     "metadata": {},
     "output_type": "display_data"
    },
    {
     "data": {
      "text/html": [
       "<style>\n",
       ".list-inline {list-style: none; margin:0; padding: 0}\n",
       ".list-inline>li {display: inline-block}\n",
       ".list-inline>li:not(:last-child)::after {content: \"\\00b7\"; padding: 0 .5ex}\n",
       "</style>\n",
       "<ol class=list-inline><li>57061</li><li>114</li></ol>\n"
      ],
      "text/latex": [
       "\\begin{enumerate*}\n",
       "\\item 57061\n",
       "\\item 114\n",
       "\\end{enumerate*}\n"
      ],
      "text/markdown": [
       "1. 57061\n",
       "2. 114\n",
       "\n",
       "\n"
      ],
      "text/plain": [
       "[1] 57061   114"
      ]
     },
     "metadata": {},
     "output_type": "display_data"
    }
   ],
   "source": [
    "head(gss)\n",
    "dim(gss)"
   ]
  },
  {
   "cell_type": "markdown",
   "id": "b191b84a",
   "metadata": {},
   "source": [
    "* * *\n",
    "\n",
    "## Part 2: Research question\n",
    "\n",
    "During the project will be working with the pre-marital sex. It's a controversial question that may have gained acceptance during the decades. Fortunately, we have a vast dataset to compare between the main ideas in the '70s and in the 2010's. Does the data show evidence in mind shift between that times and now?. \n",
    "\n",
    "What the respondents had to answer was the following question:\n",
    "\n",
    "``If a man and woman have sex relations before marriage, do you think it is always wrong, almost always wrong, wrong only sometimes, or not wrong at all?``\n",
    "\n",
    "Let's filter the dataset to have a subset with only the question to analyze. We're interested in the answers from the early survey dates and the latests, so we'll compare 2021 vs 1972."
   ]
  },
  {
   "cell_type": "code",
   "execution_count": 4,
   "id": "c19f2975",
   "metadata": {},
   "outputs": [
    {
     "data": {
      "text/html": [
       "<table class=\"dataframe\">\n",
       "<caption>A tibble: 2 × 2</caption>\n",
       "<thead>\n",
       "\t<tr><th scope=col>year</th><th scope=col>count</th></tr>\n",
       "\t<tr><th scope=col>&lt;fct&gt;</th><th scope=col>&lt;int&gt;</th></tr>\n",
       "</thead>\n",
       "<tbody>\n",
       "\t<tr><td>1972</td><td>1537</td></tr>\n",
       "\t<tr><td>2012</td><td>1255</td></tr>\n",
       "</tbody>\n",
       "</table>\n"
      ],
      "text/latex": [
       "A tibble: 2 × 2\n",
       "\\begin{tabular}{ll}\n",
       " year & count\\\\\n",
       " <fct> & <int>\\\\\n",
       "\\hline\n",
       "\t 1972 & 1537\\\\\n",
       "\t 2012 & 1255\\\\\n",
       "\\end{tabular}\n"
      ],
      "text/markdown": [
       "\n",
       "A tibble: 2 × 2\n",
       "\n",
       "| year &lt;fct&gt; | count &lt;int&gt; |\n",
       "|---|---|\n",
       "| 1972 | 1537 |\n",
       "| 2012 | 1255 |\n",
       "\n"
      ],
      "text/plain": [
       "  year count\n",
       "1 1972 1537 \n",
       "2 2012 1255 "
      ]
     },
     "metadata": {},
     "output_type": "display_data"
    },
    {
     "name": "stdout",
     "output_type": "stream",
     "text": [
      "'data.frame':\t2792 obs. of  3 variables:\n",
      " $ year    : Factor w/ 2 levels \"1972\",\"2012\": 1 1 1 1 1 1 1 1 1 1 ...\n",
      " $ sex     : Factor w/ 2 levels \"Male\",\"Female\": 2 1 2 2 2 1 1 1 2 2 ...\n",
      " $ premarsx: Factor w/ 5 levels \"Always Wrong\",..: 4 1 1 1 3 3 4 3 4 1 ...\n"
     ]
    }
   ],
   "source": [
    "# Clean and filter the dataset\n",
    "premarsex <- gss %>% \n",
    "    select(year, sex, premarsx) %>%\n",
    "    filter(year == \"2012\" | year == \"1972\", !is.na(premarsx)) %>%\n",
    "    mutate(year=cut(year,2, labels=c(\"1972\", \"2012\")))\n",
    "\n",
    "# Summarise observations per year\n",
    "premarsex %>%\n",
    "    group_by(year) %>%\n",
    "    summarise(count=n())\n",
    "\n",
    "str(premarsex)"
   ]
  },
  {
   "cell_type": "markdown",
   "id": "734b6fff",
   "metadata": {},
   "source": [
    "In principle, sample sizes are significantly large to use and make further inferences tests. We need to check also if the distributions are not extremely skewed so as to require a large number of samples."
   ]
  },
  {
   "cell_type": "markdown",
   "id": "bcb5d0fa",
   "metadata": {},
   "source": [
    "* * *\n",
    "\n",
    "## Part 3: Exploratory data analysis\n",
    "\n",
    "The respondents had to answer to a restricted universe of 4 different categories:\n",
    "- Always Wrong\n",
    "- Almost always wrong\n",
    "- Wrong only sometimes\n",
    "- Not wrong at all\n",
    "\n",
    "### Plots\n",
    "\n",
    "We'll start doing a bar chart plot, to see how the data is distributed for both groups: 1972 and 2012."
   ]
  },
  {
   "cell_type": "code",
   "execution_count": 5,
   "id": "1b6b6df7",
   "metadata": {},
   "outputs": [
    {
     "data": {
      "image/png": "[encoded data removed]",
      "text/plain": [
       "plot without title"
      ]
     },
     "metadata": {
      "image/png": {
       "height": 420,
       "width": 420
      }
     },
     "output_type": "display_data"
    }
   ],
   "source": [
    "ggplot(premarsex, aes(x=year, fill=premarsx)) + geom_bar()"
   ]
  },
  {
   "cell_type": "markdown",
   "id": "56f0df85",
   "metadata": {},
   "source": [
    "As mentioned before, the sampling size is quite huge, randomized and diverse based on the GSS. We're particularly interested in the `Not Wrong At All` category. The difference seems to be significantly relevant, but we'll leave the technical details for further analysis in the inference section."
   ]
  },
  {
   "cell_type": "markdown",
   "id": "c5a55877",
   "metadata": {},
   "source": [
    "### Summary statistics\n",
    "\n",
    "Alongside the plot created which shows the proportions between years, we'll construct a distribution table to work with the numbers analytically in the following paragraphs. The table summarize the values per groups and the partial totals, as well."
   ]
  },
  {
   "cell_type": "code",
   "execution_count": 6,
   "id": "8a0af1e6",
   "metadata": {},
   "outputs": [
    {
     "data": {
      "text/html": [
       "<table class=\"dataframe\">\n",
       "<caption>A grouped_df: 8 × 3</caption>\n",
       "<thead>\n",
       "\t<tr><th scope=col>year</th><th scope=col>premarsx</th><th scope=col>count</th></tr>\n",
       "\t<tr><th scope=col>&lt;fct&gt;</th><th scope=col>&lt;fct&gt;</th><th scope=col>&lt;int&gt;</th></tr>\n",
       "</thead>\n",
       "<tbody>\n",
       "\t<tr><td>1972</td><td>Always Wrong    </td><td>563</td></tr>\n",
       "\t<tr><td>1972</td><td>Almst Always Wrg</td><td>182</td></tr>\n",
       "\t<tr><td>1972</td><td>Sometimes Wrong </td><td>373</td></tr>\n",
       "\t<tr><td>1972</td><td>Not Wrong At All</td><td>419</td></tr>\n",
       "\t<tr><td>2012</td><td>Always Wrong    </td><td>273</td></tr>\n",
       "\t<tr><td>2012</td><td>Almst Always Wrg</td><td> 72</td></tr>\n",
       "\t<tr><td>2012</td><td>Sometimes Wrong </td><td>206</td></tr>\n",
       "\t<tr><td>2012</td><td>Not Wrong At All</td><td>704</td></tr>\n",
       "</tbody>\n",
       "</table>\n"
      ],
      "text/latex": [
       "A grouped\\_df: 8 × 3\n",
       "\\begin{tabular}{lll}\n",
       " year & premarsx & count\\\\\n",
       " <fct> & <fct> & <int>\\\\\n",
       "\\hline\n",
       "\t 1972 & Always Wrong     & 563\\\\\n",
       "\t 1972 & Almst Always Wrg & 182\\\\\n",
       "\t 1972 & Sometimes Wrong  & 373\\\\\n",
       "\t 1972 & Not Wrong At All & 419\\\\\n",
       "\t 2012 & Always Wrong     & 273\\\\\n",
       "\t 2012 & Almst Always Wrg &  72\\\\\n",
       "\t 2012 & Sometimes Wrong  & 206\\\\\n",
       "\t 2012 & Not Wrong At All & 704\\\\\n",
       "\\end{tabular}\n"
      ],
      "text/markdown": [
       "\n",
       "A grouped_df: 8 × 3\n",
       "\n",
       "| year &lt;fct&gt; | premarsx &lt;fct&gt; | count &lt;int&gt; |\n",
       "|---|---|---|\n",
       "| 1972 | Always Wrong     | 563 |\n",
       "| 1972 | Almst Always Wrg | 182 |\n",
       "| 1972 | Sometimes Wrong  | 373 |\n",
       "| 1972 | Not Wrong At All | 419 |\n",
       "| 2012 | Always Wrong     | 273 |\n",
       "| 2012 | Almst Always Wrg |  72 |\n",
       "| 2012 | Sometimes Wrong  | 206 |\n",
       "| 2012 | Not Wrong At All | 704 |\n",
       "\n"
      ],
      "text/plain": [
       "  year premarsx         count\n",
       "1 1972 Always Wrong     563  \n",
       "2 1972 Almst Always Wrg 182  \n",
       "3 1972 Sometimes Wrong  373  \n",
       "4 1972 Not Wrong At All 419  \n",
       "5 2012 Always Wrong     273  \n",
       "6 2012 Almst Always Wrg  72  \n",
       "7 2012 Sometimes Wrong  206  \n",
       "8 2012 Not Wrong At All 704  "
      ]
     },
     "metadata": {},
     "output_type": "display_data"
    }
   ],
   "source": [
    "premarsex %>%\n",
    "    group_by(year, premarsx) %>%\n",
    "    summarise(count=n(),.groups='keep')"
   ]
  },
  {
   "cell_type": "markdown",
   "id": "18497f31",
   "metadata": {},
   "source": [
    "This information can be shown in a pivot table for better representation. On the right side, we see the observations favorable to having sex before marriage, and the left columns contains the groups which disables pre-marital sex. As it can be seen, the opinion has changed toward the years, apparently population in general seems to be more open-minded about this fact.\n",
    "\n",
    "\n",
    "|  | Always | Almst Always | Sometimes | Not Wrong | Total |\n",
    "| -----| -------| -------------| ----------| ----------| ----- |\n",
    "| 1972 | 563 | 182 | 373 | 419 | 1537 |\n",
    "| 2012 | 273 | 72 | 206 | 704 | 1255 |\n",
    "| Total | 863 | 254 | 579 | 1123 | 2819 |"
   ]
  },
  {
   "cell_type": "markdown",
   "id": "f2ae8f54",
   "metadata": {},
   "source": [
    "### Preliminary Conclusions\n",
    "\n",
    "The data related to `premarital sex approval` has been presented both in a bar plot and a summary table. After an analysis through the group distributions there seems to be a favorable case for rejecting the null hypothesis $H_0$, this is, there's strong evidence of a mind shift in public opinion about premarital sex. We'll evaluate these hypothesis in the following paragraph."
   ]
  },
  {
   "cell_type": "markdown",
   "id": "56bc71d1",
   "metadata": {},
   "source": [
    "* * *\n",
    "\n",
    "## Part 4: Inference\n",
    "\n",
    "We would like to know if there's been a mind shift in public opinion towards `premarital sex`. Hence, we will state the following hypothesis to work with through the rest of the paragraph.\n",
    "\n",
    "$H_0$: There is no change in opinion about `premarital sex` between 1972 and 2012.\n",
    "\n",
    "$H_A$: In fact there's a mind shift in public opinion and `premarital sex` is more accepted latest years.\n",
    "\n",
    "### Methodology\n",
    "\n",
    "We'll be working with categorical data thus, we'll start performing a `Chi-square Goodness of Fit` test to verify if there's evidence which support a shift in **group proportions**. After it, we'll take a closer look to the `Not Wrong At All` group and compare proportions with a `difference of two proportions` test. This will tell us if the data provides sufficient evidence of a mind shift in general population. \n",
    "\n",
    "Particularly for the Chi-squared goodness of fit test, we'll assume the ground true distribution p is the one obtained from the data of 1972.\n",
    "\n",
    "### Conditions\n",
    "\n",
    "We'll start checking the conditions to perform the hypothesis tests for the both techniques described before.\n",
    "\n",
    "#### Chi-Square Test\n",
    "There are two conditions that must be checked before performing a chi-square test:\n",
    "- Independence. Each case that contributes a count to the table must be independent of all the other cases in the table. \n",
    "- Sample size / distribution. Each particular scenario (i.e. cell count) must have at least 5 expected cases. Failing to check conditions may affect the test's error rates.\n",
    "\n",
    "Regarding the independence of the samples, since the observations are randomized and only one adult person is selected per house, the observations can be treated as independent. In the other hand, the sample size for each of the cases is well above 5, hence the condition is also satisfied.\n",
    "\n",
    "#### Difference of two proportions\n",
    "The difference $p̂1 − p̂2$ can be modeled using a normal distribution when \n",
    "- Independence, extended. The data are independent within and between the two groups. Generally this is satisfied if the data come from two independent random samples or if the data come from a randomized experiment. \n",
    "- Success-failure condition. The success-failure condition holds for both groups, where we check successes and failures in each group separately.\n",
    "\n",
    "The observations are independent as stated before for the analysis of the Chi-squared conditions. Observations are independent between groups due to the randomness of the GSS sampling technique. Furthermore, the time between samples may help for independence, since many people polled in the '72 may have passed away."
   ]
  },
  {
   "cell_type": "code",
   "execution_count": 7,
   "id": "3cdcbb76",
   "metadata": {},
   "outputs": [
    {
     "data": {
      "text/plain": [
       "\n",
       "\tChi-squared test for given probabilities\n",
       "\n",
       "data:  premsx_2012\n",
       "X-squared = 529.98, df = 3, p-value < 2.2e-16\n"
      ]
     },
     "metadata": {},
     "output_type": "display_data"
    }
   ],
   "source": [
    "# We'll assume the standard distribution p is the one obtained from the data of 1972. \n",
    "# p proportions will be obtained passing rescale.p=TRUE which is equivalent to divide them\n",
    "# by 1537, the total respondents\n",
    "\n",
    "premsx_2012 <- c(273, 72, 206, 704)\n",
    "chisq.test(premsx_2012, p = c(563, 182, 373, 419), rescale.p=TRUE )"
   ]
  },
  {
   "cell_type": "markdown",
   "id": "09586806",
   "metadata": {},
   "source": [
    "Next, we'll regroup the data and create two groups:\n",
    "- `Not Wrong At All`\n",
    "- `Other`, to indicate somehow the opposite opinion, even when in reality there are some degrees of acceptance."
   ]
  },
  {
   "cell_type": "code",
   "execution_count": 8,
   "id": "f230f4fb",
   "metadata": {},
   "outputs": [],
   "source": [
    "premsx_ht <- premarsex %>%\n",
    "    mutate(premarsx = ifelse(premarsx==\"Not Wrong At All\", \n",
    "                             \"Not Wrong At All\",\n",
    "                             \"Other\"))"
   ]
  },
  {
   "cell_type": "code",
   "execution_count": 9,
   "id": "b8e1f4f0",
   "metadata": {},
   "outputs": [
    {
     "name": "stdout",
     "output_type": "stream",
     "text": [
      "Response variable: categorical (2 levels, success: Not Wrong At All)\n",
      "Explanatory variable: categorical (2 levels) \n",
      "n_1972 = 1537, p_hat_1972 = 0.2726\n",
      "n_2012 = 1255, p_hat_2012 = 0.561\n",
      "H0: p_1972 =  p_2012\n",
      "HA: p_1972 != p_2012\n",
      "z = -15.4566\n",
      "p_value = < 0.0001"
     ]
    },
    {
     "data": {
      "image/png": "[encoded data removed]",
      "text/plain": [
       "plot without title"
      ]
     },
     "metadata": {
      "image/png": {
       "height": 420,
       "width": 420
      }
     },
     "output_type": "display_data"
    }
   ],
   "source": [
    "inference(y=premarsx, x=year, data=premsx_ht, statistic=\"proportion\", type=\"ht\",\n",
    "          null=0, alternative=\"twosided\",  method=\"theoretical\", \n",
    "          success=\"Not Wrong At All\")"
   ]
  },
  {
   "cell_type": "code",
   "execution_count": 10,
   "id": "9c9784f7",
   "metadata": {},
   "outputs": [
    {
     "name": "stdout",
     "output_type": "stream",
     "text": [
      "Response variable: categorical (2 levels, success: Not Wrong At All)\n",
      "Explanatory variable: categorical (2 levels) \n",
      "n_2012 = 1255, p_hat_2012 = 0.561\n",
      "n_1972 = 1537, p_hat_1972 = 0.2726\n",
      "95% CI (2012 - 1972): (0.253 , 0.3237)\n"
     ]
    },
    {
     "data": {
      "image/png": "[encoded data removed]",
      "text/plain": [
       "plot without title"
      ]
     },
     "metadata": {
      "image/png": {
       "height": 420,
       "width": 420
      }
     },
     "output_type": "display_data"
    }
   ],
   "source": [
    "inference(y=premarsx, x=year, data=premsx_ht, statistic=\"proportion\", type=\"ci\",\n",
    "          method=\"theoretical\", success=\"Not Wrong At All\", order = c(\"2012\",\"1972\"))\n"
   ]
  },
  {
   "cell_type": "markdown",
   "id": "bcde483c",
   "metadata": {},
   "source": [
    "### Conclusions\n",
    "\n",
    "The inference methods provide strong evidence in favor of the $H_A$: In fact there's a mind shift in public opinion and `premarital sex` is more accepted in the latest years. Hence, the null hypothesis is rejected by the two methods. \n",
    "\n",
    "We've used a top down approach in the analysis of our hypothesis. We began checking if there's a shift in the distribution of proportions for each of the 4 groups between 1972 and 2012. Given the p-value obtained (`p-value < 2.2e-16`) which is << $\\alpha=0.05$ we conclude the distributions in each group changed dramatically, as it can also be observed in the bar plot from the previous section.\n",
    "\n",
    "However, a Chi-squared GOF tests don't tell us if the **particular** group of interest has changed significantly. For so, a difference of two proportions was used. In order to compare the groups properly, all the categories which weren't of interest, were grouped together. The hypothesis test threw a strong result in favor of the $H_A$, since the `p_value < 0.0001` well below the significance level proposed for the analysis.\n",
    "\n",
    "Additionally, a `confidence interval` was calculated for the last test, which shows that the $H_0$ condition, which in this context is a difference between proportions equal to zero ($p̂1 − p̂2 = 0$) is **not included** in the interval. This result is expected since the p-value favor the rejection of the $H_0$."
   ]
  },
  {
   "cell_type": "markdown",
   "id": "98aa1c9f",
   "metadata": {},
   "source": [
    "## References\n",
    "\n",
    "[Smith, Tom W., Michael Hout, and Peter V. Marsden. General Social Survey, 1972-2012 . ICPSR34802-v1. Storrs, CT: Roper Center for Public Opinion Research, University of Connecticut /Ann Arbor, MI: Inter-university Consortium for Political and Social Research distributors, 2013-09-11.](doi:10.3886/ICPSR34802.v1)\n",
    "\n",
    "[OpenIntro Statistics Fourth Edition David Diez Data Scientist OpenIntro, Mine Cetinkaya-Rundel Associate Professor of the Practice, Duke University Professional Educator, RStudio\n",
    "Christopher D Barr Investment Analyst Varadero Capital](https://open.umn.edu/opentextbooks/textbooks/60)"
   ]
  }
 ],
 "metadata": {
  "jupytext": {
   "cell_metadata_filter": "message,name,-all",
   "main_language": "R",
   "notebook_metadata_filter": "-all"
  },
  "kernelspec": {
   "display_name": "R",
   "language": "R",
   "name": "ir"
  },
  "language_info": {
   "codemirror_mode": "r",
   "file_extension": ".r",
   "mimetype": "text/x-r-source",
   "name": "R",
   "pygments_lexer": "r",
   "version": "4.1.0"
  }
 },
 "nbformat": 4,
 "nbformat_minor": 5
}
