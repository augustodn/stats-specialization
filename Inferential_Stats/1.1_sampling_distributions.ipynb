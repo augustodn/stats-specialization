{
 "cells": [
  {
   "cell_type": "markdown",
   "metadata": {},
   "source": [
    "<div id=\"instructions\">\n",
    "Complete all **Exercises**, and submit answers to **Questions** on the Coursera \n",
    "platform.\n",
    "</div>\n",
    "\n",
    "## Getting Started\n",
    "\n",
    "### Load packages\n",
    "\n",
    "In this lab we will explore the data using the `dplyr` package and visualize it \n",
    "using the `ggplot2` package for data visualization. The data can be found in the\n",
    "companion package for this course, `statsr`.\n",
    "\n",
    "Let's load the packages.\n"
   ]
  },
  {
   "cell_type": "code",
   "execution_count": 1,
   "metadata": {},
   "outputs": [
    {
     "name": "stderr",
     "output_type": "stream",
     "text": [
      "Loading required package: BayesFactor\n",
      "\n",
      "Loading required package: coda\n",
      "\n",
      "Loading required package: Matrix\n",
      "\n",
      "************\n",
      "Welcome to BayesFactor 0.9.12-4.2. If you have questions, please contact Richard Morey (richarddmorey@gmail.com).\n",
      "\n",
      "Type BFManual() to open the manual.\n",
      "************\n",
      "\n",
      "\n",
      "Attaching package: ‘dplyr’\n",
      "\n",
      "\n",
      "The following objects are masked from ‘package:stats’:\n",
      "\n",
      "    filter, lag\n",
      "\n",
      "\n",
      "The following objects are masked from ‘package:base’:\n",
      "\n",
      "    intersect, setdiff, setequal, union\n",
      "\n",
      "\n"
     ]
    }
   ],
   "source": [
    "library(statsr)\n",
    "library(dplyr)\n",
    "library(shiny)\n",
    "library(ggplot2)\n"
   ]
  },
  {
   "cell_type": "markdown",
   "metadata": {},
   "source": [
    "### The data\n",
    "\n",
    "We consider real estate data from the city of Ames, Iowa. The details of \n",
    "every real estate transaction in Ames is recorded by the City Assessor's \n",
    "office. Our particular focus for this lab will be all residential home sales \n",
    "in Ames between 2006 and 2010.  This collection represents our population of \n",
    "interest. In this lab we would like to learn about these home sales by taking \n",
    "smaller samples from the full population. Let's load the data.\n"
   ]
  },
  {
   "cell_type": "code",
   "execution_count": 2,
   "metadata": {},
   "outputs": [],
   "source": [
    "data(ames)\n",
    "\n"
   ]
  },
  {
   "cell_type": "markdown",
   "metadata": {},
   "source": [
    "We see that there are quite a few variables in the data set, enough to do a \n",
    "very in-depth analysis. For this lab, we'll restrict our attention to just \n",
    "two of the variables: the above ground living area of the house in square feet \n",
    "(`area`) and the sale price (`price`).\n",
    "\n",
    "We can explore the distribution of areas of homes in the population of home\n",
    "sales visually and with summary statistics. Let's first create a visualization,\n",
    "a histogram:\n"
   ]
  },
  {
   "cell_type": "code",
   "execution_count": 3,
   "metadata": {},
   "outputs": [
    {
     "data": {
      "image/png": "[encoded data removed]",
      "text/plain": [
       "plot without title"
      ]
     },
     "metadata": {
      "image/png": {
       "height": 420,
       "width": 420
      }
     },
     "output_type": "display_data"
    }
   ],
   "source": [
    "ggplot(data = ames, aes(x = area)) +\n",
    "  geom_histogram(binwidth = 250)\n"
   ]
  },
  {
   "cell_type": "markdown",
   "metadata": {},
   "source": [
    "Let's also obtain some summary statistics. Note that we can do this using the\n",
    "`summarise` function. We can calculate as many statistics as we want using this\n",
    "function, and just string along the results. Some of the functions below should\n",
    "be self explanatory (like `mean`, `median`, `sd`, `IQR`, `min`, and `max`). A\n",
    "new function here is the `quantile` function which we can use to calculate \n",
    "values corresponding to specific percentile cutoffs in the distribution. For\n",
    "example `quantile(x, 0.25)` will yield the cutoff value for the 25th percentile (Q1)\n",
    "in the distribution of x. Finding these values are useful for describing the \n",
    "distribution, as we can use them for descriptions like *\"the middle 50% of the \n",
    "homes have areas between such and such square feet\"*.\n"
   ]
  },
  {
   "cell_type": "code",
   "execution_count": 4,
   "metadata": {},
   "outputs": [
    {
     "data": {
      "text/html": [
       "<table class=\"dataframe\">\n",
       "<caption>A tibble: 1 × 8</caption>\n",
       "<thead>\n",
       "\t<tr><th scope=col>mu</th><th scope=col>pop_med</th><th scope=col>sigma</th><th scope=col>pop_iqr</th><th scope=col>pop_min</th><th scope=col>pop_max</th><th scope=col>pop_q1</th><th scope=col>pop_q3</th></tr>\n",
       "\t<tr><th scope=col>&lt;dbl&gt;</th><th scope=col>&lt;dbl&gt;</th><th scope=col>&lt;dbl&gt;</th><th scope=col>&lt;dbl&gt;</th><th scope=col>&lt;int&gt;</th><th scope=col>&lt;int&gt;</th><th scope=col>&lt;dbl&gt;</th><th scope=col>&lt;dbl&gt;</th></tr>\n",
       "</thead>\n",
       "<tbody>\n",
       "\t<tr><td>1499.69</td><td>1442</td><td>505.5089</td><td>616.75</td><td>334</td><td>5642</td><td>1126</td><td>1742.75</td></tr>\n",
       "</tbody>\n",
       "</table>\n"
      ],
      "text/latex": [
       "A tibble: 1 × 8\n",
       "\\begin{tabular}{llllllll}\n",
       " mu & pop\\_med & sigma & pop\\_iqr & pop\\_min & pop\\_max & pop\\_q1 & pop\\_q3\\\\\n",
       " <dbl> & <dbl> & <dbl> & <dbl> & <int> & <int> & <dbl> & <dbl>\\\\\n",
       "\\hline\n",
       "\t 1499.69 & 1442 & 505.5089 & 616.75 & 334 & 5642 & 1126 & 1742.75\\\\\n",
       "\\end{tabular}\n"
      ],
      "text/markdown": [
       "\n",
       "A tibble: 1 × 8\n",
       "\n",
       "| mu &lt;dbl&gt; | pop_med &lt;dbl&gt; | sigma &lt;dbl&gt; | pop_iqr &lt;dbl&gt; | pop_min &lt;int&gt; | pop_max &lt;int&gt; | pop_q1 &lt;dbl&gt; | pop_q3 &lt;dbl&gt; |\n",
       "|---|---|---|---|---|---|---|---|\n",
       "| 1499.69 | 1442 | 505.5089 | 616.75 | 334 | 5642 | 1126 | 1742.75 |\n",
       "\n"
      ],
      "text/plain": [
       "  mu      pop_med sigma    pop_iqr pop_min pop_max pop_q1 pop_q3 \n",
       "1 1499.69 1442    505.5089 616.75  334     5642    1126   1742.75"
      ]
     },
     "metadata": {},
     "output_type": "display_data"
    }
   ],
   "source": [
    "ames %>%\n",
    "  summarise(mu = mean(area), pop_med = median(area), \n",
    "            sigma = sd(area), pop_iqr = IQR(area),\n",
    "            pop_min = min(area), pop_max = max(area),\n",
    "            pop_q1 = quantile(area, 0.25),  # first quartile, 25th percentile\n",
    "            pop_q3 = quantile(area, 0.75))  # third quartile, 75th percentile\n"
   ]
  },
  {
   "cell_type": "markdown",
   "metadata": {},
   "source": [
    "1.  Which of the following is **false**?\n",
    "<ol>\n",
    "<li> The distribution of areas of houses in Ames is unimodal and right-skewed. </li>\n",
    "<li> 50\\% of houses in Ames are smaller than 1,499.69 square feet. </li>\n",
    "<li> The middle 50\\% of the houses range between approximately 1,126 square feet and 1,742.7 square feet. </li>\n",
    "<li> The IQR is approximately 616.7 square feet. </li>\n",
    "<li> The smallest house is 334 square feet and the largest is 5,642 square feet. </li>\n",
    "</ol>\n",
    "\n",
    "\n",
    "## The unknown sampling distribution\n",
    "\n",
    "In this lab we have access to the entire population, but this is rarely the \n",
    "case in real life. Gathering information on an entire population is often \n",
    "extremely costly or impossible. Because of this, we often take a sample of \n",
    "the population and use that to understand the properties of the population.\n",
    "\n",
    "If we were interested in estimating the mean living area in Ames based on a \n",
    "sample, we can use the following command to survey the population.\n"
   ]
  },
  {
   "cell_type": "code",
   "execution_count": 5,
   "metadata": {},
   "outputs": [],
   "source": [
    "samp1 <- ames %>%\n",
    "  sample_n(size = 50)\n"
   ]
  },
  {
   "cell_type": "markdown",
   "metadata": {},
   "source": [
    "This command collects a simple random sample of `size` 50 from the `ames` dataset, \n",
    "which is assigned to `samp1`. This is like going into the City \n",
    "Assessor's database and pulling up the files on 50 random home sales. Working \n",
    "with these 50 files would be considerably simpler than working with all 2930 \n",
    "home sales.\n",
    "\n",
    "<div id=\"exercise\">\n",
    "**Exercise**: Describe the distribution of this sample? How does it compare to the distribution of the population? **Hint:** `sample_n` function takes a random sample of observations (i.e. rows) from the dataset, you can still refer to the variables in the dataset with the same names. Code you used in the previous exercise will also be helpful for visualizing and summarizing the sample, however be careful to not label values `mu` and `sigma` anymore since these are sample statistics, not population parameters. You can customize the labels of any of the statistics to indicate that these come from the sample.\n",
    "</div>\n"
   ]
  },
  {
   "cell_type": "code",
   "execution_count": null,
   "metadata": {},
   "outputs": [],
   "source": [
    "# type your code for the Exercise here, and Run Document\n",
    "\n"
   ]
  },
  {
   "cell_type": "markdown",
   "metadata": {},
   "source": [
    "If we're interested in estimating the average living area in homes in Ames \n",
    "using the sample, our best single guess is the sample mean.\n"
   ]
  },
  {
   "cell_type": "code",
   "execution_count": 6,
   "metadata": {},
   "outputs": [
    {
     "data": {
      "text/html": [
       "<table class=\"dataframe\">\n",
       "<caption>A tibble: 1 × 1</caption>\n",
       "<thead>\n",
       "\t<tr><th scope=col>x_bar</th></tr>\n",
       "\t<tr><th scope=col>&lt;dbl&gt;</th></tr>\n",
       "</thead>\n",
       "<tbody>\n",
       "\t<tr><td>1511.02</td></tr>\n",
       "</tbody>\n",
       "</table>\n"
      ],
      "text/latex": [
       "A tibble: 1 × 1\n",
       "\\begin{tabular}{l}\n",
       " x\\_bar\\\\\n",
       " <dbl>\\\\\n",
       "\\hline\n",
       "\t 1511.02\\\\\n",
       "\\end{tabular}\n"
      ],
      "text/markdown": [
       "\n",
       "A tibble: 1 × 1\n",
       "\n",
       "| x_bar &lt;dbl&gt; |\n",
       "|---|\n",
       "| 1511.02 |\n",
       "\n"
      ],
      "text/plain": [
       "  x_bar  \n",
       "1 1511.02"
      ]
     },
     "metadata": {},
     "output_type": "display_data"
    }
   ],
   "source": [
    "samp1 %>%\n",
    "  summarise(x_bar = mean(area))\n"
   ]
  },
  {
   "cell_type": "markdown",
   "metadata": {},
   "source": [
    "Depending on which 50 homes you selected, your estimate could be a bit above \n",
    "or a bit below the true population mean of 1,499.69 square feet. In general, \n",
    "though, the sample mean turns out to be a pretty good estimate of the average \n",
    "living area, and we were able to get it by sampling less than 3\\% of the \n",
    "population.\n",
    "\n",
    "2. Suppose we took two more samples, one of size 100 and one of size 1000. Which would you think would provide a more accurate estimate of the population mean?\n",
    "<ol>\n",
    "<li> Sample size of 50. </li>\n",
    "<li> Sample size of 100. </li>\n",
    "<li> Sample size of 1000. </li>\n",
    "</ol>\n",
    "\n",
    "Let's take one more sample of size 50, and view the mean area in this sample:\n"
   ]
  },
  {
   "cell_type": "code",
   "execution_count": 7,
   "metadata": {},
   "outputs": [
    {
     "data": {
      "text/html": [
       "<table class=\"dataframe\">\n",
       "<caption>A tibble: 1 × 1</caption>\n",
       "<thead>\n",
       "\t<tr><th scope=col>x_bar</th></tr>\n",
       "\t<tr><th scope=col>&lt;dbl&gt;</th></tr>\n",
       "</thead>\n",
       "<tbody>\n",
       "\t<tr><td>1345.7</td></tr>\n",
       "</tbody>\n",
       "</table>\n"
      ],
      "text/latex": [
       "A tibble: 1 × 1\n",
       "\\begin{tabular}{l}\n",
       " x\\_bar\\\\\n",
       " <dbl>\\\\\n",
       "\\hline\n",
       "\t 1345.7\\\\\n",
       "\\end{tabular}\n"
      ],
      "text/markdown": [
       "\n",
       "A tibble: 1 × 1\n",
       "\n",
       "| x_bar &lt;dbl&gt; |\n",
       "|---|\n",
       "| 1345.7 |\n",
       "\n"
      ],
      "text/plain": [
       "  x_bar \n",
       "1 1345.7"
      ]
     },
     "metadata": {},
     "output_type": "display_data"
    }
   ],
   "source": [
    "ames %>%\n",
    "  sample_n(size = 50) %>%\n",
    "  summarise(x_bar = mean(area))\n"
   ]
  },
  {
   "cell_type": "markdown",
   "metadata": {},
   "source": [
    "Not surprisingly, every time we take another random sample, we get a different \n",
    "sample mean. It's useful to get a sense of just how much variability we \n",
    "should expect when estimating the population mean this way. The distribution \n",
    "of sample means, called the *sampling distribution*, can help us understand \n",
    "this variability. In this lab, because we have access to the population, we \n",
    "can build up the sampling distribution for the sample mean by repeating the \n",
    "above steps many times. Here we will generate 15,000 samples and compute the \n",
    "sample mean of each. Note that we are sampling with replacement, \n",
    "`replace = TRUE` since sampling distributions are constructed with sampling\n",
    "with replacement.\n"
   ]
  },
  {
   "cell_type": "code",
   "execution_count": 8,
   "metadata": {},
   "outputs": [
    {
     "data": {
      "image/png": "[encoded data removed]",
      "text/plain": [
       "plot without title"
      ]
     },
     "metadata": {
      "image/png": {
       "height": 420,
       "width": 420
      }
     },
     "output_type": "display_data"
    }
   ],
   "source": [
    "sample_means50 <- ames %>%\n",
    "                    rep_sample_n(size = 50, reps = 15000, replace = TRUE) %>%\n",
    "                    summarise(x_bar = mean(area))\n",
    "\n",
    "ggplot(data = sample_means50, aes(x = x_bar)) +\n",
    "  geom_histogram(binwidth = 20)\n"
   ]
  },
  {
   "cell_type": "markdown",
   "metadata": {},
   "source": [
    "Here we use R to take 15,000 samples of size 50 from the population, calculate \n",
    "the mean of each sample, and store each result in a vector called \n",
    "`sample_means50`. Next, we review how this set of code works.\n",
    "\n",
    "<div id=\"exercise\">\n",
    "**Exercise**: How many elements are there in `sample_means50`?  Describe the sampling distribution, and be sure to specifically note its center. Make sure to include a plot of the distribution in your answer.\n",
    "</div>\n"
   ]
  },
  {
   "cell_type": "code",
   "execution_count": null,
   "metadata": {},
   "outputs": [],
   "source": [
    "# type your code for the Exercise here, and Run Document\n",
    "\n"
   ]
  },
  {
   "cell_type": "markdown",
   "metadata": {},
   "source": [
    "## Interlude: Sampling distributions\n",
    "\n",
    "The idea behind the `rep_sample_n` function is *repetition*. Earlier we took\n",
    "a single sample of size `n` (50) from the population of all houses in Ames. With\n",
    "this new function we are able to repeat this sampling procedure `rep` times in order\n",
    "to build a distribution of a series of sample statistics, which is called the \n",
    "**sampling distribution**. \n",
    "\n",
    "Note that in practice one rarely gets to build sampling distributions, \n",
    "because we rarely have access to data from the entire population. \n",
    "\n",
    "Without the `rep_sample_n` function, this would be painful. We would have to \n",
    "manually run the following code 15,000 times \n"
   ]
  },
  {
   "cell_type": "code",
   "execution_count": 9,
   "metadata": {},
   "outputs": [
    {
     "data": {
      "text/html": [
       "<table class=\"dataframe\">\n",
       "<caption>A tibble: 1 × 1</caption>\n",
       "<thead>\n",
       "\t<tr><th scope=col>x_bar</th></tr>\n",
       "\t<tr><th scope=col>&lt;dbl&gt;</th></tr>\n",
       "</thead>\n",
       "<tbody>\n",
       "\t<tr><td>1473.38</td></tr>\n",
       "</tbody>\n",
       "</table>\n"
      ],
      "text/latex": [
       "A tibble: 1 × 1\n",
       "\\begin{tabular}{l}\n",
       " x\\_bar\\\\\n",
       " <dbl>\\\\\n",
       "\\hline\n",
       "\t 1473.38\\\\\n",
       "\\end{tabular}\n"
      ],
      "text/markdown": [
       "\n",
       "A tibble: 1 × 1\n",
       "\n",
       "| x_bar &lt;dbl&gt; |\n",
       "|---|\n",
       "| 1473.38 |\n",
       "\n"
      ],
      "text/plain": [
       "  x_bar  \n",
       "1 1473.38"
      ]
     },
     "metadata": {},
     "output_type": "display_data"
    }
   ],
   "source": [
    "ames %>%\n",
    "  sample_n(size = 50) %>%\n",
    "  summarise(x_bar = mean(area))\n"
   ]
  },
  {
   "cell_type": "markdown",
   "metadata": {},
   "source": [
    "as well as store the resulting sample means each time in a separate vector.\n",
    "\n",
    "Note that for each of the 15,000 times we computed a mean, we did so from a \n",
    "**different** sample!\n",
    "\n",
    "<div id=\"exercise\">\n",
    "**Exercise**: To make sure you understand how sampling distributions are built, and exactly what the `sample_n` and `do` function do, try modifying the code to create a sampling distribution of **25 sample means** from **samples of size 10**, and put them in a data frame named `sample_means_small`. Print the output. How many observations are there in this object called `sample_means_small`? What does each observation represent?\n",
    "</div>\n"
   ]
  },
  {
   "cell_type": "code",
   "execution_count": null,
   "metadata": {},
   "outputs": [],
   "source": [
    "# type your code for the Exercise here, and Run Document\n",
    "\n"
   ]
  },
  {
   "cell_type": "markdown",
   "metadata": {},
   "source": [
    "3. How many elements are there in this object called `sample_means_small`? \n",
    "<ol>\n",
    "<li> 0 </li>\n",
    "<li> 3 </li>\n",
    "<li> 25 </li>\n",
    "<li> 100 </li>\n",
    "<li> 5,000 </li>\n",
    "</ol>\n"
   ]
  },
  {
   "cell_type": "code",
   "execution_count": null,
   "metadata": {},
   "outputs": [],
   "source": [
    "# type your code for Question 3 here, and Run Document\n",
    "\n"
   ]
  },
  {
   "cell_type": "markdown",
   "metadata": {},
   "source": [
    "4. Which of the following is **true** about the elements in the sampling distributions you created?\n",
    "<ol>\n",
    "<li> Each element represents a mean square footage from a simple random sample of 10 houses. </li>\n",
    "<li> Each element represents the square footage of a house. </li>\n",
    "<li> Each element represents the true population mean of square footage of houses. </li>\n",
    "</ol>\n",
    "\n",
    "\n",
    "## Sample size and the sampling distribution\n",
    "\n",
    "Mechanics aside, let's return to the reason we used the `rep_sample_n` function: to \n",
    "compute a sampling distribution, specifically, this one.\n"
   ]
  },
  {
   "cell_type": "code",
   "execution_count": 10,
   "metadata": {},
   "outputs": [
    {
     "data": {
      "image/png": "[encoded data removed]",
      "text/plain": [
       "plot without title"
      ]
     },
     "metadata": {
      "image/png": {
       "height": 420,
       "width": 420
      }
     },
     "output_type": "display_data"
    }
   ],
   "source": [
    "ggplot(data = sample_means50, aes(x = x_bar)) +\n",
    "  geom_histogram(binwidth = 20)\n"
   ]
  },
  {
   "cell_type": "markdown",
   "metadata": {},
   "source": [
    "The sampling distribution that we computed tells us much about estimating \n",
    "the average living area in homes in Ames.  Because the sample mean is an \n",
    "unbiased estimator, the sampling distribution is centered at the true average \n",
    "living area of the population, and the spread of the distribution \n",
    "indicates how much variability is induced by sampling only 50 home sales.\n",
    "\n",
    "In the remainder of this section we will work on getting a sense of the effect that \n",
    "sample size has on our sampling distribution.\n",
    "\n",
    "<div id=\"exercise\">\n",
    "**Exercise**: Use the app below to create sampling distributions of means of `area`s from samples of size 10, 50, and 100. Use 5,000 simulations. What does each observation in the sampling distribution represent? How does the mean, standard error, and shape of the sampling distribution change as the sample size increases? How (if at all) do these values change if you increase the number of simulations?\n",
    "</div>\n",
    "    \n"
   ]
  },
  {
   "cell_type": "code",
   "execution_count": null,
   "metadata": {},
   "outputs": [
    {
     "name": "stderr",
     "output_type": "stream",
     "text": [
      "\n",
      "Listening on http://127.0.0.1:5130\n",
      "\n",
      "`stat_bin()` using `bins = 30`. Pick better value with `binwidth`.\n",
      "\n",
      "Warning message:\n",
      "“Removed 2 rows containing missing values (geom_bar).”\n",
      "`stat_bin()` using `bins = 30`. Pick better value with `binwidth`.\n",
      "\n",
      "Warning message:\n",
      "“Removed 2 rows containing missing values (geom_bar).”\n",
      "Warning message:\n",
      "“Error in h: error in evaluating the argument 'x' in selecting a method for function 'rowMeans': vector size cannot be NA”\n",
      "Warning message:\n",
      "“Error in <Anonymous>: error in evaluating the argument 'x' in selecting a method for function 'mean': error in evaluating the argument 'x' in selecting a method for function 'rowMeans': vector size cannot be NA”\n",
      "Warning message:\n",
      "“Error in h: error in evaluating the argument 'x' in selecting a method for function 'rowMeans': vector size cannot be NA”\n",
      "`stat_bin()` using `bins = 30`. Pick better value with `binwidth`.\n",
      "\n",
      "Warning message:\n",
      "“Removed 2 rows containing missing values (geom_bar).”\n"
     ]
    }
   ],
   "source": [
    "shinyApp(\n",
    "  ui <- fluidPage(\n",
    "    \n",
    "    # Sidebar with a slider input for number of bins \n",
    "    sidebarLayout(\n",
    "      sidebarPanel(\n",
    "        \n",
    "        selectInput(\"selected_var\",\n",
    "                    \"Variable:\",\n",
    "                    choices = list(\"area\", \"price\"),\n",
    "                    selected = \"area\"),         \n",
    "        \n",
    "        numericInput(\"n_samp\",\n",
    "                     \"Sample size:\",\n",
    "                     min = 1,\n",
    "                     max = nrow(ames),\n",
    "                     value = 30),\n",
    "        \n",
    "        numericInput(\"n_sim\",\n",
    "                     \"Number of samples:\",\n",
    "                     min = 1,\n",
    "                     max = 30000,\n",
    "                     value = 15000) \n",
    "        \n",
    "      ),\n",
    "      \n",
    "      # Show a plot of the generated distribution\n",
    "      mainPanel(\n",
    "        plotOutput(\"sampling_plot\"),\n",
    "        verbatimTextOutput(\"sampling_mean\"),\n",
    "        verbatimTextOutput(\"sampling_se\")\n",
    "      )\n",
    "    )\n",
    "  ),\n",
    "  \n",
    "  # Define server logic required to draw a histogram\n",
    "  server <- function(input, output) {\n",
    "    \n",
    "    # create sampling distribution\n",
    "    sampling_dist <- reactive({\n",
    "      ames[[input$selected_var]] %>%\n",
    "        sample(size = input$n_samp * input$n_sim, replace = TRUE) %>%\n",
    "        matrix(ncol = input$n_samp) %>%\n",
    "        rowMeans() %>%\n",
    "        data.frame(x_bar = .)\n",
    "      #ames %>%\n",
    "      #  rep_sample_n(size = input$n_samp, reps = input$n_sim, replace = TRUE) %>%\n",
    "      #  summarise_(x_bar = mean(input$selected_var))\n",
    "    })\n",
    "    \n",
    "    # plot sampling distribution\n",
    "    output$sampling_plot <- renderPlot({\n",
    "      x_min <- quantile(ames[[input$selected_var]], 0.1)\n",
    "      x_max <- quantile(ames[[input$selected_var]], 0.9)\n",
    "      \n",
    "      ggplot(sampling_dist(), aes(x = x_bar)) +\n",
    "        geom_histogram() +\n",
    "        xlim(x_min, x_max) +\n",
    "        ylim(0, input$n_sim * 0.35) +\n",
    "        ggtitle(paste0(\"Sampling distribution of mean \", \n",
    "                       input$selected_var, \" (n = \", input$n_samp, \")\")) +\n",
    "        xlab(paste(\"mean\", input$selected_var)) +\n",
    "        theme(plot.title = element_text(face = \"bold\", size = 16))\n",
    "    })\n",
    "    \n",
    "    # mean of sampling distribution\n",
    "    output$sampling_mean <- renderText({\n",
    "      paste0(\"mean of sampling distribution = \", round(mean(sampling_dist()$x_bar), 2))\n",
    "    })\n",
    "    \n",
    "    # mean of sampling distribution\n",
    "    output$sampling_se <- renderText({\n",
    "      paste0(\"SE of sampling distribution = \", round(sd(sampling_dist()$x_bar), 2))\n",
    "    })\n",
    "  },\n",
    "  \n",
    "  options = list(height = 500) \n",
    ")\n"
   ]
  },
  {
   "cell_type": "markdown",
   "metadata": {},
   "source": [
    "5. It makes intuitive sense that as the sample size increases, the center of the sampling distribution becomes a more reliable estimate for the true population mean. Also as the sample size increases, the variability of the sampling distribution ________. \n",
    "<ol>\n",
    "<li> decreases </li>\n",
    "<li> increases </li>\n",
    "<li> stays the same </li>\n",
    "</ol>\n",
    "\n",
    "<div id=\"exercise\">\n",
    "**Exercise**: Take a random sample of size 50 from `price`. Using this sample, what is your best point estimate of the population mean?\n",
    "</div>\n"
   ]
  },
  {
   "cell_type": "code",
   "execution_count": null,
   "metadata": {},
   "outputs": [],
   "source": [
    "# type your code for this Exercise here, and Run Document\n",
    "\n"
   ]
  },
  {
   "cell_type": "markdown",
   "metadata": {},
   "source": [
    "<div id=\"exercise\">\n",
    "**Exercise**: Since you have access to the population, simulate the sampling distribution for $\\bar{x}_{price}$ by taking 5000 samples from the population of size 50 and computing 5000 sample means.  Store these means in a vector called `sample_means50`. Plot the data, then describe the shape of this sampling distribution. Based on this sampling distribution, what would you guess the mean home price of the population to be?\n",
    "</div>\n"
   ]
  },
  {
   "cell_type": "code",
   "execution_count": null,
   "metadata": {},
   "outputs": [],
   "source": [
    "# type your code for this Exercise here, and Run Document\n",
    "\n"
   ]
  },
  {
   "cell_type": "markdown",
   "metadata": {},
   "source": [
    "<div id=\"exercise\">\n",
    "**Exercise**: Change your sample size from 50 to 150, then compute the sampling distribution using the same method as above, and store these means in a new vector called `sample_means150`. Describe the shape of this sampling distribution, and compare it to the sampling distribution for a sample size of 50.  Based on this sampling distribution, what would you guess to be the mean sale price of homes in Ames?\n",
    "</div>\n"
   ]
  },
  {
   "cell_type": "code",
   "execution_count": null,
   "metadata": {},
   "outputs": [],
   "source": [
    "# type your code for this Exercise here, and Run Document\n",
    "\n"
   ]
  },
  {
   "cell_type": "markdown",
   "metadata": {},
   "source": [
    "* * *\n",
    "\n",
    "So far, we have only focused on estimating the mean living area in homes in \n",
    "Ames. Now you'll try to estimate the mean home price.\n",
    "\n",
    "Note that while you might be able to answer some of these questions using the app\n",
    "you are expected to write the required code and produce the necessary plots and\n",
    "summary statistics. You are welcomed to use the app for exploration.\n",
    "\n",
    "<div id=\"exercise\">\n",
    "**Exercise**: Take a sample of size 15 from the population and calculate the mean `price` of the homes in this sample. Using this sample, what is your best point estimate of the population mean of prices of homes?\n",
    "</div>\n"
   ]
  },
  {
   "cell_type": "code",
   "execution_count": null,
   "metadata": {},
   "outputs": [],
   "source": [
    "# type your code for this Exercise here, and Run Document\n",
    "\n"
   ]
  },
  {
   "cell_type": "markdown",
   "metadata": {},
   "source": [
    "<div id=\"exercise\">\n",
    "**Exercise**: Since you have access to the population, simulate the sampling distribution for $\\bar{x}_{price}$ by taking 2000 samples from the population of size 15 and computing 2000 sample means. Store these means in a vector called `sample_means15`. Plot the data, then describe the shape of this sampling distribution. Based on this sampling distribution, what would you guess the mean home price of the population to be? Finally, calculate and report the population mean.\n",
    "</div>\n"
   ]
  },
  {
   "cell_type": "code",
   "execution_count": null,
   "metadata": {},
   "outputs": [],
   "source": [
    "# type your code for this Exercise here, and Run Document\n",
    "\n"
   ]
  },
  {
   "cell_type": "markdown",
   "metadata": {},
   "source": [
    "<div id=\"exercise\">\n",
    "**Exercise**: Change your sample size from 15 to 150, then compute the sampling distribution using the same method as above, and store these means in a new vector called `sample_means150`. Describe the shape of this sampling distribution, and compare it to the sampling distribution for a sample size of 15. Based on this sampling distribution, what would you guess to be the mean sale price of homes in Ames?\n",
    "</div>\n"
   ]
  },
  {
   "cell_type": "code",
   "execution_count": null,
   "metadata": {},
   "outputs": [],
   "source": [
    "# type your code for this Exercise here, and Run Document\n",
    "\n"
   ]
  },
  {
   "cell_type": "markdown",
   "metadata": {},
   "source": [
    "6. Which of the following is false? \n",
    "<ol>\n",
    "<li> The variability of the sampling distribution with the smaller sample size (`sample_means50`) is smaller than the variability of the sampling distribution with the larger sample size (`sample_means150`). </li>\n",
    "<li> The means for the two sampling distribtuions are roughly similar. </li> \n",
    "<li> Both sampling distributions are symmetric. </li>\n",
    "</ol>\n"
   ]
  },
  {
   "cell_type": "code",
   "execution_count": null,
   "metadata": {},
   "outputs": [],
   "source": [
    "# type your code for Question 6 here, and Run Document\n",
    "\n"
   ]
  },
  {
   "cell_type": "markdown",
   "metadata": {},
   "source": [
    "<div id=\"license\">\n",
    "This is a derivative of an [OpenIntro](https://www.openintro.org/stat/labs.php) lab, and is released under a [Attribution-NonCommercial-ShareAlike 3.0 United States](https://creativecommons.org/licenses/by-nc-sa/3.0/us/) license.\n",
    "</div>\n"
   ]
  }
 ],
 "metadata": {
  "anaconda-cloud": "",
  "kernelspec": {
   "display_name": "R",
   "language": "R",
   "name": "ir"
  },
  "language_info": {
   "codemirror_mode": "r",
   "file_extension": ".r",
   "mimetype": "text/x-r-source",
   "name": "R",
   "pygments_lexer": "r",
   "version": "4.1.0"
  }
 },
 "nbformat": 4,
 "nbformat_minor": 1
}
