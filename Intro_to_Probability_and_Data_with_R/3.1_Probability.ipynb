{
 "cells": [
  {
   "cell_type": "markdown",
   "metadata": {},
   "source": [
    "<div id=\"instructions\">\n",
    "Complete all **Exercises**, and submit answers to **Questions** on the Coursera \n",
    "platform.\n",
    "</div>\n",
    "\n",
    "## Hot Hands\n",
    "\n",
    "Basketball players who make several baskets in succession are described as \n",
    "having a *hot hand*. Fans and players have long believed in the hot hand \n",
    "phenomenon, which refutes the assumption that each shot is independent of the \n",
    "next. However, [a 1985 paper](http://www.sciencedirect.com/science/article/pii/0010028585900106) by Gilovich, Vallone, and Tversky collected evidence\n",
    "that contradicted this belief and showed that successive shots are independent \n",
    "events. This paper started a great controversy that continues to this day, as you can \n",
    "see by Googling *hot hand basketball*.\n",
    "\n",
    "We do not expect to resolve this controversy today. However, in this lab we'll \n",
    "apply one approach to answering questions like this. The goals for this lab are \n",
    "to (1) think about the effects of independent and dependent events, (2) learn \n",
    "how to simulate shooting streaks in R, and (3) to compare a simulation to actual\n",
    "data in order to determine if the hot hand phenomenon appears to be real.\n",
    "\n",
    "## Getting Started\n",
    "\n",
    "### Load packages\n",
    "\n",
    "In this lab we will explore the data using the `dplyr` package and visualize it \n",
    "using the `ggplot2` package for data visualization. The data can be found in the\n",
    "companion package for this course, `statsr`.\n",
    "\n",
    "Let's load the packages.\n"
   ]
  },
  {
   "cell_type": "code",
   "execution_count": 1,
   "metadata": {},
   "outputs": [
    {
     "name": "stderr",
     "output_type": "stream",
     "text": [
      "Loading required package: BayesFactor\n",
      "\n",
      "Loading required package: coda\n",
      "\n",
      "Loading required package: Matrix\n",
      "\n",
      "************\n",
      "Welcome to BayesFactor 0.9.12-4.2. If you have questions, please contact Richard Morey (richarddmorey@gmail.com).\n",
      "\n",
      "Type BFManual() to open the manual.\n",
      "************\n",
      "\n",
      "\n",
      "Attaching package: ‘dplyr’\n",
      "\n",
      "\n",
      "The following objects are masked from ‘package:stats’:\n",
      "\n",
      "    filter, lag\n",
      "\n",
      "\n",
      "The following objects are masked from ‘package:base’:\n",
      "\n",
      "    intersect, setdiff, setequal, union\n",
      "\n",
      "\n"
     ]
    }
   ],
   "source": [
    "library(statsr)\n",
    "library(dplyr)\n",
    "library(ggplot2)\n"
   ]
  },
  {
   "cell_type": "markdown",
   "metadata": {},
   "source": [
    "### Data\n",
    "\n",
    "Our investigation will focus on the performance of one player: Kobe Bryant of \n",
    "the Los Angeles Lakers. His performance against the Orlando Magic in the 2009 \n",
    "NBA finals earned him the title *Most Valuable Player* and many spectators \n",
    "commented on how he appeared to show a hot hand. Let's load some necessary files\n",
    "that we will need for this lab.\n"
   ]
  },
  {
   "cell_type": "code",
   "execution_count": 2,
   "metadata": {},
   "outputs": [],
   "source": [
    "data(kobe_basket)"
   ]
  },
  {
   "cell_type": "markdown",
   "metadata": {},
   "source": [
    "This data frame contains 133 observations and 6 variables, where every\n",
    "row records a shot taken by Kobe Bryant. The `shot` variable in this dataset\n",
    "indicates whether the shot was a hit (`H`) or a miss (`M`).\n",
    "\n",
    "Just looking at the string of hits and misses, it can be difficult to gauge \n",
    "whether or not it seems like Kobe was shooting with a hot hand. One way we can \n",
    "approach this is by considering the belief that hot hand shooters tend to go on \n",
    "shooting streaks. For this lab, we define the length of a shooting streak to be \n",
    "the *number of consecutive baskets made until a miss occurs*.\n",
    "\n",
    "For example, in Game 1 Kobe had the following sequence of hits and misses from \n",
    "his nine shot attempts in the first quarter:\n",
    "\n",
    "\\[ \\textrm{H M | M | H H M | M | M | M} \\]\n",
    "\n",
    "You can verify this by viewing the first 8 rows of the data in the data viewer.\n",
    "\n",
    "Within the nine shot attempts, there are six streaks, which are separated by a \n",
    "\"|\" above. Their lengths are one, zero, two, zero, zero, zero (in order of \n",
    "occurrence).\n",
    "\n",
    "1.  Fill in the blank: A streak length of 1 means one \\_\\_\\_ followed by one miss.\n",
    "<ol>\n",
    "<li> hit </li>\n",
    "<li> miss </li>\n",
    "</ol>\n",
    "\n",
    "\n",
    "2.  Fill in the blank: A streak length of 0 means one \\_\\_\\_ which must occur after a \n",
    "miss that ended the preceeding streak.\n",
    "<ol>\n",
    "<li> hit </li>\n",
    "<li> miss </li>\n",
    "</ol>\n",
    "\n",
    "Counting streak lengths manually for all 133 shots would get tedious, so we'll\n",
    "use the custom function `calc_streak` to calculate them, and store the results\n",
    "in a data frame called `kobe_streak` as the `length` variable.\n"
   ]
  },
  {
   "cell_type": "code",
   "execution_count": 4,
   "metadata": {},
   "outputs": [],
   "source": [
    "kobe_streak <- calc_streak(kobe_basket$shot)\n"
   ]
  },
  {
   "cell_type": "markdown",
   "metadata": {},
   "source": [
    "We can then take a look at the distribution of these streak lengths.\n",
    "\n"
   ]
  },
  {
   "cell_type": "code",
   "execution_count": 5,
   "metadata": {},
   "outputs": [
    {
     "data": {
      "image/png": "[encoded data removed]",
      "text/plain": [
       "plot without title"
      ]
     },
     "metadata": {
      "image/png": {
       "height": 420,
       "width": 420
      }
     },
     "output_type": "display_data"
    }
   ],
   "source": [
    "ggplot(data = kobe_streak, aes(x = length)) +\n",
    "  geom_histogram(binwidth = 1)\n"
   ]
  },
  {
   "cell_type": "markdown",
   "metadata": {},
   "source": [
    "3.  Which of the following is false about the distribution of Kobe's streak lengths \n",
    "from the 2009 NBA finals. \n",
    "<ol>\n",
    "<li> The distribution of Kobe's streaks is unimodal and right skewed. </li>\n",
    "<li> The typical length of a streak is 0 since the median of the distribution is at 0. </li>\n",
    "<li> The IQR of the distribution is 1. \n",
    "<li> The longest streak of baskets is of length 4. </li>\n",
    "<li> The shortest streak is of length 1.</li>\n",
    "</ol>\n",
    "\n",
    "## Compared to What?\n",
    "\n",
    "We've shown that Kobe had some long shooting streaks, but are they long enough \n",
    "to support the belief that he had hot hands? What can we compare them to?\n",
    "\n",
    "To answer these questions, let's return to the idea of *independence*. Two \n",
    "processes are independent if the outcome of one process doesn't effect the outcome \n",
    "of the second. If each shot that a player takes is an independent process, \n",
    "having made or missed your first shot will not affect the probability that you\n",
    "will make or miss your second shot.\n",
    "\n",
    "A shooter with a hot hand will have shots that are *not* independent of one \n",
    "another. Specifically, if the shooter makes his first shot, the hot hand model \n",
    "says he will have a *higher* probability of making his second shot.\n",
    "\n",
    "Let's suppose for a moment that the hot hand model is valid for Kobe. During his\n",
    "career, the percentage of time Kobe makes a basket (i.e. his shooting \n",
    "percentage) is about 45%, or in probability notation,\n",
    "\n",
    "\\[ P(\\textrm{shot 1 = H}) = 0.45 \\]\n",
    "\n",
    "If he makes the first shot and has a hot hand (*not* independent shots), then \n",
    "the probability that he makes his second shot would go up to, let's say, 60%,\n",
    "\n",
    "\\[ P(\\textrm{shot 2 = H} \\, | \\, \\textrm{shot 1 = H}) = 0.60 \\]\n",
    "\n",
    "As a result of these increased probabilites, you'd expect Kobe to have longer \n",
    "streaks. Compare this to the skeptical perspective where Kobe does *not* have a\n",
    "hot hand, where each shot is independent of the next. If he hit his first shot,\n",
    "the probability that he makes the second is still 0.45.\n",
    "\n",
    "\\[ P(\\textrm{shot 2 = H} \\, | \\, \\textrm{shot 1 = H}) = 0.45 \\]\n",
    "\n",
    "In other words, making the first shot did nothing to effect the probability that\n",
    "he'd make his second shot. If Kobe's shots are independent, then he'd have the \n",
    "same probability of hitting every shot regardless of his past shots: 45%.\n",
    "\n",
    "Now that we've phrased the situation in terms of independent shots, let's return\n",
    "to the question: how do we tell if Kobe's shooting streaks are long enough to \n",
    "indicate that he has hot hands? We can compare his streak lengths to someone\n",
    "without hot hands: an independent shooter. \n",
    "\n",
    "## Simulations in R\n",
    "\n",
    "While we don't have any data from a shooter we know to have independent shots, \n",
    "that sort of data is very easy to simulate in R. In a simulation, you set the \n",
    "ground rules of a random process and then the computer uses random numbers to \n",
    "generate an outcome that adheres to those rules. As a simple example, you can\n",
    "simulate flipping a fair coin with the following.\n"
   ]
  },
  {
   "cell_type": "code",
   "execution_count": null,
   "metadata": {},
   "outputs": [],
   "source": [
    "coin_outcomes <- c(\"heads\", \"tails\")\n",
    "sample(coin_outcomes, size = 1, replace = TRUE)\n"
   ]
  },
  {
   "cell_type": "markdown",
   "metadata": {},
   "source": [
    "The vector `outcomes` can be thought of as a hat with two slips of paper in it: \n",
    "one slip says `heads` and the other says `tails`. The function `sample` draws \n",
    "one slip from the hat and tells us if it was a head or a tail. \n",
    "\n",
    "Run the second command listed above several times. Just like when flipping a \n",
    "coin, sometimes you'll get a heads, sometimes you'll get a tails, but in the \n",
    "long run, you'd expect to get roughly equal numbers of each.\n",
    "\n",
    "If you wanted to simulate flipping a fair coin 100 times, you could either run \n",
    "the function 100 times or, more simply, adjust the `size` argument, which \n",
    "governs how many samples to draw (the `replace = TRUE` argument indicates we put\n",
    "the slip of paper back in the hat before drawing again). Save the resulting \n",
    "vector of heads and tails in a new object called `sim_fair_coin`.\n"
   ]
  },
  {
   "cell_type": "code",
   "execution_count": null,
   "metadata": {},
   "outputs": [],
   "source": [
    "sim_fair_coin <- sample(coin_outcomes, size = 100, replace = TRUE)\n",
    "\n"
   ]
  },
  {
   "cell_type": "markdown",
   "metadata": {},
   "source": [
    "To view the results of this simulation, type the name of the object and then use\n",
    "`table` to count up the number of heads and tails.\n"
   ]
  },
  {
   "cell_type": "code",
   "execution_count": null,
   "metadata": {},
   "outputs": [],
   "source": [
    "sim_fair_coin\n",
    "table(sim_fair_coin)\n"
   ]
  },
  {
   "cell_type": "markdown",
   "metadata": {},
   "source": [
    "Since there are only two elements in `outcomes`, the probability that we \"flip\" \n",
    "a coin and it lands heads is 0.5. Say we're trying to simulate an unfair coin \n",
    "that we know only lands heads 20% of the time. We can adjust for this by adding \n",
    "an argument called `prob`, which provides a vector of two probability weights.\n"
   ]
  },
  {
   "cell_type": "code",
   "execution_count": null,
   "metadata": {},
   "outputs": [],
   "source": [
    "sim_unfair_coin <- sample(coin_outcomes, size = 100, replace = TRUE, \n",
    "                          prob = c(0.2, 0.8))\n"
   ]
  },
  {
   "cell_type": "markdown",
   "metadata": {},
   "source": [
    "`prob = c(0.2, 0.8)` indicates that for the two elements in the `outcomes` vector,\n",
    "we want to select the first one, `heads`, with probability 0.2 and the second \n",
    "one, `tails` with probability 0.8. Another way of thinking about this is to \n",
    "think of the outcome space as a bag of 10 chips, where 2 chips are labeled \n",
    "\"head\" and 8 chips \"tail\". Therefore at each draw, the probability of drawing a \n",
    "chip that says \"head\"\" is 20%, and \"tail\" is 80%.\n",
    "\n",
    "<div id=\"exercise\">\n",
    "**Exercise**: In your simulation of flipping the unfair coin 100 times, how many flips came up heads?\n",
    "</div>\n",
    "\n",
    "In a sense, we've shrunken the size of the slip of paper that says \"heads\", \n",
    "making it less likely to be drawn and we've increased the size of the slip of \n",
    "paper saying \"tails\", making it more likely to be drawn. When we simulated the \n",
    "fair coin, both slips of paper were the same size. This happens by default if \n",
    "you don't provide a `prob` argument; all elements in the `outcomes` vector have \n",
    "an equal probability of being drawn.\n",
    "\n",
    "If you want to learn more about `sample` or any other function, recall that you \n",
    "can always check out its help file with `?sample`.\n",
    "\n",
    "\n",
    "## Simulating the Independent Shooter\n",
    "\n",
    "Simulating a basketball player who has independent shots uses the same mechanism \n",
    "that we use to simulate a coin flip. To simulate a single shot from an \n",
    "independent shooter with a shooting percentage of 50% we type,\n"
   ]
  },
  {
   "cell_type": "code",
   "execution_count": null,
   "metadata": {},
   "outputs": [],
   "source": [
    "shot_outcomes <- c(\"H\", \"M\")\n",
    "sim_basket <- sample(shot_outcomes, size = 1, replace = TRUE)\n"
   ]
  },
  {
   "cell_type": "markdown",
   "metadata": {},
   "source": [
    "To make a valid comparison between Kobe and our simulated independent shooter, \n",
    "we need to align both their shooting percentage and the number of attempted shots.\n",
    "\n",
    "\n",
    "<div id=\"exercise\">\n",
    "**Exercise**: What change needs to be made to the `sample` function so that it reflects a shooting percentage of 45%? Make this adjustment, then run a simulation to sample 133 shots. Assign the output of this simulation to a new object called `sim_basket`.\n",
    "</div>\n"
   ]
  },
  {
   "cell_type": "code",
   "execution_count": null,
   "metadata": {},
   "outputs": [],
   "source": [
    "# type your code for the Exercise here, and Knit\n",
    "\n"
   ]
  },
  {
   "cell_type": "markdown",
   "metadata": {},
   "source": [
    "   \n",
    "Note that we've named the new vector `sim_basket`, the same name that we gave to\n",
    "the previous vector reflecting a shooting percentage of 50%. In this situation, \n",
    "R overwrites the old object with the new one, so always make sure that you don't\n",
    "need the information in an old vector before reassigning its name.\n",
    "\n",
    "With the results of the simulation saved as `sim_basket`, we have the data \n",
    "necessary to compare Kobe to our independent shooter.\n",
    "\n",
    "Both data sets represent the results of 133 shot attempts, each with the same \n",
    "shooting percentage of 45%. We know that our simulated data is from a shooter \n",
    "that has independent shots. That is, we know the simulated shooter does not have\n",
    "a hot hand.\n",
    "\n",
    "### Comparing Kobe Bryant to the Independent Shooter\n",
    "\n",
    "<div id=\"exercise\">\n",
    "**Exercise**: Using `calc_streak`, compute the streak lengths of `sim_basket`, and save the results in a data frame called `sim_streak`. Note that since the `sim_streak` object is just a vector and not a variable in a data frame, we don't need to first select it from a data frame like we did earlier when we calculated the streak lengths for Kobe's shots.\n",
    "</div>\n"
   ]
  },
  {
   "cell_type": "code",
   "execution_count": null,
   "metadata": {},
   "outputs": [],
   "source": [
    "# type your code for the Exercise here, and Knit\n",
    "\n"
   ]
  },
  {
   "cell_type": "markdown",
   "metadata": {},
   "source": [
    "   \n",
    "<div id=\"exercise\">\n",
    "**Exercise**: Make a plot of the distribution of simulated streak lengths of the independent shooter. What is the typical streak length for this simulated independent shooter with a 45% shooting percentage? How long is the player's longest streak of baskets in 133 shots?\n",
    "</div>\n"
   ]
  },
  {
   "cell_type": "code",
   "execution_count": null,
   "metadata": {},
   "outputs": [],
   "source": [
    "# type your code for the Exercise here, and Knit\n",
    "\n"
   ]
  },
  {
   "cell_type": "markdown",
   "metadata": {},
   "source": [
    "4.  If you were to run the simulation of the independent shooter a second time, how \n",
    "would you expect its streak distribution to compare to the distribution from the \n",
    "exercise above? \n",
    "<ol>\n",
    "<li> Exactly the same  </li>\n",
    "<li> Somewhat similar </li>\n",
    "<li> Totally different </li>\n",
    "</ol>\n",
    "\n",
    "\n",
    "5.  How does Kobe Bryant's distribution of streak lengths compare to the distribution \n",
    "of streak lengths for the simulated shooter? Using this comparison, do you have \n",
    "evidence that the hot hand model fits Kobe's shooting patterns?\n",
    "<ol>\n",
    "<li> The distributions look very similar. Therefore, there doesn't appear to be evidence for Kobe Bryant's hot hand. </li>\n",
    "<li> The distributions look very similar. Therefore, there appears to be evidence for Kobe Bryant's hot hand. </li>\n",
    "<li> The distributions look very different. Therefore, there doesn't appear to be evidence for Kobe Bryant's hot hand. </li>\n",
    "<li> The distributions look very different. Therefore, there appears to be evidence for Kobe Bryant's hot hand. </li>\n",
    "</ol>\n",
    "\n",
    "<div id=\"exercise\">\n",
    "**Exercise**: What concepts from the course videos are covered in this lab? What \n",
    "concepts, if any, are not covered in the videos? Have you seen these concepts \n",
    "elsewhere, e.g. textbook, previous labs, or practice problems?\n",
    "</div>\n",
    "\n",
    "<div id=\"license\">\n",
    "This is a derivative of an [OpenIntro](https://www.openintro.org/stat/labs.php) lab, and is released under a [Attribution-NonCommercial-ShareAlike 3.0 United States](https://creativecommons.org/licenses/by-nc-sa/3.0/us/) license.\n",
    "</div>\n"
   ]
  }
 ],
 "metadata": {
  "anaconda-cloud": "",
  "kernelspec": {
   "display_name": "R",
   "language": "R",
   "name": "ir"
  },
  "language_info": {
   "codemirror_mode": "r",
   "file_extension": ".r",
   "mimetype": "text/x-r-source",
   "name": "R",
   "pygments_lexer": "r",
   "version": "4.1.0"
  }
 },
 "nbformat": 4,
 "nbformat_minor": 1
}
