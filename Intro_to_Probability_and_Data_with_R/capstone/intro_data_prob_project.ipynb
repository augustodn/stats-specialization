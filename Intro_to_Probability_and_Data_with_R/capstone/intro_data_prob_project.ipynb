{
 "cells": [
  {
   "cell_type": "markdown",
   "metadata": {},
   "source": [
    "## Setup\n",
    "\n",
    "\n",
    "### Overall (6 points)\n",
    "- Uploaded HTML document resulting from the Rmd template: 1 pt\n",
    "- Organization: 1 pts\n",
    "- Readability of the text: 2 pts\n",
    "- Readability of the code: 2 pts\n",
    "\n",
    "\n",
    "### Load packages\n"
   ]
  },
  {
   "cell_type": "code",
   "execution_count": 1,
   "metadata": {},
   "outputs": [
    {
     "name": "stderr",
     "output_type": "stream",
     "text": [
      "\n",
      "Attaching package: ‘dplyr’\n",
      "\n",
      "\n",
      "The following objects are masked from ‘package:stats’:\n",
      "\n",
      "    filter, lag\n",
      "\n",
      "\n",
      "The following objects are masked from ‘package:base’:\n",
      "\n",
      "    intersect, setdiff, setequal, union\n",
      "\n",
      "\n"
     ]
    }
   ],
   "source": [
    "library(ggplot2)\n",
    "library(dplyr)\n",
    "library(repr)"
   ]
  },
  {
   "cell_type": "code",
   "execution_count": 2,
   "metadata": {},
   "outputs": [],
   "source": [
    "load(\"brfss2013.RData\")"
   ]
  },
  {
   "cell_type": "markdown",
   "metadata": {},
   "source": [
    "# Part 1: Data\n",
    "\n",
    "## Generalization\n",
    "- 2 pt for correct reasoning for generabizability – Answer should discuss whether random sampling was used. Learners might discuss any reservations, those should be well justified.\n",
    "\n",
    "https://www.cdc.gov/brfss/annual_data/2019/pdf/2019-sdqr-508.pdf\n",
    "\n",
    "Not all the surveyed people responded, hence there might be some bias:\n",
    "- Representative for those who didn't responded.\n",
    "- Voluntary Response, there are some people willing to respond.\n",
    "\n",
    "[Frequently Asked Questions About Changes to the Behavioral Risk Factor Surveillance System](https://www.cdc.gov/surveillancepractice/reports/brfss/brfss_faqs.html)\n",
    "\n",
    "\n",
    "Since 2011, BRFSS conducts both landline telephone- and cellular telephone-based surveys. In conducting the BRFSS landline telephone survey, interviewers collect data from a randomly selected adult in a household. In conducting the cellular telephone version of the BRFSS questionnaire, interviewers collect data from an adult who participates by using a cellular telephone and resides in a private residence or college housing.\n",
    "\n",
    "Why is it necessary to increase the number of survey calls to cell-phone numbers?\n",
    "During 2003—2009, the proportion of U.S. adults who lived in cell phone-only households increased by more than 700%, and this trend is continuing. Estimates are that currently 3 in 10 U.S. households have only cell phones.\n",
    "\n",
    "These households increasingly were left out of the population that BRFSS seeks to characterize—adults 18 years of age or older who do not live in institutional settings. Using cell phones only is especially strong in younger age groups and among persons in certain racial and ethnic minority groups.\n",
    "\n",
    "Because of differences in the characteristics of people living in households with or without landline telephones, all telephone surveys in the United States have had to adapt their methods in response to the significant increase in households that use cell phones only.\n",
    "\n",
    "\n",
    "Why is it necessary to adopt a new method of data weighting?\n",
    "For the past several decades, BRFSS used a statistical weighting method called “post-stratification.” However, the advent of easily accessible ultra-fast computer processors and networks has allowed the BRFSS to adopt an advanced weighting method called iterative proportional fitting, also known by its nickname, “raking.”\n",
    "\n",
    "Raking differs from post-stratification because it incorporates adjustor variables one at a time in an iterative process, rather than imposing weights for demographic subgroups in a single process. A key advantage of raking is that many more variables are used than post stratification. In addition to the standard demographic variables of age, gender, and race and ethnicity, raking uses variables such as education level, marital status, renter or owner status, and phone source.\n",
    "\n",
    "Raking adjusts the data so that groups underrepresented in the sample can be more\n",
    "accurately represented in the final data set. Raking allows for the incorporation of cellular telephone survey\n",
    "data; it permits the introduction of additional demographic characteristics and more-accurately matches sample\n",
    "distributions to known demographic characteristics of populations, as compared with the pre-2011 BRFSS\n",
    "weighting methods. The use of raking has been shown by researchers to reduce error within estimates4\n",
    "\n",
    "\n",
    "The BRFSS 2019 data is not directly comparable to years of BRFSS data before 2011 \n",
    "\n",
    "### Data Quality \n",
    "\n",
    "- [Pierannunzi C, Hu S, Balluz L. A systematic review of publications assessing reliability and validity of the Behavioral Risk Factor Surveillance System (BRFSS), 2004–2011External] (http://bmcmedresmethodol.biomedcentral.com/articles/10.1186/1471-2288-13-49)\n",
    "\n",
    "    Overall findings indicated that BRFSS prevalence rates were comparable to other national surveys which rely on self-reports, although specific differences are noted for some categories of response. BRFSS prevalence rates were less similar to surveys which utilize physical measures in addition to self-reported data. \n",
    "\n",
    "\n",
    "- Fahimi M, Link M, Schwartz DA, Levy P, Mokdad A. Tracking chronic disease and risk behavior prevalence as survey participation declines: statistics from the Behavioral Risk Factor Surveillance System and other national surveys. Prev Chronic Dis 2008; 5(3).\n",
    "\n",
    "    Many of the observed differences were found to have limited consequences for implementing related public health programs; other differences may require more detailed examination. In general, the range of BRFSS estimates examined here tends to parallel those from NHIS and NHANES, both of which have higher rates of participation.\n",
    "\n",
    "## Causality\n",
    "- 1 pt for correct reasoning for causality – Answer should discuss whether random assignment was used. \n",
    "\n",
    "\n",
    "After your introduction (which can be written later) data section should be fairly straightforward.  Something along the lines of “I investigated these questions using the BRFSS dataset. This was collected from POPULATION using METHOD. Results ARE / ARE NOT generalizable to ANOTHER?POPULATION. STATEMENT ABOUT CAUSALITY\" is sufficient. (I’m pretty confident you know the answers to fill in those blanks.) You will also need to address potential biases. They don't have to be actually present in the data, but given BRFSS codebook's information you should be able to find 2 or 3 things to keep in mind as you use their data. Do not just copy the BRFSS codebook without rewriting it in your own words and explaining what it means. \n",
    "\n",
    "\n",
    "**TODO**: This has to be done while devising the analysis\n"
   ]
  },
  {
   "cell_type": "markdown",
   "metadata": {},
   "source": [
    "[CodeBook 2013](https://www.cdc.gov/brfss/annual_data/2013/pdf/CODEBOOK13_LLCP.pdf) to check description of variables. [Modules Used in survey - Overall description](https://www.cdc.gov/brfss/questionnaires/modules/category2013.htm)"
   ]
  },
  {
   "cell_type": "code",
   "execution_count": 3,
   "metadata": {},
   "outputs": [
    {
     "data": {
      "text/html": [
       "<table class=\"dataframe\">\n",
       "<caption>A data.frame: 6 × 330</caption>\n",
       "<thead>\n",
       "\t<tr><th></th><th scope=col>X_state</th><th scope=col>fmonth</th><th scope=col>idate</th><th scope=col>imonth</th><th scope=col>iday</th><th scope=col>iyear</th><th scope=col>dispcode</th><th scope=col>seqno</th><th scope=col>X_psu</th><th scope=col>ctelenum</th><th scope=col>⋯</th><th scope=col>X_pastae1</th><th scope=col>X_lmtact1</th><th scope=col>X_lmtwrk1</th><th scope=col>X_lmtscl1</th><th scope=col>X_rfseat2</th><th scope=col>X_rfseat3</th><th scope=col>X_flshot6</th><th scope=col>X_pneumo2</th><th scope=col>X_aidtst3</th><th scope=col>X_age80</th></tr>\n",
       "\t<tr><th></th><th scope=col>&lt;fct&gt;</th><th scope=col>&lt;fct&gt;</th><th scope=col>&lt;int&gt;</th><th scope=col>&lt;fct&gt;</th><th scope=col>&lt;fct&gt;</th><th scope=col>&lt;fct&gt;</th><th scope=col>&lt;fct&gt;</th><th scope=col>&lt;int&gt;</th><th scope=col>&lt;int&gt;</th><th scope=col>&lt;fct&gt;</th><th scope=col>⋯</th><th scope=col>&lt;fct&gt;</th><th scope=col>&lt;fct&gt;</th><th scope=col>&lt;fct&gt;</th><th scope=col>&lt;fct&gt;</th><th scope=col>&lt;fct&gt;</th><th scope=col>&lt;fct&gt;</th><th scope=col>&lt;fct&gt;</th><th scope=col>&lt;fct&gt;</th><th scope=col>&lt;fct&gt;</th><th scope=col>&lt;int&gt;</th></tr>\n",
       "</thead>\n",
       "<tbody>\n",
       "\t<tr><th scope=row>1</th><td>Alabama</td><td>January </td><td>1092013</td><td>January </td><td>9 </td><td>2013</td><td>Completed interview</td><td>2013000580</td><td>2013000580</td><td>Yes</td><td>⋯</td><td>Did not meet both guidelines</td><td>Told have arthritis and have limited usual activities</td><td>Told have arthritis and have limited work</td><td>Told have arthritis and social activities limited a lot   </td><td>Always or almost always wear seat belt</td><td>Always wear seat belt</td><td>NA</td><td>NA</td><td>No </td><td>60</td></tr>\n",
       "\t<tr><th scope=row>2</th><td>Alabama</td><td>January </td><td>1192013</td><td>January </td><td>19</td><td>2013</td><td>Completed interview</td><td>2013000593</td><td>2013000593</td><td>Yes</td><td>⋯</td><td>Did not meet both guidelines</td><td>Not told they have arthritis                         </td><td>Not told they have arthritis             </td><td>Not told they have arthritis                              </td><td>Always or almost always wear seat belt</td><td>Always wear seat belt</td><td>NA</td><td>NA</td><td>Yes</td><td>50</td></tr>\n",
       "\t<tr><th scope=row>3</th><td>Alabama</td><td>January </td><td>1192013</td><td>January </td><td>19</td><td>2013</td><td>Completed interview</td><td>2013000600</td><td>2013000600</td><td>Yes</td><td>⋯</td><td>Did not meet both guidelines</td><td>Told have arthritis and have limited usual activities</td><td>Told have arthritis and have limited work</td><td>Told have arthritis and social activities limited a little</td><td>Always or almost always wear seat belt</td><td>Always wear seat belt</td><td>NA</td><td>NA</td><td>Yes</td><td>55</td></tr>\n",
       "\t<tr><th scope=row>4</th><td>Alabama</td><td>January </td><td>1112013</td><td>January </td><td>11</td><td>2013</td><td>Completed interview</td><td>2013000606</td><td>2013000606</td><td>Yes</td><td>⋯</td><td>Did not meet both guidelines</td><td>Not told they have arthritis                         </td><td>Not told they have arthritis             </td><td>Not told they have arthritis                              </td><td>Always or almost always wear seat belt</td><td>Always wear seat belt</td><td>NA</td><td>NA</td><td>No </td><td>64</td></tr>\n",
       "\t<tr><th scope=row>5</th><td>Alabama</td><td>February</td><td>2062013</td><td>February</td><td>6 </td><td>2013</td><td>Completed interview</td><td>2013000608</td><td>2013000608</td><td>Yes</td><td>⋯</td><td>Did not meet both guidelines</td><td>Not told they have arthritis                         </td><td>Not told they have arthritis             </td><td>Not told they have arthritis                              </td><td>Always or almost always wear seat belt</td><td>Always wear seat belt</td><td>No</td><td>No</td><td>No </td><td>66</td></tr>\n",
       "\t<tr><th scope=row>6</th><td>Alabama</td><td>March   </td><td>3272013</td><td>March   </td><td>27</td><td>2013</td><td>Completed interview</td><td>2013000630</td><td>2013000630</td><td>Yes</td><td>⋯</td><td>Did not meet both guidelines</td><td>Not told they have arthritis                         </td><td>Not told they have arthritis             </td><td>Not told they have arthritis                              </td><td>Always or almost always wear seat belt</td><td>Always wear seat belt</td><td>NA</td><td>NA</td><td>Yes</td><td>49</td></tr>\n",
       "</tbody>\n",
       "</table>\n"
      ],
      "text/latex": [
       "A data.frame: 6 × 330\n",
       "\\begin{tabular}{r|lllllllllllllllllllll}\n",
       "  & X\\_state & fmonth & idate & imonth & iday & iyear & dispcode & seqno & X\\_psu & ctelenum & ⋯ & X\\_pastae1 & X\\_lmtact1 & X\\_lmtwrk1 & X\\_lmtscl1 & X\\_rfseat2 & X\\_rfseat3 & X\\_flshot6 & X\\_pneumo2 & X\\_aidtst3 & X\\_age80\\\\\n",
       "  & <fct> & <fct> & <int> & <fct> & <fct> & <fct> & <fct> & <int> & <int> & <fct> & ⋯ & <fct> & <fct> & <fct> & <fct> & <fct> & <fct> & <fct> & <fct> & <fct> & <int>\\\\\n",
       "\\hline\n",
       "\t1 & Alabama & January  & 1092013 & January  & 9  & 2013 & Completed interview & 2013000580 & 2013000580 & Yes & ⋯ & Did not meet both guidelines & Told have arthritis and have limited usual activities & Told have arthritis and have limited work & Told have arthritis and social activities limited a lot    & Always or almost always wear seat belt & Always wear seat belt & NA & NA & No  & 60\\\\\n",
       "\t2 & Alabama & January  & 1192013 & January  & 19 & 2013 & Completed interview & 2013000593 & 2013000593 & Yes & ⋯ & Did not meet both guidelines & Not told they have arthritis                          & Not told they have arthritis              & Not told they have arthritis                               & Always or almost always wear seat belt & Always wear seat belt & NA & NA & Yes & 50\\\\\n",
       "\t3 & Alabama & January  & 1192013 & January  & 19 & 2013 & Completed interview & 2013000600 & 2013000600 & Yes & ⋯ & Did not meet both guidelines & Told have arthritis and have limited usual activities & Told have arthritis and have limited work & Told have arthritis and social activities limited a little & Always or almost always wear seat belt & Always wear seat belt & NA & NA & Yes & 55\\\\\n",
       "\t4 & Alabama & January  & 1112013 & January  & 11 & 2013 & Completed interview & 2013000606 & 2013000606 & Yes & ⋯ & Did not meet both guidelines & Not told they have arthritis                          & Not told they have arthritis              & Not told they have arthritis                               & Always or almost always wear seat belt & Always wear seat belt & NA & NA & No  & 64\\\\\n",
       "\t5 & Alabama & February & 2062013 & February & 6  & 2013 & Completed interview & 2013000608 & 2013000608 & Yes & ⋯ & Did not meet both guidelines & Not told they have arthritis                          & Not told they have arthritis              & Not told they have arthritis                               & Always or almost always wear seat belt & Always wear seat belt & No & No & No  & 66\\\\\n",
       "\t6 & Alabama & March    & 3272013 & March    & 27 & 2013 & Completed interview & 2013000630 & 2013000630 & Yes & ⋯ & Did not meet both guidelines & Not told they have arthritis                          & Not told they have arthritis              & Not told they have arthritis                               & Always or almost always wear seat belt & Always wear seat belt & NA & NA & Yes & 49\\\\\n",
       "\\end{tabular}\n"
      ],
      "text/markdown": [
       "\n",
       "A data.frame: 6 × 330\n",
       "\n",
       "| <!--/--> | X_state &lt;fct&gt; | fmonth &lt;fct&gt; | idate &lt;int&gt; | imonth &lt;fct&gt; | iday &lt;fct&gt; | iyear &lt;fct&gt; | dispcode &lt;fct&gt; | seqno &lt;int&gt; | X_psu &lt;int&gt; | ctelenum &lt;fct&gt; | ⋯ ⋯ | X_pastae1 &lt;fct&gt; | X_lmtact1 &lt;fct&gt; | X_lmtwrk1 &lt;fct&gt; | X_lmtscl1 &lt;fct&gt; | X_rfseat2 &lt;fct&gt; | X_rfseat3 &lt;fct&gt; | X_flshot6 &lt;fct&gt; | X_pneumo2 &lt;fct&gt; | X_aidtst3 &lt;fct&gt; | X_age80 &lt;int&gt; |\n",
       "|---|---|---|---|---|---|---|---|---|---|---|---|---|---|---|---|---|---|---|---|---|---|\n",
       "| 1 | Alabama | January  | 1092013 | January  | 9  | 2013 | Completed interview | 2013000580 | 2013000580 | Yes | ⋯ | Did not meet both guidelines | Told have arthritis and have limited usual activities | Told have arthritis and have limited work | Told have arthritis and social activities limited a lot    | Always or almost always wear seat belt | Always wear seat belt | NA | NA | No  | 60 |\n",
       "| 2 | Alabama | January  | 1192013 | January  | 19 | 2013 | Completed interview | 2013000593 | 2013000593 | Yes | ⋯ | Did not meet both guidelines | Not told they have arthritis                          | Not told they have arthritis              | Not told they have arthritis                               | Always or almost always wear seat belt | Always wear seat belt | NA | NA | Yes | 50 |\n",
       "| 3 | Alabama | January  | 1192013 | January  | 19 | 2013 | Completed interview | 2013000600 | 2013000600 | Yes | ⋯ | Did not meet both guidelines | Told have arthritis and have limited usual activities | Told have arthritis and have limited work | Told have arthritis and social activities limited a little | Always or almost always wear seat belt | Always wear seat belt | NA | NA | Yes | 55 |\n",
       "| 4 | Alabama | January  | 1112013 | January  | 11 | 2013 | Completed interview | 2013000606 | 2013000606 | Yes | ⋯ | Did not meet both guidelines | Not told they have arthritis                          | Not told they have arthritis              | Not told they have arthritis                               | Always or almost always wear seat belt | Always wear seat belt | NA | NA | No  | 64 |\n",
       "| 5 | Alabama | February | 2062013 | February | 6  | 2013 | Completed interview | 2013000608 | 2013000608 | Yes | ⋯ | Did not meet both guidelines | Not told they have arthritis                          | Not told they have arthritis              | Not told they have arthritis                               | Always or almost always wear seat belt | Always wear seat belt | No | No | No  | 66 |\n",
       "| 6 | Alabama | March    | 3272013 | March    | 27 | 2013 | Completed interview | 2013000630 | 2013000630 | Yes | ⋯ | Did not meet both guidelines | Not told they have arthritis                          | Not told they have arthritis              | Not told they have arthritis                               | Always or almost always wear seat belt | Always wear seat belt | NA | NA | Yes | 49 |\n",
       "\n"
      ],
      "text/plain": [
       "  X_state fmonth   idate   imonth   iday iyear dispcode            seqno     \n",
       "1 Alabama January  1092013 January  9    2013  Completed interview 2013000580\n",
       "2 Alabama January  1192013 January  19   2013  Completed interview 2013000593\n",
       "3 Alabama January  1192013 January  19   2013  Completed interview 2013000600\n",
       "4 Alabama January  1112013 January  11   2013  Completed interview 2013000606\n",
       "5 Alabama February 2062013 February 6    2013  Completed interview 2013000608\n",
       "6 Alabama March    3272013 March    27   2013  Completed interview 2013000630\n",
       "  X_psu      ctelenum ⋯ X_pastae1                   \n",
       "1 2013000580 Yes      ⋯ Did not meet both guidelines\n",
       "2 2013000593 Yes      ⋯ Did not meet both guidelines\n",
       "3 2013000600 Yes      ⋯ Did not meet both guidelines\n",
       "4 2013000606 Yes      ⋯ Did not meet both guidelines\n",
       "5 2013000608 Yes      ⋯ Did not meet both guidelines\n",
       "6 2013000630 Yes      ⋯ Did not meet both guidelines\n",
       "  X_lmtact1                                            \n",
       "1 Told have arthritis and have limited usual activities\n",
       "2 Not told they have arthritis                         \n",
       "3 Told have arthritis and have limited usual activities\n",
       "4 Not told they have arthritis                         \n",
       "5 Not told they have arthritis                         \n",
       "6 Not told they have arthritis                         \n",
       "  X_lmtwrk1                                \n",
       "1 Told have arthritis and have limited work\n",
       "2 Not told they have arthritis             \n",
       "3 Told have arthritis and have limited work\n",
       "4 Not told they have arthritis             \n",
       "5 Not told they have arthritis             \n",
       "6 Not told they have arthritis             \n",
       "  X_lmtscl1                                                 \n",
       "1 Told have arthritis and social activities limited a lot   \n",
       "2 Not told they have arthritis                              \n",
       "3 Told have arthritis and social activities limited a little\n",
       "4 Not told they have arthritis                              \n",
       "5 Not told they have arthritis                              \n",
       "6 Not told they have arthritis                              \n",
       "  X_rfseat2                              X_rfseat3             X_flshot6\n",
       "1 Always or almost always wear seat belt Always wear seat belt NA       \n",
       "2 Always or almost always wear seat belt Always wear seat belt NA       \n",
       "3 Always or almost always wear seat belt Always wear seat belt NA       \n",
       "4 Always or almost always wear seat belt Always wear seat belt NA       \n",
       "5 Always or almost always wear seat belt Always wear seat belt No       \n",
       "6 Always or almost always wear seat belt Always wear seat belt NA       \n",
       "  X_pneumo2 X_aidtst3 X_age80\n",
       "1 NA        No        60     \n",
       "2 NA        Yes       50     \n",
       "3 NA        Yes       55     \n",
       "4 NA        No        64     \n",
       "5 No        No        66     \n",
       "6 NA        Yes       49     "
      ]
     },
     "metadata": {},
     "output_type": "display_data"
    }
   ],
   "source": [
    "head(brfss2013)"
   ]
  },
  {
   "cell_type": "code",
   "execution_count": 4,
   "metadata": {},
   "outputs": [
    {
     "data": {
      "text/html": [
       "<style>\n",
       ".list-inline {list-style: none; margin:0; padding: 0}\n",
       ".list-inline>li {display: inline-block}\n",
       ".list-inline>li:not(:last-child)::after {content: \"\\00b7\"; padding: 0 .5ex}\n",
       "</style>\n",
       "<ol class=list-inline><li>491775</li><li>330</li></ol>\n"
      ],
      "text/latex": [
       "\\begin{enumerate*}\n",
       "\\item 491775\n",
       "\\item 330\n",
       "\\end{enumerate*}\n"
      ],
      "text/markdown": [
       "1. 491775\n",
       "2. 330\n",
       "\n",
       "\n"
      ],
      "text/plain": [
       "[1] 491775    330"
      ]
     },
     "metadata": {},
     "output_type": "display_data"
    }
   ],
   "source": [
    "dim(brfss2013)"
   ]
  },
  {
   "cell_type": "markdown",
   "metadata": {},
   "source": [
    "## Part 2: Research questions\n",
    "\n",
    "A good way to come up with the research questions is to pick 3 things that sound like reasonably interesting response variables. Happiness and economic level are common choices. Then you need to pick an explanatory variable for each. Feel free to pick something that doesn’t seem to relate at all. Is gun ownership related to happiness? Finally, for at least 2 of the questions you’ll need a 3rd variable, and a useful strategy is to pick something potentially confounding to subset by. Gender is an easy one.\n",
    "\n",
    "\n",
    "- 3 pts for each research question (x 3)\n",
    "   - Should be phrased in a non-causal way (1 pt)\n",
    "   - Should be well defined / not vague (1 pt)\n",
    "   - Is clear why this is of interest to the author / audience (1 pt)\n",
    "- 2 pts for at least two of the questions involving three variables\n",
    "\n",
    "\n",
    "**Research question 1:** Is sodium intake directly related to vascular (heart or brain) health?\n",
    "\n",
    "**Research question 2:** Are sugar drinks linked to diabetes? At the same time, could diabetes be correlated to other variables like drinking pure fruit juices?\n",
    "\n",
    "**Research question 3:** Do exercise reduce asthma symthomps? Does a flu shot helps in symthomps reduction?"
   ]
  },
  {
   "cell_type": "markdown",
   "metadata": {},
   "source": [
    "## Part 3: Exploratory data analysis\n",
    "\n",
    "After explaining each question, you need to conduct an EDA on the question. Write the code in 2 chunks: the first selecting and cleaning your data, and giving numerical summary (followed by a quick narration of what you’re doing and the basic result), then output your visualizations. This keeps the code and output from swamping the readable text.\n",
    "\n",
    "Conclusions are often one of the hardest things to write, especially since we haven’t gotten to prove anything about the data or not. So ending with a summary of what we’ve seen and a vague statement about needing more research to prove anything definitely (here’s a good place to repeat who we can generalize to and whether we can place a causal connection) is sufficient.\n",
    "\n",
    "**NOTE**: Insert code chunks as needed by clicking on the \"Insert a new code chunk\" \n",
    "button (green button with orange arrow) above. Make sure that your code is visible\n",
    "in the project you submit. **Delete this note when before you submit your work.**\n",
    "\n",
    "\n",
    "10 pts for each for each research question (x 3)\n",
    "\n",
    "- 3 pts for plots\n",
    "    - Plots should address the research questions (1 pt)\n",
    "    - Plots should be constructed correctly (1 pt)\n",
    "    - Plots should be formatted well – size not too large, not too small, etc. (1 pt)\n",
    "- 3 pts for summary statistics\n",
    "    - Summary statistics should address the research questions (1 pt)\n",
    "    - Summary statistics should be calculated correctly (1 pt)\n",
    "    - Summary statistics should be formatted well – not taking up pages and pages, etc. (1 pt)\n",
    "- 4 pts for narrative\n",
    "    - Each plot and/or R output should be accompanied by a narrative (1 pt)\n",
    "    - Narrative should interpret the visuals / R output correctly (2 pts)\n",
    "    - Narrative should address the research question (1 pts)"
   ]
  },
  {
   "cell_type": "markdown",
   "metadata": {},
   "source": [
    "## Research question 1:  \n",
    "- Is sodium intake directly related to vascular (heart or brain) health?\n",
    "\n",
    "### Summary Statistcs\n",
    "\n",
    "Let's make first a dataset with the variables we would like to study"
   ]
  },
  {
   "cell_type": "code",
   "execution_count": 5,
   "metadata": {},
   "outputs": [],
   "source": [
    "sodium_intake <- brfss2013 %>%\n",
    "    select(X_state, sex, X_age_g, wtchsalt, harehab1, strehab1) %>%\n",
    "    filter(!is.na(wtchsalt), !is.na(harehab1), !is.na(strehab1))\n",
    "    "
   ]
  },
  {
   "cell_type": "markdown",
   "metadata": {},
   "source": [
    "Let's consider vascular issues related to the heart OR brain. We'll make a new column which considers the cases in both groups."
   ]
  },
  {
   "cell_type": "code",
   "execution_count": 6,
   "metadata": {},
   "outputs": [
    {
     "data": {
      "text/html": [
       "<table class=\"dataframe\">\n",
       "<caption>A data.frame: 20 × 7</caption>\n",
       "<thead>\n",
       "\t<tr><th></th><th scope=col>X_state</th><th scope=col>sex</th><th scope=col>X_age_g</th><th scope=col>wtchsalt</th><th scope=col>harehab1</th><th scope=col>strehab1</th><th scope=col>ha_str_rehab</th></tr>\n",
       "\t<tr><th></th><th scope=col>&lt;fct&gt;</th><th scope=col>&lt;fct&gt;</th><th scope=col>&lt;fct&gt;</th><th scope=col>&lt;fct&gt;</th><th scope=col>&lt;fct&gt;</th><th scope=col>&lt;fct&gt;</th><th scope=col>&lt;chr&gt;</th></tr>\n",
       "</thead>\n",
       "<tbody>\n",
       "\t<tr><th scope=row>1</th><td>Alabama </td><td>Male  </td><td>Age 65 or older</td><td>Yes</td><td>No </td><td>No </td><td>No </td></tr>\n",
       "\t<tr><th scope=row>2</th><td>Alabama </td><td>Female</td><td>Age 55 to 64   </td><td>Yes</td><td>No </td><td>No </td><td>No </td></tr>\n",
       "\t<tr><th scope=row>3</th><td>Alabama </td><td>Male  </td><td>Age 55 to 64   </td><td>Yes</td><td>No </td><td>No </td><td>No </td></tr>\n",
       "\t<tr><th scope=row>4</th><td>Alabama </td><td>Female</td><td>Age 45 to 54   </td><td>Yes</td><td>No </td><td>No </td><td>No </td></tr>\n",
       "\t<tr><th scope=row>5</th><td>Alabama </td><td>Female</td><td>Age 55 to 64   </td><td>Yes</td><td>No </td><td>No </td><td>No </td></tr>\n",
       "\t<tr><th scope=row>6</th><td>Alabama </td><td>Male  </td><td>Age 65 or older</td><td>Yes</td><td>Yes</td><td>Yes</td><td>Yes</td></tr>\n",
       "\t<tr><th scope=row>7</th><td>Alabama </td><td>Male  </td><td>Age 55 to 64   </td><td>Yes</td><td>Yes</td><td>Yes</td><td>Yes</td></tr>\n",
       "\t<tr><th scope=row>8</th><td>Arkansas</td><td>Male  </td><td>Age 65 or older</td><td>Yes</td><td>Yes</td><td>Yes</td><td>Yes</td></tr>\n",
       "\t<tr><th scope=row>9</th><td>Arkansas</td><td>Male  </td><td>Age 65 or older</td><td>No </td><td>No </td><td>No </td><td>No </td></tr>\n",
       "\t<tr><th scope=row>10</th><td>Arkansas</td><td>Male  </td><td>Age 65 or older</td><td>Yes</td><td>Yes</td><td>Yes</td><td>Yes</td></tr>\n",
       "\t<tr><th scope=row>11</th><td>Arkansas</td><td>Female</td><td>Age 55 to 64   </td><td>Yes</td><td>Yes</td><td>No </td><td>Yes</td></tr>\n",
       "\t<tr><th scope=row>12</th><td>Arkansas</td><td>Female</td><td>Age 65 or older</td><td>Yes</td><td>No </td><td>No </td><td>No </td></tr>\n",
       "\t<tr><th scope=row>13</th><td>Arkansas</td><td>Male  </td><td>Age 65 or older</td><td>Yes</td><td>Yes</td><td>Yes</td><td>Yes</td></tr>\n",
       "\t<tr><th scope=row>14</th><td>Arkansas</td><td>Female</td><td>Age 65 or older</td><td>Yes</td><td>No </td><td>No </td><td>No </td></tr>\n",
       "\t<tr><th scope=row>15</th><td>Arkansas</td><td>Male  </td><td>Age 65 or older</td><td>Yes</td><td>Yes</td><td>Yes</td><td>Yes</td></tr>\n",
       "\t<tr><th scope=row>16</th><td>Arkansas</td><td>Male  </td><td>Age 55 to 64   </td><td>Yes</td><td>Yes</td><td>No </td><td>Yes</td></tr>\n",
       "\t<tr><th scope=row>17</th><td>Arkansas</td><td>Female</td><td>Age 65 or older</td><td>Yes</td><td>Yes</td><td>No </td><td>Yes</td></tr>\n",
       "\t<tr><th scope=row>18</th><td>Arkansas</td><td>Female</td><td>Age 65 or older</td><td>Yes</td><td>No </td><td>No </td><td>No </td></tr>\n",
       "\t<tr><th scope=row>19</th><td>Arkansas</td><td>Female</td><td>Age 65 or older</td><td>Yes</td><td>No </td><td>No </td><td>No </td></tr>\n",
       "\t<tr><th scope=row>20</th><td>Arkansas</td><td>Female</td><td>Age 65 or older</td><td>Yes</td><td>Yes</td><td>No </td><td>Yes</td></tr>\n",
       "</tbody>\n",
       "</table>\n"
      ],
      "text/latex": [
       "A data.frame: 20 × 7\n",
       "\\begin{tabular}{r|lllllll}\n",
       "  & X\\_state & sex & X\\_age\\_g & wtchsalt & harehab1 & strehab1 & ha\\_str\\_rehab\\\\\n",
       "  & <fct> & <fct> & <fct> & <fct> & <fct> & <fct> & <chr>\\\\\n",
       "\\hline\n",
       "\t1 & Alabama  & Male   & Age 65 or older & Yes & No  & No  & No \\\\\n",
       "\t2 & Alabama  & Female & Age 55 to 64    & Yes & No  & No  & No \\\\\n",
       "\t3 & Alabama  & Male   & Age 55 to 64    & Yes & No  & No  & No \\\\\n",
       "\t4 & Alabama  & Female & Age 45 to 54    & Yes & No  & No  & No \\\\\n",
       "\t5 & Alabama  & Female & Age 55 to 64    & Yes & No  & No  & No \\\\\n",
       "\t6 & Alabama  & Male   & Age 65 or older & Yes & Yes & Yes & Yes\\\\\n",
       "\t7 & Alabama  & Male   & Age 55 to 64    & Yes & Yes & Yes & Yes\\\\\n",
       "\t8 & Arkansas & Male   & Age 65 or older & Yes & Yes & Yes & Yes\\\\\n",
       "\t9 & Arkansas & Male   & Age 65 or older & No  & No  & No  & No \\\\\n",
       "\t10 & Arkansas & Male   & Age 65 or older & Yes & Yes & Yes & Yes\\\\\n",
       "\t11 & Arkansas & Female & Age 55 to 64    & Yes & Yes & No  & Yes\\\\\n",
       "\t12 & Arkansas & Female & Age 65 or older & Yes & No  & No  & No \\\\\n",
       "\t13 & Arkansas & Male   & Age 65 or older & Yes & Yes & Yes & Yes\\\\\n",
       "\t14 & Arkansas & Female & Age 65 or older & Yes & No  & No  & No \\\\\n",
       "\t15 & Arkansas & Male   & Age 65 or older & Yes & Yes & Yes & Yes\\\\\n",
       "\t16 & Arkansas & Male   & Age 55 to 64    & Yes & Yes & No  & Yes\\\\\n",
       "\t17 & Arkansas & Female & Age 65 or older & Yes & Yes & No  & Yes\\\\\n",
       "\t18 & Arkansas & Female & Age 65 or older & Yes & No  & No  & No \\\\\n",
       "\t19 & Arkansas & Female & Age 65 or older & Yes & No  & No  & No \\\\\n",
       "\t20 & Arkansas & Female & Age 65 or older & Yes & Yes & No  & Yes\\\\\n",
       "\\end{tabular}\n"
      ],
      "text/markdown": [
       "\n",
       "A data.frame: 20 × 7\n",
       "\n",
       "| <!--/--> | X_state &lt;fct&gt; | sex &lt;fct&gt; | X_age_g &lt;fct&gt; | wtchsalt &lt;fct&gt; | harehab1 &lt;fct&gt; | strehab1 &lt;fct&gt; | ha_str_rehab &lt;chr&gt; |\n",
       "|---|---|---|---|---|---|---|---|\n",
       "| 1 | Alabama  | Male   | Age 65 or older | Yes | No  | No  | No  |\n",
       "| 2 | Alabama  | Female | Age 55 to 64    | Yes | No  | No  | No  |\n",
       "| 3 | Alabama  | Male   | Age 55 to 64    | Yes | No  | No  | No  |\n",
       "| 4 | Alabama  | Female | Age 45 to 54    | Yes | No  | No  | No  |\n",
       "| 5 | Alabama  | Female | Age 55 to 64    | Yes | No  | No  | No  |\n",
       "| 6 | Alabama  | Male   | Age 65 or older | Yes | Yes | Yes | Yes |\n",
       "| 7 | Alabama  | Male   | Age 55 to 64    | Yes | Yes | Yes | Yes |\n",
       "| 8 | Arkansas | Male   | Age 65 or older | Yes | Yes | Yes | Yes |\n",
       "| 9 | Arkansas | Male   | Age 65 or older | No  | No  | No  | No  |\n",
       "| 10 | Arkansas | Male   | Age 65 or older | Yes | Yes | Yes | Yes |\n",
       "| 11 | Arkansas | Female | Age 55 to 64    | Yes | Yes | No  | Yes |\n",
       "| 12 | Arkansas | Female | Age 65 or older | Yes | No  | No  | No  |\n",
       "| 13 | Arkansas | Male   | Age 65 or older | Yes | Yes | Yes | Yes |\n",
       "| 14 | Arkansas | Female | Age 65 or older | Yes | No  | No  | No  |\n",
       "| 15 | Arkansas | Male   | Age 65 or older | Yes | Yes | Yes | Yes |\n",
       "| 16 | Arkansas | Male   | Age 55 to 64    | Yes | Yes | No  | Yes |\n",
       "| 17 | Arkansas | Female | Age 65 or older | Yes | Yes | No  | Yes |\n",
       "| 18 | Arkansas | Female | Age 65 or older | Yes | No  | No  | No  |\n",
       "| 19 | Arkansas | Female | Age 65 or older | Yes | No  | No  | No  |\n",
       "| 20 | Arkansas | Female | Age 65 or older | Yes | Yes | No  | Yes |\n",
       "\n"
      ],
      "text/plain": [
       "   X_state  sex    X_age_g         wtchsalt harehab1 strehab1 ha_str_rehab\n",
       "1  Alabama  Male   Age 65 or older Yes      No       No       No          \n",
       "2  Alabama  Female Age 55 to 64    Yes      No       No       No          \n",
       "3  Alabama  Male   Age 55 to 64    Yes      No       No       No          \n",
       "4  Alabama  Female Age 45 to 54    Yes      No       No       No          \n",
       "5  Alabama  Female Age 55 to 64    Yes      No       No       No          \n",
       "6  Alabama  Male   Age 65 or older Yes      Yes      Yes      Yes         \n",
       "7  Alabama  Male   Age 55 to 64    Yes      Yes      Yes      Yes         \n",
       "8  Arkansas Male   Age 65 or older Yes      Yes      Yes      Yes         \n",
       "9  Arkansas Male   Age 65 or older No       No       No       No          \n",
       "10 Arkansas Male   Age 65 or older Yes      Yes      Yes      Yes         \n",
       "11 Arkansas Female Age 55 to 64    Yes      Yes      No       Yes         \n",
       "12 Arkansas Female Age 65 or older Yes      No       No       No          \n",
       "13 Arkansas Male   Age 65 or older Yes      Yes      Yes      Yes         \n",
       "14 Arkansas Female Age 65 or older Yes      No       No       No          \n",
       "15 Arkansas Male   Age 65 or older Yes      Yes      Yes      Yes         \n",
       "16 Arkansas Male   Age 55 to 64    Yes      Yes      No       Yes         \n",
       "17 Arkansas Female Age 65 or older Yes      Yes      No       Yes         \n",
       "18 Arkansas Female Age 65 or older Yes      No       No       No          \n",
       "19 Arkansas Female Age 65 or older Yes      No       No       No          \n",
       "20 Arkansas Female Age 65 or older Yes      Yes      No       Yes         "
      ]
     },
     "metadata": {},
     "output_type": "display_data"
    },
    {
     "name": "stdout",
     "output_type": "stream",
     "text": [
      "Dataframe dimension:  884 7"
     ]
    }
   ],
   "source": [
    "sodium_intake <- sodium_intake %>%\n",
    "    mutate(ha_str_rehab = ifelse((harehab1==\"Yes\" | strehab1==\"Yes\"), \"Yes\", \"No\"))\n",
    "\n",
    "head(sodium_intake, n=20)\n",
    "cat(\"Dataframe dimension: \", dim(sodium_intake))"
   ]
  },
  {
   "cell_type": "code",
   "execution_count": 7,
   "metadata": {},
   "outputs": [
    {
     "data": {
      "text/html": [
       "<table class=\"dataframe\">\n",
       "<caption>A tibble: 13 × 2</caption>\n",
       "<thead>\n",
       "\t<tr><th scope=col>X_state</th><th scope=col>count</th></tr>\n",
       "\t<tr><th scope=col>&lt;fct&gt;</th><th scope=col>&lt;int&gt;</th></tr>\n",
       "</thead>\n",
       "<tbody>\n",
       "\t<tr><td>Alabama             </td><td>  7</td></tr>\n",
       "\t<tr><td>Arkansas            </td><td> 87</td></tr>\n",
       "\t<tr><td>District of Columbia</td><td> 41</td></tr>\n",
       "\t<tr><td>Hawaii              </td><td> 60</td></tr>\n",
       "\t<tr><td>Iowa                </td><td> 82</td></tr>\n",
       "\t<tr><td>Massachusetts       </td><td> 26</td></tr>\n",
       "\t<tr><td>Minnesota           </td><td> 93</td></tr>\n",
       "\t<tr><td>Mississippi         </td><td>102</td></tr>\n",
       "\t<tr><td>Missouri            </td><td>103</td></tr>\n",
       "\t<tr><td>North Dakota        </td><td> 63</td></tr>\n",
       "\t<tr><td>Tennessee           </td><td> 70</td></tr>\n",
       "\t<tr><td>Washington          </td><td>106</td></tr>\n",
       "\t<tr><td>Wisconsin           </td><td> 44</td></tr>\n",
       "</tbody>\n",
       "</table>\n"
      ],
      "text/latex": [
       "A tibble: 13 × 2\n",
       "\\begin{tabular}{ll}\n",
       " X\\_state & count\\\\\n",
       " <fct> & <int>\\\\\n",
       "\\hline\n",
       "\t Alabama              &   7\\\\\n",
       "\t Arkansas             &  87\\\\\n",
       "\t District of Columbia &  41\\\\\n",
       "\t Hawaii               &  60\\\\\n",
       "\t Iowa                 &  82\\\\\n",
       "\t Massachusetts        &  26\\\\\n",
       "\t Minnesota            &  93\\\\\n",
       "\t Mississippi          & 102\\\\\n",
       "\t Missouri             & 103\\\\\n",
       "\t North Dakota         &  63\\\\\n",
       "\t Tennessee            &  70\\\\\n",
       "\t Washington           & 106\\\\\n",
       "\t Wisconsin            &  44\\\\\n",
       "\\end{tabular}\n"
      ],
      "text/markdown": [
       "\n",
       "A tibble: 13 × 2\n",
       "\n",
       "| X_state &lt;fct&gt; | count &lt;int&gt; |\n",
       "|---|---|\n",
       "| Alabama              |   7 |\n",
       "| Arkansas             |  87 |\n",
       "| District of Columbia |  41 |\n",
       "| Hawaii               |  60 |\n",
       "| Iowa                 |  82 |\n",
       "| Massachusetts        |  26 |\n",
       "| Minnesota            |  93 |\n",
       "| Mississippi          | 102 |\n",
       "| Missouri             | 103 |\n",
       "| North Dakota         |  63 |\n",
       "| Tennessee            |  70 |\n",
       "| Washington           | 106 |\n",
       "| Wisconsin            |  44 |\n",
       "\n"
      ],
      "text/plain": [
       "   X_state              count\n",
       "1  Alabama                7  \n",
       "2  Arkansas              87  \n",
       "3  District of Columbia  41  \n",
       "4  Hawaii                60  \n",
       "5  Iowa                  82  \n",
       "6  Massachusetts         26  \n",
       "7  Minnesota             93  \n",
       "8  Mississippi          102  \n",
       "9  Missouri             103  \n",
       "10 North Dakota          63  \n",
       "11 Tennessee             70  \n",
       "12 Washington           106  \n",
       "13 Wisconsin             44  "
      ]
     },
     "metadata": {},
     "output_type": "display_data"
    }
   ],
   "source": [
    "sodium_intake %>%\n",
    "    group_by(X_state) %>%\n",
    "    summarise(count=n())"
   ]
  },
  {
   "cell_type": "code",
   "execution_count": 8,
   "metadata": {},
   "outputs": [
    {
     "data": {
      "text/html": [
       "<table class=\"dataframe\">\n",
       "<caption>A tibble: 2 × 2</caption>\n",
       "<thead>\n",
       "\t<tr><th scope=col>sex</th><th scope=col>count</th></tr>\n",
       "\t<tr><th scope=col>&lt;fct&gt;</th><th scope=col>&lt;int&gt;</th></tr>\n",
       "</thead>\n",
       "<tbody>\n",
       "\t<tr><td>Male  </td><td>451</td></tr>\n",
       "\t<tr><td>Female</td><td>433</td></tr>\n",
       "</tbody>\n",
       "</table>\n"
      ],
      "text/latex": [
       "A tibble: 2 × 2\n",
       "\\begin{tabular}{ll}\n",
       " sex & count\\\\\n",
       " <fct> & <int>\\\\\n",
       "\\hline\n",
       "\t Male   & 451\\\\\n",
       "\t Female & 433\\\\\n",
       "\\end{tabular}\n"
      ],
      "text/markdown": [
       "\n",
       "A tibble: 2 × 2\n",
       "\n",
       "| sex &lt;fct&gt; | count &lt;int&gt; |\n",
       "|---|---|\n",
       "| Male   | 451 |\n",
       "| Female | 433 |\n",
       "\n"
      ],
      "text/plain": [
       "  sex    count\n",
       "1 Male   451  \n",
       "2 Female 433  "
      ]
     },
     "metadata": {},
     "output_type": "display_data"
    }
   ],
   "source": [
    "sodium_intake %>%\n",
    "    group_by(sex) %>% \n",
    "    summarise(count=n())"
   ]
  },
  {
   "cell_type": "code",
   "execution_count": 9,
   "metadata": {},
   "outputs": [
    {
     "data": {
      "text/html": [
       "<table class=\"dataframe\">\n",
       "<caption>A grouped_df: 11 × 3</caption>\n",
       "<thead>\n",
       "\t<tr><th scope=col>X_age_g</th><th scope=col>wtchsalt</th><th scope=col>count</th></tr>\n",
       "\t<tr><th scope=col>&lt;fct&gt;</th><th scope=col>&lt;fct&gt;</th><th scope=col>&lt;int&gt;</th></tr>\n",
       "</thead>\n",
       "<tbody>\n",
       "\t<tr><td>Age 18 to 24   </td><td>No </td><td>  1</td></tr>\n",
       "\t<tr><td>Age 25 to 34   </td><td>Yes</td><td>  4</td></tr>\n",
       "\t<tr><td>Age 25 to 34   </td><td>No </td><td>  3</td></tr>\n",
       "\t<tr><td>Age 35 to 44   </td><td>Yes</td><td> 13</td></tr>\n",
       "\t<tr><td>Age 35 to 44   </td><td>No </td><td>  6</td></tr>\n",
       "\t<tr><td>Age 45 to 54   </td><td>Yes</td><td> 58</td></tr>\n",
       "\t<tr><td>Age 45 to 54   </td><td>No </td><td> 13</td></tr>\n",
       "\t<tr><td>Age 55 to 64   </td><td>Yes</td><td>165</td></tr>\n",
       "\t<tr><td>Age 55 to 64   </td><td>No </td><td> 47</td></tr>\n",
       "\t<tr><td>Age 65 or older</td><td>Yes</td><td>454</td></tr>\n",
       "\t<tr><td>Age 65 or older</td><td>No </td><td>120</td></tr>\n",
       "</tbody>\n",
       "</table>\n"
      ],
      "text/latex": [
       "A grouped\\_df: 11 × 3\n",
       "\\begin{tabular}{lll}\n",
       " X\\_age\\_g & wtchsalt & count\\\\\n",
       " <fct> & <fct> & <int>\\\\\n",
       "\\hline\n",
       "\t Age 18 to 24    & No  &   1\\\\\n",
       "\t Age 25 to 34    & Yes &   4\\\\\n",
       "\t Age 25 to 34    & No  &   3\\\\\n",
       "\t Age 35 to 44    & Yes &  13\\\\\n",
       "\t Age 35 to 44    & No  &   6\\\\\n",
       "\t Age 45 to 54    & Yes &  58\\\\\n",
       "\t Age 45 to 54    & No  &  13\\\\\n",
       "\t Age 55 to 64    & Yes & 165\\\\\n",
       "\t Age 55 to 64    & No  &  47\\\\\n",
       "\t Age 65 or older & Yes & 454\\\\\n",
       "\t Age 65 or older & No  & 120\\\\\n",
       "\\end{tabular}\n"
      ],
      "text/markdown": [
       "\n",
       "A grouped_df: 11 × 3\n",
       "\n",
       "| X_age_g &lt;fct&gt; | wtchsalt &lt;fct&gt; | count &lt;int&gt; |\n",
       "|---|---|---|\n",
       "| Age 18 to 24    | No  |   1 |\n",
       "| Age 25 to 34    | Yes |   4 |\n",
       "| Age 25 to 34    | No  |   3 |\n",
       "| Age 35 to 44    | Yes |  13 |\n",
       "| Age 35 to 44    | No  |   6 |\n",
       "| Age 45 to 54    | Yes |  58 |\n",
       "| Age 45 to 54    | No  |  13 |\n",
       "| Age 55 to 64    | Yes | 165 |\n",
       "| Age 55 to 64    | No  |  47 |\n",
       "| Age 65 or older | Yes | 454 |\n",
       "| Age 65 or older | No  | 120 |\n",
       "\n"
      ],
      "text/plain": [
       "   X_age_g         wtchsalt count\n",
       "1  Age 18 to 24    No         1  \n",
       "2  Age 25 to 34    Yes        4  \n",
       "3  Age 25 to 34    No         3  \n",
       "4  Age 35 to 44    Yes       13  \n",
       "5  Age 35 to 44    No         6  \n",
       "6  Age 45 to 54    Yes       58  \n",
       "7  Age 45 to 54    No        13  \n",
       "8  Age 55 to 64    Yes      165  \n",
       "9  Age 55 to 64    No        47  \n",
       "10 Age 65 or older Yes      454  \n",
       "11 Age 65 or older No       120  "
      ]
     },
     "metadata": {},
     "output_type": "display_data"
    }
   ],
   "source": [
    "sodium_intake %>%\n",
    "    group_by(X_age_g, wtchsalt) %>% \n",
    "    summarise(count=n(), .groups='keep')"
   ]
  },
  {
   "cell_type": "code",
   "execution_count": 10,
   "metadata": {},
   "outputs": [
    {
     "data": {
      "text/html": [
       "<table class=\"dataframe\">\n",
       "<caption>A grouped_df: 4 × 3</caption>\n",
       "<thead>\n",
       "\t<tr><th scope=col>wtchsalt</th><th scope=col>ha_str_rehab</th><th scope=col>count</th></tr>\n",
       "\t<tr><th scope=col>&lt;fct&gt;</th><th scope=col>&lt;chr&gt;</th><th scope=col>&lt;int&gt;</th></tr>\n",
       "</thead>\n",
       "<tbody>\n",
       "\t<tr><td>Yes</td><td>No </td><td>345</td></tr>\n",
       "\t<tr><td>Yes</td><td>Yes</td><td>349</td></tr>\n",
       "\t<tr><td>No </td><td>No </td><td>109</td></tr>\n",
       "\t<tr><td>No </td><td>Yes</td><td> 81</td></tr>\n",
       "</tbody>\n",
       "</table>\n"
      ],
      "text/latex": [
       "A grouped\\_df: 4 × 3\n",
       "\\begin{tabular}{lll}\n",
       " wtchsalt & ha\\_str\\_rehab & count\\\\\n",
       " <fct> & <chr> & <int>\\\\\n",
       "\\hline\n",
       "\t Yes & No  & 345\\\\\n",
       "\t Yes & Yes & 349\\\\\n",
       "\t No  & No  & 109\\\\\n",
       "\t No  & Yes &  81\\\\\n",
       "\\end{tabular}\n"
      ],
      "text/markdown": [
       "\n",
       "A grouped_df: 4 × 3\n",
       "\n",
       "| wtchsalt &lt;fct&gt; | ha_str_rehab &lt;chr&gt; | count &lt;int&gt; |\n",
       "|---|---|---|\n",
       "| Yes | No  | 345 |\n",
       "| Yes | Yes | 349 |\n",
       "| No  | No  | 109 |\n",
       "| No  | Yes |  81 |\n",
       "\n"
      ],
      "text/plain": [
       "  wtchsalt ha_str_rehab count\n",
       "1 Yes      No           345  \n",
       "2 Yes      Yes          349  \n",
       "3 No       No           109  \n",
       "4 No       Yes           81  "
      ]
     },
     "metadata": {},
     "output_type": "display_data"
    }
   ],
   "source": [
    "rehab_sodium <- sodium_intake %>%\n",
    "    group_by(wtchsalt, ha_str_rehab) %>% \n",
    "    summarise(count=n(), .groups='keep')\n",
    "rehab_sodium"
   ]
  },
  {
   "cell_type": "markdown",
   "metadata": {},
   "source": [
    "### Plots\n",
    "- Age histogram\n",
    "- Table of wtchsalt vs ha_str_rehab"
   ]
  },
  {
   "cell_type": "markdown",
   "metadata": {},
   "source": [
    "#### Age distribution plot"
   ]
  },
  {
   "cell_type": "code",
   "execution_count": 11,
   "metadata": {},
   "outputs": [
    {
     "data": {
      "image/png": "[encoded data removed]",
      "text/plain": [
       "plot without title"
      ]
     },
     "metadata": {
      "image/png": {
       "height": 420,
       "width": 420
      }
     },
     "output_type": "display_data"
    }
   ],
   "source": [
    "ggplot(sodium_intake, aes(X_age_g)) + geom_bar()"
   ]
  },
  {
   "cell_type": "markdown",
   "metadata": {},
   "source": [
    "#### Is salt intake related to a vascular incident?"
   ]
  },
  {
   "cell_type": "code",
   "execution_count": 12,
   "metadata": {},
   "outputs": [
    {
     "data": {
      "image/png": "[encoded data removed]",
      "text/plain": [
       "plot without title"
      ]
     },
     "metadata": {
      "image/png": {
       "height": 420,
       "width": 420
      }
     },
     "output_type": "display_data"
    }
   ],
   "source": [
    "# Stacked + percent\n",
    "ggplot(rehab_sodium, aes(fill=ha_str_rehab, y=count, x=wtchsalt)) + \n",
    "    geom_bar(position=\"fill\", stat=\"identity\")"
   ]
  },
  {
   "cell_type": "markdown",
   "metadata": {},
   "source": [
    "#### Conclusion\n",
    "\n",
    "The dataset studied is a subset of the BRFSS, consisting of 884 observations. These observations, as seen in the first plot are not distributed uniformly. We would expect a plot with right skew, since the older population groups represents a samller percentage of the total population. What we see instead, is the opposite. This cancels any intent of the study generalization.\n",
    "\n",
    "What can be observed in the group under study is that those who had a vascular incident in the past, watch their sodium intake slightly more than those who doesn't. However, the difference between groups it's not significantly different. If salt intake is precursor of vascular diseases, we should observe a better behaviour (a higher percent) of those who had a stroke or heart attack incident before. Another interpretation could be that not all the vascular patients follow their doctor recommendation or may take some medicine to control the vascular risks, despite the salt consumed.\n",
    "\n",
    "This analysis cannot be generalized for the entire US population since, the samples come from a limited amount of states and ages are not well represented. In the other hand, it cannot affirmed a correlation neither a causation of salt and vascular issues. One of the main problems is that there may be many people in the sample who started to watch salt consumption **after** an incident. General population without these issues seems not to be worried about sodium ingestion."
   ]
  },
  {
   "cell_type": "markdown",
   "metadata": {},
   "source": [
    "## Research question 2:  \n",
    "\n",
    "- Are sugar drinks linked to diabetes? At the same time, could diabetes be correlated to other variables like drinking pure fruit juices?\n",
    "\n",
    "### Summary Statistcs\n",
    "\n",
    "As before, let's make first a dataset with the variables we would like to study. We're interesed in sugar drink, fruit juice and diabetes variables:\n",
    "\n",
    "- ssbsugar: How Often Do You Drink Regular Soda Or Pop?\n",
    "- ssbfrut2: How Often Did You Drink Sugar-Sweetened Drinks?\n",
    "- fruitju1: How Many Times Did You Drink 100 Percent Pure Fruit Juices?\n",
    "- ftjuda1_: Computed Fruit Juice Intake In Times Per Day\n",
    "\n",
    "- pdiabtst: Had A Test For High Blood Sugar In Past Three Years\n",
    "- prediab1: Ever Been Told You Have Pre-Diabetes Or Borderline Diabetes\n",
    "\n",
    "I've chosen the pre-diabetes variables which might be a better predictor for the analysis. People with diabetes probably have changed their sugar intake habits and their information may not be useful for the analysis.\n",
    "\n",
    "Regarding the juice intake variables, it's better to work with ftjuda1_ which has the amount of fruit juice intakes, instead the per days, weeks, month frequencies. For sugar-related drinks, this frequencies will have to be computed/transformed, before analyzing them. Lastly, we're interested wether the study subject is in the edge of diabetes, however we can check if those who has this condition have been checking their sugar levels (even if not periodically)."
   ]
  },
  {
   "cell_type": "code",
   "execution_count": 13,
   "metadata": {},
   "outputs": [
    {
     "name": "stdout",
     "output_type": "stream",
     "text": [
      "'data.frame':\t491775 obs. of  5 variables:\n",
      " $ ssbsugar: int  305 203 202 203 NA NA NA NA NA NA ...\n",
      " $ ssbfrut2: int  305 0 308 315 NA NA NA NA NA NA ...\n",
      " $ fruitju1: int  304 305 301 202 0 205 320 0 0 202 ...\n",
      " $ pdiabtst: Factor w/ 2 levels \"Yes\",\"No\": 1 1 1 1 2 1 1 1 1 1 ...\n",
      " $ prediab1: Factor w/ 3 levels \"Yes\",\"Yes, during pregnancy\",..: 1 3 3 3 3 3 3 1 3 3 ...\n"
     ]
    }
   ],
   "source": [
    "sugar <- brfss2013 %>%\n",
    "    select (ssbsugar, ssbfrut2, fruitju1,\n",
    "            pdiabtst, prediab1)\n",
    "str(sugar)"
   ]
  },
  {
   "cell_type": "markdown",
   "metadata": {},
   "source": [
    "There is some work to be done with the first two variables, we want the frequency per day in int numbers. So let's do that first, inside the notes we can find the following comment:\n",
    "`First number denotes numbers of times per day (1), week (2), or month (3). The remaining numbers represent the counts of times.`\n",
    "\n",
    "We want to convert the 2XX and 3XX in numbers per day, even if the number is a fraction. For those with less than one time per month the criteria will be to replace it with ```0.5/30```."
   ]
  },
  {
   "cell_type": "code",
   "execution_count": 14,
   "metadata": {},
   "outputs": [],
   "source": [
    "sugar <- sugar %>%\n",
    "    mutate(prediab1 = ifelse(prediab1 == \"Yes\", \"Yes\", prediab1)) %>%\n",
    "    mutate(prediab1 = ifelse(prediab1 == 2, \"No\", prediab1)) %>%\n",
    "    mutate(prediab1 = ifelse(prediab1 == 3, \"No\", prediab1)) %>% \n",
    "    mutate(prediab1 = factor(prediab1)) %>%\n",
    "    # Clean ssbsugar\n",
    "    mutate(ssbsugar = ifelse(ssbsugar > 300, (ssbsugar - 300)/30, ssbsugar)) %>%\n",
    "    mutate(ssbsugar = ifelse(ssbsugar == 300, 0.5/30, ssbsugar)) %>%\n",
    "    mutate(ssbsugar = ifelse((ssbsugar > 200 & ssbsugar < 300), (ssbsugar - 200)/7, ssbsugar)) %>%\n",
    "    mutate(ssbsugar = ifelse((ssbsugar > 100 & ssbsugar < 200), ssbsugar - 100, ssbsugar)) %>%\n",
    "    # Clean ssbfrut2\n",
    "    mutate(ssbfrut2 = ifelse(ssbfrut2 > 300, (ssbfrut2 - 300)/30, ssbfrut2)) %>%\n",
    "    mutate(ssbfrut2 = ifelse(ssbfrut2 == 300, 0.5/30, ssbfrut2)) %>%\n",
    "    mutate(ssbfrut2 = ifelse((ssbfrut2 > 200 & ssbfrut2 < 300), (ssbfrut2 - 200)/7, ssbfrut2)) %>%\n",
    "    mutate(ssbfrut2 = ifelse((ssbfrut2 > 100 & ssbfrut2 < 200), ssbfrut2 - 100, ssbfrut2)) %>%\n",
    "    # Clean fruitju1\n",
    "    mutate(fruitju1 = ifelse(fruitju1 > 300, (fruitju1 - 300)/30, fruitju1)) %>%\n",
    "    mutate(fruitju1 = ifelse(fruitju1 == 300, 0.5/30, fruitju1)) %>%\n",
    "    mutate(fruitju1 = ifelse((fruitju1 > 200 & fruitju1 < 300), (fruitju1 - 200)/7, fruitju1)) %>%\n",
    "    mutate(fruitju1 = ifelse((fruitju1 > 100 & fruitju1 < 200), fruitju1 - 100, fruitju1))"
   ]
  },
  {
   "cell_type": "code",
   "execution_count": 15,
   "metadata": {},
   "outputs": [],
   "source": [
    "sugar_test <- sugar %>%\n",
    "    select(pdiabtst, prediab1) %>%\n",
    "    filter(!is.na(pdiabtst), !is.na(prediab1)) %>%\n",
    "    group_by(pdiabtst, prediab1) %>%\n",
    "    summarize(count=n(), .groups='keep')"
   ]
  },
  {
   "cell_type": "markdown",
   "metadata": {},
   "source": [
    "Next, we can create a pivot table to analyze both variables and how they correlate between them\n",
    "<p>\n",
    "\n",
    "<table>\n",
    "<thead>\n",
    "  <tr>\n",
    "      <th></th>\n",
    "      <th> Pre-Diabetic </th>\n",
    "      <th></th>\n",
    "      <th></th>\n",
    "  <tr>\n",
    "    <th>Checked Sugar?</th>\n",
    "    <th>No</th>\n",
    "    <th>Yes</th>\n",
    "    <th>Total</th>\n",
    "  </tr>\n",
    "</thead>\n",
    "<tbody>\n",
    "  <tr>\n",
    "    <td>No</td>\n",
    "    <td>80988</td>\n",
    "    <td>3123</td>\n",
    "    <td>84111</td>\n",
    "  </tr>\n",
    "  <tr>\n",
    "    <td>Yes</td>\n",
    "    <td>120386</td>\n",
    "    <td>18921</td>\n",
    "    <td>139307</td>\n",
    "  </tr>\n",
    "  <tr>\n",
    "    <td>Total</td>\n",
    "    <td>201374</td>\n",
    "    <td>22044</td>\n",
    "    <td>223418</td>\n",
    "  </tr>\n",
    "</tbody>\n",
    "</table>"
   ]
  },
  {
   "cell_type": "code",
   "execution_count": 16,
   "metadata": {},
   "outputs": [
    {
     "data": {
      "text/html": [
       "<table class=\"dataframe\">\n",
       "<caption>A data.frame: 5 × 7</caption>\n",
       "<thead>\n",
       "\t<tr><th></th><th scope=col>ssbsugar</th><th scope=col>ssbfrut2</th><th scope=col>fruitju1</th><th scope=col>prediab1</th><th scope=col>sug_drink</th><th scope=col>sd_consumer</th><th scope=col>fj_consumer</th></tr>\n",
       "\t<tr><th></th><th scope=col>&lt;dbl&gt;</th><th scope=col>&lt;dbl&gt;</th><th scope=col>&lt;dbl&gt;</th><th scope=col>&lt;fct&gt;</th><th scope=col>&lt;dbl&gt;</th><th scope=col>&lt;chr&gt;</th><th scope=col>&lt;chr&gt;</th></tr>\n",
       "</thead>\n",
       "<tbody>\n",
       "\t<tr><th scope=row>1</th><td>0.1666667</td><td>0.1666667</td><td>0.13333333</td><td>Yes</td><td>0.3333333</td><td>No </td><td>No</td></tr>\n",
       "\t<tr><th scope=row>2</th><td>0.4285714</td><td>0.0000000</td><td>0.16666667</td><td>No </td><td>0.4285714</td><td>No </td><td>No</td></tr>\n",
       "\t<tr><th scope=row>3</th><td>0.2857143</td><td>0.2666667</td><td>0.03333333</td><td>No </td><td>0.5523810</td><td>No </td><td>No</td></tr>\n",
       "\t<tr><th scope=row>4</th><td>0.4285714</td><td>0.5000000</td><td>0.28571429</td><td>No </td><td>0.9285714</td><td>No </td><td>No</td></tr>\n",
       "\t<tr><th scope=row>5</th><td>2.0000000</td><td>3.0000000</td><td>0.46666667</td><td>No </td><td>5.0000000</td><td>Yes</td><td>No</td></tr>\n",
       "</tbody>\n",
       "</table>\n"
      ],
      "text/latex": [
       "A data.frame: 5 × 7\n",
       "\\begin{tabular}{r|lllllll}\n",
       "  & ssbsugar & ssbfrut2 & fruitju1 & prediab1 & sug\\_drink & sd\\_consumer & fj\\_consumer\\\\\n",
       "  & <dbl> & <dbl> & <dbl> & <fct> & <dbl> & <chr> & <chr>\\\\\n",
       "\\hline\n",
       "\t1 & 0.1666667 & 0.1666667 & 0.13333333 & Yes & 0.3333333 & No  & No\\\\\n",
       "\t2 & 0.4285714 & 0.0000000 & 0.16666667 & No  & 0.4285714 & No  & No\\\\\n",
       "\t3 & 0.2857143 & 0.2666667 & 0.03333333 & No  & 0.5523810 & No  & No\\\\\n",
       "\t4 & 0.4285714 & 0.5000000 & 0.28571429 & No  & 0.9285714 & No  & No\\\\\n",
       "\t5 & 2.0000000 & 3.0000000 & 0.46666667 & No  & 5.0000000 & Yes & No\\\\\n",
       "\\end{tabular}\n"
      ],
      "text/markdown": [
       "\n",
       "A data.frame: 5 × 7\n",
       "\n",
       "| <!--/--> | ssbsugar &lt;dbl&gt; | ssbfrut2 &lt;dbl&gt; | fruitju1 &lt;dbl&gt; | prediab1 &lt;fct&gt; | sug_drink &lt;dbl&gt; | sd_consumer &lt;chr&gt; | fj_consumer &lt;chr&gt; |\n",
       "|---|---|---|---|---|---|---|---|\n",
       "| 1 | 0.1666667 | 0.1666667 | 0.13333333 | Yes | 0.3333333 | No  | No |\n",
       "| 2 | 0.4285714 | 0.0000000 | 0.16666667 | No  | 0.4285714 | No  | No |\n",
       "| 3 | 0.2857143 | 0.2666667 | 0.03333333 | No  | 0.5523810 | No  | No |\n",
       "| 4 | 0.4285714 | 0.5000000 | 0.28571429 | No  | 0.9285714 | No  | No |\n",
       "| 5 | 2.0000000 | 3.0000000 | 0.46666667 | No  | 5.0000000 | Yes | No |\n",
       "\n"
      ],
      "text/plain": [
       "  ssbsugar  ssbfrut2  fruitju1   prediab1 sug_drink sd_consumer fj_consumer\n",
       "1 0.1666667 0.1666667 0.13333333 Yes      0.3333333 No          No         \n",
       "2 0.4285714 0.0000000 0.16666667 No       0.4285714 No          No         \n",
       "3 0.2857143 0.2666667 0.03333333 No       0.5523810 No          No         \n",
       "4 0.4285714 0.5000000 0.28571429 No       0.9285714 No          No         \n",
       "5 2.0000000 3.0000000 0.46666667 No       5.0000000 Yes         No         "
      ]
     },
     "metadata": {},
     "output_type": "display_data"
    }
   ],
   "source": [
    "sugar <- sugar %>%\n",
    "    select(ssbsugar, ssbfrut2, fruitju1, prediab1) %>%\n",
    "    filter(!is.na(ssbsugar), !is.na(ssbfrut2),\n",
    "           !is.na(fruitju1), !is.na(prediab1)) %>%\n",
    "    mutate(sug_drink = ssbfrut2 + ssbsugar) %>%\n",
    "    mutate(sd_consumer = ifelse(sug_drink > 1, \"Yes\", \"No\")) %>%\n",
    "    mutate(fj_consumer = ifelse(fruitju1 > 1, \"Yes\", \"No\"))\n",
    "\n",
    "\n",
    "head(sugar, n=5)"
   ]
  },
  {
   "cell_type": "markdown",
   "metadata": {},
   "source": [
    "Are pre-diabetics ingesting more sugared beverages than non prediabetics?"
   ]
  },
  {
   "cell_type": "code",
   "execution_count": 17,
   "metadata": {},
   "outputs": [
    {
     "data": {
      "text/html": [
       "<table class=\"dataframe\">\n",
       "<caption>A grouped_df: 8 × 4</caption>\n",
       "<thead>\n",
       "\t<tr><th scope=col>prediab1</th><th scope=col>fj_consumer</th><th scope=col>sd_consumer</th><th scope=col>count</th></tr>\n",
       "\t<tr><th scope=col>&lt;fct&gt;</th><th scope=col>&lt;chr&gt;</th><th scope=col>&lt;chr&gt;</th><th scope=col>&lt;int&gt;</th></tr>\n",
       "</thead>\n",
       "<tbody>\n",
       "\t<tr><td>No </td><td>No </td><td>No </td><td>42364</td></tr>\n",
       "\t<tr><td>No </td><td>No </td><td>Yes</td><td>11525</td></tr>\n",
       "\t<tr><td>No </td><td>Yes</td><td>No </td><td> 1716</td></tr>\n",
       "\t<tr><td>No </td><td>Yes</td><td>Yes</td><td>  666</td></tr>\n",
       "\t<tr><td>Yes</td><td>No </td><td>No </td><td> 4639</td></tr>\n",
       "\t<tr><td>Yes</td><td>No </td><td>Yes</td><td> 1108</td></tr>\n",
       "\t<tr><td>Yes</td><td>Yes</td><td>No </td><td>  144</td></tr>\n",
       "\t<tr><td>Yes</td><td>Yes</td><td>Yes</td><td>   49</td></tr>\n",
       "</tbody>\n",
       "</table>\n"
      ],
      "text/latex": [
       "A grouped\\_df: 8 × 4\n",
       "\\begin{tabular}{llll}\n",
       " prediab1 & fj\\_consumer & sd\\_consumer & count\\\\\n",
       " <fct> & <chr> & <chr> & <int>\\\\\n",
       "\\hline\n",
       "\t No  & No  & No  & 42364\\\\\n",
       "\t No  & No  & Yes & 11525\\\\\n",
       "\t No  & Yes & No  &  1716\\\\\n",
       "\t No  & Yes & Yes &   666\\\\\n",
       "\t Yes & No  & No  &  4639\\\\\n",
       "\t Yes & No  & Yes &  1108\\\\\n",
       "\t Yes & Yes & No  &   144\\\\\n",
       "\t Yes & Yes & Yes &    49\\\\\n",
       "\\end{tabular}\n"
      ],
      "text/markdown": [
       "\n",
       "A grouped_df: 8 × 4\n",
       "\n",
       "| prediab1 &lt;fct&gt; | fj_consumer &lt;chr&gt; | sd_consumer &lt;chr&gt; | count &lt;int&gt; |\n",
       "|---|---|---|---|\n",
       "| No  | No  | No  | 42364 |\n",
       "| No  | No  | Yes | 11525 |\n",
       "| No  | Yes | No  |  1716 |\n",
       "| No  | Yes | Yes |   666 |\n",
       "| Yes | No  | No  |  4639 |\n",
       "| Yes | No  | Yes |  1108 |\n",
       "| Yes | Yes | No  |   144 |\n",
       "| Yes | Yes | Yes |    49 |\n",
       "\n"
      ],
      "text/plain": [
       "  prediab1 fj_consumer sd_consumer count\n",
       "1 No       No          No          42364\n",
       "2 No       No          Yes         11525\n",
       "3 No       Yes         No           1716\n",
       "4 No       Yes         Yes           666\n",
       "5 Yes      No          No           4639\n",
       "6 Yes      No          Yes          1108\n",
       "7 Yes      Yes         No            144\n",
       "8 Yes      Yes         Yes            49"
      ]
     },
     "metadata": {},
     "output_type": "display_data"
    }
   ],
   "source": [
    "sugar_fj_sd <- sugar %>%\n",
    "    select(prediab1, fj_consumer, sd_consumer) %>%\n",
    "    group_by(prediab1, fj_consumer, sd_consumer) %>%\n",
    "    summarise(count=n(), .groups='keep')\n",
    "sugar_fj_sd"
   ]
  },
  {
   "cell_type": "markdown",
   "metadata": {},
   "source": [
    "Finally let's do some summary statistics over the variables used"
   ]
  },
  {
   "cell_type": "code",
   "execution_count": 18,
   "metadata": {},
   "outputs": [
    {
     "name": "stdout",
     "output_type": "stream",
     "text": [
      "ssbsugar"
     ]
    },
    {
     "data": {
      "text/html": [
       "<table class=\"dataframe\">\n",
       "<caption>A data.frame: 1 × 6</caption>\n",
       "<thead>\n",
       "\t<tr><th scope=col>min</th><th scope=col>median</th><th scope=col>mean</th><th scope=col>max</th><th scope=col>sd</th><th scope=col>N</th></tr>\n",
       "\t<tr><th scope=col>&lt;dbl&gt;</th><th scope=col>&lt;dbl&gt;</th><th scope=col>&lt;dbl&gt;</th><th scope=col>&lt;dbl&gt;</th><th scope=col>&lt;dbl&gt;</th><th scope=col>&lt;int&gt;</th></tr>\n",
       "</thead>\n",
       "<tbody>\n",
       "\t<tr><td>0</td><td>0.06666667</td><td>0.4108558</td><td>30</td><td>0.9350428</td><td>62211</td></tr>\n",
       "</tbody>\n",
       "</table>\n"
      ],
      "text/latex": [
       "A data.frame: 1 × 6\n",
       "\\begin{tabular}{llllll}\n",
       " min & median & mean & max & sd & N\\\\\n",
       " <dbl> & <dbl> & <dbl> & <dbl> & <dbl> & <int>\\\\\n",
       "\\hline\n",
       "\t 0 & 0.06666667 & 0.4108558 & 30 & 0.9350428 & 62211\\\\\n",
       "\\end{tabular}\n"
      ],
      "text/markdown": [
       "\n",
       "A data.frame: 1 × 6\n",
       "\n",
       "| min &lt;dbl&gt; | median &lt;dbl&gt; | mean &lt;dbl&gt; | max &lt;dbl&gt; | sd &lt;dbl&gt; | N &lt;int&gt; |\n",
       "|---|---|---|---|---|---|\n",
       "| 0 | 0.06666667 | 0.4108558 | 30 | 0.9350428 | 62211 |\n",
       "\n"
      ],
      "text/plain": [
       "  min median     mean      max sd        N    \n",
       "1 0   0.06666667 0.4108558 30  0.9350428 62211"
      ]
     },
     "metadata": {},
     "output_type": "display_data"
    },
    {
     "name": "stdout",
     "output_type": "stream",
     "text": [
      "ssbfrut2"
     ]
    },
    {
     "data": {
      "text/html": [
       "<table class=\"dataframe\">\n",
       "<caption>A data.frame: 1 × 6</caption>\n",
       "<thead>\n",
       "\t<tr><th scope=col>min</th><th scope=col>median</th><th scope=col>mean</th><th scope=col>max</th><th scope=col>sd</th><th scope=col>N</th></tr>\n",
       "\t<tr><th scope=col>&lt;dbl&gt;</th><th scope=col>&lt;dbl&gt;</th><th scope=col>&lt;dbl&gt;</th><th scope=col>&lt;dbl&gt;</th><th scope=col>&lt;dbl&gt;</th><th scope=col>&lt;int&gt;</th></tr>\n",
       "</thead>\n",
       "<tbody>\n",
       "\t<tr><td>0</td><td>0.03333333</td><td>0.3327316</td><td>30</td><td>0.8118954</td><td>62211</td></tr>\n",
       "</tbody>\n",
       "</table>\n"
      ],
      "text/latex": [
       "A data.frame: 1 × 6\n",
       "\\begin{tabular}{llllll}\n",
       " min & median & mean & max & sd & N\\\\\n",
       " <dbl> & <dbl> & <dbl> & <dbl> & <dbl> & <int>\\\\\n",
       "\\hline\n",
       "\t 0 & 0.03333333 & 0.3327316 & 30 & 0.8118954 & 62211\\\\\n",
       "\\end{tabular}\n"
      ],
      "text/markdown": [
       "\n",
       "A data.frame: 1 × 6\n",
       "\n",
       "| min &lt;dbl&gt; | median &lt;dbl&gt; | mean &lt;dbl&gt; | max &lt;dbl&gt; | sd &lt;dbl&gt; | N &lt;int&gt; |\n",
       "|---|---|---|---|---|---|\n",
       "| 0 | 0.03333333 | 0.3327316 | 30 | 0.8118954 | 62211 |\n",
       "\n"
      ],
      "text/plain": [
       "  min median     mean      max sd        N    \n",
       "1 0   0.03333333 0.3327316 30  0.8118954 62211"
      ]
     },
     "metadata": {},
     "output_type": "display_data"
    },
    {
     "name": "stdout",
     "output_type": "stream",
     "text": [
      "fruitju1"
     ]
    },
    {
     "data": {
      "text/html": [
       "<table class=\"dataframe\">\n",
       "<caption>A data.frame: 1 × 6</caption>\n",
       "<thead>\n",
       "\t<tr><th scope=col>min</th><th scope=col>median</th><th scope=col>mean</th><th scope=col>max</th><th scope=col>sd</th><th scope=col>N</th></tr>\n",
       "\t<tr><th scope=col>&lt;dbl&gt;</th><th scope=col>&lt;dbl&gt;</th><th scope=col>&lt;dbl&gt;</th><th scope=col>&lt;dbl&gt;</th><th scope=col>&lt;dbl&gt;</th><th scope=col>&lt;int&gt;</th></tr>\n",
       "</thead>\n",
       "<tbody>\n",
       "\t<tr><td>0</td><td>0.1333333</td><td>0.3985028</td><td>31</td><td>0.6758273</td><td>62211</td></tr>\n",
       "</tbody>\n",
       "</table>\n"
      ],
      "text/latex": [
       "A data.frame: 1 × 6\n",
       "\\begin{tabular}{llllll}\n",
       " min & median & mean & max & sd & N\\\\\n",
       " <dbl> & <dbl> & <dbl> & <dbl> & <dbl> & <int>\\\\\n",
       "\\hline\n",
       "\t 0 & 0.1333333 & 0.3985028 & 31 & 0.6758273 & 62211\\\\\n",
       "\\end{tabular}\n"
      ],
      "text/markdown": [
       "\n",
       "A data.frame: 1 × 6\n",
       "\n",
       "| min &lt;dbl&gt; | median &lt;dbl&gt; | mean &lt;dbl&gt; | max &lt;dbl&gt; | sd &lt;dbl&gt; | N &lt;int&gt; |\n",
       "|---|---|---|---|---|---|\n",
       "| 0 | 0.1333333 | 0.3985028 | 31 | 0.6758273 | 62211 |\n",
       "\n"
      ],
      "text/plain": [
       "  min median    mean      max sd        N    \n",
       "1 0   0.1333333 0.3985028 31  0.6758273 62211"
      ]
     },
     "metadata": {},
     "output_type": "display_data"
    },
    {
     "name": "stdout",
     "output_type": "stream",
     "text": [
      "sug_drink"
     ]
    },
    {
     "data": {
      "text/html": [
       "<table class=\"dataframe\">\n",
       "<caption>A data.frame: 1 × 6</caption>\n",
       "<thead>\n",
       "\t<tr><th scope=col>min</th><th scope=col>median</th><th scope=col>mean</th><th scope=col>max</th><th scope=col>sd</th><th scope=col>N</th></tr>\n",
       "\t<tr><th scope=col>&lt;dbl&gt;</th><th scope=col>&lt;dbl&gt;</th><th scope=col>&lt;dbl&gt;</th><th scope=col>&lt;dbl&gt;</th><th scope=col>&lt;dbl&gt;</th><th scope=col>&lt;int&gt;</th></tr>\n",
       "</thead>\n",
       "<tbody>\n",
       "\t<tr><td>0</td><td>0.1761905</td><td>0.7435874</td><td>33</td><td>1.374101</td><td>62211</td></tr>\n",
       "</tbody>\n",
       "</table>\n"
      ],
      "text/latex": [
       "A data.frame: 1 × 6\n",
       "\\begin{tabular}{llllll}\n",
       " min & median & mean & max & sd & N\\\\\n",
       " <dbl> & <dbl> & <dbl> & <dbl> & <dbl> & <int>\\\\\n",
       "\\hline\n",
       "\t 0 & 0.1761905 & 0.7435874 & 33 & 1.374101 & 62211\\\\\n",
       "\\end{tabular}\n"
      ],
      "text/markdown": [
       "\n",
       "A data.frame: 1 × 6\n",
       "\n",
       "| min &lt;dbl&gt; | median &lt;dbl&gt; | mean &lt;dbl&gt; | max &lt;dbl&gt; | sd &lt;dbl&gt; | N &lt;int&gt; |\n",
       "|---|---|---|---|---|---|\n",
       "| 0 | 0.1761905 | 0.7435874 | 33 | 1.374101 | 62211 |\n",
       "\n"
      ],
      "text/plain": [
       "  min median    mean      max sd       N    \n",
       "1 0   0.1761905 0.7435874 33  1.374101 62211"
      ]
     },
     "metadata": {},
     "output_type": "display_data"
    }
   ],
   "source": [
    "cat(\"ssbsugar\")\n",
    "sugar %>%\n",
    "    summarise(min=min(ssbsugar), median=median(ssbsugar), mean=mean(ssbsugar), max=max(ssbsugar), sd=sd(ssbsugar), N=n())\n",
    "cat(\"ssbfrut2\")\n",
    "sugar %>%\n",
    "    summarise(min=min(ssbfrut2),  median=median(ssbfrut2), mean=mean(ssbfrut2), max=max(ssbfrut2), sd=sd(ssbfrut2), N=n())\n",
    "cat(\"fruitju1\")\n",
    "sugar %>%\n",
    "    summarise(min=min(fruitju1),  median=median(fruitju1), mean=mean(fruitju1), max=max(fruitju1), sd=sd(fruitju1), N=n())\n",
    "cat(\"sug_drink\")\n",
    "sugar %>%\n",
    "    summarise(min=min(sug_drink), median=median(sug_drink), mean=mean(sug_drink), max=max(sug_drink), sd=sd(sug_drink), N=n())"
   ]
  },
  {
   "cell_type": "markdown",
   "metadata": {},
   "source": [
    "#### Plots\n",
    "- How are sugared beverages related with fruitjuice?\n",
    "- How are the prediabetics distributed between fruit juice and sugared beverages consumers?"
   ]
  },
  {
   "cell_type": "code",
   "execution_count": 19,
   "metadata": {},
   "outputs": [
    {
     "name": "stderr",
     "output_type": "stream",
     "text": [
      "Warning message:\n",
      "“Removed 162 rows containing missing values (geom_point).”\n"
     ]
    },
    {
     "data": {
      "image/png": "[encoded data removed]",
      "text/plain": [
       "plot without title"
      ]
     },
     "metadata": {
      "image/png": {
       "height": 420,
       "width": 420
      }
     },
     "output_type": "display_data"
    }
   ],
   "source": [
    "ggplot(sugar, aes(x=sug_drink, y=fruitju1)) +\n",
    "  geom_point(size=1) + xlim(0, 10) + ylim(0,10)"
   ]
  },
  {
   "cell_type": "code",
   "execution_count": 20,
   "metadata": {},
   "outputs": [
    {
     "data": {
      "image/png": "[encoded data removed]",
      "text/plain": [
       "plot without title"
      ]
     },
     "metadata": {
      "image/png": {
       "height": 420,
       "width": 420
      }
     },
     "output_type": "display_data"
    }
   ],
   "source": [
    "# Stacked + percent\n",
    "ggplot(sugar_fj_sd, aes(fill=prediab1, y=count, x=sd_consumer)) + \n",
    "    geom_bar(position=\"fill\", stat=\"identity\")"
   ]
  },
  {
   "cell_type": "code",
   "execution_count": 21,
   "metadata": {},
   "outputs": [
    {
     "data": {
      "image/png": "[encoded data removed]",
      "text/plain": [
       "plot without title"
      ]
     },
     "metadata": {
      "image/png": {
       "height": 420,
       "width": 420
      }
     },
     "output_type": "display_data"
    }
   ],
   "source": [
    "# Stacked + percent\n",
    "ggplot(sugar_fj_sd, aes(fill=prediab1, y=count, x=fj_consumer)) + \n",
    "    geom_bar(position=\"fill\", stat=\"identity\")"
   ]
  },
  {
   "cell_type": "markdown",
   "metadata": {},
   "source": [
    "### Conclusions\n",
    "\n",
    "**TODO**: Make some conclusions from data"
   ]
  },
  {
   "cell_type": "markdown",
   "metadata": {},
   "source": [
    "## Research question 3:\n",
    "- Do exercise reduce asthma symthomps? Does a flu shot helps to reduce the asthma symthomps? Are those variables somehow correlated?\n",
    "\n",
    "### Summary Statistics\n",
    "\n",
    "The following variables were selected from the codebook:\n",
    "\n",
    "- asymptom: Asthma Symptoms During Past 30 Days\n",
    "- exeroft1: How Many Times Walking, Running, Jogging, Or Swimming\n",
    "- flushot6: Adult Flu Shot/Spray Past 12 Mos\n",
    "\n",
    "From the 3 variable groups, the most important for this kind of analysis includes those which tracks if the patient has asthma symptoms regularly, as well as if he/she exercises regularly. At the same time the flu inmunized group will be used for comparison, to see if this has an effect in the asthma symptoms."
   ]
  },
  {
   "cell_type": "code",
   "execution_count": 22,
   "metadata": {},
   "outputs": [
    {
     "name": "stdout",
     "output_type": "stream",
     "text": [
      "'data.frame':\t491775 obs. of  3 variables:\n",
      " $ asymptom: Factor w/ 6 levels \"Not at any time\",..: 5 NA NA NA NA NA NA NA NA NA ...\n",
      " $ exeroft1: int  NA 105 NA 205 NA 102 220 102 102 220 ...\n",
      " $ flushot6: Factor w/ 2 levels \"Yes\",\"No\": 2 1 1 2 2 1 2 1 1 2 ...\n"
     ]
    }
   ],
   "source": [
    "asthma <- brfss2013 %>%\n",
    "    select (asymptom, exeroft1, flushot6)\n",
    "\n",
    "str(asthma)"
   ]
  },
  {
   "cell_type": "markdown",
   "metadata": {},
   "source": [
    "We have to convert the exercise frequencies to per week values, and clean the dataframe. Unfortunately as it'll be seen, the group to be analyzed is small."
   ]
  },
  {
   "cell_type": "code",
   "execution_count": 23,
   "metadata": {},
   "outputs": [
    {
     "data": {
      "text/html": [
       "<table class=\"dataframe\">\n",
       "<caption>A data.frame: 10 × 3</caption>\n",
       "<thead>\n",
       "\t<tr><th></th><th scope=col>asymptom</th><th scope=col>exeroft1</th><th scope=col>flushot6</th></tr>\n",
       "\t<tr><th></th><th scope=col>&lt;fct&gt;</th><th scope=col>&lt;dbl&gt;</th><th scope=col>&lt;fct&gt;</th></tr>\n",
       "</thead>\n",
       "<tbody>\n",
       "\t<tr><th scope=row>1</th><td>Every day, all the time        </td><td>5.00</td><td>Yes</td></tr>\n",
       "\t<tr><th scope=row>2</th><td>Once or twice a week           </td><td>3.50</td><td>No </td></tr>\n",
       "\t<tr><th scope=row>3</th><td>Less than once a week          </td><td>7.00</td><td>Yes</td></tr>\n",
       "\t<tr><th scope=row>4</th><td>Not at any time                </td><td>3.00</td><td>Yes</td></tr>\n",
       "\t<tr><th scope=row>5</th><td>Every day, but not all the time</td><td>0.25</td><td>Yes</td></tr>\n",
       "\t<tr><th scope=row>6</th><td>Not at any time                </td><td>4.00</td><td>No </td></tr>\n",
       "\t<tr><th scope=row>7</th><td>Once or twice a week           </td><td>1.00</td><td>Yes</td></tr>\n",
       "\t<tr><th scope=row>8</th><td>Less than once a week          </td><td>1.50</td><td>No </td></tr>\n",
       "\t<tr><th scope=row>9</th><td>Once or twice a week           </td><td>2.00</td><td>No </td></tr>\n",
       "\t<tr><th scope=row>10</th><td>Once or twice a week           </td><td>7.00</td><td>Yes</td></tr>\n",
       "</tbody>\n",
       "</table>\n"
      ],
      "text/latex": [
       "A data.frame: 10 × 3\n",
       "\\begin{tabular}{r|lll}\n",
       "  & asymptom & exeroft1 & flushot6\\\\\n",
       "  & <fct> & <dbl> & <fct>\\\\\n",
       "\\hline\n",
       "\t1 & Every day, all the time         & 5.00 & Yes\\\\\n",
       "\t2 & Once or twice a week            & 3.50 & No \\\\\n",
       "\t3 & Less than once a week           & 7.00 & Yes\\\\\n",
       "\t4 & Not at any time                 & 3.00 & Yes\\\\\n",
       "\t5 & Every day, but not all the time & 0.25 & Yes\\\\\n",
       "\t6 & Not at any time                 & 4.00 & No \\\\\n",
       "\t7 & Once or twice a week            & 1.00 & Yes\\\\\n",
       "\t8 & Less than once a week           & 1.50 & No \\\\\n",
       "\t9 & Once or twice a week            & 2.00 & No \\\\\n",
       "\t10 & Once or twice a week            & 7.00 & Yes\\\\\n",
       "\\end{tabular}\n"
      ],
      "text/markdown": [
       "\n",
       "A data.frame: 10 × 3\n",
       "\n",
       "| <!--/--> | asymptom &lt;fct&gt; | exeroft1 &lt;dbl&gt; | flushot6 &lt;fct&gt; |\n",
       "|---|---|---|---|\n",
       "| 1 | Every day, all the time         | 5.00 | Yes |\n",
       "| 2 | Once or twice a week            | 3.50 | No  |\n",
       "| 3 | Less than once a week           | 7.00 | Yes |\n",
       "| 4 | Not at any time                 | 3.00 | Yes |\n",
       "| 5 | Every day, but not all the time | 0.25 | Yes |\n",
       "| 6 | Not at any time                 | 4.00 | No  |\n",
       "| 7 | Once or twice a week            | 1.00 | Yes |\n",
       "| 8 | Less than once a week           | 1.50 | No  |\n",
       "| 9 | Once or twice a week            | 2.00 | No  |\n",
       "| 10 | Once or twice a week            | 7.00 | Yes |\n",
       "\n"
      ],
      "text/plain": [
       "   asymptom                        exeroft1 flushot6\n",
       "1  Every day, all the time         5.00     Yes     \n",
       "2  Once or twice a week            3.50     No      \n",
       "3  Less than once a week           7.00     Yes     \n",
       "4  Not at any time                 3.00     Yes     \n",
       "5  Every day, but not all the time 0.25     Yes     \n",
       "6  Not at any time                 4.00     No      \n",
       "7  Once or twice a week            1.00     Yes     \n",
       "8  Less than once a week           1.50     No      \n",
       "9  Once or twice a week            2.00     No      \n",
       "10 Once or twice a week            7.00     Yes     "
      ]
     },
     "metadata": {},
     "output_type": "display_data"
    },
    {
     "data": {
      "text/html": [
       "<style>\n",
       ".list-inline {list-style: none; margin:0; padding: 0}\n",
       ".list-inline>li {display: inline-block}\n",
       ".list-inline>li:not(:last-child)::after {content: \"\\00b7\"; padding: 0 .5ex}\n",
       "</style>\n",
       "<ol class=list-inline><li>579</li><li>3</li></ol>\n"
      ],
      "text/latex": [
       "\\begin{enumerate*}\n",
       "\\item 579\n",
       "\\item 3\n",
       "\\end{enumerate*}\n"
      ],
      "text/markdown": [
       "1. 579\n",
       "2. 3\n",
       "\n",
       "\n"
      ],
      "text/plain": [
       "[1] 579   3"
      ]
     },
     "metadata": {},
     "output_type": "display_data"
    }
   ],
   "source": [
    "asthma <- asthma %>%\n",
    "    mutate(exeroft1 = ifelse(exeroft1 > 200, (exeroft1 - 200)/4, exeroft1)) %>%\n",
    "    mutate(exeroft1 = ifelse(exeroft1 == 200, 0, exeroft1)) %>%\n",
    "    mutate(exeroft1 = ifelse((exeroft1 > 100 & exeroft1 < 200), exeroft1 - 100, exeroft1)) %>%\n",
    "    filter(!is.na(asymptom), !is.na(exeroft1), !is.na(flushot6))\n",
    "head(asthma, n=10)\n",
    "dim(asthma)"
   ]
  },
  {
   "cell_type": "markdown",
   "metadata": {},
   "source": [
    "**TODO**: Comment of the dataframe dimensions. \n",
    "\n",
    "Let's count the people per category in the groups, and check how much exercise do they take"
   ]
  },
  {
   "cell_type": "code",
   "execution_count": 24,
   "metadata": {},
   "outputs": [
    {
     "data": {
      "text/html": [
       "<table class=\"dataframe\">\n",
       "<caption>A tibble: 6 × 4</caption>\n",
       "<thead>\n",
       "\t<tr><th scope=col>asymptom</th><th scope=col>count</th><th scope=col>exercise_median</th><th scope=col>exercise_mean</th></tr>\n",
       "\t<tr><th scope=col>&lt;fct&gt;</th><th scope=col>&lt;int&gt;</th><th scope=col>&lt;dbl&gt;</th><th scope=col>&lt;dbl&gt;</th></tr>\n",
       "</thead>\n",
       "<tbody>\n",
       "\t<tr><td>Not at any time                           </td><td>182</td><td>3.75</td><td>4.219780</td></tr>\n",
       "\t<tr><td>Less than once a week                     </td><td>121</td><td>3.00</td><td>3.396694</td></tr>\n",
       "\t<tr><td>Once or twice a week                      </td><td>122</td><td>3.00</td><td>3.727459</td></tr>\n",
       "\t<tr><td>More than 2 times a week, but not everyday</td><td> 57</td><td>3.00</td><td>3.153509</td></tr>\n",
       "\t<tr><td>Every day, but not all the time           </td><td> 49</td><td>3.00</td><td>3.709184</td></tr>\n",
       "\t<tr><td>Every day, all the time                   </td><td> 48</td><td>3.00</td><td>3.968750</td></tr>\n",
       "</tbody>\n",
       "</table>\n"
      ],
      "text/latex": [
       "A tibble: 6 × 4\n",
       "\\begin{tabular}{llll}\n",
       " asymptom & count & exercise\\_median & exercise\\_mean\\\\\n",
       " <fct> & <int> & <dbl> & <dbl>\\\\\n",
       "\\hline\n",
       "\t Not at any time                            & 182 & 3.75 & 4.219780\\\\\n",
       "\t Less than once a week                      & 121 & 3.00 & 3.396694\\\\\n",
       "\t Once or twice a week                       & 122 & 3.00 & 3.727459\\\\\n",
       "\t More than 2 times a week, but not everyday &  57 & 3.00 & 3.153509\\\\\n",
       "\t Every day, but not all the time            &  49 & 3.00 & 3.709184\\\\\n",
       "\t Every day, all the time                    &  48 & 3.00 & 3.968750\\\\\n",
       "\\end{tabular}\n"
      ],
      "text/markdown": [
       "\n",
       "A tibble: 6 × 4\n",
       "\n",
       "| asymptom &lt;fct&gt; | count &lt;int&gt; | exercise_median &lt;dbl&gt; | exercise_mean &lt;dbl&gt; |\n",
       "|---|---|---|---|\n",
       "| Not at any time                            | 182 | 3.75 | 4.219780 |\n",
       "| Less than once a week                      | 121 | 3.00 | 3.396694 |\n",
       "| Once or twice a week                       | 122 | 3.00 | 3.727459 |\n",
       "| More than 2 times a week, but not everyday |  57 | 3.00 | 3.153509 |\n",
       "| Every day, but not all the time            |  49 | 3.00 | 3.709184 |\n",
       "| Every day, all the time                    |  48 | 3.00 | 3.968750 |\n",
       "\n"
      ],
      "text/plain": [
       "  asymptom                                   count exercise_median\n",
       "1 Not at any time                            182   3.75           \n",
       "2 Less than once a week                      121   3.00           \n",
       "3 Once or twice a week                       122   3.00           \n",
       "4 More than 2 times a week, but not everyday  57   3.00           \n",
       "5 Every day, but not all the time             49   3.00           \n",
       "6 Every day, all the time                     48   3.00           \n",
       "  exercise_mean\n",
       "1 4.219780     \n",
       "2 3.396694     \n",
       "3 3.727459     \n",
       "4 3.153509     \n",
       "5 3.709184     \n",
       "6 3.968750     "
      ]
     },
     "metadata": {},
     "output_type": "display_data"
    }
   ],
   "source": [
    "asthma_exercise <- asthma %>%\n",
    "    group_by(asymptom) %>%\n",
    "    summarise(count=n(), exercise_median = median(exeroft1), exercise_mean = mean(exeroft1))\n",
    "asthma_exercise"
   ]
  },
  {
   "cell_type": "code",
   "execution_count": 25,
   "metadata": {},
   "outputs": [],
   "source": [
    "asthma_flushot = asthma %>%\n",
    "    group_by(asymptom, flushot6) %>%\n",
    "    summarise(count=n(), .groups='keep')"
   ]
  },
  {
   "cell_type": "markdown",
   "metadata": {},
   "source": [
    "### Plot\n",
    "\n",
    "#### Exercise distribution"
   ]
  },
  {
   "cell_type": "code",
   "execution_count": 26,
   "metadata": {},
   "outputs": [
    {
     "data": {
      "image/png": "[encoded data removed]",
      "text/plain": [
       "plot without title"
      ]
     },
     "metadata": {
      "image/png": {
       "height": 420,
       "width": 420
      }
     },
     "output_type": "display_data"
    }
   ],
   "source": [
    "ggplot(asthma, aes(x=exeroft1)) + geom_histogram(binwidth = .3)"
   ]
  },
  {
   "cell_type": "code",
   "execution_count": 27,
   "metadata": {},
   "outputs": [
    {
     "data": {
      "image/png": "[encoded data removed]",
      "text/plain": [
       "plot without title"
      ]
     },
     "metadata": {
      "image/png": {
       "height": 480,
       "width": 720
      }
     },
     "output_type": "display_data"
    }
   ],
   "source": [
    "options(repr.plot.width=12, repr.plot.height=8)\n",
    "# Stacked + percent\n",
    "ggplot(asthma_exercise, aes(y=count, x=asymptom, fill=asymptom)) + \n",
    "    geom_bar(stat=\"identity\") + \n",
    "    scale_x_discrete(labels=c('0', '<1', '1-2', '>2', 'e/d na/t', 'e/d a/t'),\n",
    "                     name='symptoms frequency per week')"
   ]
  },
  {
   "cell_type": "code",
   "execution_count": 28,
   "metadata": {},
   "outputs": [
    {
     "data": {
      "image/png": "[encoded data removed]",
      "text/plain": [
       "plot without title"
      ]
     },
     "metadata": {
      "image/png": {
       "height": 480,
       "width": 720
      }
     },
     "output_type": "display_data"
    }
   ],
   "source": [
    "# Stacked + percent\n",
    "ggplot(asthma_exercise, aes(y=exercise_median, x=asymptom, fill=asymptom)) + \n",
    "    geom_bar(stat=\"identity\") + \n",
    "    scale_x_discrete(labels=c('0', '<1', '1-2', '>2', 'e/d na/t', 'e/d a/t'),\n",
    "                     name='symptoms frequency per week')"
   ]
  },
  {
   "cell_type": "code",
   "execution_count": 29,
   "metadata": {},
   "outputs": [
    {
     "data": {
      "image/png": "[encoded data removed]",
      "text/plain": [
       "plot without title"
      ]
     },
     "metadata": {
      "image/png": {
       "height": 480,
       "width": 720
      }
     },
     "output_type": "display_data"
    }
   ],
   "source": [
    "# Stacked + percent\n",
    "ggplot(asthma_flushot, aes(fill=flushot6, y=count, x=asymptom)) + \n",
    "    geom_bar(position=\"fill\", stat=\"identity\") + \n",
    "    scale_x_discrete(labels=c('0', '<1', '1-2', '>2', 'e/d na/t', 'e/d a/t'),\n",
    "                     name='symptoms frequency per week')\n",
    "    "
   ]
  },
  {
   "cell_type": "markdown",
   "metadata": {},
   "source": [
    "### Conclusions"
   ]
  },
  {
   "cell_type": "code",
   "execution_count": null,
   "metadata": {},
   "outputs": [],
   "source": []
  }
 ],
 "metadata": {
  "anaconda-cloud": "",
  "kernelspec": {
   "display_name": "R",
   "language": "R",
   "name": "ir"
  },
  "language_info": {
   "codemirror_mode": "r",
   "file_extension": ".r",
   "mimetype": "text/x-r-source",
   "name": "R",
   "pygments_lexer": "r",
   "version": "4.1.0"
  }
 },
 "nbformat": 4,
 "nbformat_minor": 1
}
