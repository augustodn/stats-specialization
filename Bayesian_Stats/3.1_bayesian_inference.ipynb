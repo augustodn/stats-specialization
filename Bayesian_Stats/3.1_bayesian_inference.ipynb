{
 "cells": [
  {
   "cell_type": "markdown",
   "id": "c1914c60",
   "metadata": {},
   "source": [
    "<div class=\"instructions\">\n",
    "Complete all **Exercises**, and submit answers to **Questions** in the **Quiz: Week 3 Lab** on Coursera.\n",
    "</div>\n",
    "\n",
    "## Getting Started\n",
    "\n",
    "In this lab we will review exploratory data analysis using the `ggplot2` \n",
    "package for data visualization, which is included in the `tidyverse`. The main \n",
    "focus of this lab is to be able to obtain and interpret credible intervals and \n",
    "hypothesis tests using Bayesian methods for numerical variables. The data and \n",
    "functions for inference can be found in the companion package for this course, \n",
    "`statsr`. \n",
    "\n",
    "Let's load the necessary packages for this week's lab:"
   ]
  },
  {
   "cell_type": "code",
   "execution_count": 1,
   "id": "c987594c",
   "metadata": {
    "lines_to_next_cell": 2,
    "message": false,
    "name": "load-packages",
    "warning": false
   },
   "outputs": [
    {
     "name": "stderr",
     "output_type": "stream",
     "text": [
      "Loading required package: MASS\n",
      "\n",
      "Loading required package: gld\n",
      "\n",
      "Loading required package: mvtnorm\n",
      "\n",
      "Loading required package: lattice\n",
      "\n",
      "Loading required package: ggplot2\n",
      "\n",
      "\n",
      "Attaching package: ‘PairedData’\n",
      "\n",
      "\n",
      "The following object is masked from ‘package:base’:\n",
      "\n",
      "    summary\n",
      "\n",
      "\n",
      "── \u001b[1mAttaching packages\u001b[22m ─────────────────────────────────────── tidyverse 1.3.1 ──\n",
      "\n",
      "\u001b[32m✔\u001b[39m \u001b[34mtibble \u001b[39m 3.1.2     \u001b[32m✔\u001b[39m \u001b[34mdplyr  \u001b[39m 1.0.7\n",
      "\u001b[32m✔\u001b[39m \u001b[34mtidyr  \u001b[39m 1.1.3     \u001b[32m✔\u001b[39m \u001b[34mstringr\u001b[39m 1.4.0\n",
      "\u001b[32m✔\u001b[39m \u001b[34mreadr  \u001b[39m 2.0.0     \u001b[32m✔\u001b[39m \u001b[34mforcats\u001b[39m 0.5.1\n",
      "\u001b[32m✔\u001b[39m \u001b[34mpurrr  \u001b[39m 0.3.4     \n",
      "\n",
      "── \u001b[1mConflicts\u001b[22m ────────────────────────────────────────── tidyverse_conflicts() ──\n",
      "\u001b[31m✖\u001b[39m \u001b[34mdplyr\u001b[39m::\u001b[32mfilter()\u001b[39m masks \u001b[34mstats\u001b[39m::filter()\n",
      "\u001b[31m✖\u001b[39m \u001b[34mdplyr\u001b[39m::\u001b[32mlag()\u001b[39m    masks \u001b[34mstats\u001b[39m::lag()\n",
      "\u001b[31m✖\u001b[39m \u001b[34mdplyr\u001b[39m::\u001b[32mselect()\u001b[39m masks \u001b[34mMASS\u001b[39m::select()\n",
      "\n",
      "Loading required package: BayesFactor\n",
      "\n",
      "Loading required package: coda\n",
      "\n",
      "Loading required package: Matrix\n",
      "\n",
      "\n",
      "Attaching package: ‘Matrix’\n",
      "\n",
      "\n",
      "The following objects are masked from ‘package:tidyr’:\n",
      "\n",
      "    expand, pack, unpack\n",
      "\n",
      "\n",
      "************\n",
      "Welcome to BayesFactor 0.9.12-4.2. If you have questions, please contact Richard Morey (richarddmorey@gmail.com).\n",
      "\n",
      "Type BFManual() to open the manual.\n",
      "************\n",
      "\n"
     ]
    }
   ],
   "source": [
    "library(PairedData)\n",
    "library(tidyverse)\n",
    "library(statsr)"
   ]
  },
  {
   "cell_type": "markdown",
   "id": "82e02bc2",
   "metadata": {},
   "source": [
    "### The data\n",
    "\n",
    "In 2004, the state of North Carolina released a large data set containing \n",
    "information on births recorded in this state. This data set is useful to \n",
    "researchers studying the relation between habits and practices of expectant \n",
    "mothers and the birth of their children. We will work with a random sample \n",
    "of observations from this data set.\n",
    "\n",
    "Let's load the `nc` data set into our workspace from the `statsr` package."
   ]
  },
  {
   "cell_type": "code",
   "execution_count": 2,
   "id": "a40aaf82",
   "metadata": {
    "name": "load-data"
   },
   "outputs": [],
   "source": [
    "data(nc)"
   ]
  },
  {
   "cell_type": "markdown",
   "id": "149abf02",
   "metadata": {},
   "source": [
    "We have observations on 13 different variables, some categorical and some \n",
    "numerical. The meaning of each variable is as follows.\n",
    "\n",
    "variable         | description\n",
    "---------------- | ---------------------------------------------\n",
    "`fage`           | father's age in years.\n",
    "`mage`           | mother's age in years.\n",
    "`mature`         | maturity status of mother.\n",
    "`weeks`          | length of pregnancy in weeks.\n",
    "`premie`         | whether the birth was classified as premature (premie) or full-term.\n",
    "`visits`         | number of hospital visits during pregnancy.\n",
    "`marital`        | whether mother is `married` or `not married` at birth.\n",
    "`gained`         | weight gained by mother during pregnancy in pounds.\n",
    "`weight`         | weight of the baby at birth in pounds.\n",
    "`lowbirthweight` | whether baby was classified as low birthweight (`low`) or not (`not low`).\n",
    "`gender`         | gender of the baby, `female` or `male`.\n",
    "`habit`          | status of the mother as a `nonsmoker` or a `smoker`.\n",
    "`whitemom`       | whether mom is `white` or `not white`.\n",
    "\n",
    "Note: These data should be familiar for those  who took the \n",
    "*Inferential Statistics* course as part of the *Statistics with R* \n",
    "specialization, where the `nc` data were  used in the \n",
    "**Inference for Numerical Data** lab.\n",
    "\n",
    "### EDA\n",
    "\n",
    "As a first step in the analysis, let's take a look at the variables in the \n",
    "dataset and how `R` has encoded them. The most straight forward way of doing \n",
    "this is using the `glimpse` function."
   ]
  },
  {
   "cell_type": "code",
   "execution_count": 3,
   "id": "f9d61dc4",
   "metadata": {
    "name": "str"
   },
   "outputs": [
    {
     "name": "stdout",
     "output_type": "stream",
     "text": [
      "Rows: 1,000\n",
      "Columns: 13\n",
      "$ fage           \u001b[3m\u001b[90m<int>\u001b[39m\u001b[23m NA, NA, 19, 21, NA, NA, 18, 17, NA, 20, 30, NA, NA, NA,…\n",
      "$ mage           \u001b[3m\u001b[90m<int>\u001b[39m\u001b[23m 13, 14, 15, 15, 15, 15, 15, 15, 16, 16, 16, 16, 16, 16,…\n",
      "$ mature         \u001b[3m\u001b[90m<fct>\u001b[39m\u001b[23m younger mom, younger mom, younger mom, younger mom, you…\n",
      "$ weeks          \u001b[3m\u001b[90m<int>\u001b[39m\u001b[23m 39, 42, 37, 41, 39, 38, 37, 35, 38, 37, 45, 42, 40, 38,…\n",
      "$ premie         \u001b[3m\u001b[90m<fct>\u001b[39m\u001b[23m full term, full term, full term, full term, full term, …\n",
      "$ visits         \u001b[3m\u001b[90m<int>\u001b[39m\u001b[23m 10, 15, 11, 6, 9, 19, 12, 5, 9, 13, 9, 8, 4, 12, 15, 7,…\n",
      "$ marital        \u001b[3m\u001b[90m<fct>\u001b[39m\u001b[23m married, married, married, married, married, married, m…\n",
      "$ gained         \u001b[3m\u001b[90m<int>\u001b[39m\u001b[23m 38, 20, 38, 34, 27, 22, 76, 15, NA, 52, 28, 34, 12, 30,…\n",
      "$ weight         \u001b[3m\u001b[90m<dbl>\u001b[39m\u001b[23m 7.63, 7.88, 6.63, 8.00, 6.38, 5.38, 8.44, 4.69, 8.81, 6…\n",
      "$ lowbirthweight \u001b[3m\u001b[90m<fct>\u001b[39m\u001b[23m not low, not low, not low, not low, not low, low, not l…\n",
      "$ gender         \u001b[3m\u001b[90m<fct>\u001b[39m\u001b[23m male, male, female, male, female, male, male, male, mal…\n",
      "$ habit          \u001b[3m\u001b[90m<fct>\u001b[39m\u001b[23m nonsmoker, nonsmoker, nonsmoker, nonsmoker, nonsmoker, …\n",
      "$ whitemom       \u001b[3m\u001b[90m<fct>\u001b[39m\u001b[23m not white, not white, white, white, not white, not whit…\n"
     ]
    }
   ],
   "source": [
    "glimpse(nc)"
   ]
  },
  {
   "cell_type": "markdown",
   "id": "2592a41a",
   "metadata": {},
   "source": [
    "Another useful function is `summary` which provides the range, quartiles, and \n",
    "means for numeric variables and counts for categorical variables. Additionally, \n",
    "if there are any missing observations (denoted `NA`), summary will provide the \n",
    "number of missing cases for each variable. Note that the output of the summary \n",
    "function can be too long and difficult to parse  visually and interpret if the \n",
    "dataset has a large number of variables."
   ]
  },
  {
   "cell_type": "code",
   "execution_count": 4,
   "id": "a306c6b8",
   "metadata": {
    "name": "nc-summary"
   },
   "outputs": [
    {
     "data": {
      "text/plain": [
       "      fage            mage            mature        weeks             premie   \n",
       " Min.   :14.00   Min.   :13   mature mom :133   Min.   :20.00   full term:846  \n",
       " 1st Qu.:25.00   1st Qu.:22   younger mom:867   1st Qu.:37.00   premie   :152  \n",
       " Median :30.00   Median :27                     Median :39.00   NA's     :  2  \n",
       " Mean   :30.26   Mean   :27                     Mean   :38.33                  \n",
       " 3rd Qu.:35.00   3rd Qu.:32                     3rd Qu.:40.00                  \n",
       " Max.   :55.00   Max.   :50                     Max.   :45.00                  \n",
       " NA's   :171                                    NA's   :2                      \n",
       "     visits            marital        gained          weight      \n",
       " Min.   : 0.0   married    :386   Min.   : 0.00   Min.   : 1.000  \n",
       " 1st Qu.:10.0   not married:613   1st Qu.:20.00   1st Qu.: 6.380  \n",
       " Median :12.0   NA's       :  1   Median :30.00   Median : 7.310  \n",
       " Mean   :12.1                     Mean   :30.33   Mean   : 7.101  \n",
       " 3rd Qu.:15.0                     3rd Qu.:38.00   3rd Qu.: 8.060  \n",
       " Max.   :30.0                     Max.   :85.00   Max.   :11.750  \n",
       " NA's   :9                        NA's   :27                      \n",
       " lowbirthweight    gender          habit          whitemom  \n",
       " low    :111    female:503   nonsmoker:873   not white:284  \n",
       " not low:889    male  :497   smoker   :126   white    :714  \n",
       "                             NA's     :  1   NA's     :  2  \n",
       "                                                            \n",
       "                                                            \n",
       "                                                            \n",
       "                                                            "
      ]
     },
     "metadata": {},
     "output_type": "display_data"
    }
   ],
   "source": [
    "summary(nc)"
   ]
  },
  {
   "cell_type": "markdown",
   "id": "acd10137",
   "metadata": {},
   "source": [
    "As you review the variable summaries, consider which variables are categorical \n",
    "and which are numerical. For numerical variables, are there outliers? If you \n",
    "aren't sure or want to take a closer look at the data, you can make a graph.\n",
    "\n",
    "For example, we can examine the distribution of the amount of weight that a \n",
    "mother `gained` with a histogram."
   ]
  },
  {
   "cell_type": "code",
   "execution_count": 5,
   "id": "2d904da4",
   "metadata": {
    "name": "hist-weight",
    "scrolled": false
   },
   "outputs": [
    {
     "name": "stderr",
     "output_type": "stream",
     "text": [
      "Warning message:\n",
      "“Removed 27 rows containing non-finite values (stat_bin).”\n"
     ]
    },
    {
     "data": {
      "image/png": "[encoded data removed]",
      "text/plain": [
       "plot without title"
      ]
     },
     "metadata": {
      "image/png": {
       "height": 420,
       "width": 420
      }
     },
     "output_type": "display_data"
    }
   ],
   "source": [
    "ggplot(data = nc, aes(x = gained)) +\n",
    "  geom_histogram(binwidth = 5)"
   ]
  },
  {
   "cell_type": "markdown",
   "id": "c9cc3dab",
   "metadata": {},
   "source": [
    "This function says to plot the `gained` variable from the `nc` data frame on the \n",
    "x-axis. It also defines a `geom` (short for geometric object), which describes \n",
    "the type of plot you will produce. We used a binwidth of 5, however you can \n",
    "change this value and see how it affects the shape of the histogram. Also note \n",
    "that the function results in a warning saying that 27 rows have been removed. \n",
    "This is because 27 observations in the data have `NA` values for weight gained. \n",
    "You can confirm this by peeking back at the summary output above. If you need a \n",
    "refresher on using `ggplot2`, you may want to take some time to review the \n",
    "material in the earlier courses in this specialization.\n",
    "\n",
    "<div class=\"question\">\n",
    "How many of the 13 variables are categorical?\n",
    "\n",
    "* 5\n",
    "* 6\n",
    "* 7\n",
    "* 8\n",
    "</div>\n",
    "\n",
    "**Answer**: 7. Obtained from the summary function."
   ]
  },
  {
   "cell_type": "markdown",
   "id": "d782a9bf",
   "metadata": {},
   "source": [
    "We will start with analyzing the weight of the babies at birth, which is \n",
    "contained in the variable `weight`.\n",
    "\n",
    "<div class=\"question\">\n",
    "Use a visualization such as a histogram and summary statistics tools in R to \n",
    "analyze the distribution of `weight`. Which of the following best describes the \n",
    "distribution of `weight`?\n",
    "\n",
    "* Left skewed\n",
    "* Right skewed\n",
    "* Uniformly distributed\n",
    "* Normally distributed\n",
    "</div>\n",
    "\n",
    "**Answer**: A. Slightly Left Skewed"
   ]
  },
  {
   "cell_type": "code",
   "execution_count": 33,
   "id": "7c8345dd",
   "metadata": {
    "name": "Q2-weight-dist"
   },
   "outputs": [
    {
     "data": {
      "image/png": "[encoded data removed]",
      "text/plain": [
       "plot without title"
      ]
     },
     "metadata": {
      "image/png": {
       "height": 420,
       "width": 420
      }
     },
     "output_type": "display_data"
    }
   ],
   "source": [
    "# Type your code for Question 2 here.\n",
    "ggplot(data = nc, aes(x = weight)) +\n",
    "  geom_histogram(binwidth = .3)"
   ]
  },
  {
   "cell_type": "markdown",
   "id": "cc03805c",
   "metadata": {},
   "source": [
    "The variable `premie` in the dataframe classifies births on whether they were \n",
    "full-term or premie. We can use some of the functions of `dplyr` to create a \n",
    "new dataframe to limit the analysis to full term births."
   ]
  },
  {
   "cell_type": "code",
   "execution_count": 8,
   "id": "d9d9e588",
   "metadata": {
    "name": "nc-omitNA"
   },
   "outputs": [
    {
     "data": {
      "text/plain": [
       "      fage            mage            mature        weeks             premie   \n",
       " Min.   :14.00   Min.   :13   mature mom :109   Min.   :37.00   full term:846  \n",
       " 1st Qu.:25.00   1st Qu.:22   younger mom:737   1st Qu.:38.00   premie   :  0  \n",
       " Median :30.00   Median :27                     Median :39.00                  \n",
       " Mean   :30.24   Mean   :27                     Mean   :39.25                  \n",
       " 3rd Qu.:35.00   3rd Qu.:32                     3rd Qu.:40.00                  \n",
       " Max.   :50.00   Max.   :50                     Max.   :45.00                  \n",
       " NA's   :132                                                                   \n",
       "     visits             marital        gained          weight      \n",
       " Min.   : 0.00   married    :312   Min.   : 0.00   Min.   : 3.750  \n",
       " 1st Qu.:10.00   not married:534   1st Qu.:22.00   1st Qu.: 6.750  \n",
       " Median :12.00                     Median :30.00   Median : 7.440  \n",
       " Mean   :12.35                     Mean   :31.13   Mean   : 7.459  \n",
       " 3rd Qu.:15.00                     3rd Qu.:40.00   3rd Qu.: 8.190  \n",
       " Max.   :30.00                     Max.   :85.00   Max.   :11.750  \n",
       " NA's   :6                         NA's   :19                      \n",
       " lowbirthweight    gender          habit          whitemom  \n",
       " low    : 30    female:431   nonsmoker:739   not white:228  \n",
       " not low:816    male  :415   smoker   :107   white    :616  \n",
       "                                             NA's     :  2  \n",
       "                                                            \n",
       "                                                            \n",
       "                                                            \n",
       "                                                            "
      ]
     },
     "metadata": {},
     "output_type": "display_data"
    }
   ],
   "source": [
    "nc_fullterm = filter(nc, premie == 'full term')\n",
    "summary(nc_fullterm)"
   ]
  },
  {
   "cell_type": "markdown",
   "id": "5260f5c4",
   "metadata": {},
   "source": [
    "The `filter` function selects variables all variables from the dataframe `nc` \n",
    "where the condition `premie` equals \"full term\" is met.\n",
    "\n",
    "<div class=\"exercise\">\n",
    "Repeat the visualization and summary with the weights from full term term \n",
    "births. Does `weight` appear to be approximately normally distributed?\n",
    "</div>\n",
    "\n",
    "**Answer**: From the summary statistics, the median and mean are close to each other. Since we have taken some samples from a normal distribution, we expect a normally distributed sample. We can find it out plotting the histogram bars again."
   ]
  },
  {
   "cell_type": "code",
   "execution_count": 34,
   "id": "962ca6a2",
   "metadata": {},
   "outputs": [
    {
     "data": {
      "image/png": "[encoded data removed]",
      "text/plain": [
       "plot without title"
      ]
     },
     "metadata": {
      "image/png": {
       "height": 420,
       "width": 420
      }
     },
     "output_type": "display_data"
    }
   ],
   "source": [
    "# Type your code for Question 2 here.\n",
    "ggplot(data = nc_fullterm, aes(x = weight)) +\n",
    "  geom_histogram(binwidth = .3)"
   ]
  },
  {
   "cell_type": "markdown",
   "id": "d5d72b3f",
   "metadata": {},
   "source": [
    "\n",
    "\n",
    "## Inference\n",
    "\n",
    "Next we will introduce a function `bayes_inference` that we will use for \n",
    "constructing credible intervals and conducting hypothesis tests. The following \n",
    "illustrates how we would use the function `bayes_inference` to construct a 95% \n",
    "credible interval of `weight`; the Bayesian analogue to a 95% confidence \n",
    "interval.\n"
   ]
  },
  {
   "cell_type": "code",
   "execution_count": 9,
   "id": "bae6c983",
   "metadata": {
    "fig.align": "center",
    "name": "mean-inference",
    "out.width": "70%"
   },
   "outputs": [
    {
     "name": "stdout",
     "output_type": "stream",
     "text": [
      "Single numerical variable\n",
      "n = 846, y-bar = 7.4594, s = 1.075\n",
      "(Assuming Zellner-Siow Cauchy prior:  mu | sigma^2 ~ C(7.7, 1*sigma)\n",
      "(Assuming improper Jeffreys prior: p(sigma^2) = 1/sigma^2\n",
      "\n",
      "Posterior Summaries\n",
      "           2.5%      25%       50%       75%      97.5%\n",
      "mu    7.3863257 7.433597  7.459114  7.483879   7.531706\n",
      "sigma 1.0257925 1.059020  1.076487  1.093485   1.129202\n",
      "n_0   0.9010984 9.875219 23.610322 47.099319 126.927564\n",
      "\n",
      "95% CI for mu: (7.3863, 7.5317)\n"
     ]
    },
    {
     "data": {
      "image/png": "[encoded data removed]",
      "text/plain": [
       "plot without title"
      ]
     },
     "metadata": {
      "image/png": {
       "height": 420,
       "width": 420
      }
     },
     "output_type": "display_data"
    }
   ],
   "source": [
    "bayes_inference(y = weight, data = nc_fullterm, \n",
    "                statistic = \"mean\", type = \"ci\",  \n",
    "                prior_family = \"JZS\", mu_0 = 7.7, rscale = 1,\n",
    "                method = \"simulation\",\n",
    "                cred_level = 0.95)"
   ]
  },
  {
   "cell_type": "markdown",
   "id": "83c3b700",
   "metadata": {},
   "source": [
    "Let's look at the meanings of the arguments of this custom function. The first \n",
    "argument `y` specifies the response variable that we are interested in: `weight`.\n",
    "The second argument, `data`, specifies the dataset `nc_fullterm` that contains \n",
    "the variable `weight`. The third argument `statistic` is the sample statistic \n",
    "we're using, or similarly, the population parameter we're estimating. The \n",
    "argument `type` specifies the type of inference that we want: credible \n",
    "intervals (`type = \"ci\"`), or hypothesis tests (`type = \"ht\"`). The argument `prior` \n",
    "indicates which prior distribution for any unknown parameters we will use for inference or testing, with options `JZS` (the Jeffreys-Zellner-Siow prior which \n",
    "is the Jeffreys prior for the unknown variance and a Cauchy prior for the mean), \n",
    "`JUI` (the Jeffreys-Unit Information prior which is the Jeffreys prior for the \n",
    "variance and the Unit Information Gaussian prior for the mean), `NG` (the \n",
    "conjugate Normal-Gamma prior for the mean and inverse of the variance) or `ref` \n",
    "(the independent Jeffreys reference prior for the variance and the uniform prior \n",
    "for the mean). As we would like to use the same prior for constructing credible \n",
    "intervals and hypothesis testing later with results that are robust if we \n",
    "mis-specify the prior, we will use the `JZS` option. For all of the \n",
    "`prior_family` options, we need to specify prior hyperparameters. For `JZS`, \n",
    "the prior on standardized effect $\\mu/\\sigma$ is a Cauchy centered at `mu_0` \n",
    "and with a scale of `rscale`. By default these are zero and one respectively. \n",
    "The average birthweight for full term births in the US in 1994-1996 was 7.7 \n",
    "pounds, which we will use as the center of our prior distribution using the \n",
    "argument `mu_0 = 7.7`. We will use the default argument `rscale = 1`. The method of inference can be either \n",
    "`method = \"theoretical\"` (theoretical based) or `\"simulation\"` based; in the \n",
    "case of the `JZS` prior for credible intervals, `\"simulation\"` is the only \n",
    "option as there are no closed form results.  We \n",
    "also specify that we are looking for the 95% credible interval by setting \n",
    "`cred_level = 0.95`, which is the default. \n",
    "For more information on the `bayes_inference` function see the help file with \n",
    "`?bayes_inference`.\n",
    "\n",
    "<div class=\"question\">\n",
    "Which of the following corresponds to the **95%** credible interval for the \n",
    "average birth weight of all full-term babies born in North Carolina?"
   ]
  },
  {
   "cell_type": "markdown",
   "id": "51b71c65",
   "metadata": {},
   "source": [
    "* There is a 95% chance that babies weigh 7.4 to 7.5 pounds. \n",
    "* There is a 95% chance that the average weights of babies in this sample is between 7.4 an 7.5 pounds. \n",
    "* There is a 95% chance that babies on average weigh 7.4 to 7.5 pounds. \n",
    "\n",
    "**Answer**: C. There is a 95% chance that babies on average weigh 7.4 to 7.5 pounds.\n",
    "\n",
    "We can also conduct a Bayesian hypothesis test by calculating Bayes factors or \n",
    "posterior probabilities. Let us test to see if the average birth weight in North \n",
    "Carolina for full term births is significantly different from the US average of \n",
    "7.7 pounds from 1994-96. The two competing hypotheses are:\n",
    "\n",
    "$$ H_1: \\mu = 7.7 $$\n",
    "$$ H_2: \\mu \\ne 7.7 $$\n",
    "\n",
    "To conduct this hypothesis test, we will need to change the `type` argument to \n",
    "hypothesis test, `type = \"ht\"` in the `bayes_inference` function. In addition, we \n",
    "will need to add the type of alternative hypothesis as an additional argument \n",
    "`alternative = \"twosided\"`. For faster calculation, change the method to \n",
    "`theoretical` and add `show_plot=FALSE`.\n",
    "\n",
    "<div class=\"question\">\n",
    "Based of Jeffrey's scale for interpretation of a Bayes factors how should we \n",
    "describe the evidence against $H_1$ from your results for the hypothesis test?\n",
    "\n",
    "* Not worth a bare mention\n",
    "* Positive\n",
    "* Strong\n",
    "* Very Strong\n",
    "</div>"
   ]
  },
  {
   "cell_type": "code",
   "execution_count": 10,
   "id": "76df58d9",
   "metadata": {
    "name": "Q4-HT-weight"
   },
   "outputs": [],
   "source": [
    "# Type your code for the Exercise here."
   ]
  },
  {
   "cell_type": "markdown",
   "id": "25069c82",
   "metadata": {},
   "source": [
    "## Prediction using MCMC\n",
    "\n",
    "A key advantage of Bayesian statistics is predictions and the probabilistic \n",
    "interpretation of predictions. Much of Bayesian prediction is done using \n",
    "simulation techniques, some of which was discussed near the end of this module. \n",
    "We will go over a simple simulation example to obtain the predictive distribution \n",
    "of the variable `weight` using the output of `bayes_inference` which we will \n",
    "save to the object `weight_post`:"
   ]
  },
  {
   "cell_type": "code",
   "execution_count": 11,
   "id": "d04fa4f9",
   "metadata": {
    "fig.align": "center",
    "name": "weight-inference",
    "out.width": "70%"
   },
   "outputs": [
    {
     "name": "stdout",
     "output_type": "stream",
     "text": [
      "Single numerical variable\n",
      "n = 846, y-bar = 7.4594, s = 1.075\n",
      "(Assuming Zellner-Siow Cauchy prior:  mu | sigma^2 ~ C(7.7, 1*sigma)\n",
      "(Assuming improper Jeffreys prior: p(sigma^2) = 1/sigma^2\n",
      "\n",
      "Posterior Summaries\n",
      "           2.5%      25%       50%       75%      97.5%\n",
      "mu    7.3847062 7.434489  7.459202  7.484019   7.531804\n",
      "sigma 1.0267506 1.058650  1.076142  1.093873   1.128721\n",
      "n_0   0.8956781 9.971760 23.850319 48.296138 124.653601\n",
      "\n",
      "95% CI for mu: (7.3847, 7.5318)\n"
     ]
    },
    {
     "data": {
      "image/png": "[encoded data removed]",
      "text/plain": [
       "plot without title"
      ]
     },
     "metadata": {
      "image/png": {
       "height": 420,
       "width": 420
      }
     },
     "output_type": "display_data"
    }
   ],
   "source": [
    "weight_post = bayes_inference(y = weight, data = nc_fullterm, \n",
    "                              statistic = \"mean\", type = \"ci\",  \n",
    "                              prior_family = \"JZS\", mu_0 = 7.7, rscale = 1,\n",
    "                              method = \"simulation\",\n",
    "                              cred_level = 0.95)"
   ]
  },
  {
   "cell_type": "markdown",
   "id": "a7d0c2dd",
   "metadata": {},
   "source": [
    "The `names` function can list the output or objects that are stored in the object created by `bayes_inference`:"
   ]
  },
  {
   "cell_type": "code",
   "execution_count": 12,
   "id": "5eaeb571",
   "metadata": {},
   "outputs": [
    {
     "data": {
      "text/html": [
       "<style>\n",
       ".list-inline {list-style: none; margin:0; padding: 0}\n",
       ".list-inline>li {display: inline-block}\n",
       ".list-inline>li:not(:last-child)::after {content: \"\\00b7\"; padding: 0 .5ex}\n",
       "</style>\n",
       "<ol class=list-inline><li>'mu'</li><li>'post_den'</li><li>'cred_level'</li><li>'post_mean'</li><li>'post_sd'</li><li>'ci'</li><li>'samples'</li><li>'summary'</li><li>'plot'</li></ol>\n"
      ],
      "text/latex": [
       "\\begin{enumerate*}\n",
       "\\item 'mu'\n",
       "\\item 'post\\_den'\n",
       "\\item 'cred\\_level'\n",
       "\\item 'post\\_mean'\n",
       "\\item 'post\\_sd'\n",
       "\\item 'ci'\n",
       "\\item 'samples'\n",
       "\\item 'summary'\n",
       "\\item 'plot'\n",
       "\\end{enumerate*}\n"
      ],
      "text/markdown": [
       "1. 'mu'\n",
       "2. 'post_den'\n",
       "3. 'cred_level'\n",
       "4. 'post_mean'\n",
       "5. 'post_sd'\n",
       "6. 'ci'\n",
       "7. 'samples'\n",
       "8. 'summary'\n",
       "9. 'plot'\n",
       "\n",
       "\n"
      ],
      "text/plain": [
       "[1] \"mu\"         \"post_den\"   \"cred_level\" \"post_mean\"  \"post_sd\"   \n",
       "[6] \"ci\"         \"samples\"    \"summary\"    \"plot\"      "
      ]
     },
     "metadata": {},
     "output_type": "display_data"
    }
   ],
   "source": [
    "names(weight_post)"
   ]
  },
  {
   "cell_type": "markdown",
   "id": "f7279b3d",
   "metadata": {},
   "source": [
    "In particular, the `samples` object is a `matrix` or table which contain the draws from the MCMC \n",
    "simulation, and includes columns for `mu` and  `sig2`, which are posterior samples of the mean and variance respectively.  Let's see how we can use these to make predictions.\n",
    "\n",
    "### Posterior predictive distribution of new observation $y_{n+1}$\n",
    "\n",
    "The distribution of any new observation conditional on the mean and variance is \n",
    "$$N(\\mu, \\sigma^2)$$ and if we knew $\\mu$ and $\\sigma^2$ we could draw a sample \n",
    "from the distribution of the new observation from the normal distribution. \n",
    "While we do not know $\\mu$ and $\\sigma^2$ we the draws of $\\mu$ and $\\sigma^2$ \n",
    "from their posterior distributions. If we substitute these values into the \n",
    "normal distribution for $Y_{n+1}$, we can obtain samples from the predictive \n",
    "distribution for the birth weight for any new observation $y_{1001}$. \n",
    "\n",
    "We'll first convert our `samples` into a dataframe and then use `mutate` the create draws from the predictive distribution using `rnorm`:"
   ]
  },
  {
   "cell_type": "code",
   "execution_count": 13,
   "id": "7ffef0ef",
   "metadata": {
    "name": "pred-distribution"
   },
   "outputs": [],
   "source": [
    "samples = as.data.frame(weight_post$samples)\n",
    "nsim = nrow(samples)\n",
    "samples = mutate(samples, y_pred = rnorm(nsim, mu, sqrt(sig2)))"
   ]
  },
  {
   "cell_type": "markdown",
   "id": "38c7c174",
   "metadata": {},
   "source": [
    "We can view an estimate of the predictive distribution, by looking at a \n",
    "smoothed version of the histogram of the simulated data:"
   ]
  },
  {
   "cell_type": "code",
   "execution_count": 14,
   "id": "0314d631",
   "metadata": {
    "fig.align": "center",
    "name": "preddens",
    "out.width": "70%"
   },
   "outputs": [
    {
     "data": {
      "image/png": "[encoded data removed]",
      "text/plain": [
       "plot without title"
      ]
     },
     "metadata": {
      "image/png": {
       "height": 420,
       "width": 420
      }
     },
     "output_type": "display_data"
    }
   ],
   "source": [
    "ggplot(data = samples, aes(x = y_pred)) + \n",
    "  geom_histogram(aes(y = ..density..), bins = 100) +\n",
    "  geom_density() + \n",
    "  xlab(expression(y[new]))"
   ]
  },
  {
   "cell_type": "markdown",
   "id": "9bc6640d",
   "metadata": {},
   "source": [
    "A 95% central credible interval for a new observation is the interval (L, U) \n",
    "where $P(Y_{new} < L \\mid Y) = 0.05/2$ and $P(Y_{new} > U \\mid Y) = 0.05/2)$. \n",
    "In this case, since the posterior distribution of $\\mu$ and $Y_{new}$ are both \n",
    "symmetric, we can set L to be the 0.025 quantile and U to be the 0.975 quantile. \n",
    "Using the `quantile` function `R` we can find the 0.025 and 0.975, as well as \n",
    "median (0.50) quantiles of the predictive distribution:"
   ]
  },
  {
   "cell_type": "code",
   "execution_count": 15,
   "id": "67525130",
   "metadata": {
    "lines_to_next_cell": 0
   },
   "outputs": [
    {
     "data": {
      "text/html": [
       "<dl>\n",
       "\t<dt>$mu</dt>\n",
       "\t\t<dd><style>\n",
       ".dl-inline {width: auto; margin:0; padding: 0}\n",
       ".dl-inline>dt, .dl-inline>dd {float: none; width: auto; display: inline-block}\n",
       ".dl-inline>dt::after {content: \":\\0020\"; padding-right: .5ex}\n",
       ".dl-inline>dt:not(:first-of-type) {padding-left: .5ex}\n",
       "</style><dl class=dl-inline><dt>2.5%</dt><dd>7.38470623652119</dd><dt>50%</dt><dd>7.45920221563598</dd><dt>97.5%</dt><dd>7.53180382480131</dd></dl>\n",
       "</dd>\n",
       "\t<dt>$y_pred</dt>\n",
       "\t\t<dd><style>\n",
       ".dl-inline {width: auto; margin:0; padding: 0}\n",
       ".dl-inline>dt, .dl-inline>dd {float: none; width: auto; display: inline-block}\n",
       ".dl-inline>dt::after {content: \":\\0020\"; padding-right: .5ex}\n",
       ".dl-inline>dt:not(:first-of-type) {padding-left: .5ex}\n",
       "</style><dl class=dl-inline><dt>2.5%</dt><dd>5.29430098910634</dd><dt>50%</dt><dd>7.47851696099154</dd><dt>97.5%</dt><dd>9.62988333982628</dd></dl>\n",
       "</dd>\n",
       "</dl>\n"
      ],
      "text/latex": [
       "\\begin{description}\n",
       "\\item[\\$mu] \\begin{description*}\n",
       "\\item[2.5\\textbackslash{}\\%] 7.38470623652119\n",
       "\\item[50\\textbackslash{}\\%] 7.45920221563598\n",
       "\\item[97.5\\textbackslash{}\\%] 7.53180382480131\n",
       "\\end{description*}\n",
       "\n",
       "\\item[\\$y\\_pred] \\begin{description*}\n",
       "\\item[2.5\\textbackslash{}\\%] 5.29430098910634\n",
       "\\item[50\\textbackslash{}\\%] 7.47851696099154\n",
       "\\item[97.5\\textbackslash{}\\%] 9.62988333982628\n",
       "\\end{description*}\n",
       "\n",
       "\\end{description}\n"
      ],
      "text/markdown": [
       "$mu\n",
       ":   2.5%\n",
       ":   7.3847062365211950%\n",
       ":   7.4592022156359897.5%\n",
       ":   7.53180382480131\n",
       "\n",
       "\n",
       "$y_pred\n",
       ":   2.5%\n",
       ":   5.2943009891063450%\n",
       ":   7.4785169609915497.5%\n",
       ":   9.62988333982628\n",
       "\n",
       "\n",
       "\n",
       "\n"
      ],
      "text/plain": [
       "$mu\n",
       "    2.5%      50%    97.5% \n",
       "7.384706 7.459202 7.531804 \n",
       "\n",
       "$y_pred\n",
       "    2.5%      50%    97.5% \n",
       "5.294301 7.478517 9.629883 \n"
      ]
     },
     "metadata": {},
     "output_type": "display_data"
    }
   ],
   "source": [
    "dplyr::select(samples, mu, y_pred) %>%\n",
    "  map(quantile, probs=c(0.025, 0.50, 0.975))"
   ]
  },
  {
   "cell_type": "markdown",
   "id": "f5104754",
   "metadata": {},
   "source": [
    "In the above code we are using `dplyr:select` to select just the columns `mu` and `y_pred` from `samples`.  The usage of `dplyr:` preceeding `select`, ensures that we are using the `select` function from the `dplyr` package to avoid possible name conflicts, as several packages have a `select` function.  We are also taking advantage of the pipe operator to send the selected columns to the `map` function to apply the `quantile` function to each of the selected columns for the probabilities in the argument `probs` to `quantile`.\n",
    "\n",
    "<div class=\"question\">\n",
    "For predicting the birth weight of a new full term baby in NC, \n",
    "\n",
    "* there is a 95% chance that their birth weight will be 7.4 to 7.5 pounds.\n",
    "* there is a 95% chance that their birth weight will be on average 7.4 to 7.5 pounds.\n",
    "* there is a 95% chance that their birth weight will be 5.4 to 9.5 pounds.\n",
    "* there is 50% chance that their birth weight will be 7.4 pounds.\n",
    "</div>"
   ]
  },
  {
   "cell_type": "code",
   "execution_count": 16,
   "id": "12104864",
   "metadata": {
    "lines_to_next_cell": 2,
    "name": "Q5-cred-int"
   },
   "outputs": [],
   "source": [
    "# Type your code for Question 5 here."
   ]
  },
  {
   "cell_type": "markdown",
   "id": "ae6d5281",
   "metadata": {},
   "source": [
    "<div class=\"exercise\">\n",
    "Repeat the above analysis but find the predictive distribution for babies that \n",
    "were premature. \n",
    "</div>"
   ]
  },
  {
   "cell_type": "code",
   "execution_count": 17,
   "id": "6f6b7258",
   "metadata": {
    "name": "E2-t-dist"
   },
   "outputs": [],
   "source": [
    "# Type your code for Exersice 2 here."
   ]
  },
  {
   "cell_type": "markdown",
   "id": "a9a395b8",
   "metadata": {},
   "source": [
    "## Bayesian inference for two independent means\n",
    "\n",
    "Next, let us consider whether there is a difference of baby weights for babies \n",
    "born to smokers and non-smokers. Here we will use the variable `habit` to \n",
    "distinguish between babies born to mothers who smoked and babies born to mothers \n",
    "who were non-smokers. Plotting the data is a useful first step because it helps \n",
    "us quickly visualize trends, identify strong associations, and develop research \n",
    "questions.\n",
    "\n",
    "To create side by side boxplots by levels of a categorical variable `x`, we can \n",
    "use the following:"
   ]
  },
  {
   "cell_type": "code",
   "execution_count": 18,
   "id": "a5a6eb78",
   "metadata": {
    "name": "weight-habit-box"
   },
   "outputs": [
    {
     "data": {
      "image/png": "[encoded data removed]",
      "text/plain": [
       "plot without title"
      ]
     },
     "metadata": {
      "image/png": {
       "height": 420,
       "width": 420
      }
     },
     "output_type": "display_data"
    }
   ],
   "source": [
    "ggplot(nc, aes(x = habit, y = weight)) +\n",
    "  geom_boxplot()"
   ]
  },
  {
   "cell_type": "markdown",
   "id": "7eb4d423",
   "metadata": {},
   "source": [
    "to create side-by-side boxplots of `weight` for smokers and non-smokers.\n",
    "\n",
    "<div class=\"question\">\n",
    "Construct a side-by-side boxplot of `habit` and `weight` for the data using full \n",
    "term births and compare the two distributions. Which of the following is *false* \n",
    "about the relationship between `habit` and `weight`?\n",
    "\n",
    "* Median birth weight of babies born to non-smokers is slightly higher than that of babies born to smokers.\n",
    "* Range of birth weights of female babies are roughly the same as that of male babies.\n",
    "* Both distributions are approximately symmetric.\n",
    "* The IQRs of the distributions are roughly equal.\n",
    "</div>"
   ]
  },
  {
   "cell_type": "code",
   "execution_count": 19,
   "id": "f0186afb",
   "metadata": {
    "lines_to_next_cell": 2,
    "name": "habit-weight-box"
   },
   "outputs": [],
   "source": [
    "# Type your code for the question here."
   ]
  },
  {
   "cell_type": "markdown",
   "id": "d1924cf7",
   "metadata": {},
   "source": [
    "The box plots show how the medians of the two distributions compare, but we can \n",
    "also compare the means of the distributions using the following to first group \n",
    "the data by the `habit` variable, and then calculate the mean `weight` in these \n",
    "groups using the `mean` function, where the `%>%` pipe operator takes the output \n",
    "of one function and then *pipes* it into the next function."
   ]
  },
  {
   "cell_type": "code",
   "execution_count": 20,
   "id": "da9012af",
   "metadata": {
    "name": "by-means"
   },
   "outputs": [
    {
     "data": {
      "text/html": [
       "<table class=\"dataframe\">\n",
       "<caption>A tibble: 2 × 2</caption>\n",
       "<thead>\n",
       "\t<tr><th scope=col>habit</th><th scope=col>mean_weight</th></tr>\n",
       "\t<tr><th scope=col>&lt;fct&gt;</th><th scope=col>&lt;dbl&gt;</th></tr>\n",
       "</thead>\n",
       "<tbody>\n",
       "\t<tr><td>nonsmoker</td><td>7.501123</td></tr>\n",
       "\t<tr><td>smoker   </td><td>7.171308</td></tr>\n",
       "</tbody>\n",
       "</table>\n"
      ],
      "text/latex": [
       "A tibble: 2 × 2\n",
       "\\begin{tabular}{ll}\n",
       " habit & mean\\_weight\\\\\n",
       " <fct> & <dbl>\\\\\n",
       "\\hline\n",
       "\t nonsmoker & 7.501123\\\\\n",
       "\t smoker    & 7.171308\\\\\n",
       "\\end{tabular}\n"
      ],
      "text/markdown": [
       "\n",
       "A tibble: 2 × 2\n",
       "\n",
       "| habit &lt;fct&gt; | mean_weight &lt;dbl&gt; |\n",
       "|---|---|\n",
       "| nonsmoker | 7.501123 |\n",
       "| smoker    | 7.171308 |\n",
       "\n"
      ],
      "text/plain": [
       "  habit     mean_weight\n",
       "1 nonsmoker 7.501123   \n",
       "2 smoker    7.171308   "
      ]
     },
     "metadata": {},
     "output_type": "display_data"
    }
   ],
   "source": [
    "nc_fullterm %>%\n",
    "  group_by(habit) %>%\n",
    "  summarise(mean_weight = mean(weight))"
   ]
  },
  {
   "cell_type": "markdown",
   "id": "306227f2",
   "metadata": {},
   "source": [
    "There is an observed difference, but is this difference statistically \n",
    "significant? In order to answer this question we will conduct a \n",
    "Bayesian hypothesis test.\n",
    "\n",
    "As before, we can use the `bayes_inference` function to test the hypothesis the \n",
    "mean weight of babies born to non-smokers is different than the mean weight of \n",
    "babies born to smokers. The call is almost identical to the single mean case, \n",
    "except now we will provide `habit` as an explanatory variable (argument \n",
    "`x = habit`). Here, we use the theoretical method instead of simulation \n",
    "(argument `method = \"theoretical\"`)."
   ]
  },
  {
   "cell_type": "code",
   "execution_count": 21,
   "id": "eea9fa82",
   "metadata": {
    "name": "ht-habit-weight"
   },
   "outputs": [
    {
     "name": "stdout",
     "output_type": "stream",
     "text": [
      "Response variable: numerical, Explanatory variable: categorical (2 levels)\n",
      "n_nonsmoker = 739, y_bar_nonsmoker = 7.5011, s_nonsmoker = 1.0833\n",
      "n_smoker = 107, y_bar_smoker = 7.1713, s_smoker = 0.9724\n",
      "(Assuming Zellner-Siow Cauchy prior on the difference of means. )\n",
      "(Assuming independent Jeffreys prior on the overall mean and variance. )\n",
      "Hypotheses:\n",
      "H1: mu_nonsmoker  = mu_smoker\n",
      "H2: mu_nonsmoker != mu_smoker\n",
      "\n",
      "Priors: P(H1) = 0.5  P(H2) = 0.5 \n",
      "\n",
      "Results:\n",
      "BF[H2:H1] = 6.237\n",
      "P(H1|data) = 0.1382 \n",
      "P(H2|data) = 0.8618 \n"
     ]
    }
   ],
   "source": [
    "bayes_inference(y = weight, x = habit, data = nc_fullterm, \n",
    "                statistic = \"mean\", \n",
    "                type = \"ht\", alternative = \"twosided\", null = 0, \n",
    "                prior = \"JZS\", rscale = 1, \n",
    "                method = \"theoretical\", show_plot = FALSE)"
   ]
  },
  {
   "cell_type": "markdown",
   "id": "b0396088",
   "metadata": {},
   "source": [
    "<div class=\"question\">\n",
    "Based on the Bayes factor calculated above, how strong is evidence against $H_1$?\n",
    "\n",
    "* Not worth a bare mention\n",
    "* Positive\n",
    "* Strong\n",
    "* Very Strong\n",
    "</div>\n",
    "\n",
    "<div class=\"question\">\n",
    "How would the Bayes factor above change if we were to increase the prior \n",
    "probability of $H_2$ to 0.75? (Hint: you may change the prior of $H_1$ and $H_2$ \n",
    "by specifying `hypothesis_prior = c(a, b)` where $P(H_1) = a$, $P(H_2) = b$, and \n",
    "$a+b = 1$.)\n",
    "\n",
    "* Get bigger\n",
    "* Get smaller\n",
    "* Stay the same\n",
    "</div>"
   ]
  },
  {
   "cell_type": "code",
   "execution_count": 22,
   "id": "a04e1add",
   "metadata": {
    "name": "Q8-ht-habit-weight-increase-H2"
   },
   "outputs": [],
   "source": [
    "# Type your code for the question here."
   ]
  },
  {
   "cell_type": "markdown",
   "id": "892a33c4",
   "metadata": {},
   "source": [
    "If differences between the groups are expected to be small, using a value of \n",
    "`rscale = sqrt(2)/2` in the `JZS` prior is recommended. \n",
    "\n",
    "<div class=\"question\">\n",
    "How would the Bayes factor for H2 to H1 change if we were to change the scale \n",
    "in the Cauchy prior `rscale = sqrt(2)/2`?\n",
    "\n",
    "* Get bigger\n",
    "* Get smaller\n",
    "* Stay the same\n",
    "</div>"
   ]
  },
  {
   "cell_type": "code",
   "execution_count": 23,
   "id": "9de4d76d",
   "metadata": {
    "lines_to_next_cell": 2,
    "name": "Q9-ht-gender-weight-increase-rscale"
   },
   "outputs": [],
   "source": [
    "# Type your code for  Question 9 here."
   ]
  },
  {
   "cell_type": "markdown",
   "id": "7bc12aef",
   "metadata": {},
   "source": [
    "To quantify the magnitude of the differences in mean birth weight, we can use a \n",
    "credible interval. Change the `type` argument to `\"ci\"` to construct and record \n",
    "a credible interval for the difference between the weights of babies born to \n",
    "nonsmoking and smoking mothers, and interpret this interval in context of the \n",
    "data. Note that by default you'll get a 95% credible interval. If you want to \n",
    "change the confidence level, change the value for `cred_level` which takes on a \n",
    "value between 0 and 1. Also note that when doing a credible interval arguments \n",
    "like `null` and `alternative` are not useful, so make sure to remove them, but \n",
    "include the prior mean `mu_0`.\n",
    "\n",
    "<div class=\"question\">\n",
    "Based on the 95% credible interval for the differences in full term birth \n",
    "weights for nonsmokers and smoker:\n",
    "\n",
    "* there is a 95% chance that babies born to nonsmoker mothers are on average 0.11 to 0.54 pounds lighter at birth than babies born to smoker mothers. \n",
    "* there is a 95% chance that the difference in average weights of babies whose moms are smokers and nonsmokers is between 0.11 to 0.54 pounds. \n",
    "* there is a 95% chance that the difference in average weights of babies in this sample whose moms are nonsmokers and smokers is between 0.11 to 0.54 pounds. \n",
    "* there is a 95% chance that babies born to nonsmoker mothers are on average 0.11 to 0.54 pounds heavier at birth than babies born to smoker mothers. \n",
    "</div>"
   ]
  },
  {
   "cell_type": "code",
   "execution_count": 24,
   "id": "12b8028a",
   "metadata": {
    "name": "Q10-ci-weight-habit-increase"
   },
   "outputs": [],
   "source": [
    "# Type your code for Question 10 here."
   ]
  },
  {
   "cell_type": "markdown",
   "id": "f45fe159",
   "metadata": {},
   "source": [
    "## Bayesian inference on Two Paired Means\n",
    "\n",
    "The second data set comes from a 2008 study *A simple tool to ameliorate \n",
    "detainees' mood and well-being in Prison: Physical activities*. The study was \n",
    "performed in a penitentiary of the Rhone-Alpes region (France), that includes \n",
    "two establishments, one for remand prisoners and short sentences (Jail) and the \n",
    "second for sentenced persons (Detention Centre, DC). A total number of 26 male \n",
    "subjects, imprisoned between 3 to 48 months, participated to the study. The \n",
    "participants were divided into two groups: 15 \"Sportsmen\" who chose \n",
    "spontaneously to follow the physical program; and 11 \"References\", who did not \n",
    "and wished to remain sedentary. This data provide the perceived stress scale \n",
    "(PSS) of the participants in prison at the entry (`PSSbefore`) and at the exit \n",
    "(`PSSafter`).\n",
    "\n",
    "We can load the `PrisonStress` data set into our workspace using the `data` \n",
    "function once the `PairedData` package is loaded."
   ]
  },
  {
   "cell_type": "code",
   "execution_count": 25,
   "id": "eab0406c",
   "metadata": {
    "name": "load-data1"
   },
   "outputs": [],
   "source": [
    "data(\"PrisonStress\")"
   ]
  },
  {
   "cell_type": "markdown",
   "id": "f44d72c2",
   "metadata": {},
   "source": [
    "This data set consists of 26 observations on 4 variables. They are summarized as \n",
    "follows:\n",
    "\n",
    "variable    | description        \n",
    "------------|-----------------------------------------------------\n",
    "`Subject`   | anonymous subjects\n",
    "`Group`     | whether the subject chose to follow the physical programme `Sport` or not `Control`\n",
    "`PSSbefore` | perceived stress measurement at the entry\n",
    "`PSSafter`  | perceived stress measurement at the exit"
   ]
  },
  {
   "cell_type": "markdown",
   "id": "7628da37",
   "metadata": {},
   "source": [
    "We have two groups of observations: the `sport` group, the ones who chose to \n",
    "follow the physical training program; and the `control` group, the ones who \n",
    "chose not to follow. We are interested to know whether in average there is any \n",
    "difference in the perceived stress scale (PSS) before they started the training \n",
    "(at the entry) and after the training (at the exit).\n",
    "\n",
    "We first analyze the `control` group data. We subset the data according to the \n",
    "`Group` variable using the `dplyr` package, and save this into a smaller data \n",
    "set `PPS.control`."
   ]
  },
  {
   "cell_type": "code",
   "execution_count": 26,
   "id": "c4e516f1",
   "metadata": {
    "name": "select-control"
   },
   "outputs": [],
   "source": [
    "pss_control = PrisonStress %>%\n",
    "  filter(Group == \"Control\") %>%\n",
    "  mutate(diff = PSSbefore - PSSafter)"
   ]
  },
  {
   "cell_type": "markdown",
   "id": "2d978223",
   "metadata": {},
   "source": [
    "where the third line calculate the difference of the PSS of each subject before \n",
    "and after the training and saves it as a new variable `diff`."
   ]
  },
  {
   "cell_type": "markdown",
   "id": "5df0b9a7",
   "metadata": {},
   "source": [
    "We can now conduct the following hypothesis test:\n",
    "$$ H_1: \\mu_{\\text{before}} = \\mu_{\\text{after}}\\qquad \\Longrightarrow \\qquad H_1: \\mu_{\\text{diff}} = 0, $$\n",
    "\n",
    "$$ H_2: \\mu_{\\text{before}} \\neq \\mu_{\\text{after}}\\qquad \\Longrightarrow \\qquad H_1: \\mu_{\\text{diff}} \\neq 0, $$\n",
    "\n",
    "We use `bayes_inference` function to calculate the Bayes factor. The code is \n",
    "similar to the one we used for inference for one mean, except that we need to \n",
    "set `null = 0`, because we are comparing the mean of the difference to 0."
   ]
  },
  {
   "cell_type": "code",
   "execution_count": 27,
   "id": "8a33ef49",
   "metadata": {
    "name": "ht-control-diff"
   },
   "outputs": [
    {
     "name": "stdout",
     "output_type": "stream",
     "text": [
      "Single numerical variable\n",
      "n = 11, y-bar = -7.3636, s = 9.2333\n",
      "(Using Zellner-Siow Cauchy prior:  mu ~ C(0, 1*sigma)\n",
      "(Using Jeffreys prior: p(sigma^2) = 1/sigma^2\n",
      "\n",
      "Hypotheses:\n",
      "H1: mu = 0 versus H2: mu != 0\n",
      "Priors:\n",
      "P(H1) = 0.5 , P(H2) = 0.5\n",
      "Results:\n",
      "BF[H2:H1] = 2.7364\n",
      "P(H1|data) = 0.2676  P(H2|data) = 0.7324 \n"
     ]
    }
   ],
   "source": [
    "bayes_inference(y = diff, data = pss_control, \n",
    "                statistic = \"mean\",\n",
    "                type = \"ht\", alternative = \"twosided\", null = 0, \n",
    "                prior = \"JZS\", rscale = 1, \n",
    "                method = \"simulation\", show_plot = FALSE)"
   ]
  },
  {
   "cell_type": "markdown",
   "id": "e8c5a35a",
   "metadata": {},
   "source": [
    "While there appears to an increase in stress, based on Jeffrey's scales of \n",
    "evidence, the evidence against H1 is `*worth a bare mention*'."
   ]
  },
  {
   "cell_type": "markdown",
   "id": "9e4d5f26",
   "metadata": {},
   "source": [
    "<div class=\"question\">\n",
    "Conduct the same hypothesis test for the mean of the difference in perceived \n",
    "stress scale for the `sport` group. Based of Jeffrey's scale for interpretation \n",
    "of a Bayes factors how should we describe the evidence against $H_1$ from the \n",
    "results?\n",
    "\n",
    "* Not worth a bare mention\n",
    "* Positive\n",
    "* Strong\n",
    "* Very strong\n",
    "</div>"
   ]
  },
  {
   "cell_type": "code",
   "execution_count": 28,
   "id": "3ba3b50d",
   "metadata": {
    "name": "Q11-ht-sport-diff"
   },
   "outputs": [],
   "source": [
    "# Type your code for Question 11 here."
   ]
  },
  {
   "cell_type": "markdown",
   "id": "927a67d0",
   "metadata": {},
   "source": [
    "It is possible that other factors during this period of time could affect stress. \n",
    "By combining data from both groups we can increase our sample size, which \n",
    "provides greater power to detect a difference due to the intervention. If we \n",
    "assume that the variation in the two groups is comparable, we can use the \n",
    "differences in the before and after measurements to compare whether the \n",
    "intervention had an effect on stress levels. \n",
    "\n",
    "<div class=\"exercise\">\n",
    "Create a new data frame with a variable that is the difference in pre and post \n",
    "stress measurements and test the hypothesis that the mean difference in the \n",
    "control group is equal to the mean in the sport group versus the hypothesis \n",
    "that the means are not equal.\n",
    "</div>"
   ]
  },
  {
   "cell_type": "code",
   "execution_count": 29,
   "id": "651527d8",
   "metadata": {
    "lines_to_next_cell": 0
   },
   "outputs": [],
   "source": [
    "# Type your code for Exercise 2 here."
   ]
  },
  {
   "cell_type": "markdown",
   "id": "3af399a1",
   "metadata": {},
   "source": [
    "\n",
    "\n"
   ]
  }
 ],
 "metadata": {
  "jupytext": {
   "cell_metadata_filter": "out.width,name,message,warning,fig.align,-all",
   "main_language": "R",
   "notebook_metadata_filter": "-all"
  },
  "kernelspec": {
   "display_name": "R",
   "language": "R",
   "name": "ir"
  },
  "language_info": {
   "codemirror_mode": "r",
   "file_extension": ".r",
   "mimetype": "text/x-r-source",
   "name": "R",
   "pygments_lexer": "r",
   "version": "4.1.0"
  }
 },
 "nbformat": 4,
 "nbformat_minor": 5
}
