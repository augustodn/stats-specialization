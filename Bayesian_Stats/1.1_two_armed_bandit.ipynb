{
 "cells": [
  {
   "cell_type": "code",
   "execution_count": 3,
   "metadata": {
    "message": false,
    "tags": [
     "remove_input"
    ]
   },
   "outputs": [
    {
     "name": "stderr",
     "output_type": "stream",
     "text": [
      "── \u001b[1mAttaching packages\u001b[22m ─────────────────────────────────────── tidyverse 1.3.1 ──\n",
      "\n",
      "\u001b[32m✔\u001b[39m \u001b[34mggplot2\u001b[39m 3.3.4     \u001b[32m✔\u001b[39m \u001b[34mpurrr  \u001b[39m 0.3.4\n",
      "\u001b[32m✔\u001b[39m \u001b[34mtibble \u001b[39m 3.1.2     \u001b[32m✔\u001b[39m \u001b[34mdplyr  \u001b[39m 1.0.7\n",
      "\u001b[32m✔\u001b[39m \u001b[34mtidyr  \u001b[39m 1.1.3     \u001b[32m✔\u001b[39m \u001b[34mstringr\u001b[39m 1.4.0\n",
      "\u001b[32m✔\u001b[39m \u001b[34mreadr  \u001b[39m 2.0.0     \u001b[32m✔\u001b[39m \u001b[34mforcats\u001b[39m 0.5.1\n",
      "\n",
      "── \u001b[1mConflicts\u001b[22m ────────────────────────────────────────── tidyverse_conflicts() ──\n",
      "\u001b[31m✖\u001b[39m \u001b[34mdplyr\u001b[39m::\u001b[32mfilter()\u001b[39m masks \u001b[34mstats\u001b[39m::filter()\n",
      "\u001b[31m✖\u001b[39m \u001b[34mdplyr\u001b[39m::\u001b[32mlag()\u001b[39m    masks \u001b[34mstats\u001b[39m::lag()\n",
      "\n",
      "Loading required package: BayesFactor\n",
      "\n",
      "Loading required package: coda\n",
      "\n",
      "Loading required package: Matrix\n",
      "\n",
      "\n",
      "Attaching package: ‘Matrix’\n",
      "\n",
      "\n",
      "The following objects are masked from ‘package:tidyr’:\n",
      "\n",
      "    expand, pack, unpack\n",
      "\n",
      "\n",
      "************\n",
      "Welcome to BayesFactor 0.9.12-4.2. If you have questions, please contact Richard Morey (richarddmorey@gmail.com).\n",
      "\n",
      "Type BFManual() to open the manual.\n",
      "************\n",
      "\n"
     ]
    }
   ],
   "source": [
    "library(tidyverse)\n",
    "library(statsr)"
   ]
  },
  {
   "cell_type": "markdown",
   "metadata": {},
   "source": [
    "\n",
    "Complete all **Exercises**, and submit answers to **Questions** in the **Quiz: Week 1 Lab** on Coursera.\n",
    "\n",
    "\n",
    "## Background\n",
    "\n",
    "Some people refer to slot machines as \"One-armed Bandits\" due to the older style \n",
    "of machine requiring the player to pull a mechanical handle to play. Statisticians \n",
    "and mathematicians often develop theories / models based on games of chance which \n",
    "turn out to be more generally useful. One general class of probability / optimization \n",
    "problems is known as the multi-armed bandit problem which is based on the following \n",
    "analogy: A player walks into a casino and sees a wall of slot machines. All of the \n",
    "machines pay out at different rates - some pay out more often than others, some \n",
    "pay out less often. Since the player does not know which machines are \"good\" and \n",
    "which are \"bad\", how should he / she play so as to make as much money (or at least \n",
    "lose as little) as possible?\n",
    "\n",
    "## Simulated Slots\n",
    "\n",
    "Today we will examine a simplified case where there are only two machines (one \"Good\" \n",
    "and one \"Bad\"). We will also assume that we know the probability of winning on \n",
    "the \"Good\" machine and the probability of winning on the \"Bad\" machine - what we \n",
    "don't know is which machine is which. \n",
    "\n",
    "The Shiny App below will let you simulate playing slot machines when the \n",
    "probability of winning on the \"good\" machine is 1/2 and the probability of \n",
    "winning on the \"bad\" machine is 1/3. Each time you play, the App will \"flip a \n",
    "coin\" and randomly select either Machine 1 or Machine 2 to be the \"good\" machine, \n",
    "and the other to be the \"bad\" machine.\n"
   ]
  },
  {
   "cell_type": "code",
   "execution_count": 4,
   "metadata": {
    "error": true,
    "name": "bandit",
    "tags": [
     "remove_input"
    ]
   },
   "outputs": [
    {
     "name": "stderr",
     "output_type": "stream",
     "text": [
      "Loading required package: shiny\n",
      "\n",
      "\n",
      "Listening on http://127.0.0.1:7033\n",
      "\n"
     ]
    }
   ],
   "source": [
    "bandit_sim()"
   ]
  },
  {
   "cell_type": "markdown",
   "metadata": {},
   "source": [
    "\n",
    "Use the Shiny App above to play the slot machines a total of *10* times. You can \n",
    "divide your plays up however you like between the two machines. Once you have \n",
    "played 10 times, use the results of your plays to decide which machine you think \n",
    "has the better payout (i.e. the good machine) - click the button on the right \n",
    "that corresponds to your guess, the App will tell you if you are right. If you \n",
    "were right or wrong, press the reset button and play again and guess which \n",
    "machine you think is the good machine. As you are playing, think about what it \n",
    "is about your results that enabled you make the correct guess.\n",
    "\n",
    "Press the Reset button again, now play *30* times and use those results to guess \n",
    "which machine is the good one. Do you think it was easier or harder to make a \n",
    "decision with the additional plays? Why do you think that is?\n",
    "\n",
    "\n",
    "Hopefully what you have observed is that as you played the slot machine, initially \n",
    "it was difficult to determine which machine was which. But as you played more, it \n",
    "became more and more clear. In particular, each time you played you naturally \n",
    "reassessed which machine you thought was good. With the initial handful of plays, \n",
    "your beliefs stayed close to 50-50, potentially with a small bias towards the \n",
    "machine you had won more on. By the time you got to 30 plays you should have had \n",
    "a very strong belief about which machine was the \"good\" one. \n",
    "\n",
    "This is the way in which we usually interact with the world - we try something \n",
    "and modify our mental model based on the outcome we have received. This idea of \n",
    "updating beliefs based on observed data is one of the core tenets of Bayesian \n",
    "statistics - in the following sections we will work through the probability \n",
    "calculations and see how they correspond with our intuitive understanding."
   ]
  },
  {
   "cell_type": "markdown",
   "metadata": {},
   "source": [
    "## Posterior Probabilities\n",
    "\n",
    "We will start by examining the result of playing just once. Imagine that you \n",
    "play Machine 1 and you win, what do we now know about the probability of the two \n",
    "machines being \"good\" or \"bad\"? It is reasonable to believe that each machine is \n",
    "equally likely to be the \"good\" machine, we can express our belief as follow: \n",
    "\n",
    "$$P(M_1 \\text{ is Good})=P(M_2 \\text{ is Bad})=1/2$$\n",
    "$$P(M_1 \\text{ is Bad})=P(M_2 \\text{ is Good})=1/2.$$\n",
    "\n",
    "We have also been told that the probabilities of winning for each type of \n",
    "machine are:\n",
    "\n",
    "$$P(\\text{Win on }M_1 ~|~ M_1 \\text{ is Good}) = 1/2 \\qquad P(\\text{Win on }M_1 ~|~ M_1 \\text{ is Bad}) = 1/3.$$\n",
    "\n",
    "We can use these probabilities to calculate the posterior probabilities of \n",
    "losing for each type of machine:\n",
    "\n",
    "$$P(\\text{Lose on }M_1 ~|~ M_1 \\text{ is Good}) = 1/2 \\qquad P(\\text{Lose on }M_1 ~|~ M_1 \\text{ is Bad}) = 2/3.$$\n",
    "\n",
    "Note that while these probabilities are all for Machine 1, they are exactly the \n",
    "same as the probabilities for Machine 2. We have seen how we can use Bayes' rule \n",
    "to calculate $P(M_1 \\text{ is Good} ~|~ \\text{Win on } M_1)$\n",
    "\n",
    "$$\n",
    "\\begin{aligned}\n",
    "P(M_1 \\text{ is Good} ~|~ \\text{Win on } M_1) \n",
    "&= \\frac{P(\\text{Win on } M_1 ~|~ M_1 \\text{ is Good})~P(M_1 \\text{ is Good})}{P(\\text{Win on } M_1)} \\\\\n",
    "& = \\\\\n",
    "&= \\frac{P(\\text{Win on } M_1 ~|~ M_1 \\text{ is Good})~P(M_1 \\text{ is Good})}{P(\\text{Win on } M_1 ~|~ M_1 \\text{ is Good})~P(M_1 \\text{ is Good})+P(\\text{Win on } M_1 ~|~ M_1 \\text{ is Bad})~P(M_1 \\text{ is Bad})} \\\\\n",
    "& = \\\\\n",
    "&= \\frac{1/2 \\times 1/2}{1/2 \\times 1/2+1/3 \\times 1/2} = 0.6\n",
    "\\end{aligned}\n",
    "$$\n",
    "\n",
    "### Question 1\n",
    "Based on the preceding result, what is the probability that Machine 1 is \"Bad\" \n",
    "given you won a game playing on Machine 1?\n",
    "\n",
    "1. 0.3\n",
    "2. 0.4 <--\n",
    "3. 0.5\n",
    "4. 0.6\n",
    "5. 0.7\n",
    "\n",
    "**Answer**: 0.4 (1 - 0.6)\n",
    "\n",
    "### Question 2\n",
    "Based on the preceding result, what is the probability that Machine 2 is \"Good\" \n",
    "given you won a game playing on Machine 1?\n",
    "\n",
    "1. 0.3\n",
    "2. 0.4 <--\n",
    "3. 0.5\n",
    "4. 0.6\n",
    "5. 0.7\n",
    "\n",
    "**Answer**: $P(\\text{M2 is Good}~|~\\text{win on M1})$ = $P(\\text{M1 is Bad}~|~\\text{win on M1})$. Hence, the result is the same as the answer before: 0.4."
   ]
  },
  {
   "cell_type": "markdown",
   "metadata": {},
   "source": [
    "### Question 3\n",
    "Under the Bayesian paradigm, which of the following correctly matches the \n",
    "probabilities with their names?\n",
    "\n",
    "1. Posterior - $P(M_1 \\text{ is Good} ~|~ \\text{Win on } M_1)$ <br/> Prior - $P(M_1 \\text{ is Good})$ <br/> Likelihood - $P(\\text{Win on } M_1 ~|~ M_1 \\text{ is Good})$\n",
    "2. Posterior - $P(M_1 \\text{ is Good} ~|~ \\text{Win on } M_1)$ <br/> Prior - $P(\\text{Win on } M_1 ~|~ M_1 \\text{ is Good})$ <br/> Likelihood - $P(M_1 \\text{ is Good})$ \n",
    "3. Posterior - $P(\\text{Win on} M_1 ~|~ M_1 \\text{ is Good})$ <br/> Prior - $P(M_1 \\text{ is Good} ~|~ \\text{Win on } M_1)$ <br/> Likelihood - $P(M_1 \\text{ is Good})$\n",
    "4. Posterior - $P(\\text{Win on } M_1 ~|~ M_1 \\text{ is Good})$ <br/> Prior - $P(M_1 \\text{ is Good})$ <br/> Likelihood - $P(M_1 \\text{ is Good} ~|~ \\text{Win on } M_1)$ \n",
    "\n",
    "**Answer**: 1.\n"
   ]
  },
  {
   "cell_type": "markdown",
   "metadata": {},
   "source": [
    "## Bayesian Updating\n",
    "\n",
    "We have implemented a function for calculating the posterior probability of \n",
    "Machine 1 and Machine 2 being the \"good\" machine after one or more plays of \n",
    "either machine. The function `bandit_posterior` expects a data frame representing \n",
    "your play history that contains two columns, `machine` which records which machine \n",
    "was played (e.g. either a 1 or 2) and `outcome` which records whether you won \n",
    "(`\"W\"`) or lost (`\"L\"`). An optional parameter to `bandit_posterior` is `prior`, \n",
    "a vector of length two that specifies the prior probability of each machine \n",
    "being \"good\".  If left unspecified, equal prior probabilities (0.5, 0.5) are \n",
    "assumed.  We can repeat the calculation from the previous section using the \n",
    "following code in the RStudio Console:"
   ]
  },
  {
   "cell_type": "code",
   "execution_count": 9,
   "metadata": {},
   "outputs": [
    {
     "data": {
      "text/html": [
       "<style>\n",
       ".dl-inline {width: auto; margin:0; padding: 0}\n",
       ".dl-inline>dt, .dl-inline>dd {float: none; width: auto; display: inline-block}\n",
       ".dl-inline>dt::after {content: \":\\0020\"; padding-right: .5ex}\n",
       ".dl-inline>dt:not(:first-of-type) {padding-left: .5ex}\n",
       "</style><dl class=dl-inline><dt>m1_good</dt><dd>0.6</dd><dt>m2_good</dt><dd>0.4</dd></dl>\n"
      ],
      "text/latex": [
       "\\begin{description*}\n",
       "\\item[m1\\textbackslash{}\\_good] 0.6\n",
       "\\item[m2\\textbackslash{}\\_good] 0.4\n",
       "\\end{description*}\n"
      ],
      "text/markdown": [
       "m1_good\n",
       ":   0.6m2_good\n",
       ":   0.4\n",
       "\n"
      ],
      "text/plain": [
       "m1_good m2_good \n",
       "    0.6     0.4 "
      ]
     },
     "metadata": {},
     "output_type": "display_data"
    }
   ],
   "source": [
    "bandit_posterior(data = data.frame(machine = 1, outcome = \"W\"))"
   ]
  },
  {
   "cell_type": "markdown",
   "metadata": {},
   "source": [
    "We can also use this function to calculate the posterior probabilities for \n",
    "additional plays, for example playing Machine 1 twice, first winning and then \n",
    "losing."
   ]
  },
  {
   "cell_type": "code",
   "execution_count": 10,
   "metadata": {},
   "outputs": [
    {
     "data": {
      "text/html": [
       "<style>\n",
       ".dl-inline {width: auto; margin:0; padding: 0}\n",
       ".dl-inline>dt, .dl-inline>dd {float: none; width: auto; display: inline-block}\n",
       ".dl-inline>dt::after {content: \":\\0020\"; padding-right: .5ex}\n",
       ".dl-inline>dt:not(:first-of-type) {padding-left: .5ex}\n",
       "</style><dl class=dl-inline><dt>m1_good</dt><dd>0.529411764705882</dd><dt>m2_good</dt><dd>0.470588235294118</dd></dl>\n"
      ],
      "text/latex": [
       "\\begin{description*}\n",
       "\\item[m1\\textbackslash{}\\_good] 0.529411764705882\n",
       "\\item[m2\\textbackslash{}\\_good] 0.470588235294118\n",
       "\\end{description*}\n"
      ],
      "text/markdown": [
       "m1_good\n",
       ":   0.529411764705882m2_good\n",
       ":   0.470588235294118\n",
       "\n"
      ],
      "text/plain": [
       "  m1_good   m2_good \n",
       "0.5294118 0.4705882 "
      ]
     },
     "metadata": {},
     "output_type": "display_data"
    }
   ],
   "source": [
    "bandit_posterior(data = data.frame(machine = c(1,1), outcome = c(\"W\",\"L\")))"
   ]
  },
  {
   "cell_type": "markdown",
   "metadata": {},
   "source": [
    "We have discussed how the Bayesian approach allows for updating procedures where \n",
    "for each new data observation we are able to use the previous posterior \n",
    "probabilities as our new prior probabilities and thereby simplify the calculation \n",
    "(e.g. multiple simple updates can be used instead of one single large calculation). \n",
    "We can explore this process by **chaining** multiple calls to `bandit_posterior` \n",
    "together using `%>%`. With `prior = .` in the next call of `bandit_posterior`, \n",
    "we use the returned posterior values as the prior."
   ]
  },
  {
   "cell_type": "code",
   "execution_count": 11,
   "metadata": {},
   "outputs": [
    {
     "data": {
      "text/html": [
       "<style>\n",
       ".dl-inline {width: auto; margin:0; padding: 0}\n",
       ".dl-inline>dt, .dl-inline>dd {float: none; width: auto; display: inline-block}\n",
       ".dl-inline>dt::after {content: \":\\0020\"; padding-right: .5ex}\n",
       ".dl-inline>dt:not(:first-of-type) {padding-left: .5ex}\n",
       "</style><dl class=dl-inline><dt>m1_good</dt><dd>0.529411764705882</dd><dt>m2_good</dt><dd>0.470588235294118</dd></dl>\n"
      ],
      "text/latex": [
       "\\begin{description*}\n",
       "\\item[m1\\textbackslash{}\\_good] 0.529411764705882\n",
       "\\item[m2\\textbackslash{}\\_good] 0.470588235294118\n",
       "\\end{description*}\n"
      ],
      "text/markdown": [
       "m1_good\n",
       ":   0.529411764705882m2_good\n",
       ":   0.470588235294118\n",
       "\n"
      ],
      "text/plain": [
       "  m1_good   m2_good \n",
       "0.5294118 0.4705882 "
      ]
     },
     "metadata": {},
     "output_type": "display_data"
    }
   ],
   "source": [
    "# Initiate the two plays on Machine 1\n",
    "data1 <- data.frame(machine = c(1), outcome = c(\"W\"))\n",
    "data2 <- data.frame(machine = c(1), outcome = c(\"L\"))\n",
    "\n",
    "# Use piping and bandit_posterior to calculuate the posterior probabilities after each play\n",
    "bandit_posterior(data1) %>% \n",
    "  bandit_posterior(data2, prior = .)"
   ]
  },
  {
   "cell_type": "markdown",
   "metadata": {},
   "source": [
    "Note that this exactly matches the probabilities we calculated when we provided \n",
    "the outcome of two plays all at once.\n",
    "\n",
    "### Question 4\n",
    "Use the `bandit_posterior` function to calculate the posterior probabilities of \n",
    "Machine 1 and 2 being \"good\" after playing Machine 1 twice and winning both \n",
    "times, and then playing Machine 2 three times with 2 wins then 1 loss.\n",
    "\n",
    "1. $P(M_1\\text{ is good}~|~\\text{data}) = 0.250$, <br/> $P(M_2\\text{ is good}~|~\\text{data}) = 0.750$\n",
    "2. $P(M_1\\text{ is good}~|~\\text{data}) = 0.429$, <br/> $P(M_2\\text{ is good}~|~\\text{data}) = 0.571$\n",
    "3. $P(M_1\\text{ is good}~|~\\text{data}) = 0.571$, <br/> $P(M_2\\text{ is good}~|~\\text{data}) = 0.429$\n",
    "4. $P(M_1\\text{ is good}~|~\\text{data}) = 0.750$, <br/>$P(M_2\\text{ is good}~|~\\text{data}) = 0.250$\n",
    "\n",
    "**Answer**: 3."
   ]
  },
  {
   "cell_type": "code",
   "execution_count": 12,
   "metadata": {
    "name": "Q4"
   },
   "outputs": [
    {
     "data": {
      "text/html": [
       "<style>\n",
       ".dl-inline {width: auto; margin:0; padding: 0}\n",
       ".dl-inline>dt, .dl-inline>dd {float: none; width: auto; display: inline-block}\n",
       ".dl-inline>dt::after {content: \":\\0020\"; padding-right: .5ex}\n",
       ".dl-inline>dt:not(:first-of-type) {padding-left: .5ex}\n",
       "</style><dl class=dl-inline><dt>m1_good</dt><dd>0.571428571428572</dd><dt>m2_good</dt><dd>0.428571428571428</dd></dl>\n"
      ],
      "text/latex": [
       "\\begin{description*}\n",
       "\\item[m1\\textbackslash{}\\_good] 0.571428571428572\n",
       "\\item[m2\\textbackslash{}\\_good] 0.428571428571428\n",
       "\\end{description*}\n"
      ],
      "text/markdown": [
       "m1_good\n",
       ":   0.571428571428572m2_good\n",
       ":   0.428571428571428\n",
       "\n"
      ],
      "text/plain": [
       "  m1_good   m2_good \n",
       "0.5714286 0.4285714 "
      ]
     },
     "metadata": {},
     "output_type": "display_data"
    }
   ],
   "source": [
    "# Type your code for Question 4 here\n",
    "data1 <- data.frame(machine = c(1), outcome = c(\"W\"))\n",
    "data2 <- data.frame(machine = c(1), outcome = c(\"W\"))\n",
    "data3 <- data.frame(machine = c(2), outcome = c(\"W\"))\n",
    "data4 <- data.frame(machine = c(2), outcome = c(\"W\"))\n",
    "data5 <- data.frame(machine = c(2), outcome = c(\"L\"))\n",
    "\n",
    "bandit_posterior(data1) %>% \n",
    "  bandit_posterior(data2, prior = .) %>%\n",
    "  bandit_posterior(data3, prior = .) %>%\n",
    "  bandit_posterior(data4, prior = .) %>%\n",
    "  bandit_posterior(data5, prior = .)"
   ]
  },
  {
   "cell_type": "markdown",
   "metadata": {},
   "source": [
    "### Question 5\n",
    "What would the posterior probabilities be if we had instead played Machine 2 \n",
    "first, playing three times with 2 wins and 1 loss, and then playing Machine 1 \n",
    "twice and winning both times?\n",
    "\n",
    "1. $P(M_1\\text{ is good}~|~\\text{data}) = 0.250$,<br/> $P(M_2\\text{ is good}~|~\\text{data}) = 0.750$\n",
    "2. $P(M_1\\text{ is good}~|~\\text{data}) = 0.429$,<br/> $P(M_2\\text{ is good}~|~\\text{data}) = 0.571$\n",
    "3. $P(M_1\\text{ is good}~|~\\text{data}) = 0.571$,<br/> $P(M_2\\text{ is good}~|~\\text{data}) = 0.429$\n",
    "4. $P(M_1\\text{ is good}~|~\\text{data}) = 0.750$,<br/> $P(M_2\\text{ is good}~|~\\text{data}) = 0.250$\n",
    "\n",
    "**Answer**: 3."
   ]
  },
  {
   "cell_type": "code",
   "execution_count": 14,
   "metadata": {
    "lines_to_next_cell": 2,
    "name": "Q5"
   },
   "outputs": [
    {
     "data": {
      "text/html": [
       "<style>\n",
       ".dl-inline {width: auto; margin:0; padding: 0}\n",
       ".dl-inline>dt, .dl-inline>dd {float: none; width: auto; display: inline-block}\n",
       ".dl-inline>dt::after {content: \":\\0020\"; padding-right: .5ex}\n",
       ".dl-inline>dt:not(:first-of-type) {padding-left: .5ex}\n",
       "</style><dl class=dl-inline><dt>m1_good</dt><dd>0.571428571428571</dd><dt>m2_good</dt><dd>0.428571428571429</dd></dl>\n"
      ],
      "text/latex": [
       "\\begin{description*}\n",
       "\\item[m1\\textbackslash{}\\_good] 0.571428571428571\n",
       "\\item[m2\\textbackslash{}\\_good] 0.428571428571429\n",
       "\\end{description*}\n"
      ],
      "text/markdown": [
       "m1_good\n",
       ":   0.571428571428571m2_good\n",
       ":   0.428571428571429\n",
       "\n"
      ],
      "text/plain": [
       "  m1_good   m2_good \n",
       "0.5714286 0.4285714 "
      ]
     },
     "metadata": {},
     "output_type": "display_data"
    }
   ],
   "source": [
    "# Type your code for Question 5 here\n",
    "data1 <- data.frame(machine = c(2), outcome = c(\"W\"))\n",
    "data2 <- data.frame(machine = c(2), outcome = c(\"W\"))\n",
    "data3 <- data.frame(machine = c(2), outcome = c(\"L\"))\n",
    "data4 <- data.frame(machine = c(1), outcome = c(\"W\"))\n",
    "data5 <- data.frame(machine = c(1), outcome = c(\"W\"))\n",
    "\n",
    "bandit_posterior(data1) %>% \n",
    "  bandit_posterior(data2, prior = .) %>%\n",
    "  bandit_posterior(data3, prior = .) %>%\n",
    "  bandit_posterior(data4, prior = .) %>%\n",
    "  bandit_posterior(data5, prior = .)"
   ]
  },
  {
   "cell_type": "markdown",
   "metadata": {},
   "source": [
    "<div class=\"exercise\">\n",
    "Confirm the updating property we discussed previously by connecting two calls of \n",
    "`bandit_posterior` in Question 4. The first call calculates the posterior \n",
    "probability for the first two plays on Machine 1. The second call should use \n",
    "these values as its prior and then calculate a new posterior using the data from \n",
    "the subsequent three plays on Machine 2.\n",
    "</div>"
   ]
  },
  {
   "cell_type": "code",
   "execution_count": 16,
   "metadata": {
    "lines_to_next_cell": 0,
    "name": "E3"
   },
   "outputs": [
    {
     "data": {
      "text/html": [
       "<style>\n",
       ".dl-inline {width: auto; margin:0; padding: 0}\n",
       ".dl-inline>dt, .dl-inline>dd {float: none; width: auto; display: inline-block}\n",
       ".dl-inline>dt::after {content: \":\\0020\"; padding-right: .5ex}\n",
       ".dl-inline>dt:not(:first-of-type) {padding-left: .5ex}\n",
       "</style><dl class=dl-inline><dt>m1_good</dt><dd>0.692307692307692</dd><dt>m2_good</dt><dd>0.307692307692308</dd></dl>\n"
      ],
      "text/latex": [
       "\\begin{description*}\n",
       "\\item[m1\\textbackslash{}\\_good] 0.692307692307692\n",
       "\\item[m2\\textbackslash{}\\_good] 0.307692307692308\n",
       "\\end{description*}\n"
      ],
      "text/markdown": [
       "m1_good\n",
       ":   0.692307692307692m2_good\n",
       ":   0.307692307692308\n",
       "\n"
      ],
      "text/plain": [
       "  m1_good   m2_good \n",
       "0.6923077 0.3076923 "
      ]
     },
     "metadata": {},
     "output_type": "display_data"
    }
   ],
   "source": [
    "# Type your code for Exercise 3 here\n",
    "\n",
    "data1 <- data.frame(machine = c(1), outcome = c(\"W\"))\n",
    "data2 <- data.frame(machine = c(1), outcome = c(\"W\"))\n",
    "\n",
    "\n",
    "bandit_posterior(data1) %>% \n",
    "  bandit_posterior(data2, prior = .)"
   ]
  },
  {
   "cell_type": "code",
   "execution_count": 17,
   "metadata": {},
   "outputs": [
    {
     "data": {
      "text/html": [
       "<style>\n",
       ".dl-inline {width: auto; margin:0; padding: 0}\n",
       ".dl-inline>dt, .dl-inline>dd {float: none; width: auto; display: inline-block}\n",
       ".dl-inline>dt::after {content: \":\\0020\"; padding-right: .5ex}\n",
       ".dl-inline>dt:not(:first-of-type) {padding-left: .5ex}\n",
       "</style><dl class=dl-inline><dt>m1_good</dt><dd>0.571428571428571</dd><dt>m2_good</dt><dd>0.428571428571429</dd></dl>\n"
      ],
      "text/latex": [
       "\\begin{description*}\n",
       "\\item[m1\\textbackslash{}\\_good] 0.571428571428571\n",
       "\\item[m2\\textbackslash{}\\_good] 0.428571428571429\n",
       "\\end{description*}\n"
      ],
      "text/markdown": [
       "m1_good\n",
       ":   0.571428571428571m2_good\n",
       ":   0.428571428571429\n",
       "\n"
      ],
      "text/plain": [
       "  m1_good   m2_good \n",
       "0.5714286 0.4285714 "
      ]
     },
     "metadata": {},
     "output_type": "display_data"
    }
   ],
   "source": [
    "prior <- c(0.692307692307692, 0.307692307692308)\n",
    "\n",
    "data3 <- data.frame(machine = c(2), outcome = c(\"W\"))\n",
    "data4 <- data.frame(machine = c(2), outcome = c(\"W\"))\n",
    "data5 <- data.frame(machine = c(2), outcome = c(\"L\"))\n",
    "\n",
    "\n",
    "bandit_posterior(data3, prior = prior) %>%\n",
    "  bandit_posterior(data4, prior = .) %>%\n",
    "  bandit_posterior(data5, prior = .)"
   ]
  },
  {
   "cell_type": "markdown",
   "metadata": {},
   "source": [
    "## Back to the Bandits\n",
    "\n",
    "You may have notice that if you click on the Data tab in the middle of the App \n",
    "above you are given code for a data frame that represents the results of your \n",
    "plays within the machine. \n",
    "\n",
    "\n",
    "**Exercise**: Use this data frame with the `bandit_posterior` function to \n",
    "calculate the exact posterior probability of each machine being \"good\". Do these \n",
    "probabilities match with your intuition about which machine was good? \n",
    "</div>"
   ]
  },
  {
   "cell_type": "code",
   "execution_count": null,
   "metadata": {
    "name": "E4"
   },
   "outputs": [],
   "source": [
    "# Type your code for Exercise 4 here"
   ]
  },
  {
   "cell_type": "markdown",
   "metadata": {},
   "source": [
    "<div class=\"exercise\">\n",
    "Reset the simulation and then play at least *50* times. Suppose you pause after \n",
    "every 10 plays and record the results of that 10 plays, that is, subset the data \n",
    "into `data[1:10]`, `data[11:20]` and so on to represent the results of each 10 \n",
    "plays. Then use the chaining method we discussed earlier to **update** the \n",
    "posterior probability **sequentially** after we have finished the next 10 plays. \n",
    "Observe how the posterior probability changes as more plays are made.\n",
    "</div>"
   ]
  },
  {
   "cell_type": "code",
   "execution_count": null,
   "metadata": {
    "name": "E5"
   },
   "outputs": [],
   "source": [
    "# Type your code for Exercise 5 here"
   ]
  },
  {
   "cell_type": "markdown",
   "metadata": {},
   "source": [
    "We can visualize how these posterior probabilities update using the `plot_bandit_posterior` function. This function calculates and plots the \n",
    "posterior probability after each play. Here is an example to visualize the \n",
    "posterior probability of the two machines."
   ]
  },
  {
   "cell_type": "code",
   "execution_count": 18,
   "metadata": {},
   "outputs": [
    {
     "data": {
      "image/png": "[encoded data removed]",
      "text/plain": [
       "plot without title"
      ]
     },
     "metadata": {
      "image/png": {
       "height": 420,
       "width": 420
      }
     },
     "output_type": "display_data"
    }
   ],
   "source": [
    "# Store play results for each Machine into `data`\n",
    "data <- data.frame(machine = c(rep(1, 20), rep(2, 20)),\n",
    "                  outcome = c(\"L\", \"W\", \"W\", \"W\", \"L\", \"L\", \"L\", \"W\", \"W\", \"L\", \n",
    "                              \"L\", \"W\", \"W\", \"W\", \"W\", \"L\", \"W\", \"L\", \"L\", \"L\", \n",
    "                              \"W\", \"L\", \"L\", \"W\", \"L\", \"L\", \"L\", \"W\", \"L\", \"W\", \n",
    "                              \"L\", \"L\", \"W\", \"L\", \"L\", \"L\", \"W\", \"W\", \"L\", \"W\"))\n",
    "                              \n",
    "# Calculate posterior probabilities after each play and plot the result \n",
    "plot_bandit_posterior(data)"
   ]
  },
  {
   "cell_type": "markdown",
   "metadata": {},
   "source": [
    "Plot the result of your last 50 plays using the code `plot_bandit_posterior(data)` as shown in the example above, describe the pattern you see for the two posterior probabilities."
   ]
  },
  {
   "cell_type": "code",
   "execution_count": null,
   "metadata": {
    "name": "E6"
   },
   "outputs": [],
   "source": [
    "# Type your code for Exercise 6 here"
   ]
  },
  {
   "cell_type": "markdown",
   "metadata": {},
   "source": [
    "### Question 6\n",
    "From the plot generated in the example above, we can see that the posterior probabilities for Machine 1 and Machine 2 mirror each other. Why will this happen?\n",
    "\n",
    "1. $P(M_1~|~\\text{data})$ and $P(M_2~|~\\text{data})$ are complementary\n",
    "2. Machine 1 and Machine 2 being \"good\" are mutually exclusive events\n",
    "3. Both of the above\n",
    "\n",
    "**Answer**: 3.\n",
    "\n",
    "\n",
    "This work is licensed under [GNU General Public License v3.0](https://www.gnu.org/licenses/quick-guide-gplv3.html)."
   ]
  },
  {
   "cell_type": "code",
   "execution_count": null,
   "metadata": {},
   "outputs": [],
   "source": []
  }
 ],
 "metadata": {
  "jupytext": {
   "cell_metadata_filter": "name,tags,error,message,-all",
   "main_language": "R",
   "notebook_metadata_filter": "-all"
  },
  "kernelspec": {
   "display_name": "R",
   "language": "R",
   "name": "ir"
  },
  "language_info": {
   "codemirror_mode": "r",
   "file_extension": ".r",
   "mimetype": "text/x-r-source",
   "name": "R",
   "pygments_lexer": "r",
   "version": "4.1.0"
  }
 },
 "nbformat": 4,
 "nbformat_minor": 4
}
