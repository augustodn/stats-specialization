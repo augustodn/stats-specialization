{
 "cells": [
  {
   "cell_type": "markdown",
   "metadata": {},
   "source": [
    "Complete all **Exercises**, and submit answers to **Questions** in the **Quiz: Week 2 Lab** on Coursera.\n",
    "\n",
    "\n",
    "## Getting Started\n",
    "\n",
    "### Load packages\n",
    "\n",
    "In this lab we will explore some basic Bayesian inference using conjugate priors \n",
    "and credible intervals to examine some categorical and count data from the \n",
    "[CDC's Behavioral Risk Factor Surveillance System](http://www.cdc.gov/brfss/) \n",
    "(BRFSS). A subset of these data from 2013 have been made available in the \n",
    "`statsr` package, as usual we will first load the package and then the data set. \n",
    "\n",
    "Let's load the package,"
   ]
  },
  {
   "cell_type": "code",
   "execution_count": 1,
   "metadata": {
    "message": false,
    "name": "load-packages"
   },
   "outputs": [
    {
     "name": "stderr",
     "output_type": "stream",
     "text": [
      "── \u001b[1mAttaching packages\u001b[22m ─────────────────────────────────────── tidyverse 1.3.1 ──\n",
      "\n",
      "\u001b[32m✔\u001b[39m \u001b[34mggplot2\u001b[39m 3.3.4     \u001b[32m✔\u001b[39m \u001b[34mpurrr  \u001b[39m 0.3.4\n",
      "\u001b[32m✔\u001b[39m \u001b[34mtibble \u001b[39m 3.1.2     \u001b[32m✔\u001b[39m \u001b[34mdplyr  \u001b[39m 1.0.6\n",
      "\u001b[32m✔\u001b[39m \u001b[34mtidyr  \u001b[39m 1.1.3     \u001b[32m✔\u001b[39m \u001b[34mstringr\u001b[39m 1.4.0\n",
      "\u001b[32m✔\u001b[39m \u001b[34mreadr  \u001b[39m 2.0.0     \u001b[32m✔\u001b[39m \u001b[34mforcats\u001b[39m 0.5.1\n",
      "\n",
      "── \u001b[1mConflicts\u001b[22m ────────────────────────────────────────── tidyverse_conflicts() ──\n",
      "\u001b[31m✖\u001b[39m \u001b[34mdplyr\u001b[39m::\u001b[32mfilter()\u001b[39m masks \u001b[34mstats\u001b[39m::filter()\n",
      "\u001b[31m✖\u001b[39m \u001b[34mdplyr\u001b[39m::\u001b[32mlag()\u001b[39m    masks \u001b[34mstats\u001b[39m::lag()\n",
      "\n",
      "Loading required package: BayesFactor\n",
      "\n",
      "Loading required package: coda\n",
      "\n",
      "Loading required package: Matrix\n",
      "\n",
      "\n",
      "Attaching package: ‘Matrix’\n",
      "\n",
      "\n",
      "The following objects are masked from ‘package:tidyr’:\n",
      "\n",
      "    expand, pack, unpack\n",
      "\n",
      "\n",
      "************\n",
      "Welcome to BayesFactor 0.9.12-4.2. If you have questions, please contact Richard Morey (richarddmorey@gmail.com).\n",
      "\n",
      "Type BFManual() to open the manual.\n",
      "************\n",
      "\n"
     ]
    }
   ],
   "source": [
    "library(tidyverse)\n",
    "library(statsr)\n",
    "data(brfss)"
   ]
  },
  {
   "cell_type": "markdown",
   "metadata": {},
   "source": [
    "This data set contains 5000 observations of 6 variables:\n",
    "\n",
    "variable         | description\n",
    "---------------- | ---------------------------------------------\n",
    "`weight`         |  Respondent's weight in pounds.\n",
    "`height`         |  Respondent's height in inches.\n",
    "`sex`            |  Respondent's sex\n",
    "`exercise`       |  Has the respondent exercised in the last 30 days\n",
    "`fruit_per_day`  |  How many servings of fruit does the respondent consume per day\n",
    "`vege_per_day`   |  How many servings of dark green vegetables does the respondent consume per day"
   ]
  },
  {
   "cell_type": "markdown",
   "metadata": {},
   "source": [
    "## Credible Interval Calculator\n",
    "\n",
    "Recall that probability distribution (prior/posterior distribution) of a \n",
    "parameter that describes the distribution of the data is given by:\n",
    "\n",
    "$$\\begin{align*}\n",
    "\\text{Beta distribution} ~-~ & \\pi(p; \\alpha, \\beta) = \\text{Beta}(\\alpha, \\beta)\\\\\n",
    "\\text{Gamma distribution} ~-~ & \\pi(\\lambda; \\alpha, \\beta) = \\text{Gamma}(\\alpha, \\beta)\\\\\n",
    "\\text{Normal distribution} ~-~ & \\pi(\\mu; \\nu, \\tau) = \\mathscr{N}(\\nu, \\tau)\n",
    "\\end{align*}$$\n",
    "\n",
    "Here, $p$, $\\lambda$, and $\\mu$ are the variables of their own distributions \n",
    "(the values of them define the distributions of the data), and other parameters \n",
    "such as $\\alpha,\\ \\beta,\\ \\nu$, and $\\tau$ are the parameters of the \n",
    "distributions of $p$, $\\lambda$, and $\\mu$.\n",
    "\n",
    "(**Note:** In this lab, we use the following definition of Gamma distribution:\n",
    "$$ \\pi(\\lambda; \\alpha, \\beta) = \\text{Gamma}(\\alpha, \\beta) = \\frac{\\beta^\\alpha}{\\Gamma(\\alpha)}\\lambda^{\\alpha-1}e^{-\\beta\\lambda}$$\n",
    "This definition of the Gamma distribution is different from the one introduced \n",
    "in the video lecture.)\n",
    "\n",
    "Below is an interactive app for visualizing posterior distributions and credible \n",
    "intervals of $p$, $\\lambda$, and $\\mu$ given different values of parameters. We \n",
    "will use this app to explore how both our choice of prior distribution, as well \n",
    "as our data, affect the posterior distribution and the credible interval for \n",
    "$p$, $\\lambda$, and $\\mu$.\n",
    "\n",
    "Note that this app assumes you now the posterior distribution as well as the \n",
    "parameters of this distribution. In the remainder of the lab we will walk you \n",
    "through how to calculate the posterior distribution in the Beta-Binomial \n",
    "Conjugacy and the Gamma-Poisson Conjugacy cases based on real world data from \n",
    "`BRFSS`. Then you will be asked to calculate the credible interval using codes \n",
    "similar to the one shown under the graph of the app.\n",
    "\n",
    "First, let us do some exercises to learn how to use this app."
   ]
  },
  {
   "cell_type": "code",
   "execution_count": 4,
   "metadata": {
    "error": true
   },
   "outputs": [
    {
     "name": "stderr",
     "output_type": "stream",
     "text": [
      "\n",
      "Listening on http://127.0.0.1:4483\n",
      "\n"
     ]
    }
   ],
   "source": [
    "credible_interval_app()"
   ]
  },
  {
   "cell_type": "markdown",
   "metadata": {},
   "source": [
    "Suppose the posterior distribution of $\\mu$ follows a Normal distribution with \n",
    "mean 10 and variance 5. Which of the following are the bounds of a 95% credible \n",
    "interval for $\\mu$? Answer this question using the app.\n",
    "\n",
    "1. (-1.96, 1.96)\n",
    "2. (0.419, 0.872)\n",
    "3. (0.959, 3.417)\n",
    "4. (5.618, 14.382)\n",
    "\n",
    "\n",
    "**Answer**: 4.\n",
    "\n",
    "Confirm your answer by running the code given below the distribution plot in \n",
    "the app."
   ]
  },
  {
   "cell_type": "code",
   "execution_count": 6,
   "metadata": {
    "name": "normal-ci"
   },
   "outputs": [
    {
     "data": {
      "text/html": [
       "<style>\n",
       ".list-inline {list-style: none; margin:0; padding: 0}\n",
       ".list-inline>li {display: inline-block}\n",
       ".list-inline>li:not(:last-child)::after {content: \"\\00b7\"; padding: 0 .5ex}\n",
       "</style>\n",
       "<ol class=list-inline><li>5.61752053056844</li><li>14.3824794694316</li></ol>\n"
      ],
      "text/latex": [
       "\\begin{enumerate*}\n",
       "\\item 5.61752053056844\n",
       "\\item 14.3824794694316\n",
       "\\end{enumerate*}\n"
      ],
      "text/markdown": [
       "1. 5.61752053056844\n",
       "2. 14.3824794694316\n",
       "\n",
       "\n"
      ],
      "text/plain": [
       "[1]  5.617521 14.382479"
      ]
     },
     "metadata": {},
     "output_type": "display_data"
    }
   ],
   "source": [
    "# Type your code for Exercise 1 here.\n",
    "qnorm(c(0.025, 0.975), mean = 10, sd = 2.236)"
   ]
  },
  {
   "cell_type": "markdown",
   "metadata": {},
   "source": [
    "Suppose the posterior distribution of $p$ follows a Beta distribution with \n",
    "$\\alpha = 2$ and $\\beta = 5$. Which of the following are the bounds of a 90% \n",
    "credible interval for $p$? Answer this question using the app.\n",
    "\n",
    "* (-1.678, 5.678)\n",
    "* (0.043, 0.641)\n",
    "* (0.063, 0.582)\n",
    "* (0.071, 0.949)\n",
    "\n",
    "**Answer**: B\n",
    "\n",
    "Confirm your answer by running the code given below the distribution plot in \n",
    "the app."
   ]
  },
  {
   "cell_type": "code",
   "execution_count": 5,
   "metadata": {
    "lines_to_next_cell": 2,
    "name": "beta-ci"
   },
   "outputs": [
    {
     "data": {
      "text/html": [
       "<style>\n",
       ".list-inline {list-style: none; margin:0; padding: 0}\n",
       ".list-inline>li {display: inline-block}\n",
       ".list-inline>li:not(:last-child)::after {content: \"\\00b7\"; padding: 0 .5ex}\n",
       "</style>\n",
       "<ol class=list-inline><li>0.0628498917083544</li><li>0.581803409252026</li></ol>\n"
      ],
      "text/latex": [
       "\\begin{enumerate*}\n",
       "\\item 0.0628498917083544\n",
       "\\item 0.581803409252026\n",
       "\\end{enumerate*}\n"
      ],
      "text/markdown": [
       "1. 0.0628498917083544\n",
       "2. 0.581803409252026\n",
       "\n",
       "\n"
      ],
      "text/plain": [
       "[1] 0.06284989 0.58180341"
      ]
     },
     "metadata": {},
     "output_type": "display_data"
    }
   ],
   "source": [
    "# Type your code for the Exercise 2 here.\n",
    "qbeta(c(0.05, 0.95), shape1 = 2, shape2 = 5)"
   ]
  },
  {
   "cell_type": "markdown",
   "metadata": {},
   "source": [
    "Suppose the posterior distribution of $\\lambda$ follows a Gamma distribution \n",
    "with $\\alpha = 4$ and $\\beta = 8$. Which of the following are the bounds of a \n",
    "99% credible interval for $\\lambda$? Answer this question using the app.\n",
    "\n",
    "* (-3.284, 11.284)\n",
    "* (0.069, 0.693)\n",
    "* (0.084, 1.372) <--\n",
    "* (0.171, 0.969)\n",
    "\n",
    "**Answer**: C\n",
    "\n",
    "Confirm your answer by running the code given below the distribution plot in \n",
    "the app."
   ]
  },
  {
   "cell_type": "code",
   "execution_count": 7,
   "metadata": {
    "lines_to_next_cell": 2,
    "name": "gamma-ci"
   },
   "outputs": [
    {
     "data": {
      "text/html": [
       "<style>\n",
       ".list-inline {list-style: none; margin:0; padding: 0}\n",
       ".list-inline>li {display: inline-block}\n",
       ".list-inline>li:not(:last-child)::after {content: \"\\00b7\"; padding: 0 .5ex}\n",
       "</style>\n",
       "<ol class=list-inline><li>0.0840258179384256</li><li>1.37218468691622</li></ol>\n"
      ],
      "text/latex": [
       "\\begin{enumerate*}\n",
       "\\item 0.0840258179384256\n",
       "\\item 1.37218468691622\n",
       "\\end{enumerate*}\n"
      ],
      "text/markdown": [
       "1. 0.0840258179384256\n",
       "2. 1.37218468691622\n",
       "\n",
       "\n"
      ],
      "text/plain": [
       "[1] 0.08402582 1.37218469"
      ]
     },
     "metadata": {},
     "output_type": "display_data"
    }
   ],
   "source": [
    "# Type your code for the Exercise 3 here.\n",
    "qgamma(c(0.005, 0.995), shape = 4, rate = 8)"
   ]
  },
  {
   "cell_type": "markdown",
   "metadata": {
    "lines_to_next_cell": 0
   },
   "source": [
    "## Beta-Binomial Conjugacy\n",
    "\n",
    "As we discussed in the videos, the Beta distribution is conjugate to the \n",
    "Binomial distribution - meaning that if we use a Beta prior for the parameter \n",
    "$p$ of the Binomial distribution then the posterior distribution of $p$ after \n",
    "observing data will be another Beta distribution. \n",
    "\n",
    "$$ \\pi(p) = \\text{Beta}(a, b) $$\n",
    "$$ x\\,|\\,n,p ~\\sim~ \\text{Binom}(n,p) $$\n",
    "$$ p \\,|\\, x,n ~\\sim~ \\text{Beta}(\\alpha, \\beta).$$\n",
    "\n",
    "Our goal with inference in general is to take specific observations (data) and \n",
    "use them to make useful statements about unknown population parameters of \n",
    "interest. The Beta-Binomial Conjugacy is a Bayesian approach for inference about \n",
    "a single population proportion $p$. Whereas with the frequentist approach we \n",
    "used $\\hat{p} = x / n$ we will now just use $x$ and $n$ directly with $x$ being \n",
    "the number of successes obtained from $n$ identical Bernoulli trials. (A \n",
    "Bernoulli trial is a random experiment with exactly two possible outcomes, \n",
    "\"success\" and \"failure\", in which the probability of success is the same every \n",
    "time the experiment is conducted.) As such, we can view $x$ as a Binomial random \n",
    "variable with $n$ the number of trials, and $p$ the probability of success.\n",
    " \n",
    "To complete our Bayesian approach of inference, all we need is to define our \n",
    "prior beliefs for $p$ by defining a prior distribution. Our choice of the prior \n",
    "hyperparameters ($a$ and $b$) should reflect our prior beliefs about $p$. In \n",
    "the following, we will use the term **hyperparameter** to define parameters of \n",
    "prior/posterior distributions, and the term **parameter** to define the unknown \n",
    "parameters of the likelihood, such as $p$. For most conjugate distributions \n",
    "there is usually a straight forward interpretation of these hyperparameters as \n",
    "the previously observed data -- in the case of the Beta-Binomial Conjugacy, we \n",
    "can think of our hyperparameters as representing $a-1$ previous successes and $b-1$ previous failures.\n",
    "\n",
    "### Data and the updating rule\n",
    "\n",
    "We will start by performing inference on the sex ratio of respondents to \n",
    "`BRFSS`, we can define success as being `Female` and we would like to make \n",
    "some statement about the overall sex ratio of American adults based on our \n",
    "sample from `BRFSS`. We will do this by estimating $p$, the true proportion \n",
    "of females in the American population, using credible intervals. For each \n",
    "credible interval you compute, always check back in with your intuition, which \n",
    "hopefully says that $p$ should be around 0.5 since we would expect roughly 50% \n",
    "females and 50% males in the population.\n",
    "\n",
    "Here is the observed sex distribution in the data:"
   ]
  },
  {
   "cell_type": "code",
   "execution_count": 8,
   "metadata": {},
   "outputs": [
    {
     "data": {
      "text/plain": [
       "\n",
       "  Male Female \n",
       "  2414   2586 "
      ]
     },
     "metadata": {},
     "output_type": "display_data"
    }
   ],
   "source": [
    "table(brfss$sex)"
   ]
  },
  {
   "cell_type": "markdown",
   "metadata": {
    "lines_to_next_cell": 0
   },
   "source": [
    "Let's store the relevant, total sample size and number of females, for use in \n",
    "later calculations:"
   ]
  },
  {
   "cell_type": "code",
   "execution_count": 9,
   "metadata": {},
   "outputs": [],
   "source": [
    "n <- length(brfss$sex)\n",
    "x <- sum(brfss$sex == \"Female\")"
   ]
  },
  {
   "cell_type": "markdown",
   "metadata": {},
   "source": [
    "For each observed data point from a Binomial ($n$ and $x$) we can calculate \n",
    "the values of the posterior parameters using the following updating rule:\n",
    "\n",
    "$$ \\alpha = a + x $$\n",
    "$$ \\beta = b + n - x $$\n",
    "\n",
    "From the data we now have $x = `r x`$ (the number of females), and \n",
    "$n - x = `r n - x`$ (the number of males). We'll start with a Beta prior where \n",
    "$a = 1$ and $b = 1$. Remember that this is equivalent to a Uniform distribution. \n",
    "By combining the data with the prior, we arrive at a posterior where \n",
    "\n",
    "$$ p \\,|\\, x,n ~\\sim~ \\text{Beta}(\\alpha = 1 + `r x`,~ \\beta = 1 + `r n - x`) $$\n",
    "\n",
    "\n",
    "What is the 95% credible interval for $p$, the proportion of females in the \n",
    "population, based on the posterior distribution obtained with the updating rule \n",
    "shown above. Use the credible interval app to answer this question.\n",
    "\n",
    "* (0.500, 0.536)\n",
    "* (0.503, 0.531) \n",
    "* (0.507, 0.530)\n",
    "* (0.468, 0.496)\n",
    "\n",
    "**Answer**: C. (0.507, 0.530)\n"
   ]
  },
  {
   "cell_type": "code",
   "execution_count": 11,
   "metadata": {},
   "outputs": [
    {
     "data": {
      "text/html": [
       "<style>\n",
       ".list-inline {list-style: none; margin:0; padding: 0}\n",
       ".list-inline>li {display: inline-block}\n",
       ".list-inline>li:not(:last-child)::after {content: \"\\00b7\"; padding: 0 .5ex}\n",
       "</style>\n",
       "<ol class=list-inline><li>0.505568536976457</li><li>0.528809891176981</li></ol>\n"
      ],
      "text/latex": [
       "\\begin{enumerate*}\n",
       "\\item 0.505568536976457\n",
       "\\item 0.528809891176981\n",
       "\\end{enumerate*}\n"
      ],
      "text/markdown": [
       "1. 0.505568536976457\n",
       "2. 0.528809891176981\n",
       "\n",
       "\n"
      ],
      "text/plain": [
       "[1] 0.5055685 0.5288099"
      ]
     },
     "metadata": {},
     "output_type": "display_data"
    }
   ],
   "source": [
    "qbeta(c(0.05, 0.95), shape1 = 1+x, shape2 = 1+n-x)"
   ]
  },
  {
   "cell_type": "markdown",
   "metadata": {},
   "source": [
    "Which of the following is the correct Bayesian interpretation of this interval?\n",
    "\n",
    "1. The probability that the true proportion of females lies in this interval is either 0 or 1.\n",
    "2. The probability that the true proportion of females lies in this interval is 0.95.\n",
    "3. 95\\% of the time the true proportion of females is in this interval. \n",
    "4. 95\\% of true proportions of females are in this interval. \n",
    "\n",
    "**Answer**: 2.\n",
    "\n",
    "***\n",
    "Let's now use a more informative prior that reflects a **stronger** belief that \n",
    "the sex ratio should be 50-50. For this, we use a Beta prior with hyperparameters \n",
    "$a = 500$ and $b = 500$.\n",
    "\n",
    "<div class=\"exercise\">\n",
    "Confirm by plotting the following two Beta distributions $\\text{Beta}(a = 1, b = 1)$ \n",
    "and $\\text{Beta}(a = 500, b = 500)$ using the app above to show that the \n",
    "$\\text{Beta}(a = 500, b = 500)$ distribution is centered around 0.5 and much more \n",
    "narrow than the uniform distribution, i.e. $Beta(a = 1, b = 1)$.\n",
    "</div>\n",
    "\n",
    "<div class=\"question\">\n",
    "What is the 95% credible interval for $p$, the proportion of females in the \n",
    "population, based on a prior distribution of $\\text{Beta}(a = 500, b = 500)$. \n",
    "**Hint:** You need to determine the hyperparameters of the posterior distribution, \n",
    "then use the app to construct the credible interval.\n",
    "\n",
    "* (0.498, 0.531)\n",
    "* (0.500, 0.528)\n",
    "* (0.504, 0.532)\n",
    "* (0.502, 0.527) \n",
    "</div>\n",
    "\n",
    "Let's consider one other prior distribution: $\\text{Beta}(a = 5, b = 200)$. \n",
    "\n",
    "<div class=\"question\">\n",
    "Which is of the following is the center of the $\\text{Beta}(a = 5, b = 200)$ \n",
    "distribution? **Hint:** modify the code under the distribution plot to get the \n",
    "center.\n",
    "\n",
    "* approximately 0.03\n",
    "* approximately 0.15\n",
    "* approximately 0.50\n",
    "* approximately 0.97\n",
    "</div>"
   ]
  },
  {
   "cell_type": "code",
   "execution_count": null,
   "metadata": {
    "name": "q7"
   },
   "outputs": [],
   "source": [
    "# Type your code for Question 7 here."
   ]
  },
  {
   "cell_type": "markdown",
   "metadata": {},
   "source": [
    "<div class=\"question\">\n",
    "What is the 95% credible interval for $p$, the proportion of females in the \n",
    "population, based on a prior distribution of $\\text{Beta}(a = 5, b = 200)$. \n",
    "**Hint:** You need to determine the posterior distribution first, then use the \n",
    "app to construct the credible interval.\n",
    "\n",
    "* (0.503, 0.531)\n",
    "* (0.499, 0.535)\n",
    "* (0.486, 0.509)\n",
    "* (0.484, 0.511)\n",
    "</div>\n",
    "\n",
    "In summary, when we used a prior distribution that was centered around a \n",
    "realistic value for $p$ (the center is around 0.5), the credible interval we \n",
    "obtained was also more realistic. However when we used a strong prior distribution \n",
    "that was centered around a clearly unrealistic value for $p$ (say the \n",
    "$\\text{Beta}(5, 200)$ prior), the credible interval we obtained did not match the \n",
    "distribution of the data (with the proportion of female respondents \n",
    "$2586/(2586+2414) \\approx 0.517$). Hence, a good prior helps, however a bad \n",
    "prior can hurt your results. \n",
    "\n",
    "Next, let's turn our attention to the `exercise` variable, which indicates \n",
    "whether the respondent exercised in the last 30 days. While for the `sex` variable \n",
    "we had some intuition about the true proportion of females (we would expect it \n",
    "to be around 0.5), many of us probably do not have a strong prior belief about \n",
    "the proportion of Americans who exercise. In this case we would be more inclined \n",
    "to use a non-informative prior, e.g. a uniform distribution, which says that $p$ \n",
    "is equally likely to be anywhere between 0 and 1.\n",
    "\n",
    "Here is the observed exercise distribution in the data:"
   ]
  },
  {
   "cell_type": "code",
   "execution_count": null,
   "metadata": {},
   "outputs": [],
   "source": [
    "table(brfss$exercise)"
   ]
  },
  {
   "cell_type": "markdown",
   "metadata": {},
   "source": [
    "<div class=\"question\">\n",
    "What is the 90% credible interval for $p$, the proportion of Americans who \n",
    "exercise, based on a uniform prior distribution?\n",
    "\n",
    "* (0.762, 0.785)\n",
    "* (0.764, 0.783) \n",
    "* (0.718, 0.737)\n",
    "* (0.758, 0.789)\n",
    "</div>"
   ]
  },
  {
   "cell_type": "markdown",
   "metadata": {},
   "source": [
    "## Gamma-Poisson Conjugacy\n",
    "\n",
    "Since the Poisson distribution describes the number of counts in a given \n",
    "interval, we will use this distribution to model the `fruit_per_day` variable \n",
    "which records the servings of fruit the respondents consume per day. The Poisson \n",
    "distribution has a single parameter, $\\lambda$, which is the expected number of \n",
    "counts per time period. \n",
    "\n",
    "The Gamma-Poisson conjugacy is another example of conjugate families where we use \n",
    "the Gamma distribution as the prior for the count parameter $\\lambda$. In this \n",
    "lab, we use the following definition of Gamma distribution:\n",
    "$$ \\pi(\\pi; \\alpha, \\beta) = \\text{Gamma}(\\alpha, \\beta) = \\frac{\\beta^\\alpha}{\\Gamma(\\alpha)}\\lambda^{\\alpha-1}e^{-\\beta\\lambda}$$\n",
    "\n",
    "With Bayes' Rule and the likelihood which is given by the Poisson distribution, \n",
    "we will get a Gamma posterior for $\\lambda$.\n",
    "\n",
    "$$ \\pi(\\lambda) = \\text{Gamma}(a,b) $$\n",
    "$$ x\\,|\\,\\lambda ~\\sim~ \\text{Poisson}(\\lambda) $$\n",
    "$$ \\lambda \\,|\\, x ~\\sim~ \\text{Gamma}(\\alpha,\\beta).$$\n",
    "\n",
    "Once again, our choice of the prior parameters ($a$ and $b$) should reflect our \n",
    "prior beliefs about the parameter $\\lambda$. In the case of the Gamma-Poisson \n",
    "conjugacy, we can view $a$ as the number of total counts and $b$ as the prior \n",
    "number of observations. For example, setting $a = 12$ and $b = 3$ reflects a \n",
    "belief based on data that 3 respondents on average consume a total of 12 fruits \n",
    "per day. At a first glance, this might sound equivalent to setting $a = 4$ and \n",
    "$b = 1$ or $a = 120$ and $b = 30$, however these three distributions, \n",
    "$Gamma(a = 4, b = 1)$, $Gamma(a = 12, b = 3)$, and $Gamma(a = 120, b = 30)$, \n",
    "while they all have the same expected value 4, differ in their spreads which \n",
    "indicates a different degree of belief about the parameter $\\lambda$.\n",
    "\n",
    "<div class=\"exercise\">\n",
    "Use the app to plot the following three prior Gamma distributions, \n",
    "$Gamma(a = 4, b = 1)$, $Gamma(a = 12, b = 3)$, and $Gamma(a = 120, b = 30)$. \n",
    "Confirm that they all have the same center but different spreads. Order them in \n",
    "ascending order of spreads, from least to most variable.\n",
    "</div>\n",
    "\n",
    "### Data and the updating rule\n",
    "\n",
    "For each observed data point from the Poisson distribution ($x$) we can calculate \n",
    "the values of the posterior parameters using the following updating rule:\n",
    "\n",
    "$$ \\alpha = a + x $$\n",
    "$$ \\beta = b + 1 $$\n",
    "\n",
    "However in this case we have 5000 observations and we would like to avoid updates \n",
    "every single count individually. As we saw last week, we can use our subsequentially \n",
    "updated posterior as a new prior. As such, a more general multi-observation \n",
    "updating rule is\n",
    "\n",
    "$$ \\alpha = a + \\sum_{i = 1}^n x_i $$\n",
    "$$ \\beta = b + n $$\n",
    "\n",
    "<div class=\"question\">\n",
    "Using the multi-observation updating rule, what should the posterior distribution \n",
    "be when the hyperparameters of the Gamma prior are $a = 4$ and $b = 1$, and we \n",
    "have observed the data $x = \\{2, 3, 4, 5, 4\\}$.\n",
    "\n",
    "* Gamma($a = 22$, $b = 6$) \n",
    "* Gamma($a = 18$, $b = 5$)\n",
    "* Gamma($a = 18$, $b = 6$)\n",
    "* Gamma($a = 19$, $b = 8$)\n",
    "</div>"
   ]
  },
  {
   "cell_type": "code",
   "execution_count": null,
   "metadata": {
    "name": "q10"
   },
   "outputs": [],
   "source": [
    "# Type your code for Question 10 here."
   ]
  },
  {
   "cell_type": "markdown",
   "metadata": {},
   "source": [
    "<div class=\"question\">\n",
    "The government recommends that Americans consume approximately 5 servings of \n",
    "fruits per day. Which of the following represents a weak prior that Americans \n",
    "on average follow this recommendation?\n",
    "\n",
    "* Gamma($a = 1$, $b = 5$)\n",
    "* Gamma($a = 5$, $b = 1$)\n",
    "* Gamma($a = 100$, $b = 500$)\n",
    "* Gamma($a = 500$, $b = 100$)\n",
    "</div>\n",
    "\n",
    "<div class=\"question\">\n",
    "Using the correct prior distribution from the previous question and the data of \n",
    "`fruit_per_day` in the `BRFSS` dataset, calculate the hyperparameters of the \n",
    "posterior distribution.\n",
    "\n",
    "* Gamma($\\alpha = 8114$, $\\beta = 5000$)\n",
    "* Gamma($\\alpha = 8118$, $\\beta = 5001$)\n",
    "* Gamma($\\alpha = 8119$, $\\beta = 5001$)\n",
    "* Gamma($\\alpha = 8115$, $\\beta = 5005$)\n",
    "</div>"
   ]
  },
  {
   "cell_type": "code",
   "execution_count": null,
   "metadata": {
    "lines_to_next_cell": 2,
    "name": "q12"
   },
   "outputs": [],
   "source": [
    "# Type your code for Question 12 here."
   ]
  },
  {
   "cell_type": "markdown",
   "metadata": {},
   "source": [
    "<div class=\"question\">\n",
    "Using the correct posterior distribution from the previous question, calculate \n",
    "the 90% credible interval for $\\lambda$, the expected number of servings of \n",
    "fruit Americans consume per day.\n",
    "\n",
    "* (1.575, 1.668) \n",
    "* (1.588, 1.659) \n",
    "* (1.592, 1.651) \n",
    "* (1.594, 1.653) \n",
    "</div>\n",
    "\n",
    "<div class=\"question\">\n",
    "Based on this result, do Americans appear to follow the government guidelines \n",
    "which recommend consuming 5 servings of fruits per day?\n",
    "\n",
    "* Yes\n",
    "* No\n",
    "</div>"
   ]
  },
  {
   "cell_type": "markdown",
   "metadata": {},
   "source": [
    "<div class=\"exercise\">\n",
    "Repeat the preceding analysis for number of servings of vegetables per day \n",
    "(`vege_per_day`), and evaluate whether Americans follow the government guidelines \n",
    "which recommend consuming 5 servings of vegetables per day.\n",
    "</div>"
   ]
  },
  {
   "cell_type": "code",
   "execution_count": null,
   "metadata": {
    "name": "veg_day"
   },
   "outputs": [],
   "source": [
    "# Type your code for the Exercise 6 here."
   ]
  },
  {
   "cell_type": "markdown",
   "metadata": {},
   "source": [
    "<div class=\"license\">\n",
    "This work is licensed under [GNU General Public License v3.0](https://www.gnu.org/licenses/quick-guide-gplv3.html).\n",
    "</div>"
   ]
  }
 ],
 "metadata": {
  "jupytext": {
   "cell_metadata_filter": "name,tags,message,error,-all",
   "main_language": "R",
   "notebook_metadata_filter": "-all"
  },
  "kernelspec": {
   "display_name": "R",
   "language": "R",
   "name": "ir"
  },
  "language_info": {
   "codemirror_mode": "r",
   "file_extension": ".r",
   "mimetype": "text/x-r-source",
   "name": "R",
   "pygments_lexer": "r",
   "version": "4.1.0"
  }
 },
 "nbformat": 4,
 "nbformat_minor": 4
}
