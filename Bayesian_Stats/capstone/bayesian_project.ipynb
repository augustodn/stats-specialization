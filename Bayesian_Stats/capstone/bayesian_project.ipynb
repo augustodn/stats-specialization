{
 "cells": [
  {
   "cell_type": "markdown",
   "metadata": {},
   "source": [
    "## Setup\n",
    "\n",
    "### Load packages"
   ]
  },
  {
   "cell_type": "code",
   "execution_count": null,
   "metadata": {
    "message": false,
    "name": "load-packages"
   },
   "outputs": [],
   "source": [
    "library(ggplot2)\n",
    "library(dplyr)\n",
    "library(statsr)\n",
    "library(BAS)"
   ]
  },
  {
   "cell_type": "markdown",
   "metadata": {},
   "source": [
    "### Load data\n",
    "\n",
    "Make sure your data and R Markdown files are in the same directory. When loaded\n",
    "your data file will be called `movies`. Delete this note when before you submit \n",
    "your work. "
   ]
  },
  {
   "cell_type": "code",
   "execution_count": null,
   "metadata": {
    "lines_to_next_cell": 0,
    "name": "load-data"
   },
   "outputs": [],
   "source": [
    "#load(\"movies.Rdata\")"
   ]
  },
  {
   "cell_type": "markdown",
   "metadata": {},
   "source": []
  },
  {
   "cell_type": "markdown",
   "metadata": {},
   "source": [
    "* * *\n",
    "\n",
    "## Part 1: Data"
   ]
  },
  {
   "cell_type": "markdown",
   "metadata": {},
   "source": [
    "* * *\n",
    "\n",
    "## Part 2: Data manipulation\n",
    "\n",
    "NOTE: Insert code chunks as needed by clicking on the \"Insert a new code chunk\" \n",
    "button above. Make sure that your code is visible in the project you submit. \n",
    "Delete this note when before you submit your work.\n",
    "\n",
    "* * *\n",
    "\n",
    "## Part 3: Exploratory data analysis\n",
    "\n",
    "NOTE: Insert code chunks as needed by clicking on the \"Insert a new code chunk\" \n",
    "button above. Make sure that your code is visible in the project you submit. \n",
    "Delete this note when before you submit your work.\n",
    "\n",
    "* * *\n",
    "\n",
    "## Part 4: Modeling\n",
    "\n",
    "NOTE: Insert code chunks as needed by clicking on the \"Insert a new code chunk\" \n",
    "button above. Make sure that your code is visible in the project you submit. \n",
    "Delete this note when before you submit your work.\n",
    "\n",
    "* * *\n",
    "\n",
    "## Part 5: Prediction\n",
    "\n",
    "NOTE: Insert code chunks as needed by clicking on the \"Insert a new code chunk\" \n",
    "button above. Make sure that your code is visible in the project you submit. \n",
    "Delete this note when before you submit your work.\n",
    "\n",
    "* * *\n",
    "\n",
    "## Part 6: Conclusion\n"
   ]
  }
 ],
 "metadata": {
  "jupytext": {
   "cell_metadata_filter": "name,message,-all",
   "main_language": "R",
   "notebook_metadata_filter": "-all"
  }
 },
 "nbformat": 4,
 "nbformat_minor": 4
}
