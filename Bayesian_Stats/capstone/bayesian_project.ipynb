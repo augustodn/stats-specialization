{
 "cells": [
  {
   "cell_type": "markdown",
   "metadata": {},
   "source": [
    "## Setup\n",
    "\n",
    "### Load packages"
   ]
  },
  {
   "cell_type": "code",
   "execution_count": 1,
   "metadata": {
    "message": false,
    "name": "load-packages"
   },
   "outputs": [],
   "source": [
    "suppressPackageStartupMessages({\n",
    "library(ggplot2)\n",
    "library(dplyr)\n",
    "library(statsr)\n",
    "library(BAS)})"
   ]
  },
  {
   "cell_type": "markdown",
   "metadata": {},
   "source": [
    "### Load data\n",
    "\n",
    "Make sure your data and R Markdown files are in the same directory. When loaded\n",
    "your data file will be called `movies`. Delete this note when before you submit \n",
    "your work. "
   ]
  },
  {
   "cell_type": "code",
   "execution_count": 2,
   "metadata": {
    "lines_to_next_cell": 0,
    "name": "load-data"
   },
   "outputs": [],
   "source": [
    "load(\"movies.Rdata\")"
   ]
  },
  {
   "cell_type": "markdown",
   "metadata": {},
   "source": []
  },
  {
   "cell_type": "markdown",
   "metadata": {},
   "source": [
    "* * *\n",
    "\n",
    "## Part 1: Data"
   ]
  },
  {
   "cell_type": "code",
   "execution_count": 3,
   "metadata": {},
   "outputs": [
    {
     "data": {
      "text/html": [
       "<table class=\"dataframe\">\n",
       "<caption>A tibble: 6 × 32</caption>\n",
       "<thead>\n",
       "\t<tr><th scope=col>title</th><th scope=col>title_type</th><th scope=col>genre</th><th scope=col>runtime</th><th scope=col>mpaa_rating</th><th scope=col>studio</th><th scope=col>thtr_rel_year</th><th scope=col>thtr_rel_month</th><th scope=col>thtr_rel_day</th><th scope=col>dvd_rel_year</th><th scope=col>⋯</th><th scope=col>best_dir_win</th><th scope=col>top200_box</th><th scope=col>director</th><th scope=col>actor1</th><th scope=col>actor2</th><th scope=col>actor3</th><th scope=col>actor4</th><th scope=col>actor5</th><th scope=col>imdb_url</th><th scope=col>rt_url</th></tr>\n",
       "\t<tr><th scope=col>&lt;chr&gt;</th><th scope=col>&lt;fct&gt;</th><th scope=col>&lt;fct&gt;</th><th scope=col>&lt;dbl&gt;</th><th scope=col>&lt;fct&gt;</th><th scope=col>&lt;fct&gt;</th><th scope=col>&lt;dbl&gt;</th><th scope=col>&lt;dbl&gt;</th><th scope=col>&lt;dbl&gt;</th><th scope=col>&lt;dbl&gt;</th><th scope=col>⋯</th><th scope=col>&lt;fct&gt;</th><th scope=col>&lt;fct&gt;</th><th scope=col>&lt;chr&gt;</th><th scope=col>&lt;chr&gt;</th><th scope=col>&lt;chr&gt;</th><th scope=col>&lt;chr&gt;</th><th scope=col>&lt;chr&gt;</th><th scope=col>&lt;chr&gt;</th><th scope=col>&lt;chr&gt;</th><th scope=col>&lt;chr&gt;</th></tr>\n",
       "</thead>\n",
       "<tbody>\n",
       "\t<tr><td>Filly Brown         </td><td>Feature Film</td><td>Drama      </td><td> 80</td><td>R      </td><td>Indomina Media Inc.     </td><td>2013</td><td> 4</td><td>19</td><td>2013</td><td>⋯</td><td>no </td><td>no</td><td>Michael D. Olmos </td><td>Gina Rodriguez   </td><td>Jenni Rivera      </td><td>Lou Diamond Phillips</td><td>Emilio Rivera   </td><td>Joseph Julian Soria</td><td>http://www.imdb.com/title/tt1869425/</td><td>//www.rottentomatoes.com/m/filly_brown_2012/    </td></tr>\n",
       "\t<tr><td>The Dish            </td><td>Feature Film</td><td>Drama      </td><td>101</td><td>PG-13  </td><td>Warner Bros. Pictures   </td><td>2001</td><td> 3</td><td>14</td><td>2001</td><td>⋯</td><td>no </td><td>no</td><td>Rob Sitch        </td><td>Sam Neill        </td><td>Kevin Harrington  </td><td>Patrick Warburton   </td><td>Tom Long        </td><td>Genevieve Mooy     </td><td>http://www.imdb.com/title/tt0205873/</td><td>//www.rottentomatoes.com/m/dish/                </td></tr>\n",
       "\t<tr><td>Waiting for Guffman </td><td>Feature Film</td><td>Comedy     </td><td> 84</td><td>R      </td><td>Sony Pictures Classics  </td><td>1996</td><td> 8</td><td>21</td><td>2001</td><td>⋯</td><td>no </td><td>no</td><td>Christopher Guest</td><td>Christopher Guest</td><td>Catherine O'Hara  </td><td>Parker Posey        </td><td>Eugene Levy     </td><td>Bob Balaban        </td><td>http://www.imdb.com/title/tt0118111/</td><td>//www.rottentomatoes.com/m/waiting_for_guffman/ </td></tr>\n",
       "\t<tr><td>The Age of Innocence</td><td>Feature Film</td><td>Drama      </td><td>139</td><td>PG     </td><td>Columbia Pictures       </td><td>1993</td><td>10</td><td> 1</td><td>2001</td><td>⋯</td><td>yes</td><td>no</td><td>Martin Scorsese  </td><td>Daniel Day-Lewis </td><td>Michelle Pfeiffer </td><td>Winona Ryder        </td><td>Richard E. Grant</td><td>Alec McCowen       </td><td>http://www.imdb.com/title/tt0106226/</td><td>//www.rottentomatoes.com/m/age_of_innocence/    </td></tr>\n",
       "\t<tr><td>Malevolence         </td><td>Feature Film</td><td>Horror     </td><td> 90</td><td>R      </td><td>Anchor Bay Entertainment</td><td>2004</td><td> 9</td><td>10</td><td>2005</td><td>⋯</td><td>no </td><td>no</td><td>Stevan Mena      </td><td>Samantha Dark    </td><td>R. Brandon Johnson</td><td>Brandon Johnson     </td><td>Heather Magee   </td><td>Richard Glover     </td><td>http://www.imdb.com/title/tt0388230/</td><td>//www.rottentomatoes.com/m/10004684-malevolence/</td></tr>\n",
       "\t<tr><td>Old Partner         </td><td>Documentary </td><td>Documentary</td><td> 78</td><td>Unrated</td><td>Shcalo Media Group      </td><td>2009</td><td> 1</td><td>15</td><td>2010</td><td>⋯</td><td>no </td><td>no</td><td>Chung-ryoul Lee  </td><td>Choi Won-kyun    </td><td>Lee Sam-soon      </td><td>Moo                 </td><td>NA              </td><td>NA                 </td><td>http://www.imdb.com/title/tt1334549/</td><td>//www.rottentomatoes.com/m/old-partner/         </td></tr>\n",
       "</tbody>\n",
       "</table>\n"
      ],
      "text/latex": [
       "A tibble: 6 × 32\n",
       "\\begin{tabular}{lllllllllllllllllllll}\n",
       " title & title\\_type & genre & runtime & mpaa\\_rating & studio & thtr\\_rel\\_year & thtr\\_rel\\_month & thtr\\_rel\\_day & dvd\\_rel\\_year & ⋯ & best\\_dir\\_win & top200\\_box & director & actor1 & actor2 & actor3 & actor4 & actor5 & imdb\\_url & rt\\_url\\\\\n",
       " <chr> & <fct> & <fct> & <dbl> & <fct> & <fct> & <dbl> & <dbl> & <dbl> & <dbl> & ⋯ & <fct> & <fct> & <chr> & <chr> & <chr> & <chr> & <chr> & <chr> & <chr> & <chr>\\\\\n",
       "\\hline\n",
       "\t Filly Brown          & Feature Film & Drama       &  80 & R       & Indomina Media Inc.      & 2013 &  4 & 19 & 2013 & ⋯ & no  & no & Michael D. Olmos  & Gina Rodriguez    & Jenni Rivera       & Lou Diamond Phillips & Emilio Rivera    & Joseph Julian Soria & http://www.imdb.com/title/tt1869425/ & //www.rottentomatoes.com/m/filly\\_brown\\_2012/    \\\\\n",
       "\t The Dish             & Feature Film & Drama       & 101 & PG-13   & Warner Bros. Pictures    & 2001 &  3 & 14 & 2001 & ⋯ & no  & no & Rob Sitch         & Sam Neill         & Kevin Harrington   & Patrick Warburton    & Tom Long         & Genevieve Mooy      & http://www.imdb.com/title/tt0205873/ & //www.rottentomatoes.com/m/dish/                \\\\\n",
       "\t Waiting for Guffman  & Feature Film & Comedy      &  84 & R       & Sony Pictures Classics   & 1996 &  8 & 21 & 2001 & ⋯ & no  & no & Christopher Guest & Christopher Guest & Catherine O'Hara   & Parker Posey         & Eugene Levy      & Bob Balaban         & http://www.imdb.com/title/tt0118111/ & //www.rottentomatoes.com/m/waiting\\_for\\_guffman/ \\\\\n",
       "\t The Age of Innocence & Feature Film & Drama       & 139 & PG      & Columbia Pictures        & 1993 & 10 &  1 & 2001 & ⋯ & yes & no & Martin Scorsese   & Daniel Day-Lewis  & Michelle Pfeiffer  & Winona Ryder         & Richard E. Grant & Alec McCowen        & http://www.imdb.com/title/tt0106226/ & //www.rottentomatoes.com/m/age\\_of\\_innocence/    \\\\\n",
       "\t Malevolence          & Feature Film & Horror      &  90 & R       & Anchor Bay Entertainment & 2004 &  9 & 10 & 2005 & ⋯ & no  & no & Stevan Mena       & Samantha Dark     & R. Brandon Johnson & Brandon Johnson      & Heather Magee    & Richard Glover      & http://www.imdb.com/title/tt0388230/ & //www.rottentomatoes.com/m/10004684-malevolence/\\\\\n",
       "\t Old Partner          & Documentary  & Documentary &  78 & Unrated & Shcalo Media Group       & 2009 &  1 & 15 & 2010 & ⋯ & no  & no & Chung-ryoul Lee   & Choi Won-kyun     & Lee Sam-soon       & Moo                  & NA               & NA                  & http://www.imdb.com/title/tt1334549/ & //www.rottentomatoes.com/m/old-partner/         \\\\\n",
       "\\end{tabular}\n"
      ],
      "text/markdown": [
       "\n",
       "A tibble: 6 × 32\n",
       "\n",
       "| title &lt;chr&gt; | title_type &lt;fct&gt; | genre &lt;fct&gt; | runtime &lt;dbl&gt; | mpaa_rating &lt;fct&gt; | studio &lt;fct&gt; | thtr_rel_year &lt;dbl&gt; | thtr_rel_month &lt;dbl&gt; | thtr_rel_day &lt;dbl&gt; | dvd_rel_year &lt;dbl&gt; | ⋯ ⋯ | best_dir_win &lt;fct&gt; | top200_box &lt;fct&gt; | director &lt;chr&gt; | actor1 &lt;chr&gt; | actor2 &lt;chr&gt; | actor3 &lt;chr&gt; | actor4 &lt;chr&gt; | actor5 &lt;chr&gt; | imdb_url &lt;chr&gt; | rt_url &lt;chr&gt; |\n",
       "|---|---|---|---|---|---|---|---|---|---|---|---|---|---|---|---|---|---|---|---|---|\n",
       "| Filly Brown          | Feature Film | Drama       |  80 | R       | Indomina Media Inc.      | 2013 |  4 | 19 | 2013 | ⋯ | no  | no | Michael D. Olmos  | Gina Rodriguez    | Jenni Rivera       | Lou Diamond Phillips | Emilio Rivera    | Joseph Julian Soria | http://www.imdb.com/title/tt1869425/ | //www.rottentomatoes.com/m/filly_brown_2012/     |\n",
       "| The Dish             | Feature Film | Drama       | 101 | PG-13   | Warner Bros. Pictures    | 2001 |  3 | 14 | 2001 | ⋯ | no  | no | Rob Sitch         | Sam Neill         | Kevin Harrington   | Patrick Warburton    | Tom Long         | Genevieve Mooy      | http://www.imdb.com/title/tt0205873/ | //www.rottentomatoes.com/m/dish/                 |\n",
       "| Waiting for Guffman  | Feature Film | Comedy      |  84 | R       | Sony Pictures Classics   | 1996 |  8 | 21 | 2001 | ⋯ | no  | no | Christopher Guest | Christopher Guest | Catherine O'Hara   | Parker Posey         | Eugene Levy      | Bob Balaban         | http://www.imdb.com/title/tt0118111/ | //www.rottentomatoes.com/m/waiting_for_guffman/  |\n",
       "| The Age of Innocence | Feature Film | Drama       | 139 | PG      | Columbia Pictures        | 1993 | 10 |  1 | 2001 | ⋯ | yes | no | Martin Scorsese   | Daniel Day-Lewis  | Michelle Pfeiffer  | Winona Ryder         | Richard E. Grant | Alec McCowen        | http://www.imdb.com/title/tt0106226/ | //www.rottentomatoes.com/m/age_of_innocence/     |\n",
       "| Malevolence          | Feature Film | Horror      |  90 | R       | Anchor Bay Entertainment | 2004 |  9 | 10 | 2005 | ⋯ | no  | no | Stevan Mena       | Samantha Dark     | R. Brandon Johnson | Brandon Johnson      | Heather Magee    | Richard Glover      | http://www.imdb.com/title/tt0388230/ | //www.rottentomatoes.com/m/10004684-malevolence/ |\n",
       "| Old Partner          | Documentary  | Documentary |  78 | Unrated | Shcalo Media Group       | 2009 |  1 | 15 | 2010 | ⋯ | no  | no | Chung-ryoul Lee   | Choi Won-kyun     | Lee Sam-soon       | Moo                  | NA               | NA                  | http://www.imdb.com/title/tt1334549/ | //www.rottentomatoes.com/m/old-partner/          |\n",
       "\n"
      ],
      "text/plain": [
       "  title                title_type   genre       runtime mpaa_rating\n",
       "1 Filly Brown          Feature Film Drama        80     R          \n",
       "2 The Dish             Feature Film Drama       101     PG-13      \n",
       "3 Waiting for Guffman  Feature Film Comedy       84     R          \n",
       "4 The Age of Innocence Feature Film Drama       139     PG         \n",
       "5 Malevolence          Feature Film Horror       90     R          \n",
       "6 Old Partner          Documentary  Documentary  78     Unrated    \n",
       "  studio                   thtr_rel_year thtr_rel_month thtr_rel_day\n",
       "1 Indomina Media Inc.      2013           4             19          \n",
       "2 Warner Bros. Pictures    2001           3             14          \n",
       "3 Sony Pictures Classics   1996           8             21          \n",
       "4 Columbia Pictures        1993          10              1          \n",
       "5 Anchor Bay Entertainment 2004           9             10          \n",
       "6 Shcalo Media Group       2009           1             15          \n",
       "  dvd_rel_year ⋯ best_dir_win top200_box director          actor1           \n",
       "1 2013         ⋯ no           no         Michael D. Olmos  Gina Rodriguez   \n",
       "2 2001         ⋯ no           no         Rob Sitch         Sam Neill        \n",
       "3 2001         ⋯ no           no         Christopher Guest Christopher Guest\n",
       "4 2001         ⋯ yes          no         Martin Scorsese   Daniel Day-Lewis \n",
       "5 2005         ⋯ no           no         Stevan Mena       Samantha Dark    \n",
       "6 2010         ⋯ no           no         Chung-ryoul Lee   Choi Won-kyun    \n",
       "  actor2             actor3               actor4           actor5             \n",
       "1 Jenni Rivera       Lou Diamond Phillips Emilio Rivera    Joseph Julian Soria\n",
       "2 Kevin Harrington   Patrick Warburton    Tom Long         Genevieve Mooy     \n",
       "3 Catherine O'Hara   Parker Posey         Eugene Levy      Bob Balaban        \n",
       "4 Michelle Pfeiffer  Winona Ryder         Richard E. Grant Alec McCowen       \n",
       "5 R. Brandon Johnson Brandon Johnson      Heather Magee    Richard Glover     \n",
       "6 Lee Sam-soon       Moo                  NA               NA                 \n",
       "  imdb_url                            \n",
       "1 http://www.imdb.com/title/tt1869425/\n",
       "2 http://www.imdb.com/title/tt0205873/\n",
       "3 http://www.imdb.com/title/tt0118111/\n",
       "4 http://www.imdb.com/title/tt0106226/\n",
       "5 http://www.imdb.com/title/tt0388230/\n",
       "6 http://www.imdb.com/title/tt1334549/\n",
       "  rt_url                                          \n",
       "1 //www.rottentomatoes.com/m/filly_brown_2012/    \n",
       "2 //www.rottentomatoes.com/m/dish/                \n",
       "3 //www.rottentomatoes.com/m/waiting_for_guffman/ \n",
       "4 //www.rottentomatoes.com/m/age_of_innocence/    \n",
       "5 //www.rottentomatoes.com/m/10004684-malevolence/\n",
       "6 //www.rottentomatoes.com/m/old-partner/         "
      ]
     },
     "metadata": {},
     "output_type": "display_data"
    }
   ],
   "source": [
    "head(movies)"
   ]
  },
  {
   "cell_type": "markdown",
   "metadata": {},
   "source": [
    "* * *\n",
    "\n",
    "## Part 2: Data manipulation\n",
    "\n",
    "NOTE: Insert code chunks as needed by clicking on the \"Insert a new code chunk\" \n",
    "button above. Make sure that your code is visible in the project you submit. \n",
    "Delete this note when before you submit your work."
   ]
  },
  {
   "cell_type": "code",
   "execution_count": 4,
   "metadata": {},
   "outputs": [],
   "source": [
    "movies_ext <- movies %>%\n",
    "    mutate(feature_film = ifelse((runtime > 75 & runtime < 210), \"yes\", \"no\")) %>%\n",
    "    mutate(drama = ifelse((genre==\"Drama\"), \"yes\", \"no\")) %>%\n",
    "    mutate(mpaa_rating_R = ifelse((mpaa_rating==\"R\"), \"yes\", \"no\")) %>%\n",
    "    mutate(oscar_season = ifelse((thtr_rel_month > 9), \"yes\", \"no\")) %>%\n",
    "    mutate(summer_season = ifelse((thtr_rel_month > 4 & thtr_rel_month < 9), \"yes\", \"no\"))"
   ]
  },
  {
   "cell_type": "code",
   "execution_count": 5,
   "metadata": {},
   "outputs": [
    {
     "data": {
      "text/html": [
       "<table class=\"dataframe\">\n",
       "<caption>A tibble: 6 × 37</caption>\n",
       "<thead>\n",
       "\t<tr><th scope=col>title</th><th scope=col>title_type</th><th scope=col>genre</th><th scope=col>runtime</th><th scope=col>mpaa_rating</th><th scope=col>studio</th><th scope=col>thtr_rel_year</th><th scope=col>thtr_rel_month</th><th scope=col>thtr_rel_day</th><th scope=col>dvd_rel_year</th><th scope=col>⋯</th><th scope=col>actor3</th><th scope=col>actor4</th><th scope=col>actor5</th><th scope=col>imdb_url</th><th scope=col>rt_url</th><th scope=col>feature_film</th><th scope=col>drama</th><th scope=col>mpaa_rating_R</th><th scope=col>oscar_season</th><th scope=col>summer_season</th></tr>\n",
       "\t<tr><th scope=col>&lt;chr&gt;</th><th scope=col>&lt;fct&gt;</th><th scope=col>&lt;fct&gt;</th><th scope=col>&lt;dbl&gt;</th><th scope=col>&lt;fct&gt;</th><th scope=col>&lt;fct&gt;</th><th scope=col>&lt;dbl&gt;</th><th scope=col>&lt;dbl&gt;</th><th scope=col>&lt;dbl&gt;</th><th scope=col>&lt;dbl&gt;</th><th scope=col>⋯</th><th scope=col>&lt;chr&gt;</th><th scope=col>&lt;chr&gt;</th><th scope=col>&lt;chr&gt;</th><th scope=col>&lt;chr&gt;</th><th scope=col>&lt;chr&gt;</th><th scope=col>&lt;chr&gt;</th><th scope=col>&lt;chr&gt;</th><th scope=col>&lt;chr&gt;</th><th scope=col>&lt;chr&gt;</th><th scope=col>&lt;chr&gt;</th></tr>\n",
       "</thead>\n",
       "<tbody>\n",
       "\t<tr><td>Filly Brown         </td><td>Feature Film</td><td>Drama      </td><td> 80</td><td>R      </td><td>Indomina Media Inc.     </td><td>2013</td><td> 4</td><td>19</td><td>2013</td><td>⋯</td><td>Lou Diamond Phillips</td><td>Emilio Rivera   </td><td>Joseph Julian Soria</td><td>http://www.imdb.com/title/tt1869425/</td><td>//www.rottentomatoes.com/m/filly_brown_2012/    </td><td>yes</td><td>yes</td><td>yes</td><td>no </td><td>no </td></tr>\n",
       "\t<tr><td>The Dish            </td><td>Feature Film</td><td>Drama      </td><td>101</td><td>PG-13  </td><td>Warner Bros. Pictures   </td><td>2001</td><td> 3</td><td>14</td><td>2001</td><td>⋯</td><td>Patrick Warburton   </td><td>Tom Long        </td><td>Genevieve Mooy     </td><td>http://www.imdb.com/title/tt0205873/</td><td>//www.rottentomatoes.com/m/dish/                </td><td>yes</td><td>yes</td><td>no </td><td>no </td><td>no </td></tr>\n",
       "\t<tr><td>Waiting for Guffman </td><td>Feature Film</td><td>Comedy     </td><td> 84</td><td>R      </td><td>Sony Pictures Classics  </td><td>1996</td><td> 8</td><td>21</td><td>2001</td><td>⋯</td><td>Parker Posey        </td><td>Eugene Levy     </td><td>Bob Balaban        </td><td>http://www.imdb.com/title/tt0118111/</td><td>//www.rottentomatoes.com/m/waiting_for_guffman/ </td><td>yes</td><td>no </td><td>yes</td><td>no </td><td>yes</td></tr>\n",
       "\t<tr><td>The Age of Innocence</td><td>Feature Film</td><td>Drama      </td><td>139</td><td>PG     </td><td>Columbia Pictures       </td><td>1993</td><td>10</td><td> 1</td><td>2001</td><td>⋯</td><td>Winona Ryder        </td><td>Richard E. Grant</td><td>Alec McCowen       </td><td>http://www.imdb.com/title/tt0106226/</td><td>//www.rottentomatoes.com/m/age_of_innocence/    </td><td>yes</td><td>yes</td><td>no </td><td>yes</td><td>no </td></tr>\n",
       "\t<tr><td>Malevolence         </td><td>Feature Film</td><td>Horror     </td><td> 90</td><td>R      </td><td>Anchor Bay Entertainment</td><td>2004</td><td> 9</td><td>10</td><td>2005</td><td>⋯</td><td>Brandon Johnson     </td><td>Heather Magee   </td><td>Richard Glover     </td><td>http://www.imdb.com/title/tt0388230/</td><td>//www.rottentomatoes.com/m/10004684-malevolence/</td><td>yes</td><td>no </td><td>yes</td><td>no </td><td>no </td></tr>\n",
       "\t<tr><td>Old Partner         </td><td>Documentary </td><td>Documentary</td><td> 78</td><td>Unrated</td><td>Shcalo Media Group      </td><td>2009</td><td> 1</td><td>15</td><td>2010</td><td>⋯</td><td>Moo                 </td><td>NA              </td><td>NA                 </td><td>http://www.imdb.com/title/tt1334549/</td><td>//www.rottentomatoes.com/m/old-partner/         </td><td>yes</td><td>no </td><td>no </td><td>no </td><td>no </td></tr>\n",
       "</tbody>\n",
       "</table>\n"
      ],
      "text/latex": [
       "A tibble: 6 × 37\n",
       "\\begin{tabular}{lllllllllllllllllllll}\n",
       " title & title\\_type & genre & runtime & mpaa\\_rating & studio & thtr\\_rel\\_year & thtr\\_rel\\_month & thtr\\_rel\\_day & dvd\\_rel\\_year & ⋯ & actor3 & actor4 & actor5 & imdb\\_url & rt\\_url & feature\\_film & drama & mpaa\\_rating\\_R & oscar\\_season & summer\\_season\\\\\n",
       " <chr> & <fct> & <fct> & <dbl> & <fct> & <fct> & <dbl> & <dbl> & <dbl> & <dbl> & ⋯ & <chr> & <chr> & <chr> & <chr> & <chr> & <chr> & <chr> & <chr> & <chr> & <chr>\\\\\n",
       "\\hline\n",
       "\t Filly Brown          & Feature Film & Drama       &  80 & R       & Indomina Media Inc.      & 2013 &  4 & 19 & 2013 & ⋯ & Lou Diamond Phillips & Emilio Rivera    & Joseph Julian Soria & http://www.imdb.com/title/tt1869425/ & //www.rottentomatoes.com/m/filly\\_brown\\_2012/     & yes & yes & yes & no  & no \\\\\n",
       "\t The Dish             & Feature Film & Drama       & 101 & PG-13   & Warner Bros. Pictures    & 2001 &  3 & 14 & 2001 & ⋯ & Patrick Warburton    & Tom Long         & Genevieve Mooy      & http://www.imdb.com/title/tt0205873/ & //www.rottentomatoes.com/m/dish/                 & yes & yes & no  & no  & no \\\\\n",
       "\t Waiting for Guffman  & Feature Film & Comedy      &  84 & R       & Sony Pictures Classics   & 1996 &  8 & 21 & 2001 & ⋯ & Parker Posey         & Eugene Levy      & Bob Balaban         & http://www.imdb.com/title/tt0118111/ & //www.rottentomatoes.com/m/waiting\\_for\\_guffman/  & yes & no  & yes & no  & yes\\\\\n",
       "\t The Age of Innocence & Feature Film & Drama       & 139 & PG      & Columbia Pictures        & 1993 & 10 &  1 & 2001 & ⋯ & Winona Ryder         & Richard E. Grant & Alec McCowen        & http://www.imdb.com/title/tt0106226/ & //www.rottentomatoes.com/m/age\\_of\\_innocence/     & yes & yes & no  & yes & no \\\\\n",
       "\t Malevolence          & Feature Film & Horror      &  90 & R       & Anchor Bay Entertainment & 2004 &  9 & 10 & 2005 & ⋯ & Brandon Johnson      & Heather Magee    & Richard Glover      & http://www.imdb.com/title/tt0388230/ & //www.rottentomatoes.com/m/10004684-malevolence/ & yes & no  & yes & no  & no \\\\\n",
       "\t Old Partner          & Documentary  & Documentary &  78 & Unrated & Shcalo Media Group       & 2009 &  1 & 15 & 2010 & ⋯ & Moo                  & NA               & NA                  & http://www.imdb.com/title/tt1334549/ & //www.rottentomatoes.com/m/old-partner/          & yes & no  & no  & no  & no \\\\\n",
       "\\end{tabular}\n"
      ],
      "text/markdown": [
       "\n",
       "A tibble: 6 × 37\n",
       "\n",
       "| title &lt;chr&gt; | title_type &lt;fct&gt; | genre &lt;fct&gt; | runtime &lt;dbl&gt; | mpaa_rating &lt;fct&gt; | studio &lt;fct&gt; | thtr_rel_year &lt;dbl&gt; | thtr_rel_month &lt;dbl&gt; | thtr_rel_day &lt;dbl&gt; | dvd_rel_year &lt;dbl&gt; | ⋯ ⋯ | actor3 &lt;chr&gt; | actor4 &lt;chr&gt; | actor5 &lt;chr&gt; | imdb_url &lt;chr&gt; | rt_url &lt;chr&gt; | feature_film &lt;chr&gt; | drama &lt;chr&gt; | mpaa_rating_R &lt;chr&gt; | oscar_season &lt;chr&gt; | summer_season &lt;chr&gt; |\n",
       "|---|---|---|---|---|---|---|---|---|---|---|---|---|---|---|---|---|---|---|---|---|\n",
       "| Filly Brown          | Feature Film | Drama       |  80 | R       | Indomina Media Inc.      | 2013 |  4 | 19 | 2013 | ⋯ | Lou Diamond Phillips | Emilio Rivera    | Joseph Julian Soria | http://www.imdb.com/title/tt1869425/ | //www.rottentomatoes.com/m/filly_brown_2012/     | yes | yes | yes | no  | no  |\n",
       "| The Dish             | Feature Film | Drama       | 101 | PG-13   | Warner Bros. Pictures    | 2001 |  3 | 14 | 2001 | ⋯ | Patrick Warburton    | Tom Long         | Genevieve Mooy      | http://www.imdb.com/title/tt0205873/ | //www.rottentomatoes.com/m/dish/                 | yes | yes | no  | no  | no  |\n",
       "| Waiting for Guffman  | Feature Film | Comedy      |  84 | R       | Sony Pictures Classics   | 1996 |  8 | 21 | 2001 | ⋯ | Parker Posey         | Eugene Levy      | Bob Balaban         | http://www.imdb.com/title/tt0118111/ | //www.rottentomatoes.com/m/waiting_for_guffman/  | yes | no  | yes | no  | yes |\n",
       "| The Age of Innocence | Feature Film | Drama       | 139 | PG      | Columbia Pictures        | 1993 | 10 |  1 | 2001 | ⋯ | Winona Ryder         | Richard E. Grant | Alec McCowen        | http://www.imdb.com/title/tt0106226/ | //www.rottentomatoes.com/m/age_of_innocence/     | yes | yes | no  | yes | no  |\n",
       "| Malevolence          | Feature Film | Horror      |  90 | R       | Anchor Bay Entertainment | 2004 |  9 | 10 | 2005 | ⋯ | Brandon Johnson      | Heather Magee    | Richard Glover      | http://www.imdb.com/title/tt0388230/ | //www.rottentomatoes.com/m/10004684-malevolence/ | yes | no  | yes | no  | no  |\n",
       "| Old Partner          | Documentary  | Documentary |  78 | Unrated | Shcalo Media Group       | 2009 |  1 | 15 | 2010 | ⋯ | Moo                  | NA               | NA                  | http://www.imdb.com/title/tt1334549/ | //www.rottentomatoes.com/m/old-partner/          | yes | no  | no  | no  | no  |\n",
       "\n"
      ],
      "text/plain": [
       "  title                title_type   genre       runtime mpaa_rating\n",
       "1 Filly Brown          Feature Film Drama        80     R          \n",
       "2 The Dish             Feature Film Drama       101     PG-13      \n",
       "3 Waiting for Guffman  Feature Film Comedy       84     R          \n",
       "4 The Age of Innocence Feature Film Drama       139     PG         \n",
       "5 Malevolence          Feature Film Horror       90     R          \n",
       "6 Old Partner          Documentary  Documentary  78     Unrated    \n",
       "  studio                   thtr_rel_year thtr_rel_month thtr_rel_day\n",
       "1 Indomina Media Inc.      2013           4             19          \n",
       "2 Warner Bros. Pictures    2001           3             14          \n",
       "3 Sony Pictures Classics   1996           8             21          \n",
       "4 Columbia Pictures        1993          10              1          \n",
       "5 Anchor Bay Entertainment 2004           9             10          \n",
       "6 Shcalo Media Group       2009           1             15          \n",
       "  dvd_rel_year ⋯ actor3               actor4           actor5             \n",
       "1 2013         ⋯ Lou Diamond Phillips Emilio Rivera    Joseph Julian Soria\n",
       "2 2001         ⋯ Patrick Warburton    Tom Long         Genevieve Mooy     \n",
       "3 2001         ⋯ Parker Posey         Eugene Levy      Bob Balaban        \n",
       "4 2001         ⋯ Winona Ryder         Richard E. Grant Alec McCowen       \n",
       "5 2005         ⋯ Brandon Johnson      Heather Magee    Richard Glover     \n",
       "6 2010         ⋯ Moo                  NA               NA                 \n",
       "  imdb_url                            \n",
       "1 http://www.imdb.com/title/tt1869425/\n",
       "2 http://www.imdb.com/title/tt0205873/\n",
       "3 http://www.imdb.com/title/tt0118111/\n",
       "4 http://www.imdb.com/title/tt0106226/\n",
       "5 http://www.imdb.com/title/tt0388230/\n",
       "6 http://www.imdb.com/title/tt1334549/\n",
       "  rt_url                                           feature_film drama\n",
       "1 //www.rottentomatoes.com/m/filly_brown_2012/     yes          yes  \n",
       "2 //www.rottentomatoes.com/m/dish/                 yes          yes  \n",
       "3 //www.rottentomatoes.com/m/waiting_for_guffman/  yes          no   \n",
       "4 //www.rottentomatoes.com/m/age_of_innocence/     yes          yes  \n",
       "5 //www.rottentomatoes.com/m/10004684-malevolence/ yes          no   \n",
       "6 //www.rottentomatoes.com/m/old-partner/          yes          no   \n",
       "  mpaa_rating_R oscar_season summer_season\n",
       "1 yes           no           no           \n",
       "2 no            no           no           \n",
       "3 yes           no           yes          \n",
       "4 no            yes          no           \n",
       "5 yes           no           no           \n",
       "6 no            no           no           "
      ]
     },
     "metadata": {},
     "output_type": "display_data"
    }
   ],
   "source": [
    "head(movies_ext)"
   ]
  },
  {
   "cell_type": "markdown",
   "metadata": {},
   "source": [
    "## Part 3: Exploratory data analysis\n",
    "\n",
    "NOTE: Insert code chunks as needed by clicking on the \"Insert a new code chunk\" \n",
    "button above. Make sure that your code is visible in the project you submit. \n",
    "Delete this note when before you submit your work."
   ]
  },
  {
   "cell_type": "code",
   "execution_count": null,
   "metadata": {},
   "outputs": [],
   "source": []
  },
  {
   "cell_type": "markdown",
   "metadata": {},
   "source": [
    "## Part 4: Modeling\n",
    "\n",
    "NOTE: Insert code chunks as needed by clicking on the \"Insert a new code chunk\" \n",
    "button above. Make sure that your code is visible in the project you submit. \n",
    "Delete this note when before you submit your work."
   ]
  },
  {
   "cell_type": "code",
   "execution_count": null,
   "metadata": {},
   "outputs": [],
   "source": []
  },
  {
   "cell_type": "markdown",
   "metadata": {},
   "source": [
    "## Part 5: Prediction\n",
    "\n",
    "NOTE: Insert code chunks as needed by clicking on the \"Insert a new code chunk\" \n",
    "button above. Make sure that your code is visible in the project you submit. \n",
    "Delete this note when before you submit your work."
   ]
  },
  {
   "cell_type": "code",
   "execution_count": null,
   "metadata": {},
   "outputs": [],
   "source": []
  },
  {
   "cell_type": "markdown",
   "metadata": {},
   "source": [
    "## Part 6: Conclusion"
   ]
  },
  {
   "cell_type": "code",
   "execution_count": null,
   "metadata": {},
   "outputs": [],
   "source": []
  }
 ],
 "metadata": {
  "jupytext": {
   "cell_metadata_filter": "name,message,-all",
   "main_language": "R",
   "notebook_metadata_filter": "-all"
  },
  "kernelspec": {
   "display_name": "R",
   "language": "R",
   "name": "ir"
  },
  "language_info": {
   "codemirror_mode": "r",
   "file_extension": ".r",
   "mimetype": "text/x-r-source",
   "name": "R",
   "pygments_lexer": "r",
   "version": "4.1.0"
  }
 },
 "nbformat": 4,
 "nbformat_minor": 4
}
