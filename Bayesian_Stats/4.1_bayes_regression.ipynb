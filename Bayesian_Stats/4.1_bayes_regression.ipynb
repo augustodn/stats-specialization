{
 "cells": [
  {
   "cell_type": "code",
   "execution_count": 1,
   "id": "6dad1c39",
   "metadata": {
    "lines_to_next_cell": 2,
    "name": "setup",
    "tags": [
     "remove_cell"
    ]
   },
   "outputs": [],
   "source": [
    "options(digits = 4)"
   ]
  },
  {
   "cell_type": "markdown",
   "id": "f88081fc",
   "metadata": {},
   "source": [
    "<div class=\"instructions\">\n",
    "Complete all **Exercises**, and submit answers to **Questions** in the **Quiz: Week 4 of Lab** on Coursera.\n",
    "</div>\n",
    "\n",
    "## Modeling Wages \n",
    "\n",
    "In the field of labor economics, the study of income and wages provides insight \n",
    "about topics ranging from gender discrimination to the benefits of higher \n",
    "education. In this lab, we will analyze cross-sectional wage data in order to \n",
    "practice using Bayesian selection methods such as BIC and Bayesian Model \n",
    "Averaging to construct parsimonious predictive models.\n",
    "\n",
    "## Getting Started\n",
    "\n",
    "In this lab we will explore the data using the `dplyr` package and visualize it \n",
    "using the `ggplot2` package for data visualization. Both of these packages are \n",
    "part of the tidyverse. We will review simple linear regression using the `lm` \n",
    "function and how the output can be interpreted from a Bayesian perspective. We \n",
    "will also use the `broom` package to turn regression outputs to tidy data frames \n",
    "to help with diagnostic plotting. We will use the `stepAIC` function from the \n",
    "`MASS` package for model selection using step-wise selection using BIC. The \n",
    "`bas.lm` function from the `BAS` package later in the lab to implement Bayesian \n",
    "Model Averaging. Please make sure that the version of `BAS` is 1.4.9 or greater. \n",
    "The data can be found in the companion package for this course, `statsr`. Some \n",
    "learners may want to review material from the earlier courses in the \n",
    "specialization that covers EDA and regression if they are unfamiliar with \n",
    "`ggplot` basics or the `lm` function.\n",
    "\n",
    "### Load packages\n",
    "\n",
    "Let's load the packages that we will be using:"
   ]
  },
  {
   "cell_type": "code",
   "execution_count": 2,
   "id": "824459b3",
   "metadata": {
    "scrolled": true
   },
   "outputs": [
    {
     "name": "stderr",
     "output_type": "stream",
     "text": [
      "Installing package into ‘/home/augusto/R/x86_64-pc-linux-gnu-library/4.1’\n",
      "(as ‘lib’ is unspecified)\n",
      "\n",
      "Installing package into ‘/home/augusto/R/x86_64-pc-linux-gnu-library/4.1’\n",
      "(as ‘lib’ is unspecified)\n",
      "\n",
      "Installing package into ‘/home/augusto/R/x86_64-pc-linux-gnu-library/4.1’\n",
      "(as ‘lib’ is unspecified)\n",
      "\n"
     ]
    }
   ],
   "source": [
    "install.packages(\"MASS\")\n",
    "install.packages(\"BAS\")\n",
    "install.packages(\"broom\")"
   ]
  },
  {
   "cell_type": "code",
   "execution_count": 3,
   "id": "f75d4dbb",
   "metadata": {
    "message": false,
    "name": "load-packages",
    "warning": false
   },
   "outputs": [
    {
     "name": "stderr",
     "output_type": "stream",
     "text": [
      "── \u001b[1mAttaching packages\u001b[22m ─────────────────────────────────────── tidyverse 1.3.1 ──\n",
      "\n",
      "\u001b[32m✔\u001b[39m \u001b[34mggplot2\u001b[39m 3.3.4     \u001b[32m✔\u001b[39m \u001b[34mpurrr  \u001b[39m 0.3.4\n",
      "\u001b[32m✔\u001b[39m \u001b[34mtibble \u001b[39m 3.1.2     \u001b[32m✔\u001b[39m \u001b[34mdplyr  \u001b[39m 1.0.7\n",
      "\u001b[32m✔\u001b[39m \u001b[34mtidyr  \u001b[39m 1.1.3     \u001b[32m✔\u001b[39m \u001b[34mstringr\u001b[39m 1.4.0\n",
      "\u001b[32m✔\u001b[39m \u001b[34mreadr  \u001b[39m 2.0.0     \u001b[32m✔\u001b[39m \u001b[34mforcats\u001b[39m 0.5.1\n",
      "\n",
      "── \u001b[1mConflicts\u001b[22m ────────────────────────────────────────── tidyverse_conflicts() ──\n",
      "\u001b[31m✖\u001b[39m \u001b[34mdplyr\u001b[39m::\u001b[32mfilter()\u001b[39m masks \u001b[34mstats\u001b[39m::filter()\n",
      "\u001b[31m✖\u001b[39m \u001b[34mdplyr\u001b[39m::\u001b[32mlag()\u001b[39m    masks \u001b[34mstats\u001b[39m::lag()\n",
      "\u001b[31m✖\u001b[39m \u001b[34mdplyr\u001b[39m::\u001b[32mselect()\u001b[39m masks \u001b[34mMASS\u001b[39m::select()\n",
      "\n",
      "Loading required package: BayesFactor\n",
      "\n",
      "Loading required package: coda\n",
      "\n",
      "Loading required package: Matrix\n",
      "\n",
      "\n",
      "Attaching package: ‘Matrix’\n",
      "\n",
      "\n",
      "The following objects are masked from ‘package:tidyr’:\n",
      "\n",
      "    expand, pack, unpack\n",
      "\n",
      "\n",
      "************\n",
      "Welcome to BayesFactor 0.9.12-4.2. If you have questions, please contact Richard Morey (richarddmorey@gmail.com).\n",
      "\n",
      "Type BFManual() to open the manual.\n",
      "************\n",
      "\n"
     ]
    }
   ],
   "source": [
    "library(MASS)\n",
    "library(tidyverse)\n",
    "library(statsr)\n",
    "library(BAS)\n",
    "library(broom)\n",
    "\n",
    "options(width=100)"
   ]
  },
  {
   "cell_type": "markdown",
   "id": "2561d77a",
   "metadata": {},
   "source": [
    "### The data\n",
    "\n",
    "The data we will be using in this lab were gathered as a random sample of 935 \n",
    "respondents throughout the United States. This data set was released as part of \n",
    "the series *Instructional Stata Datasets for Econometrics* by the Boston College \n",
    "Department of Economics [@Wooldridge2000].\n",
    "\n",
    "Let's start by loading the data:"
   ]
  },
  {
   "cell_type": "code",
   "execution_count": 4,
   "id": "319edf4b",
   "metadata": {
    "message": false,
    "name": "load-data"
   },
   "outputs": [],
   "source": [
    "data(wage)"
   ]
  },
  {
   "cell_type": "markdown",
   "id": "48c0fef4",
   "metadata": {},
   "source": [
    "variable         | description\n",
    "---------------- | -----------\n",
    "`wage`           | weekly earnings (dollars)\n",
    "`hours`          | average hours worked per week\n",
    "`iq`             | IQ score\n",
    "`kww`            | knowledge of world work score\n",
    "`educ`           | number of years of education\n",
    "`exper`          | years of work experience\n",
    "`tenure`         | years with current employer\n",
    "`age`            | age in years\n",
    "`married`        | =1 if married\n",
    "`black`          | =1 if black\n",
    "`south`          | =1 if live in south\n",
    "`urban`          | =1 if live in a Standard Metropolitan Statistical Area\n",
    "`sibs`           | number of siblings\n",
    "`brthord`        | birth order\n",
    "`meduc`          | mother's education (years)\n",
    "`feduc`          | father's education (years)\n",
    "`lwage`          | natural log of `wage`"
   ]
  },
  {
   "cell_type": "markdown",
   "id": "8be00283",
   "metadata": {},
   "source": [
    "<div class=\"question\">\n",
    "Is this an observational study or an experiment? You may refer to \n",
    "http://study.com/academy/lesson/experiments-vs-observational-studies.html for \n",
    "the definitions of the two.\n",
    "\n",
    "* Observational study\n",
    "* Experiment\n",
    "</div>\n",
    "\n",
    "### Setting a seed\n",
    "\n",
    "In this lab we will do some random generation, which means you should set a seed \n",
    "on top of your document. Setting a seed will cause R to sample the same sample \n",
    "each time you knit your document. This will make sure your results don't change \n",
    "each time you knit, and it will also ensure reproducibility of your work \n",
    "(by setting the same seed it will be possible to reproduce your results). \n",
    "You can set a seed like this:"
   ]
  },
  {
   "cell_type": "code",
   "execution_count": 6,
   "id": "b2190fa9",
   "metadata": {
    "name": "set-seed"
   },
   "outputs": [],
   "source": [
    "set.seed(1986)"
   ]
  },
  {
   "cell_type": "markdown",
   "id": "1192549c",
   "metadata": {},
   "source": [
    "The number above is completely arbitraty. If you need inspiration, you can use \n",
    "your ID, birthday, or just a random string of numbers. The important thing is \n",
    "that you use each seed only once. You only need to do this once in your \n",
    "R Markdown document, but make sure it comes before sampling.\n",
    "\n",
    "## Exploring the data\n",
    "\n",
    "For a new data set, a good place to start is standard exploratory data analysis. \n",
    "We will begin with the `wage` variable since it will be the response variable in \n",
    "our models. We may use a histogram  to visualize the distribution."
   ]
  },
  {
   "cell_type": "code",
   "execution_count": 7,
   "id": "49283c2f",
   "metadata": {
    "name": "Q1-wage-hist"
   },
   "outputs": [
    {
     "data": {
      "image/png": "[encoded data removed]",
      "text/plain": [
       "plot without title"
      ]
     },
     "metadata": {
      "image/png": {
       "height": 420,
       "width": 420
      }
     },
     "output_type": "display_data"
    }
   ],
   "source": [
    "ggplot(data = wage, aes(x = wage)) +\n",
    "  geom_histogram(binwidth = 100)"
   ]
  },
  {
   "cell_type": "markdown",
   "id": "4f1e5cb4",
   "metadata": {},
   "source": [
    "For numeric summary statistics, the `summary` function provides additional \n",
    "insights about the distribution of `wage`."
   ]
  },
  {
   "cell_type": "code",
   "execution_count": null,
   "id": "2d0e839b",
   "metadata": {
    "name": "Q1-wage-dist"
   },
   "outputs": [],
   "source": [
    "summary(wage$wage)"
   ]
  },
  {
   "cell_type": "markdown",
   "id": "cd9a44d4",
   "metadata": {},
   "source": [
    "<div class=\"question\">\n",
    "Which of the following statements is **false** about the distribution of \n",
    "weekly wages? \n",
    "\n",
    "* The median of the distribution is 905.\n",
    "* 25\\% of respondents make at least 1160 dollars per week.\n",
    "* 10 of the respondents make strictly less than 300 dollars per week\n",
    "* `wage` is right-skewed, meaning that more respondents have weekly wages below the mean weekly wage than above it.\n",
    "</div>\n",
    "\n",
    "## Simple linear regression\n",
    "\n",
    "Since `wage` is our response variable, we would like to explore the relationship \n",
    "between `wage` and other variables as predictors. One possible, simplistic, \n",
    "explanation for the variation in wages that we see in the data is that smarter \n",
    "people make more money. The plot below visualizes a scatterplot between weekly \n",
    "wage and IQ score."
   ]
  },
  {
   "cell_type": "code",
   "execution_count": null,
   "id": "df4dffa2",
   "metadata": {
    "name": "scatter-score-bty_avg"
   },
   "outputs": [],
   "source": [
    "ggplot(data = wage, aes(x = iq, y = wage)) +\n",
    "  geom_point()"
   ]
  },
  {
   "cell_type": "markdown",
   "id": "ab92ea0c",
   "metadata": {},
   "source": [
    "There appears to be a positive relationship between IQ score and wage. We can \n",
    "quantify this by fitting a Bayesian simple linear regression \n",
    "\n",
    "$$\\text{wage}_i = \\alpha + \\beta \\cdot \\text{iq}_i + \\epsilon_i$$ \n",
    "to the observed data using the reference prior. We can fit the model using the \n",
    "`lm` function: "
   ]
  },
  {
   "cell_type": "code",
   "execution_count": null,
   "id": "449b6c4d",
   "metadata": {
    "name": "wage-iq-model"
   },
   "outputs": [],
   "source": [
    "m_wage_iq <- lm(wage ~ iq, data = wage)"
   ]
  },
  {
   "cell_type": "markdown",
   "id": "82c4a808",
   "metadata": {},
   "source": [
    "and extract the summary statistics for the posterior distribution using the \n",
    "output from the `lm` by applyting the `tidy` function from the `broom` package."
   ]
  },
  {
   "cell_type": "code",
   "execution_count": null,
   "id": "9cb5360a",
   "metadata": {},
   "outputs": [],
   "source": [
    "tidy(m_wage_iq)"
   ]
  },
  {
   "cell_type": "markdown",
   "id": "4c9a2336",
   "metadata": {},
   "source": [
    "The first column displays the posterior means of the linear model's y-intercept \n",
    "and the regression coefficient of `iq`.\n",
    "\n",
    "With this we can write down the posterior mean of the regression line \n",
    "$$`r round(summary(m_wage_iq)$coefficients[1,1],3)` + `r round(summary(m_wage_iq)$coefficients[2,1],3)` \\times \\text{IQ}$$\n",
    "and create a scatterplot with the posterior mean for the regression line laid \n",
    "on top."
   ]
  },
  {
   "cell_type": "code",
   "execution_count": null,
   "id": "878e5b90",
   "metadata": {
    "name": "reg-with-line"
   },
   "outputs": [],
   "source": [
    "ggplot(data = wage, aes(x = iq, y = wage)) +\n",
    "  geom_point() +\n",
    "  stat_smooth(method = \"lm\", se = FALSE)"
   ]
  },
  {
   "cell_type": "markdown",
   "id": "b71e2bee",
   "metadata": {},
   "source": [
    "Under the assumption that the errors $\\epsilon_i$ are independent and normally \n",
    "distributed with mean zero and an unknown variance $\\sigma^2$, the posterior \n",
    "distributions for the intercept and slope  will have a Student-t distribution \n",
    "under the reference prior with the posterior means and scales equal to the \n",
    "ordinary least squares estimates and standard errors respectively. We can create \n",
    "95% credible intervals for the two parameters using the `confint` function:"
   ]
  },
  {
   "cell_type": "code",
   "execution_count": null,
   "id": "0b76c5a7",
   "metadata": {},
   "outputs": [],
   "source": [
    "confint(m_wage_iq)"
   ]
  },
  {
   "cell_type": "markdown",
   "id": "6c910a3f",
   "metadata": {},
   "source": [
    "<div class=\"question\">\n",
    "Fit a new model that uses `educ` (education) to predict average weekly wages. \n",
    "Using the estimates from the R output, write the equation of the posterior mean \n",
    "of the regression line and obtain a 95% credible interval for the coefficients. \n",
    "What does the slope tell us in the context of the relationship between education\n",
    "and earnings?\n",
    "\n",
    "* Each additional year of education increases weekly wages by $60.21.\n",
    "* Each additional year of education increases weekly wages by $146.95.\n",
    "* For each additional year of education, there is a 95% chance that average weekly wages will possibly decrease by $5.56 or increase by $299.47.\n",
    "* For each additional year of education, there is a 95% chance that average weekly wages will increase by $49.04 to $71.39. \n",
    "</div>"
   ]
  },
  {
   "cell_type": "code",
   "execution_count": null,
   "id": "8840ae98",
   "metadata": {
    "name": "Q-SLR"
   },
   "outputs": [],
   "source": [
    "# Type your code for Question 3 here."
   ]
  },
  {
   "cell_type": "markdown",
   "id": "774d5ed7",
   "metadata": {},
   "source": [
    "## Model diagnostics\n",
    "\n",
    "The Bayesian model specification assumes that the errors are normally \n",
    "distributed with a constant variance and that the mean expected weekly wages is \n",
    "linear in IQ.  We can check these assumption by examining the distribution of \n",
    "the residuals for the model.\n",
    "\n",
    "In order to do so we will use predicted values, residuals, and standardized \n",
    "residuals of the model we fit earlier. The `augment` function in the `broom` \n",
    "package is going to come in handy here as it takes in a model object (the output \n",
    "of an `lm`) and returns a data frame with columns correspinding to variables \n",
    "in the model as well as predicted values (`.fitted`), residuals (`.resid`), and \n",
    "standardized residuals (`.std.resid`), along with a few others."
   ]
  },
  {
   "cell_type": "code",
   "execution_count": null,
   "id": "b9baac53",
   "metadata": {
    "name": "augment"
   },
   "outputs": [],
   "source": [
    "m_wage_iq_aug <- augment(m_wage_iq)"
   ]
  },
  {
   "cell_type": "markdown",
   "id": "be398212",
   "metadata": {},
   "source": [
    "**Linearity and Constant Variance**: You already checked if the relationship \n",
    "between weekly wages and IQ is linear using a scatterplot. We should also verify \n",
    "this condition with a plot of the residuals vs. fitted (predicted) values."
   ]
  },
  {
   "cell_type": "code",
   "execution_count": null,
   "id": "ba4cfd8a",
   "metadata": {
    "name": "residuals"
   },
   "outputs": [],
   "source": [
    "ggplot(data = m_wage_iq_aug, aes(x = .fitted, y = .resid)) +\n",
    "  geom_point(alpha = 0.6) +\n",
    "  geom_hline(yintercept = 0, linetype = \"dashed\") +\n",
    "  labs(x = \"Fitted values\", y = \"Residuals\")"
   ]
  },
  {
   "cell_type": "markdown",
   "id": "afccb597",
   "metadata": {},
   "source": [
    "Also note that we're getting fancy with the code here. We set the `alpha` level \n",
    "of our points to a value lower than 1 (`0.6` to be precise) in order to add \n",
    "plot the points with some transparency. This will allow us to more easily \n",
    "identify where the points are more dense vs. more sparse. Then, we overlay a \n",
    "horizontal dashed line at $y = 0$ (to help us check whether residuals are \n",
    "distributed evenly around 0 at each fitted value), and we also adjust the axis \n",
    "labels to be more informative.\n",
    "\n",
    "**Normality**: To check this condition, we can look at a histogram of residuals"
   ]
  },
  {
   "cell_type": "code",
   "execution_count": null,
   "id": "35740e4d",
   "metadata": {},
   "outputs": [],
   "source": [
    "ggplot(data = m_wage_iq_aug, aes(x = .resid)) +\n",
    "  geom_histogram(binwidth = 100) +\n",
    "  xlab(\"Residuals\")"
   ]
  },
  {
   "cell_type": "markdown",
   "id": "c0cdaeea",
   "metadata": {},
   "source": [
    "or a normal probability plot of the residuals"
   ]
  },
  {
   "cell_type": "code",
   "execution_count": null,
   "id": "e8bd4505",
   "metadata": {},
   "outputs": [],
   "source": [
    "ggplot(m_wage_iq_aug) +\n",
    "  geom_qq(aes(sample = .std.resid)) +\n",
    "  geom_abline(slope = 1, intercept = 0, linetype = \"dashed\") +\n",
    "  labs(x = \"Theoretical quantiles\", y = \"Standardized residuals\")"
   ]
  },
  {
   "cell_type": "markdown",
   "id": "ba230cb1",
   "metadata": {},
   "source": [
    "where we expect the points to be close to the dashed line, if the assumption of \n",
    "normality holds. Note that the $y$-axis in the plot uses standardized residuals, \n",
    "which are the residuals divided by their standard deviations so that they will \n",
    "have a normal distribution with mean zero and constant variance if the model \n",
    "holds.\n",
    "\n",
    "<div class=\"question\">\n",
    "Which of the following statements about the residual plots are **false**?\n",
    "\n",
    "* The residuals appear to be randomly distributed around 0.\n",
    "* The residuals are strongly left skewed, hence the normal distribution of errors condition is not met.\n",
    "* The variability of residuals appears to increase as the fitted  increase, suggesting that the constant variance assumption does not hold.\n",
    "* There are more individuals where the model under predicts weekly wages rather than over estimates weekly wages.\n",
    "</div> "
   ]
  },
  {
   "cell_type": "code",
   "execution_count": null,
   "id": "a7b4e110",
   "metadata": {
    "name": "Q-resid"
   },
   "outputs": [],
   "source": [
    "# Type your code for Question 4 here."
   ]
  },
  {
   "cell_type": "markdown",
   "id": "d18f825a",
   "metadata": {},
   "source": [
    "<div class=\"exercise\">\n",
    "Refit the model by using `educ` (education) as the independent variable. Does \n",
    "your answer to the previous exercise change?\n",
    "</div>"
   ]
  },
  {
   "cell_type": "code",
   "execution_count": null,
   "id": "185c3a36",
   "metadata": {
    "name": "E2-educ-resid"
   },
   "outputs": [],
   "source": [
    "# Type your code for Exercise 1 here."
   ]
  },
  {
   "cell_type": "markdown",
   "id": "80b2a86a",
   "metadata": {},
   "source": [
    "## Linear Regression After Transforming `wage`\n",
    "\n",
    "One way to accommodate the right-skewness in the residuals is to (natural) \n",
    "log-transform the dependent variable. Note that this is only possible if the \n",
    "variable is strictly positive, since the log of negative value is not defined \n",
    "and $\\ln(0) = -\\infty$. Let us try to fit a linear model with log-wage (`lwage`) \n",
    "as the dependent variable. The next two questions will be based on this log \n",
    "transformed model."
   ]
  },
  {
   "cell_type": "code",
   "execution_count": null,
   "id": "a36084c4",
   "metadata": {
    "name": "lwage-iq-model"
   },
   "outputs": [],
   "source": [
    "m_lwage_iq = lm(lwage ~ iq, data = wage)"
   ]
  },
  {
   "cell_type": "markdown",
   "id": "5a5c30c8",
   "metadata": {},
   "source": [
    "<div class=\"exercise\">\n",
    "Examine the residuals of this model. Is the assumption of normally distributed \n",
    "residuals reasonable?\n",
    "</div>"
   ]
  },
  {
   "cell_type": "code",
   "execution_count": null,
   "id": "3a5c2518",
   "metadata": {
    "name": "E-log-resid"
   },
   "outputs": [],
   "source": [
    "# Type your code for Exercise 2 here."
   ]
  },
  {
   "cell_type": "markdown",
   "id": "81db15ff",
   "metadata": {},
   "source": [
    "<div class=\"exercise\">\n",
    "Excluding `wage` and `lwage`, select two other variables that you think might be \n",
    "good predictors of `lwage`. Visualize their relationships with `wage` and check \n",
    "assumptions using appropriate plots.\n",
    "</div>"
   ]
  },
  {
   "cell_type": "code",
   "execution_count": null,
   "id": "b6dcca3b",
   "metadata": {
    "name": "E1-two-vars-eda"
   },
   "outputs": [],
   "source": [
    "# Type your code for  Exercise 3 here."
   ]
  },
  {
   "cell_type": "markdown",
   "id": "63b62981",
   "metadata": {},
   "source": [
    "## Outliers\n",
    "\n",
    "We declared observations to be outliers with respect to the population model if \n",
    "their deviation or error $\\epsilon_i$ was more than $k=3$ standard deviations \n",
    "above or below 0. Let's use the `Bayes.outlier` function from `BAS`, to calculate \n",
    "these probabilities for the model  `m_lwage_iq` and plot them against the \n",
    "case number.\n",
    "\n",
    "We start by calculating the probabilities,"
   ]
  },
  {
   "cell_type": "code",
   "execution_count": null,
   "id": "69ee7035",
   "metadata": {
    "name": "wage-iq-outliers-calculate"
   },
   "outputs": [],
   "source": [
    "outliers <- Bayes.outlier(m_lwage_iq, k = 3)"
   ]
  },
  {
   "cell_type": "markdown",
   "id": "a70bf7b1",
   "metadata": {},
   "source": [
    "and then store the results in a data frame and plot them."
   ]
  },
  {
   "cell_type": "code",
   "execution_count": null,
   "id": "0a4de068",
   "metadata": {
    "name": "wage-iq-outliers-plot"
   },
   "outputs": [],
   "source": [
    "outliers_df <- data.frame(probability = outliers$prob.outlier,\n",
    "                          case = 1:length(outliers$prob.outlier))\n",
    "ggplot(outliers_df, aes(ymax = probability, x = case)) +\n",
    "  geom_linerange(ymin = 0) +\n",
    "  labs(y = \"Probability\")"
   ]
  },
  {
   "cell_type": "markdown",
   "id": "26a931cf",
   "metadata": {},
   "source": [
    "To identify which cases have probabilities greater than 0.50 of being an outlier, \n",
    "we can use the `filter` function to return which cases have `probability > 0.50`."
   ]
  },
  {
   "cell_type": "code",
   "execution_count": null,
   "id": "6b923501",
   "metadata": {},
   "outputs": [],
   "source": [
    "outliers_df %>%\n",
    "  filter(probability > 0.50)"
   ]
  },
  {
   "cell_type": "markdown",
   "id": "f90b47a4",
   "metadata": {},
   "source": [
    "<div class=\"question\">\n",
    "Using the definition of outlier above, which statement is **false**?\n",
    "\n",
    "* Case 434 has a probability of close to 1 that it an outlier under the normal error model for regressing `lwage` on `iq`\n",
    "* Case 514 has a probably of close to 1 that it an outlier under the normal error model for regressing `lwage` on `iq`\n",
    "* Case 616 has a probably of close to 1 that it an outlier under the normal error model for regressing `lwage` on `iq`\n",
    "* Case 784 has a probably of close to 1 that it an outlier under the normal error model for regressing `lwage` on `iq`\n",
    "</div>"
   ]
  },
  {
   "cell_type": "code",
   "execution_count": null,
   "id": "049940dc",
   "metadata": {
    "name": "Q-outlier-prob"
   },
   "outputs": [],
   "source": [
    "# Type your code for Question 5 here."
   ]
  },
  {
   "cell_type": "markdown",
   "id": "a91d5ff6",
   "metadata": {},
   "source": [
    "While being $3$ standard deviations seems like an extremely unlikely event for \n",
    "a single observation, for large sample sizes, there is often a rather high \n",
    "probability that there will be at least one error $\\epsilon_i$ that exceeds $3$ \n",
    "standard deviations above or below zero _a priori_. We can calculate this as \n",
    "follows\n"
   ]
  },
  {
   "cell_type": "code",
   "execution_count": null,
   "id": "49d6826b",
   "metadata": {},
   "outputs": [],
   "source": [
    "# prob of a case being an outlier:\n",
    "#   being below or above 3 standard deviations from 0\n",
    "(prob_outlier <- pnorm(-3) + pnorm(3, lower.tail = FALSE))\n",
    "\n",
    "# probability of a signle case not being an outler is therefore the complement \n",
    "(prob_not_outlier <- 1 - prob_outlier)\n",
    "\n",
    "# probability of no outliers in the sample of n assuming errors are independent a priori\n",
    "n <- nrow(wage)\n",
    "(prob_no_outliers <- prob_not_outlier^n)\n",
    "\n",
    "# probability of at least one outlier in the sample is the complement of the \n",
    "# probability of no outliers in the sample of n\n",
    "1 - prob_no_outliers"
   ]
  },
  {
   "cell_type": "markdown",
   "id": "ee42b632",
   "metadata": {},
   "source": [
    "With a sample size of `r nrow(wage)` and using $3$ standard deviations to \n",
    "define outliers, the chance of having at least one outlier in the sample is \n",
    "`r round((1 - prob_no_outliers)*100, 2)`% so the fact that we did discover some \n",
    "outliers is not that surprising. \n",
    "\n",
    "So instead of fixing the number of standard deviations to $k=3$, an alternative \n",
    "is fix the prior probability of there being no outliers in the sample, \n",
    "$$P(\\text{no outliers in sample}) = P(\\text{observation is not an outlier})^n = 0.95$$\n",
    "which we can solve for\n",
    "\n",
    "$$ P(\\text{observation is not an outlier}) = 0.95^{1/n} $$\n",
    "\n",
    "and then solve for  $k$ using the normal quantile function."
   ]
  },
  {
   "cell_type": "code",
   "execution_count": null,
   "id": "0f35af33",
   "metadata": {},
   "outputs": [],
   "source": [
    "n <- nrow(wage)\n",
    "(prob_obs_not_outlier <- 0.95^(1/n))\n",
    "(newk <- qnorm(0.5 + 0.5 * prob_obs_not_outlier))"
   ]
  },
  {
   "cell_type": "markdown",
   "id": "8dda537c",
   "metadata": {},
   "source": [
    "The function `Bayes.outlier` can also calculate `k` internally if we specify \n",
    "the prior probability of there being no outliers in the sample:"
   ]
  },
  {
   "cell_type": "code",
   "execution_count": null,
   "id": "929e806f",
   "metadata": {
    "name": "no-outliers-in-sample"
   },
   "outputs": [],
   "source": [
    "outliers <- Bayes.outlier(m_lwage_iq, prior.prob=0.95)"
   ]
  },
  {
   "cell_type": "markdown",
   "id": "c203db28",
   "metadata": {},
   "source": [
    "<div class=\"question\">\n",
    "Use the new value of $k$ to calculate the posterior probability of each observation being an \n",
    "outlier. Which observation has a posterior probability of being an outlier \n",
    "that exceeds the prior probability of being an outlier?\n",
    "\n",
    "* Case 434\n",
    "* Case 514\n",
    "* Case 616\n",
    "* Case 784\n",
    "</div>"
   ]
  },
  {
   "cell_type": "code",
   "execution_count": null,
   "id": "530979a5",
   "metadata": {
    "name": "Q6-new-outlier-prob"
   },
   "outputs": [],
   "source": [
    "# Type your code for Qustion 6 here."
   ]
  },
  {
   "cell_type": "markdown",
   "id": "4908ec24",
   "metadata": {},
   "source": [
    "## Multiple linear regression\n",
    "\n",
    "It is evident that wage can be explained by many predictors, such as experience,  \n",
    "education, IQ, and so on. We can include all relevant covariates in a regression \n",
    "model in an attempt to explain as much wage variation as possible. In addition, \n",
    "sometimes outliers can be explained by changing the model by adding other \n",
    "predictors; let's take a look at multiple regression before removing any cases. "
   ]
  },
  {
   "cell_type": "code",
   "execution_count": null,
   "id": "12919a66",
   "metadata": {
    "name": "full-lwage-model"
   },
   "outputs": [],
   "source": [
    "m_lwage_full <- lm(lwage ~ . - wage, data = wage)"
   ]
  },
  {
   "cell_type": "markdown",
   "id": "95c97ec7",
   "metadata": {},
   "source": [
    "The use of `. - wage` in the `lm` function tells R to include all covariates in \n",
    "the model except the `wage` variable from the data set.\n",
    "\n",
    "However, running this full model has a cost: we will remove observations from \n",
    "our data if some measurements in the variables (e.g. birth order, mother's \n",
    "education, and father's education) are missing. By default, the `lm` function \n",
    "does a complete-case analysis. So it removes any observations with a missing \n",
    "(`NA`) value in one or more of the predictor variables. \n",
    "\n",
    "Because of these missing values we must make an addition assumption in order \n",
    "for our inferences to be valid. This exclusion of rows with missing values \n",
    "requires that in the data there is no systematic reason for the values to be \n",
    "missing. In other words, our data must be missing at random. For example, if \n",
    "all first-born children did not report their birth order, the data would not \n",
    "be missing at random. Without any additional information we will assume this \n",
    "is reasonable and use the 663 complete observations (as opposed to the original \n",
    "935) to fit the model. Both Bayesian and frequentist methods exist to handle \n",
    "data sets with missing data, but they are beyond the scope of this course. \n",
    "\n",
    "<div class=\"question\">\n",
    "From the model, all else begin equal, who would you expect to make more: a \n",
    "married black man or a single non-black man?\n",
    "\n",
    "* The married black man\n",
    "* The single non-black man\n",
    "</div>"
   ]
  },
  {
   "cell_type": "code",
   "execution_count": null,
   "id": "ea2c7f9d",
   "metadata": {
    "name": "Q7"
   },
   "outputs": [],
   "source": [
    "# Type your code for Question 7 here."
   ]
  },
  {
   "cell_type": "markdown",
   "id": "f27ae605",
   "metadata": {},
   "source": [
    "As you can see from a quick summary of the full linear model, many coefficients  of independent variables are not statistically significant. In previous labs \n",
    "within this specialization, you selected variables based on the values of \n",
    "Adjusted $R^2$. This module introduced the Bayesian Information Criterion (BIC), \n",
    "which is a criterion that can be used for model selection. BIC is based on \n",
    "model fit, while simultaneously penalizing the number of parameters in proportion \n",
    "to the sample size. We can calculate the BIC of the full linear model using \n",
    "the command below:"
   ]
  },
  {
   "cell_type": "code",
   "execution_count": null,
   "id": "6977fe0c",
   "metadata": {},
   "outputs": [],
   "source": [
    "BIC(m_lwage_full)"
   ]
  },
  {
   "cell_type": "markdown",
   "id": "0aeaa866",
   "metadata": {},
   "source": [
    "We can compare the BIC of the full model with that of a reduced model. Let us \n",
    "try to remove birth order from the model. To ensure that the observations remain \n",
    "the same, the data set can be specified as `na.omit(wage)`, which includes only \n",
    "the observations with no missing values in any variables in the data set."
   ]
  },
  {
   "cell_type": "code",
   "execution_count": null,
   "id": "96cd2ee3",
   "metadata": {},
   "outputs": [],
   "source": [
    "m_lwage_nobrthord <- lm(lwage ~ . - wage - brthord, data = na.omit(wage))\n",
    "BIC(m_lwage_nobrthord)"
   ]
  },
  {
   "cell_type": "markdown",
   "id": "2e577a33",
   "metadata": {},
   "source": [
    "As you can see, removing birth order from the regression reduces BIC, which \n",
    "we seek to minimize by model selection.\n",
    "\n",
    "<div class=\"question\">\n",
    "Elimination of which variable from the full model yielded the lowest BIC?\n",
    "\n",
    "* `brthord`\n",
    "* `sibs`\n",
    "* `feduc`\n",
    "* `meduc`\n",
    "</div>"
   ]
  },
  {
   "cell_type": "code",
   "execution_count": null,
   "id": "f3b3f8f5",
   "metadata": {
    "name": "Q7-BIC"
   },
   "outputs": [],
   "source": [
    "# Type your code for Question 8 here."
   ]
  },
  {
   "cell_type": "markdown",
   "id": "63600c93",
   "metadata": {},
   "source": [
    "<div class=\"exercise\">\n",
    "R has a function `stepAIC` from the `MASS` package that will work backwards \n",
    "through the model space, removing variables until the AIC score can be no longer \n",
    "lowered. It takes all inputs in the full model, and a penalty parameter $k$. \n",
    "The default setting is $k=2$ for the AIC score. Find the best model according \n",
    "to BIC (in which case `k = log(n)` where $n$ is the number of observations). \n",
    "Remember to use `na.omit(wage)` as your data set. You may type `?stepAIC` in \n",
    "the RStudio Console to get the use and examples of the function `stepAIC`. \n",
    "</div>"
   ]
  },
  {
   "cell_type": "code",
   "execution_count": null,
   "id": "c225a11b",
   "metadata": {
    "name": "E4-step"
   },
   "outputs": [],
   "source": [
    "# Type your code for Exercise 4 here."
   ]
  },
  {
   "cell_type": "markdown",
   "id": "216bf8f6",
   "metadata": {},
   "source": [
    "## Bayesian model averaging\n",
    "\n",
    "Often, several models are equally plausible and choosing only one ignores the \n",
    "inherent uncertainty involved in choosing the variables to include in the model. \n",
    "A way to get around this problem is to implement Bayesian model averaging (BMA), \n",
    "in which multiple models are averaged to obtain posteriors of coefficients and \n",
    "predictions from new data. Dr. Merlise Clyde is the primary author of the R \n",
    "package `BAS`, which implements BMA [@Clyde2018]. We can use this for either \n",
    "implementing BMA or selecting models.\n",
    "\n",
    "We start by applying BMA to the wage data using all $15$ potential predictors."
   ]
  },
  {
   "cell_type": "code",
   "execution_count": null,
   "id": "16787fdf",
   "metadata": {
    "name": "bas-wage"
   },
   "outputs": [],
   "source": [
    "# Exclude observations with missing values in the data set\n",
    "wage_no_na <- na.omit(wage)\n",
    "\n",
    "# Fit the model using Bayesian linear regression, `bas.lm` function in the `BAS` package\n",
    "bma_lwage <- bas.lm(lwage ~ . -wage, data = wage_no_na,\n",
    "                   prior = \"BIC\", \n",
    "                   modelprior = uniform())\n",
    "\n",
    "# Print out the marginal posterior inclusion probabilities for each variable                \n",
    "bma_lwage\n",
    "\n",
    "# Top 5 most probably models\n",
    "summary(bma_lwage)"
   ]
  },
  {
   "cell_type": "markdown",
   "id": "039ecab2",
   "metadata": {},
   "source": [
    "Printing the model object and the summary command gives us both the posterior \n",
    "model inclusion probability for each variable and the most probable models. For \n",
    "example, the posterior probability that `hours` is included in the model is \n",
    "0.855. Further, the most likely model, which has posterior probability of 0.0455, \n",
    "includes an intercept, hours worked, IQ, education, tenure, age, marital status, \n",
    "urban living status, and mother's education. While a posterior probability of \n",
    "0.0455 sounds small, it is much larger than the uniform prior probability \n",
    "assigned to it, since there are $2^{15}$ possible models. \n",
    "\n",
    "It is also possible to visualize the posterior distribution of the coefficients \n",
    "under the model averaging approach. We graph the posterior distribution of the \n",
    "coefficients of `iq` and `sibs` below. Note that the subset command dictates \n",
    "which variable is plotted."
   ]
  },
  {
   "cell_type": "code",
   "execution_count": null,
   "id": "621786a1",
   "metadata": {
    "name": "vis-BMA"
   },
   "outputs": [],
   "source": [
    "# Obtain the coefficients from the model `bma_lwage`\n",
    "coef_lwage <- coefficients(bma_lwage)\n",
    "\n",
    "# `iq` is the 3rd variable, while `sibs` is the 13th variable in the data set\n",
    "plot(coef_lwage, subset = c(3,13), ask = FALSE)"
   ]
  },
  {
   "cell_type": "markdown",
   "id": "daf1ef05",
   "metadata": {},
   "source": [
    "We can also provide 95% credible intervals for these coefficients:"
   ]
  },
  {
   "cell_type": "code",
   "execution_count": null,
   "id": "2a617048",
   "metadata": {
    "name": "conf-BMA"
   },
   "outputs": [],
   "source": [
    "confint(coef_lwage)"
   ]
  },
  {
   "cell_type": "markdown",
   "id": "f42d2fd7",
   "metadata": {},
   "source": [
    "For Questions 9-10, we'll use a reduced data set which excludes wage, number \n",
    "of siblings, birth order, and parental education. "
   ]
  },
  {
   "cell_type": "code",
   "execution_count": null,
   "id": "624735c8",
   "metadata": {
    "name": "rem-vars-wage"
   },
   "outputs": [],
   "source": [
    "wage_red <- wage %>%\n",
    "  select(-wage, -sibs, -brthord, -meduc, -feduc)"
   ]
  },
  {
   "cell_type": "markdown",
   "id": "3a05cebc",
   "metadata": {},
   "source": [
    "Let's use BMA with the Zellner-Siow prior on the regression coefficients:"
   ]
  },
  {
   "cell_type": "code",
   "execution_count": null,
   "id": "d956d1f1",
   "metadata": {},
   "outputs": [],
   "source": [
    "bma_lwage_red <- bas.lm(lwage ~ ., data = wage_red,  \n",
    "                        prior = \"ZS-null\",\n",
    "                        modelprior = uniform())"
   ]
  },
  {
   "cell_type": "markdown",
   "id": "2ed35ae5",
   "metadata": {},
   "source": [
    "<div class=\"question\">\n",
    "Based on this reduced data set, according to Bayesian model averaging, which of \n",
    "the following variables has the lowest marginal posterior inclusion probability?\n",
    "\n",
    "* `kww`\n",
    "* `black`\n",
    "* `south`\n",
    "* `age`\n",
    "</div>"
   ]
  },
  {
   "cell_type": "code",
   "execution_count": null,
   "id": "1952b970",
   "metadata": {
    "name": "Q9-reduced-BMA"
   },
   "outputs": [],
   "source": [
    "# Type your code for Question 9 here."
   ]
  },
  {
   "cell_type": "markdown",
   "id": "c670f544",
   "metadata": {},
   "source": [
    "<div class=\"question\">\n",
    "**True** or **False**: The naive model with all variables included has posterior \n",
    "probability greater than 0.5.\n",
    "\n",
    "* True\n",
    "* False\n",
    "</div>"
   ]
  },
  {
   "cell_type": "code",
   "execution_count": null,
   "id": "e65736ca",
   "metadata": {
    "name": "Q10"
   },
   "outputs": [],
   "source": [
    "# Type your code for Question 10 here."
   ]
  },
  {
   "cell_type": "markdown",
   "id": "f20455c5",
   "metadata": {},
   "source": [
    "<div class=\"exercise\">\n",
    "Graph the posterior distribution of the coefficient of `age`, using the data \n",
    "set `wage_red`.\n",
    "</div>"
   ]
  },
  {
   "cell_type": "code",
   "execution_count": null,
   "id": "9a865ad6",
   "metadata": {
    "name": "E5-graph"
   },
   "outputs": [],
   "source": [
    "# Type your code for Exercise 5 here."
   ]
  },
  {
   "cell_type": "markdown",
   "id": "dcc886d3",
   "metadata": {},
   "source": [
    "Because we have log transformed wage, interpretation of coefficients from the \n",
    "output is not as useful for understanding how the different predictors influence \n",
    "wages. Instead we can interpret coefficients after transforming back to the \n",
    "original units by exponentiation. The exponential of the posterior mean is not \n",
    "the same as the mean of the exponential, however, the median of wage can be \n",
    "found by exponentiating the median of log wage (i.e. the middle value is still \n",
    "in the middle with transformations that do not change the order of values).  \n",
    "\n",
    "Let's look at the coefficients and 95% credible intervals"
   ]
  },
  {
   "cell_type": "code",
   "execution_count": null,
   "id": "58691d6b",
   "metadata": {
    "name": "credible_red"
   },
   "outputs": [],
   "source": [
    "coef(bma_lwage_red)\n",
    "coef(bma_lwage_red) %>%\n",
    "  confint()"
   ]
  },
  {
   "cell_type": "markdown",
   "id": "f5c0ff6d",
   "metadata": {},
   "source": [
    "The exponential transformation applied to coefficients has a multiplicative \n",
    "effect on the posterior median. What this means is that a one unit increase in \n",
    "predictor  $X_j$ leads to a $(\\exp(\\beta_j) -1) \\times 100$ percent increase in \n",
    "the median wage [@StatNews83]. For a factor or indicator variable like \n",
    "`urban`, the posterior median for wages for urban areas (`urban == 1`) will \n",
    "be $(\\exp(0.1791) - 1) \\times 100$ percent higher than in rural areas \n",
    "(`urban == 0`). Similarly we can use the same transformation with the credible \n",
    "interval. First, let's calculate the credible interval for the coefficient of \n",
    "`urban` and exponentiate it."
   ]
  },
  {
   "cell_type": "code",
   "execution_count": null,
   "id": "92244587",
   "metadata": {},
   "outputs": [],
   "source": [
    "ci_urban <- coef(bma_lwage_red) %>%\n",
    "  confint(parm = \"urban1\") %>%\n",
    "  exp()\n",
    "\n",
    "ci_urban"
   ]
  },
  {
   "cell_type": "markdown",
   "id": "852ffab1",
   "metadata": {},
   "source": [
    "Then, we can substract 1 from the bounds of the interval and multipl them by 100 \n",
    "to make them a bit more straightforward to interpret"
   ]
  },
  {
   "cell_type": "code",
   "execution_count": null,
   "id": "fb169014",
   "metadata": {},
   "outputs": [],
   "source": [
    "(ci_urban - 1) * 100"
   ]
  },
  {
   "cell_type": "markdown",
   "id": "5fedbf9d",
   "metadata": {},
   "source": [
    "Based on this data, there is a 95% chance that median wages for urban areas are\n",
    "`r round((exp(confint(coef(bma_lwage_red), parm='urban1'))[1] - 1)*100, 2)`\n",
    "to \n",
    "`r round((exp(confint(coef(bma_lwage_red), parm='urban1'))[2] - 1)*100,2)` \n",
    "times higher than in rural regions.\n",
    "\n",
    "<div class=\"exercise\">\n",
    "Find a 95% credible interval for the coefficient of `educ` and provide an interpretation.\n",
    "</div>"
   ]
  },
  {
   "cell_type": "code",
   "execution_count": null,
   "id": "3cd3d253",
   "metadata": {
    "name": "E6-CI-lwage"
   },
   "outputs": [],
   "source": [
    "# Type your code for Exercise 6 here"
   ]
  },
  {
   "cell_type": "markdown",
   "id": "911f995a",
   "metadata": {},
   "source": [
    "## Prediction with BAS\n",
    "\n",
    "Similar to last week's lab, we will be using Bayesian predictive distribution \n",
    "for predictions and interpretation of predictions. Simulation is used in `BAS` \n",
    "to construct predictive intervals with Bayesian Model Averaging, while exact \n",
    "inference is often possible with predictive intervals under model selection.\n",
    "\n",
    "Returning to the wage data set, let us find the predictive values under the \n",
    "*Best Predictive Model* (`BPM`), the one which has predictions closest to BMA \n",
    "and corresponding posterior standard deviations."
   ]
  },
  {
   "cell_type": "code",
   "execution_count": null,
   "id": "3632be82",
   "metadata": {
    "cache": true,
    "name": "bma_predict"
   },
   "outputs": [],
   "source": [
    "BPM_pred_lwage <- predict(bma_lwage, estimator = \"BPM\", se.fit = TRUE)\n",
    "variable.names(BPM_pred_lwage)"
   ]
  },
  {
   "cell_type": "markdown",
   "id": "05f3eff7",
   "metadata": {},
   "source": [
    "In the code above, the function `variable.names` can be used to extract the names of all of the predictors in the Best Probabilty model.\n",
    "This can be used to identify the variables in the  *Highest Probability Model* (`HPM`) "
   ]
  },
  {
   "cell_type": "code",
   "execution_count": null,
   "id": "b7f40cef",
   "metadata": {
    "name": "HPM"
   },
   "outputs": [],
   "source": [
    "HPM_pred_lwage <- predict(bma_lwage, estimator = \"HPM\")\n",
    "variable.names(HPM_pred_lwage)"
   ]
  },
  {
   "cell_type": "markdown",
   "id": "1cd436b2",
   "metadata": {},
   "source": [
    "and the \n",
    "*Median Probability Model* (`MPM`)"
   ]
  },
  {
   "cell_type": "code",
   "execution_count": null,
   "id": "eb8a3867",
   "metadata": {
    "name": "MPM"
   },
   "outputs": [],
   "source": [
    "MPM_pred_lwage <- predict(bma_lwage, estimator = \"MPM\")\n",
    "variable.names(MPM_pred_lwage)"
   ]
  },
  {
   "cell_type": "markdown",
   "id": "3b82b664",
   "metadata": {
    "lines_to_next_cell": 0
   },
   "source": [
    "The `MPM` includes `exper` in addition to all of the variables in the \n",
    "*Highest Probability Model* (`HPM`), while the `BPM` includes  `kww` in \n",
    "addition to all of the variables in the `MPM`. \n",
    "\n",
    "<div class=\"question\">\n",
    "Based on these results which covariates are included in **all** of the following: the best \n",
    "predictive model, the median probability model, and the highest posterior \n",
    "probability model?\n",
    "\n",
    "* `kww`, `married`, `urban`\n",
    "* `married`, `age`, `black`\n",
    "* `black`, `south`, `married`\n",
    "* `meduc`, `urban`, `married`\n",
    "</div>"
   ]
  },
  {
   "cell_type": "code",
   "execution_count": null,
   "id": "add5043f",
   "metadata": {
    "name": "Q11"
   },
   "outputs": [],
   "source": [
    "# Type your code for Question 11 here."
   ]
  },
  {
   "cell_type": "markdown",
   "id": "3079d479",
   "metadata": {},
   "source": [
    "Let us turn to examine what characteristics lead to the highest wages in the \n",
    "`BPM` model."
   ]
  },
  {
   "cell_type": "code",
   "execution_count": null,
   "id": "9933ba66",
   "metadata": {
    "name": "opt_wage"
   },
   "outputs": [],
   "source": [
    "# Find the index of observation with the largest fitted value\n",
    "opt <- which.max(BPM_pred_lwage$fit)\n",
    "\n",
    "# Extract the row with this observation and glimpse at the row\n",
    "wage_no_na %>% \n",
    "  slice(opt) %>%\n",
    "  glimpse()"
   ]
  },
  {
   "cell_type": "markdown",
   "id": "7aafcc94",
   "metadata": {},
   "source": [
    "A 95% credible interval for predicting log wages can be obtained by"
   ]
  },
  {
   "cell_type": "code",
   "execution_count": null,
   "id": "549594ad",
   "metadata": {
    "name": "ci"
   },
   "outputs": [],
   "source": [
    "ci_lwage <- confint(BPM_pred_lwage, parm = \"pred\")\n",
    "ci_lwage[opt,]"
   ]
  },
  {
   "cell_type": "markdown",
   "id": "55fe50f9",
   "metadata": {},
   "source": [
    "To translate this back to `wage` (recall that we regress `lwage`), we may \n",
    "exponentiate the interval to obtain a 95% prediction interval for the wages of \n",
    "an individual with covariates at the levels of the individual specified by `opt`."
   ]
  },
  {
   "cell_type": "code",
   "execution_count": null,
   "id": "ff688d6a",
   "metadata": {
    "name": "ci_wage"
   },
   "outputs": [],
   "source": [
    "exp(ci_lwage[opt,])"
   ]
  },
  {
   "cell_type": "markdown",
   "id": "fa322f2a",
   "metadata": {},
   "source": [
    "If we were to use BMA, the interval would be "
   ]
  },
  {
   "cell_type": "code",
   "execution_count": null,
   "id": "d4b874bf",
   "metadata": {},
   "outputs": [],
   "source": [
    "BMA_pred_lwage <- predict(bma_lwage, estimator = \"BMA\", se.fit = TRUE)\n",
    "ci_bma_lwage <- confint(BMA_pred_lwage, estimator = \"BMA\")\n",
    "opt_bma <- which.max(BMA_pred_lwage$fit)\n",
    "exp(ci_bma_lwage[opt_bma, ])"
   ]
  },
  {
   "cell_type": "markdown",
   "id": "7bd9fdd3",
   "metadata": {},
   "source": [
    "<div class=\"question\">\n",
    "Repeat these calculations for a 95% prediction interval for the individual who is \n",
    "predicted to have the highest predicted wages based on the best predictive model.\n",
    "\n",
    "* [414, 1717]\n",
    "* [782, 1571]\n",
    "* [782, 3154]\n",
    "* [706, 2950]\n",
    "</div>"
   ]
  },
  {
   "cell_type": "code",
   "execution_count": null,
   "id": "25e49929",
   "metadata": {
    "name": "Q12-cred-interval"
   },
   "outputs": [],
   "source": [
    "# Type your code for Question 12 here."
   ]
  },
  {
   "cell_type": "markdown",
   "id": "958c1bc5",
   "metadata": {},
   "source": [
    "<div class=\"license\">\n",
    "This work is licensed under [GNU General Public License v3.0](https://www.gnu.org/licenses/quick-guide-gplv3.html).\n",
    "</div>\n",
    "\n",
    "## References\n"
   ]
  }
 ],
 "metadata": {
  "jupytext": {
   "cell_metadata_filter": "tags,cache,warning,message,name,-all",
   "main_language": "R",
   "notebook_metadata_filter": "-all"
  },
  "kernelspec": {
   "display_name": "R",
   "language": "R",
   "name": "ir"
  },
  "language_info": {
   "codemirror_mode": "r",
   "file_extension": ".r",
   "mimetype": "text/x-r-source",
   "name": "R",
   "pygments_lexer": "r",
   "version": "4.1.0"
  }
 },
 "nbformat": 4,
 "nbformat_minor": 5
}
