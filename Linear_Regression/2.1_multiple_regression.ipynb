{
 "cells": [
  {
   "cell_type": "raw",
   "id": "488a6bb1",
   "metadata": {},
   "source": [
    "---\n",
    "title: \"Multiple linear regression\"\n",
    "output: statsr:::statswithr_lab\n",
    "---"
   ]
  },
  {
   "cell_type": "markdown",
   "id": "1414d2ae",
   "metadata": {},
   "source": [
    "Complete all **Exercises**, and submit answers to **Questions** on the Coursera \n",
    "platform.\n",
    "\n",
    "\n",
    "## Grading the professor\n",
    "\n",
    "Many college courses conclude by giving students the opportunity to evaluate \n",
    "the course and the instructor anonymously. However, the use of these student \n",
    "evaluations as an indicator of course quality and teaching effectiveness is \n",
    "often criticized because these measures may reflect the influence of \n",
    "non-teaching related characteristics, such as the physical appearance of the \n",
    "instructor. The article titled, \"Beauty in the classroom: instructors' \n",
    "pulchritude and putative pedagogical productivity\" [@Hamermesh2005] \n",
    "found that instructors who are viewed to be better looking receive higher \n",
    "instructional ratings. \n",
    "\n",
    "In this lab we will analyze the data from this study in order to learn what goes \n",
    "into a positive professor evaluation.\n",
    "\n",
    "## Getting Started\n",
    "\n",
    "### Load packages\n",
    "\n",
    "In this lab we will explore the data using the `dplyr` package and visualize it \n",
    "using the `ggplot2` package for data visualization. The data can be found in the\n",
    "companion package for this course, `statsr`.\n",
    "\n",
    "Let's load the packages."
   ]
  },
  {
   "cell_type": "code",
   "execution_count": 3,
   "id": "7158c208",
   "metadata": {
    "message": false,
    "name": "load-packages"
   },
   "outputs": [
    {
     "name": "stderr",
     "output_type": "stream",
     "text": [
      "Registered S3 method overwritten by 'GGally':\n",
      "  method from   \n",
      "  +.gg   ggplot2\n",
      "\n"
     ]
    }
   ],
   "source": [
    "library(statsr)\n",
    "library(dplyr)\n",
    "library(ggplot2)\n",
    "library(GGally)"
   ]
  },
  {
   "cell_type": "markdown",
   "id": "0b9e409b",
   "metadata": {},
   "source": [
    "This is the first time we're using the `GGally` package. We will be using the\n",
    "`ggpairs` function from this package later in the lab.\n",
    "\n",
    "### The data\n",
    "\n",
    "The data were gathered from end of semester student evaluations for a large \n",
    "sample of professors from the University of Texas at Austin. In addition, six \n",
    "students rated the professors' physical appearance. (This is a slightly modified \n",
    "version of the original data set that was released as part of the replication \n",
    "data for *Data Analysis Using Regression and Multilevel/Hierarchical Models* \n",
    "[@Gelman2007].) The result is a data frame where each row contains a \n",
    "different course and columns represent variables about the courses and \n",
    "professors.\n",
    "\n",
    "Let's load the data:"
   ]
  },
  {
   "cell_type": "code",
   "execution_count": 4,
   "id": "21d59f12",
   "metadata": {
    "message": false,
    "name": "load-data"
   },
   "outputs": [],
   "source": [
    "data(evals)"
   ]
  },
  {
   "cell_type": "code",
   "execution_count": 5,
   "id": "279e174a",
   "metadata": {},
   "outputs": [
    {
     "data": {
      "text/html": [
       "<table class=\"dataframe\">\n",
       "<caption>A tibble: 6 × 21</caption>\n",
       "<thead>\n",
       "\t<tr><th scope=col>score</th><th scope=col>rank</th><th scope=col>ethnicity</th><th scope=col>gender</th><th scope=col>language</th><th scope=col>age</th><th scope=col>cls_perc_eval</th><th scope=col>cls_did_eval</th><th scope=col>cls_students</th><th scope=col>cls_level</th><th scope=col>⋯</th><th scope=col>cls_credits</th><th scope=col>bty_f1lower</th><th scope=col>bty_f1upper</th><th scope=col>bty_f2upper</th><th scope=col>bty_m1lower</th><th scope=col>bty_m1upper</th><th scope=col>bty_m2upper</th><th scope=col>bty_avg</th><th scope=col>pic_outfit</th><th scope=col>pic_color</th></tr>\n",
       "\t<tr><th scope=col>&lt;dbl&gt;</th><th scope=col>&lt;fct&gt;</th><th scope=col>&lt;fct&gt;</th><th scope=col>&lt;fct&gt;</th><th scope=col>&lt;fct&gt;</th><th scope=col>&lt;int&gt;</th><th scope=col>&lt;dbl&gt;</th><th scope=col>&lt;int&gt;</th><th scope=col>&lt;int&gt;</th><th scope=col>&lt;fct&gt;</th><th scope=col>⋯</th><th scope=col>&lt;fct&gt;</th><th scope=col>&lt;int&gt;</th><th scope=col>&lt;int&gt;</th><th scope=col>&lt;int&gt;</th><th scope=col>&lt;int&gt;</th><th scope=col>&lt;int&gt;</th><th scope=col>&lt;int&gt;</th><th scope=col>&lt;dbl&gt;</th><th scope=col>&lt;fct&gt;</th><th scope=col>&lt;fct&gt;</th></tr>\n",
       "</thead>\n",
       "<tbody>\n",
       "\t<tr><td>4.7</td><td>tenure track</td><td>minority    </td><td>female</td><td>english</td><td>36</td><td>55.81395</td><td>24</td><td> 43</td><td>upper</td><td>⋯</td><td>multi credit</td><td>5</td><td>7</td><td>6</td><td>2</td><td>4</td><td>6</td><td>5</td><td>not formal</td><td>color</td></tr>\n",
       "\t<tr><td>4.1</td><td>tenure track</td><td>minority    </td><td>female</td><td>english</td><td>36</td><td>68.80000</td><td>86</td><td>125</td><td>upper</td><td>⋯</td><td>multi credit</td><td>5</td><td>7</td><td>6</td><td>2</td><td>4</td><td>6</td><td>5</td><td>not formal</td><td>color</td></tr>\n",
       "\t<tr><td>3.9</td><td>tenure track</td><td>minority    </td><td>female</td><td>english</td><td>36</td><td>60.80000</td><td>76</td><td>125</td><td>upper</td><td>⋯</td><td>multi credit</td><td>5</td><td>7</td><td>6</td><td>2</td><td>4</td><td>6</td><td>5</td><td>not formal</td><td>color</td></tr>\n",
       "\t<tr><td>4.8</td><td>tenure track</td><td>minority    </td><td>female</td><td>english</td><td>36</td><td>62.60163</td><td>77</td><td>123</td><td>upper</td><td>⋯</td><td>multi credit</td><td>5</td><td>7</td><td>6</td><td>2</td><td>4</td><td>6</td><td>5</td><td>not formal</td><td>color</td></tr>\n",
       "\t<tr><td>4.6</td><td>tenured     </td><td>not minority</td><td>male  </td><td>english</td><td>59</td><td>85.00000</td><td>17</td><td> 20</td><td>upper</td><td>⋯</td><td>multi credit</td><td>4</td><td>4</td><td>2</td><td>2</td><td>3</td><td>3</td><td>3</td><td>not formal</td><td>color</td></tr>\n",
       "\t<tr><td>4.3</td><td>tenured     </td><td>not minority</td><td>male  </td><td>english</td><td>59</td><td>87.50000</td><td>35</td><td> 40</td><td>upper</td><td>⋯</td><td>multi credit</td><td>4</td><td>4</td><td>2</td><td>2</td><td>3</td><td>3</td><td>3</td><td>not formal</td><td>color</td></tr>\n",
       "</tbody>\n",
       "</table>\n"
      ],
      "text/latex": [
       "A tibble: 6 × 21\n",
       "\\begin{tabular}{lllllllllllllllllllll}\n",
       " score & rank & ethnicity & gender & language & age & cls\\_perc\\_eval & cls\\_did\\_eval & cls\\_students & cls\\_level & ⋯ & cls\\_credits & bty\\_f1lower & bty\\_f1upper & bty\\_f2upper & bty\\_m1lower & bty\\_m1upper & bty\\_m2upper & bty\\_avg & pic\\_outfit & pic\\_color\\\\\n",
       " <dbl> & <fct> & <fct> & <fct> & <fct> & <int> & <dbl> & <int> & <int> & <fct> & ⋯ & <fct> & <int> & <int> & <int> & <int> & <int> & <int> & <dbl> & <fct> & <fct>\\\\\n",
       "\\hline\n",
       "\t 4.7 & tenure track & minority     & female & english & 36 & 55.81395 & 24 &  43 & upper & ⋯ & multi credit & 5 & 7 & 6 & 2 & 4 & 6 & 5 & not formal & color\\\\\n",
       "\t 4.1 & tenure track & minority     & female & english & 36 & 68.80000 & 86 & 125 & upper & ⋯ & multi credit & 5 & 7 & 6 & 2 & 4 & 6 & 5 & not formal & color\\\\\n",
       "\t 3.9 & tenure track & minority     & female & english & 36 & 60.80000 & 76 & 125 & upper & ⋯ & multi credit & 5 & 7 & 6 & 2 & 4 & 6 & 5 & not formal & color\\\\\n",
       "\t 4.8 & tenure track & minority     & female & english & 36 & 62.60163 & 77 & 123 & upper & ⋯ & multi credit & 5 & 7 & 6 & 2 & 4 & 6 & 5 & not formal & color\\\\\n",
       "\t 4.6 & tenured      & not minority & male   & english & 59 & 85.00000 & 17 &  20 & upper & ⋯ & multi credit & 4 & 4 & 2 & 2 & 3 & 3 & 3 & not formal & color\\\\\n",
       "\t 4.3 & tenured      & not minority & male   & english & 59 & 87.50000 & 35 &  40 & upper & ⋯ & multi credit & 4 & 4 & 2 & 2 & 3 & 3 & 3 & not formal & color\\\\\n",
       "\\end{tabular}\n"
      ],
      "text/markdown": [
       "\n",
       "A tibble: 6 × 21\n",
       "\n",
       "| score &lt;dbl&gt; | rank &lt;fct&gt; | ethnicity &lt;fct&gt; | gender &lt;fct&gt; | language &lt;fct&gt; | age &lt;int&gt; | cls_perc_eval &lt;dbl&gt; | cls_did_eval &lt;int&gt; | cls_students &lt;int&gt; | cls_level &lt;fct&gt; | ⋯ ⋯ | cls_credits &lt;fct&gt; | bty_f1lower &lt;int&gt; | bty_f1upper &lt;int&gt; | bty_f2upper &lt;int&gt; | bty_m1lower &lt;int&gt; | bty_m1upper &lt;int&gt; | bty_m2upper &lt;int&gt; | bty_avg &lt;dbl&gt; | pic_outfit &lt;fct&gt; | pic_color &lt;fct&gt; |\n",
       "|---|---|---|---|---|---|---|---|---|---|---|---|---|---|---|---|---|---|---|---|---|\n",
       "| 4.7 | tenure track | minority     | female | english | 36 | 55.81395 | 24 |  43 | upper | ⋯ | multi credit | 5 | 7 | 6 | 2 | 4 | 6 | 5 | not formal | color |\n",
       "| 4.1 | tenure track | minority     | female | english | 36 | 68.80000 | 86 | 125 | upper | ⋯ | multi credit | 5 | 7 | 6 | 2 | 4 | 6 | 5 | not formal | color |\n",
       "| 3.9 | tenure track | minority     | female | english | 36 | 60.80000 | 76 | 125 | upper | ⋯ | multi credit | 5 | 7 | 6 | 2 | 4 | 6 | 5 | not formal | color |\n",
       "| 4.8 | tenure track | minority     | female | english | 36 | 62.60163 | 77 | 123 | upper | ⋯ | multi credit | 5 | 7 | 6 | 2 | 4 | 6 | 5 | not formal | color |\n",
       "| 4.6 | tenured      | not minority | male   | english | 59 | 85.00000 | 17 |  20 | upper | ⋯ | multi credit | 4 | 4 | 2 | 2 | 3 | 3 | 3 | not formal | color |\n",
       "| 4.3 | tenured      | not minority | male   | english | 59 | 87.50000 | 35 |  40 | upper | ⋯ | multi credit | 4 | 4 | 2 | 2 | 3 | 3 | 3 | not formal | color |\n",
       "\n"
      ],
      "text/plain": [
       "  score rank         ethnicity    gender language age cls_perc_eval\n",
       "1 4.7   tenure track minority     female english  36  55.81395     \n",
       "2 4.1   tenure track minority     female english  36  68.80000     \n",
       "3 3.9   tenure track minority     female english  36  60.80000     \n",
       "4 4.8   tenure track minority     female english  36  62.60163     \n",
       "5 4.6   tenured      not minority male   english  59  85.00000     \n",
       "6 4.3   tenured      not minority male   english  59  87.50000     \n",
       "  cls_did_eval cls_students cls_level ⋯ cls_credits  bty_f1lower bty_f1upper\n",
       "1 24            43          upper     ⋯ multi credit 5           7          \n",
       "2 86           125          upper     ⋯ multi credit 5           7          \n",
       "3 76           125          upper     ⋯ multi credit 5           7          \n",
       "4 77           123          upper     ⋯ multi credit 5           7          \n",
       "5 17            20          upper     ⋯ multi credit 4           4          \n",
       "6 35            40          upper     ⋯ multi credit 4           4          \n",
       "  bty_f2upper bty_m1lower bty_m1upper bty_m2upper bty_avg pic_outfit pic_color\n",
       "1 6           2           4           6           5       not formal color    \n",
       "2 6           2           4           6           5       not formal color    \n",
       "3 6           2           4           6           5       not formal color    \n",
       "4 6           2           4           6           5       not formal color    \n",
       "5 2           2           3           3           3       not formal color    \n",
       "6 2           2           3           3           3       not formal color    "
      ]
     },
     "metadata": {},
     "output_type": "display_data"
    }
   ],
   "source": [
    "head(evals)"
   ]
  },
  {
   "cell_type": "markdown",
   "id": "4bf70659",
   "metadata": {
    "lines_to_next_cell": 0
   },
   "source": [
    "variable         | description\n",
    "---------------- | -----------\n",
    "`score`          | average professor evaluation score: (1) very unsatisfactory - (5) excellent.\n",
    "`rank`           | rank of professor: teaching, tenure track, tenured.\n",
    "`ethnicity`      | ethnicity of professor: not minority, minority.\n",
    "`gender`         | gender of professor: female, male.\n",
    "`language`       | language of school where professor received education: english or non-english.\n",
    "`age`            | age of professor.\n",
    "`cls_perc_eval`  | percent of students in class who completed evaluation.\n",
    "`cls_did_eval`   | number of students in class who completed evaluation.\n",
    "`cls_students`   | total number of students in class.\n",
    "`cls_level`      | class level: lower, upper.\n",
    "`cls_profs`      | number of professors teaching sections in course in sample: single, multiple.\n",
    "`cls_credits`    | number of credits of class: one credit (lab, PE, etc.), multi credit.\n",
    "`bty_f1lower`    | beauty rating of professor from lower level female: (1) lowest - (10) highest.\n",
    "`bty_f1upper`    | beauty rating of professor from upper level female: (1) lowest - (10) highest.\n",
    "`bty_f2upper`    | beauty rating of professor from second upper level female: (1) lowest - (10) highest.\n",
    "`bty_m1lower`    | beauty rating of professor from lower level male: (1) lowest - (10) highest.\n",
    "`bty_m1upper`    | beauty rating of professor from upper level male: (1) lowest - (10) highest.\n",
    "`bty_m2upper`    | beauty rating of professor from second upper level male: (1) lowest - (10) highest.\n",
    "`bty_avg`        | average beauty rating of professor.\n",
    "`pic_outfit`     | outfit of professor in picture: not formal, formal.\n",
    "`pic_color`      | color of professor's picture: color, black & white.\n",
    "\n",
    "***\n",
    "1. Is this an observational study or an experiment?\n",
    "<ol>\n",
    "<li> Observational study </li>\n",
    "<li> Experiment </li>\n",
    "</ol>\n",
    "\n",
    "**Answer**: A. Observational study. There are no controlled confounding variables in the sample to determine an experiment.\n",
    "\n",
    "2. The original research question posed in the paper is whether beauty leads directly to the differences in course evaluations. Given the study design, should the question be rephrased? If so, how? \n",
    "<ol>\n",
    "<li> No, the question is worded accurately. </li>\n",
    "<li> Yes, revise wording to \"Is there an association between beauty and course evaluations?\" </li>\n",
    "<li> Yes, revise wording to \"Does beauty score increase the professor's course evaluations?\"  </li>\n",
    "<li> Yes, revise wording to \"Does beauty score decrease the professor's course evaluations?\" </li>\n",
    "</ol>\n",
    "\n",
    "**Answer**: B. Yes, revise wording to \"Is there an association between beauty and course evaluations?\""
   ]
  },
  {
   "cell_type": "markdown",
   "id": "4bfdb44f",
   "metadata": {},
   "source": [
    "## Exploring the data\n",
    "\n",
    "3. Which of the following statements is **false** about the distribution of `score`? \n",
    "<ol>\n",
    "<li> The median of the distribution is 4.3. </li>\n",
    "<li> 25\\% of the students gave their professors a score of over 4.6. </li> \n",
    "<li> 11 of students gave a professor a score below 3. </li> \n",
    "<li> The left skewness of the data suggests that the students are less likely to rate the professors highly. </li>\n",
    "</ol>\n",
    "\n",
    "**Answer**: D. The left skewness of the data actually shows that students are prone to rate professors higher than the mean."
   ]
  },
  {
   "cell_type": "code",
   "execution_count": 11,
   "id": "f54f4058",
   "metadata": {
    "name": "score-dist"
   },
   "outputs": [
    {
     "data": {
      "image/png": "[encoded data removed]",
      "text/plain": [
       "plot without title"
      ]
     },
     "metadata": {
      "image/png": {
       "height": 420,
       "width": 420
      }
     },
     "output_type": "display_data"
    }
   ],
   "source": [
    "# type your code for Question 3 here, and Knit\n",
    "ggplot(evals, aes(x=score)) + geom_histogram(binwidth=.1)"
   ]
  },
  {
   "cell_type": "code",
   "execution_count": 15,
   "id": "c087ad96",
   "metadata": {},
   "outputs": [
    {
     "data": {
      "text/plain": [
       "   Min. 1st Qu.  Median    Mean 3rd Qu.    Max. \n",
       "  2.300   3.800   4.300   4.175   4.600   5.000 "
      ]
     },
     "metadata": {},
     "output_type": "display_data"
    }
   ],
   "source": [
    "summary(evals$score)"
   ]
  },
  {
   "cell_type": "code",
   "execution_count": 16,
   "id": "c907a126",
   "metadata": {},
   "outputs": [
    {
     "data": {
      "text/html": [
       "<table class=\"dataframe\">\n",
       "<caption>A tibble: 1 × 1</caption>\n",
       "<thead>\n",
       "\t<tr><th scope=col>n</th></tr>\n",
       "\t<tr><th scope=col>&lt;int&gt;</th></tr>\n",
       "</thead>\n",
       "<tbody>\n",
       "\t<tr><td>11</td></tr>\n",
       "</tbody>\n",
       "</table>\n"
      ],
      "text/latex": [
       "A tibble: 1 × 1\n",
       "\\begin{tabular}{l}\n",
       " n\\\\\n",
       " <int>\\\\\n",
       "\\hline\n",
       "\t 11\\\\\n",
       "\\end{tabular}\n"
      ],
      "text/markdown": [
       "\n",
       "A tibble: 1 × 1\n",
       "\n",
       "| n &lt;int&gt; |\n",
       "|---|\n",
       "| 11 |\n",
       "\n"
      ],
      "text/plain": [
       "  n \n",
       "1 11"
      ]
     },
     "metadata": {},
     "output_type": "display_data"
    }
   ],
   "source": [
    "evals %>%\n",
    "    filter(score < 3) %>%\n",
    "    count()"
   ]
  },
  {
   "cell_type": "markdown",
   "id": "28a3daac",
   "metadata": {
    "lines_to_next_cell": 0
   },
   "source": [
    "**Exercise:** Excluding `score`, select two other variables and describe their \n",
    "relationship using an appropriate visualization (scatterplot, side-by-side boxplots, \n",
    "or mosaic plot)."
   ]
  },
  {
   "cell_type": "code",
   "execution_count": null,
   "id": "c01aa9e7",
   "metadata": {
    "name": "two-vars-eda"
   },
   "outputs": [],
   "source": [
    "# type your code for the Exercise here, and Knit\n"
   ]
  },
  {
   "cell_type": "markdown",
   "id": "3aa1e961",
   "metadata": {},
   "source": [
    "## Simple linear regression\n",
    "\n",
    "The fundamental phenomenon suggested by the study is that better looking teachers\n",
    "are evaluated more favorably. Let's create a scatterplot to see if this appears \n",
    "to be the case:"
   ]
  },
  {
   "cell_type": "code",
   "execution_count": null,
   "id": "fba80968",
   "metadata": {
    "name": "scatter-score-bty_avg"
   },
   "outputs": [],
   "source": [
    "ggplot(data = evals, aes(x = bty_avg, y = score)) +\n",
    "  geom_point()"
   ]
  },
  {
   "cell_type": "markdown",
   "id": "43ce8e5f",
   "metadata": {
    "lines_to_next_cell": 0
   },
   "source": [
    "Before we draw conclusions about the trend, compare the number of observations \n",
    "in the data frame with the approximate number of points on the scatterplot. \n",
    "Is anything awry?\n",
    "\n",
    "<div id=\"exercise\">\n",
    "**Exercise:** Replot the scatterplot, but this time replace the `geom_point()` layer \n",
    "with a `geom_jitter()` layer. (Use `?geom_jitter` to learn more.)  What was misleading \n",
    "about the initial scatterplot?\n",
    "</div>"
   ]
  },
  {
   "cell_type": "code",
   "execution_count": null,
   "id": "d4ae2170",
   "metadata": {
    "name": "jitter"
   },
   "outputs": [],
   "source": [
    "# type your code for the Exercise here, and Knit\n"
   ]
  },
  {
   "cell_type": "markdown",
   "id": "1f2669ca",
   "metadata": {},
   "source": [
    "Let's see if the apparent trend in the plot is something more than \n",
    "natural variation.  Fit a linear model called `m_bty` to predict average professor \n",
    "score by average beauty rating and add the line to your plot using the following. If \n",
    "you do not remember how to do this, refer to the previous lab."
   ]
  },
  {
   "cell_type": "code",
   "execution_count": null,
   "id": "2301f81e",
   "metadata": {
    "name": "scatter-score-bty_avg-line"
   },
   "outputs": [],
   "source": [
    "ggplot(data = evals, aes(x = bty_avg, y = score)) +\n",
    "  geom_jitter() +\n",
    "  geom_smooth(method = \"lm\")"
   ]
  },
  {
   "cell_type": "markdown",
   "id": "8eda7651",
   "metadata": {},
   "source": [
    "The blue line is the model. The shaded gray area around the line tells us about the \n",
    "variability we might expect in our predictions. To turn that off, use `se = FALSE`."
   ]
  },
  {
   "cell_type": "code",
   "execution_count": null,
   "id": "86a6da83",
   "metadata": {
    "name": "scatter-score-bty_avg-line-no-se"
   },
   "outputs": [],
   "source": [
    "ggplot(data = evals, aes(x = bty_avg, y = score)) +\n",
    "  geom_jitter() +\n",
    "  geom_smooth(method = \"lm\", se = FALSE)"
   ]
  },
  {
   "cell_type": "markdown",
   "id": "a43ea1d2",
   "metadata": {
    "lines_to_next_cell": 0
   },
   "source": [
    "<div id=\"exercise\">\n",
    "**Exercise:** Print a summary of the linear model, write out the equation, and \n",
    "interpret the slope. \n",
    "</div>"
   ]
  },
  {
   "cell_type": "code",
   "execution_count": null,
   "id": "89d99d6a",
   "metadata": {
    "name": "summary-model"
   },
   "outputs": [],
   "source": [
    "# type your code for the Exercise here, and Knit\n"
   ]
  },
  {
   "cell_type": "markdown",
   "id": "d3a1e0ac",
   "metadata": {
    "lines_to_next_cell": 0
   },
   "source": [
    "4. Average beauty score is a statistically significant predictor of evaluation score. \n",
    "<ol> \n",
    "<li> True </li>\n",
    "<li> False </li>\n",
    "</ol>\n",
    "\n",
    "5. Use residual plots to evaluate whether the conditions of least squares regression are reasonable.  Which of the following statements is an incorrect analysis of the residual plots and conditions? \n",
    "<ol>\n",
    "<li> Linear association: The residuals plot shows a random scatter. </li>\n",
    "<li> Constant variance of residuals: No fan shape in residuals plot. </li>\n",
    "<li> Nearly normal residuals: Residuals are right skewed, but the sample size is large, so this may not be an important violation of conditions. </li>\n",
    "<li> Independent observations: Classes sampled randomly, no order effect. </li>\n",
    "</ol>"
   ]
  },
  {
   "cell_type": "code",
   "execution_count": null,
   "id": "12c805f6",
   "metadata": {
    "name": "diag-score-bty_avg"
   },
   "outputs": [],
   "source": [
    "# type your code for the Question 5 here, and Knit\n"
   ]
  },
  {
   "cell_type": "markdown",
   "id": "ee4a147e",
   "metadata": {},
   "source": [
    "## Multiple linear regression\n",
    "\n",
    "The data set contains several variables on the beauty score of the professor: \n",
    "individual ratings from each of the six students who were asked to score the \n",
    "physical appearance of the professors and the average of these six scores. Let's \n",
    "take a look at the relationship between one of these scores and the average \n",
    "beauty score."
   ]
  },
  {
   "cell_type": "code",
   "execution_count": null,
   "id": "aaebae05",
   "metadata": {
    "name": "bty-rel"
   },
   "outputs": [],
   "source": [
    "ggplot(data = evals, aes(x = bty_f1lower, y = bty_avg)) +\n",
    "  geom_jitter()\n",
    "evals %>% \n",
    "  summarise(cor(bty_avg, bty_f1lower))"
   ]
  },
  {
   "cell_type": "markdown",
   "id": "b37d136a",
   "metadata": {},
   "source": [
    "As expected the relationship is quite strong - after all, the average score is \n",
    "calculated using the individual scores. We can actually take a look at the \n",
    "relationships between all beauty variables (columns 13 through 19) using the \n",
    "following command:"
   ]
  },
  {
   "cell_type": "code",
   "execution_count": null,
   "id": "f0b135c5",
   "metadata": {
    "fig.height": 5,
    "fig.width": 12,
    "name": "bty-rels"
   },
   "outputs": [],
   "source": [
    "ggpairs(evals, columns = 13:19)"
   ]
  },
  {
   "cell_type": "markdown",
   "id": "89458fd9",
   "metadata": {},
   "source": [
    "These variables are collinear (correlated), and adding more than one of these \n",
    "variables to the model would not add much value to the model. In this \n",
    "application and with these highly-correlated predictors, it is reasonable to use\n",
    "the average beauty score as the single representative of these variables.\n",
    "\n",
    "In order to see if beauty is still a significant predictor of professor score \n",
    "after we've accounted for the gender of the professor, we can add the gender \n",
    "term into the model."
   ]
  },
  {
   "cell_type": "code",
   "execution_count": null,
   "id": "a67eefd1",
   "metadata": {
    "name": "scatter-score-bty_avg_gender"
   },
   "outputs": [],
   "source": [
    "m_bty_gen <- lm(score ~ bty_avg + gender, data = evals)\n",
    "summary(m_bty_gen)"
   ]
  },
  {
   "cell_type": "markdown",
   "id": "14278e8f",
   "metadata": {
    "lines_to_next_cell": 0
   },
   "source": [
    "6. P-values and parameter estimates should only be trusted if the conditions for the regression are reasonable. Using diagnostic plots, we can conclude that the conditions for this model are reasonable. \n",
    "<ol>\n",
    "<li> True </li>\n",
    "<li> False </li>\n",
    "</ol>\n",
    "</div>"
   ]
  },
  {
   "cell_type": "code",
   "execution_count": null,
   "id": "352e9799",
   "metadata": {
    "name": "diag-mlr-model"
   },
   "outputs": [],
   "source": [
    "# type your code for the Exercise here, and Knit\n"
   ]
  },
  {
   "cell_type": "markdown",
   "id": "e9d7c8f6",
   "metadata": {
    "lines_to_next_cell": 0
   },
   "source": [
    "<div id=\"exercise\">\n",
    "**Exercise:** Print a summary of the multiple linear regression model.  Is `bty_avg` \n",
    "still a significant predictor of `score`?  Has the addition of `gender` to the \n",
    "model changed the parameter estimate for `bty_avg`?\n",
    "</div>"
   ]
  },
  {
   "cell_type": "code",
   "execution_count": null,
   "id": "9a2eed79",
   "metadata": {
    "name": "summary-mlr-model"
   },
   "outputs": [],
   "source": [
    "# type your code for the Exercise here, and Knit\n"
   ]
  },
  {
   "cell_type": "markdown",
   "id": "b03e1fa5",
   "metadata": {
    "lines_to_next_cell": 0
   },
   "source": [
    "Note that the estimate for `gender` is now called `gendermale`. You'll see this \n",
    "name change whenever you introduce a categorical variable. The reason is that R \n",
    "recodes `gender` from having the values of `female` and `male` to being an \n",
    "indicator variable called `gendermale` that takes a value of $0$ for females and\n",
    "a value of $1$ for males. (Such variables are often referred to as \"dummy\" \n",
    "variables.)\n",
    "\n",
    "As a result, for females, the parameter estimate is multiplied by zero, leaving \n",
    "the intercept and slope form familiar from simple regression.\n",
    "\n",
    "\\[\n",
    "  \\begin{aligned}\n",
    "\\widehat{score} &= \\hat{\\beta}_0 + \\hat{\\beta}_1 \\times bty\\_avg + \\hat{\\beta}_2 \\times (0) \\\\\n",
    "&= \\hat{\\beta}_0 + \\hat{\\beta}_1 \\times bty\\_avg\\end{aligned}\n",
    "\\]\n",
    "\n",
    "7. For two professors (one male and one female) who received the same beauty rating, the male professor is predicted to have the higher course evaluation score than the female.\n",
    "<ol>\n",
    "<li> True </li>\n",
    "<li> False </li>\n",
    "</ol>\n",
    "\n",
    "The decision to call the indicator variable `gendermale` instead of`genderfemale`\n",
    "has no deeper meaning. R simply codes the category that comes first \n",
    "alphabetically as a $0$. (You can change the reference level of a categorical \n",
    "variable, which is the level that is coded as a 0, using the`relevel` function. \n",
    "Use `?relevel` to learn more.)\n",
    "\n",
    "<div id=\"exercise\">\n",
    "**Exercise:** Create a new model called `m_bty_rank` with `gender` removed and \n",
    "`rank` added in.  How does R appear to handle categorical variables that have \n",
    "more than two levels? Note that the rank variable has three levels: teaching, \n",
    "tenure track, tenured.\n",
    "</div>"
   ]
  },
  {
   "cell_type": "code",
   "execution_count": null,
   "id": "a35be5f7",
   "metadata": {
    "name": "new-mlr-model"
   },
   "outputs": [],
   "source": [
    "# type your code for the Exercise here, and Knit\n"
   ]
  },
  {
   "cell_type": "markdown",
   "id": "9cc34470",
   "metadata": {
    "lines_to_next_cell": 0
   },
   "source": [
    "8. Which of the following is the correct order of the three levels of rank if we were to order them from lowest predicted course evaluation score to highest predicted course evaluation score? \n",
    "<ol>\n",
    "<li> Teaching, Tenure Track, Tenured </li>\n",
    "<li> Tenure track, Tenured </li>\n",
    "<li> Tenure Track, Tenured, Teaching </li>\n",
    "<li> Teaching, Tenured, Tenure Track </li>\n",
    "</ol>\n",
    "\n",
    "The interpretation of the coefficients in multiple regression is slightly \n",
    "different from that of simple regression. The estimate for `bty_avg` reflects\n",
    "how much higher a group of professors is expected to score if they have a beauty\n",
    "rating that is one point higher *while holding all other variables constant*. In\n",
    "this case, that translates into considering only professors of the same rank \n",
    "with `bty_avg` scores that are one point apart.\n",
    "\n",
    "## Prediction\n",
    "\n",
    "Suppose we want to use the model we created earlier, `m_bty_gen` to predict \n",
    "the evaluation score for a professor, Dr. Hypo Thetical, who is a male tenure track\n",
    "professor with an average beauty of 3.\n",
    "\n",
    "If we wanted to do this by hand, we would simply plug in these values into the\n",
    "linear model.\n",
    "\n",
    "We can also calculate the predicted value in R.\n",
    "\n",
    "First, we need to create a new data frame for this professor."
   ]
  },
  {
   "cell_type": "code",
   "execution_count": null,
   "id": "7c59bac5",
   "metadata": {
    "name": "new-prof"
   },
   "outputs": [],
   "source": [
    "newprof <- data.frame(gender = \"male\", bty_avg = 3)"
   ]
  },
  {
   "cell_type": "markdown",
   "id": "ff047005",
   "metadata": {
    "lines_to_next_cell": 0
   },
   "source": [
    "Note that I didn't need to add `rank = \"tenure track\"` to this data frame since\n",
    "this variable is not used in our model.\n",
    "\n",
    "Then, I can do the prediction using the `predict` function:"
   ]
  },
  {
   "cell_type": "code",
   "execution_count": null,
   "id": "06d14763",
   "metadata": {
    "name": "new-prof-predict"
   },
   "outputs": [],
   "source": [
    "predict(m_bty_gen, newprof)"
   ]
  },
  {
   "cell_type": "markdown",
   "id": "fa5c2af3",
   "metadata": {
    "lines_to_next_cell": 0
   },
   "source": [
    "We can also construct a prediction interval around this prediction, which will\n",
    "provide a measure of uncertainty around the prediction."
   ]
  },
  {
   "cell_type": "code",
   "execution_count": null,
   "id": "663e9ac5",
   "metadata": {
    "name": "new-prof-predict-interval"
   },
   "outputs": [],
   "source": [
    "predict(m_bty_gen, newprof, interval = \"prediction\", level = 0.95)"
   ]
  },
  {
   "cell_type": "markdown",
   "id": "d0003efa",
   "metadata": {},
   "source": [
    "Hence, the model predicts, with 95% confidence, that a male professor with an \n",
    "average beauty score of 3 is expected to have an evaluation score between 3.1 \n",
    "and 5.18. \n",
    "\n",
    "## The search for the best model\n",
    "\n",
    "We will start with a full model that predicts professor score based on rank, \n",
    "ethnicity, gender, language of the university where they got their degree, age, \n",
    "proportion of students that filled out evaluations, class size, course level, \n",
    "number of professors, number of credits, average beauty rating, outfit, and \n",
    "picture color.\n",
    "\n",
    "<div id=\"exercise\">\n",
    "Which variable would you expect to have the highest p-value in this model? Why? \n",
    "*Hint:* Think about which variable would you expect to not have any association \n",
    "with the professor score.\n",
    "</div>\n",
    "\n",
    "Let's run the model..."
   ]
  },
  {
   "cell_type": "code",
   "execution_count": null,
   "id": "3069f9b7",
   "metadata": {
    "name": "m_full",
    "tidy": false
   },
   "outputs": [],
   "source": [
    "m_full <- lm(score ~ rank + ethnicity + gender + language + age + cls_perc_eval \n",
    "             + cls_students + cls_level + cls_profs + cls_credits + bty_avg \n",
    "             + pic_outfit + pic_color, data = evals)\n",
    "summary(m_full)"
   ]
  },
  {
   "cell_type": "markdown",
   "id": "dc590e47",
   "metadata": {
    "lines_to_next_cell": 0
   },
   "source": [
    "<div id=\"exercise\">\n",
    "**Exercise:** Check your suspicions from the previous exercise. Include the model \n",
    "output in your response.\n",
    "</div>\n",
    "\n",
    "9. Which of the following is the correct intrepetation of the coefficient associated with the ethnicity variable. <br> Non-minority professors are expected on average to score ... \n",
    "<ol>\n",
    "<li> 0.12 points lower than minority professors, all else held constant. </li>\n",
    "<li> 0.12 points higher than minority professors, all else held constant. </li> \n",
    "<li> 0.02 points lower than minority professors, all else held constant. </li>\n",
    "<li> 0.02 points higher than minority professors, all else held constant. </li>\n",
    "</ol>\n",
    "\n",
    "<div id=\"exercise\">\n",
    "**Exercise:** Drop the variable with the highest p-value and re-fit the model. \n",
    "Did the coefficients and significance of the other explanatory variables change? \n",
    "(One of the things that makes multiple regression interesting is that coefficient \n",
    "estimates depend on the other variables that are included in the model.) If not, \n",
    "what does this say about whether or not the dropped variable was collinear with \n",
    "the other explanatory variables?\n",
    "</div>"
   ]
  },
  {
   "cell_type": "code",
   "execution_count": null,
   "id": "bec406eb",
   "metadata": {
    "name": "p-val-select"
   },
   "outputs": [],
   "source": [
    "# type your code for the Exercise here, and Knit\n"
   ]
  },
  {
   "cell_type": "markdown",
   "id": "61768681",
   "metadata": {},
   "source": [
    "Now we try a different model selection method: adjusted $R^2$. Create a new model, \n",
    "`m1`, where you remove `rank` from the list of explanatory variables. Check out the \n",
    "adjusted $R^2$ of this new model and compare it to the adjusted $R^2$ of the full model."
   ]
  },
  {
   "cell_type": "code",
   "execution_count": null,
   "id": "a6534f90",
   "metadata": {
    "eval": false
   },
   "outputs": [],
   "source": [
    "m1 <- lm(score ~ ethnicity + gender + language + age + cls_perc_eval \n",
    "             + cls_students + cls_level + cls_profs + cls_credits + bty_avg, data = evals)\n",
    "summary(m1)$adj.r.squared"
   ]
  },
  {
   "cell_type": "markdown",
   "id": "c9fce535",
   "metadata": {},
   "source": [
    "Then, try dropping the next variable from the full model (`ethnicity`):"
   ]
  },
  {
   "cell_type": "code",
   "execution_count": null,
   "id": "44df0cf1",
   "metadata": {
    "eval": false
   },
   "outputs": [],
   "source": [
    "m2 = lm(score ~ rank + gender + language + age + cls_perc_eval + \n",
    "    cls_students + cls_level + cls_profs + cls_credits + bty_avg, data = evals)\n",
    "summary(m2)$adj.r.squared"
   ]
  },
  {
   "cell_type": "markdown",
   "id": "51f77716",
   "metadata": {
    "lines_to_next_cell": 0
   },
   "source": [
    "<div id=\"exercise\">\n",
    "**Exercise:** Repeat this process until you have tried removing each variable \n",
    "from the full model at a time, and determine removal of which variable yields \n",
    "the highest improvement in the adjusted $R^2$.\n",
    "</div>"
   ]
  },
  {
   "cell_type": "code",
   "execution_count": null,
   "id": "5b82cefe",
   "metadata": {
    "name": "adj-rsq-select"
   },
   "outputs": [],
   "source": [
    "# type your code for the Exercise here, and Knit\n"
   ]
  },
  {
   "cell_type": "markdown",
   "id": "4942a66c",
   "metadata": {},
   "source": [
    "10. Elimination of which variable from the full model yielded the highest adjusted R-squared? \n",
    "<ol>\n",
    "<li> `bty_avg` </li>\n",
    "<li> `cls_profs` </li> \n",
    "<li> `cls_students` </li>\n",
    "<li> `rank` </li>\n",
    "</ol>\n",
    "\n",
    "To complete the model selection we would continue removing variables one at a \n",
    "time until removal of another variable did not increase adjusted $R^2$.\n",
    "\n",
    "**Exercise:** The original paper describes how these data were gathered by taking \n",
    "a sample of professors from the University of Texas at Austin and including all \n",
    "courses that they have taught.  Considering that each row represents a course, \n",
    "could this new information have an impact on any of the conditions of linear regression?\n",
    "\n",
    "**Exercise:** Based on your final model, describe the characteristics of a \n",
    "professor and course at University of Texas at Austin that would be associated \n",
    "with a high evaluation score.\n",
    "\n",
    "**Exercise:** Would you be comfortable generalizing your conclusions to apply \n",
    "to professors generally (at any university)?  Why or why not?\n"
   ]
  },
  {
   "cell_type": "markdown",
   "id": "23f78ae2",
   "metadata": {},
   "source": [
    "\n",
    "## References\n",
    "\n",
    "\n",
    "- id: Hamermesh2005\n",
    "  - title: Beauty in the Classroom - Instructors' Pulchritude and Putative Pedagogical Productivity\n",
    "  - author:\n",
    "    - family: Hamermesh\n",
    "    - given: Daniel S.\n",
    "    - family: Parker\n",
    "    - given: Amy\n",
    "  - volume: 24\n",
    "  - URL: 'http://www.sciencedirect.com/science/article/pii/S0272775704001165'\n",
    "  - DOI: 10.1016/j.econedurev.2004.07.013\n",
    "  - publisher: Economics of Education Review\n",
    "  - ISSN: 0272-7757\n",
    "  - issue: 4\n",
    "  - page: 369-376\n",
    "  - type: article-journal\n",
    "  - issued:\n",
    "    - year: 2005\n",
    "    - month: 8\n",
    "- id: Gelman2007\n",
    "  - title: Data Analysis Using Regression and Multilevel/Hierarchical Models\n",
    "  - author:\n",
    "    - family: Gelman\n",
    "    - given: Andrew\n",
    "    - family: Hill\n",
    "    - given: Jennifer\n",
    "  - publisher: Cambridge University Press\n",
    "  - city:\n",
    "  - type: book\n",
    "  - issued:\n",
    "    year: 2007\n",
    "  - edition: 1\n",
    "  - ISBN: 9780521686891"
   ]
  },
  {
   "cell_type": "markdown",
   "id": "607fcc07",
   "metadata": {},
   "source": [
    "This is a product of OpenIntro that is released under a [Creative Commons Attribution-ShareAlike 3.0 Unported](http://creativecommons.org/licenses/by-sa/3.0). \n",
    "This lab was written by Mine &Ccedil;etinkaya-Rundel and Andrew Bray."
   ]
  }
 ],
 "metadata": {
  "jupytext": {
   "cell_metadata_filter": "eval,message,name,fig.height,tidy,fig.width,-all",
   "main_language": "R",
   "notebook_metadata_filter": "-all"
  },
  "kernelspec": {
   "display_name": "R",
   "language": "R",
   "name": "ir"
  },
  "language_info": {
   "codemirror_mode": "r",
   "file_extension": ".r",
   "mimetype": "text/x-r-source",
   "name": "R",
   "pygments_lexer": "r",
   "version": "4.1.0"
  }
 },
 "nbformat": 4,
 "nbformat_minor": 5
}
