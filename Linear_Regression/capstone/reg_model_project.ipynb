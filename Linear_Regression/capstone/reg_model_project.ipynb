{
 "cells": [
  {
   "cell_type": "markdown",
   "id": "b91c90b5",
   "metadata": {},
   "source": [
    "## Setup\n",
    "\n",
    "### Load packages"
   ]
  },
  {
   "cell_type": "code",
   "execution_count": 1,
   "id": "a825e285",
   "metadata": {
    "message": false,
    "name": "load-packages"
   },
   "outputs": [
    {
     "name": "stderr",
     "output_type": "stream",
     "text": [
      "\n",
      "Attaching package: ‘dplyr’\n",
      "\n",
      "\n",
      "The following objects are masked from ‘package:stats’:\n",
      "\n",
      "    filter, lag\n",
      "\n",
      "\n",
      "The following objects are masked from ‘package:base’:\n",
      "\n",
      "    intersect, setdiff, setequal, union\n",
      "\n",
      "\n",
      "Loading required package: BayesFactor\n",
      "\n",
      "Loading required package: coda\n",
      "\n",
      "Loading required package: Matrix\n",
      "\n",
      "************\n",
      "Welcome to BayesFactor 0.9.12-4.2. If you have questions, please contact Richard Morey (richarddmorey@gmail.com).\n",
      "\n",
      "Type BFManual() to open the manual.\n",
      "************\n",
      "\n"
     ]
    }
   ],
   "source": [
    "library(ggplot2)\n",
    "library(dplyr)\n",
    "library(statsr)"
   ]
  },
  {
   "cell_type": "markdown",
   "id": "3dc445bc",
   "metadata": {},
   "source": [
    "### Load data\n",
    "\n",
    "Make sure your data and R Markdown files are in the same directory. When loaded\n",
    "your data file will be called `movies`. Delete this note when before you submit \n",
    "your work. "
   ]
  },
  {
   "cell_type": "code",
   "execution_count": 2,
   "id": "d7e9c073",
   "metadata": {
    "lines_to_next_cell": 0,
    "name": "load-data"
   },
   "outputs": [],
   "source": [
    "load(\"movies.Rdata\")"
   ]
  },
  {
   "cell_type": "markdown",
   "id": "14f58b23",
   "metadata": {},
   "source": [
    "* * *\n",
    "\n",
    "## Part 1: Data"
   ]
  },
  {
   "cell_type": "code",
   "execution_count": 3,
   "id": "11092460",
   "metadata": {},
   "outputs": [
    {
     "name": "stdout",
     "output_type": "stream",
     "text": [
      "tibble [651 × 32] (S3: tbl_df/tbl/data.frame)\n",
      " $ title           : chr [1:651] \"Filly Brown\" \"The Dish\" \"Waiting for Guffman\" \"The Age of Innocence\" ...\n",
      " $ title_type      : Factor w/ 3 levels \"Documentary\",..: 2 2 2 2 2 1 2 2 1 2 ...\n",
      " $ genre           : Factor w/ 11 levels \"Action & Adventure\",..: 6 6 4 6 7 5 6 6 5 6 ...\n",
      " $ runtime         : num [1:651] 80 101 84 139 90 78 142 93 88 119 ...\n",
      " $ mpaa_rating     : Factor w/ 6 levels \"G\",\"NC-17\",\"PG\",..: 5 4 5 3 5 6 4 5 6 6 ...\n",
      " $ studio          : Factor w/ 211 levels \"20th Century Fox\",..: 91 202 167 34 13 163 147 118 88 84 ...\n",
      " $ thtr_rel_year   : num [1:651] 2013 2001 1996 1993 2004 ...\n",
      " $ thtr_rel_month  : num [1:651] 4 3 8 10 9 1 1 11 9 3 ...\n",
      " $ thtr_rel_day    : num [1:651] 19 14 21 1 10 15 1 8 7 2 ...\n",
      " $ dvd_rel_year    : num [1:651] 2013 2001 2001 2001 2005 ...\n",
      " $ dvd_rel_month   : num [1:651] 7 8 8 11 4 4 2 3 1 8 ...\n",
      " $ dvd_rel_day     : num [1:651] 30 28 21 6 19 20 18 2 21 14 ...\n",
      " $ imdb_rating     : num [1:651] 5.5 7.3 7.6 7.2 5.1 7.8 7.2 5.5 7.5 6.6 ...\n",
      " $ imdb_num_votes  : int [1:651] 899 12285 22381 35096 2386 333 5016 2272 880 12496 ...\n",
      " $ critics_rating  : Factor w/ 3 levels \"Certified Fresh\",..: 3 1 1 1 3 2 3 3 2 1 ...\n",
      " $ critics_score   : num [1:651] 45 96 91 80 33 91 57 17 90 83 ...\n",
      " $ audience_rating : Factor w/ 2 levels \"Spilled\",\"Upright\": 2 2 2 2 1 2 2 1 2 2 ...\n",
      " $ audience_score  : num [1:651] 73 81 91 76 27 86 76 47 89 66 ...\n",
      " $ best_pic_nom    : Factor w/ 2 levels \"no\",\"yes\": 1 1 1 1 1 1 1 1 1 1 ...\n",
      " $ best_pic_win    : Factor w/ 2 levels \"no\",\"yes\": 1 1 1 1 1 1 1 1 1 1 ...\n",
      " $ best_actor_win  : Factor w/ 2 levels \"no\",\"yes\": 1 1 1 2 1 1 1 2 1 1 ...\n",
      " $ best_actress_win: Factor w/ 2 levels \"no\",\"yes\": 1 1 1 1 1 1 1 1 1 1 ...\n",
      " $ best_dir_win    : Factor w/ 2 levels \"no\",\"yes\": 1 1 1 2 1 1 1 1 1 1 ...\n",
      " $ top200_box      : Factor w/ 2 levels \"no\",\"yes\": 1 1 1 1 1 1 1 1 1 1 ...\n",
      " $ director        : chr [1:651] \"Michael D. Olmos\" \"Rob Sitch\" \"Christopher Guest\" \"Martin Scorsese\" ...\n",
      " $ actor1          : chr [1:651] \"Gina Rodriguez\" \"Sam Neill\" \"Christopher Guest\" \"Daniel Day-Lewis\" ...\n",
      " $ actor2          : chr [1:651] \"Jenni Rivera\" \"Kevin Harrington\" \"Catherine O'Hara\" \"Michelle Pfeiffer\" ...\n",
      " $ actor3          : chr [1:651] \"Lou Diamond Phillips\" \"Patrick Warburton\" \"Parker Posey\" \"Winona Ryder\" ...\n",
      " $ actor4          : chr [1:651] \"Emilio Rivera\" \"Tom Long\" \"Eugene Levy\" \"Richard E. Grant\" ...\n",
      " $ actor5          : chr [1:651] \"Joseph Julian Soria\" \"Genevieve Mooy\" \"Bob Balaban\" \"Alec McCowen\" ...\n",
      " $ imdb_url        : chr [1:651] \"http://www.imdb.com/title/tt1869425/\" \"http://www.imdb.com/title/tt0205873/\" \"http://www.imdb.com/title/tt0118111/\" \"http://www.imdb.com/title/tt0106226/\" ...\n",
      " $ rt_url          : chr [1:651] \"//www.rottentomatoes.com/m/filly_brown_2012/\" \"//www.rottentomatoes.com/m/dish/\" \"//www.rottentomatoes.com/m/waiting_for_guffman/\" \"//www.rottentomatoes.com/m/age_of_innocence/\" ...\n"
     ]
    }
   ],
   "source": [
    "str(movies)"
   ]
  },
  {
   "cell_type": "markdown",
   "id": "b5ab1874",
   "metadata": {},
   "source": [
    "* * *\n",
    "\n",
    "## Part 2: Research question\n"
   ]
  },
  {
   "cell_type": "markdown",
   "id": "21f5f581",
   "metadata": {},
   "source": [
    "* * *\n",
    "\n",
    "## Part 3: Exploratory data analysis\n",
    "\n",
    "NOTE: Insert code chunks as needed by clicking on the \"Insert a new code chunk\" \n",
    "button above. Make sure that your code is visible in the project you submit. \n",
    "Delete this note when before you submit your work.\n",
    "\n",
    "* * *\n",
    "\n",
    "## Part 4: Modeling\n",
    "\n",
    "NOTE: Insert code chunks as needed by clicking on the \"Insert a new code chunk\" \n",
    "button above. Make sure that your code is visible in the project you submit. \n",
    "Delete this note when before you submit your work.\n",
    "\n",
    "* * *\n",
    "\n",
    "## Part 5: Prediction\n",
    "\n",
    "NOTE: Insert code chunks as needed by clicking on the \"Insert a new code chunk\" \n",
    "button above. Make sure that your code is visible in the project you submit. \n",
    "Delete this note when before you submit your work.\n",
    "\n",
    "* * *\n",
    "\n",
    "## Part 6: Conclusion\n"
   ]
  }
 ],
 "metadata": {
  "jupytext": {
   "cell_metadata_filter": "message,name,-all",
   "main_language": "R",
   "notebook_metadata_filter": "-all"
  },
  "kernelspec": {
   "display_name": "R",
   "language": "R",
   "name": "ir"
  },
  "language_info": {
   "codemirror_mode": "r",
   "file_extension": ".r",
   "mimetype": "text/x-r-source",
   "name": "R",
   "pygments_lexer": "r",
   "version": "4.1.0"
  }
 },
 "nbformat": 4,
 "nbformat_minor": 5
}
